{
 "cells": [
  {
   "cell_type": "code",
   "execution_count": 1,
   "id": "ed33d0a3",
   "metadata": {},
   "outputs": [],
   "source": [
    "import numpy as np\n",
    "import pandas as pd\n",
    "import pandas_datareader as pdr\n",
    "import datetime as dt\n",
    "import matplotlib.pyplot as plt\n",
    "from tensorflow.keras.models import Sequential\n",
    "from tensorflow.keras.layers import Dense, LSTM, Dropout\n",
    "import tensorflow as tf\n",
    "from sklearn.preprocessing import MinMaxScaler"
   ]
  },
  {
   "cell_type": "code",
   "execution_count": 2,
   "id": "4caf18c8",
   "metadata": {},
   "outputs": [
    {
     "data": {
      "text/html": [
       "<div>\n",
       "<style scoped>\n",
       "    .dataframe tbody tr th:only-of-type {\n",
       "        vertical-align: middle;\n",
       "    }\n",
       "\n",
       "    .dataframe tbody tr th {\n",
       "        vertical-align: top;\n",
       "    }\n",
       "\n",
       "    .dataframe thead th {\n",
       "        text-align: right;\n",
       "    }\n",
       "</style>\n",
       "<table border=\"1\" class=\"dataframe\">\n",
       "  <thead>\n",
       "    <tr style=\"text-align: right;\">\n",
       "      <th></th>\n",
       "      <th>High</th>\n",
       "      <th>Low</th>\n",
       "      <th>Open</th>\n",
       "      <th>Close</th>\n",
       "      <th>Volume</th>\n",
       "      <th>Adj Close</th>\n",
       "    </tr>\n",
       "    <tr>\n",
       "      <th>Date</th>\n",
       "      <th></th>\n",
       "      <th></th>\n",
       "      <th></th>\n",
       "      <th></th>\n",
       "      <th></th>\n",
       "      <th></th>\n",
       "    </tr>\n",
       "  </thead>\n",
       "  <tbody>\n",
       "    <tr>\n",
       "      <th>2014-09-17</th>\n",
       "      <td>2.854223e+04</td>\n",
       "      <td>2.755250e+04</td>\n",
       "      <td>2.844333e+04</td>\n",
       "      <td>2.785164e+04</td>\n",
       "      <td>1282359120</td>\n",
       "      <td>2.785164e+04</td>\n",
       "    </tr>\n",
       "    <tr>\n",
       "      <th>2014-09-18</th>\n",
       "      <td>2.782277e+04</td>\n",
       "      <td>2.508574e+04</td>\n",
       "      <td>2.782277e+04</td>\n",
       "      <td>2.577412e+04</td>\n",
       "      <td>2093992320</td>\n",
       "      <td>2.577412e+04</td>\n",
       "    </tr>\n",
       "    <tr>\n",
       "      <th>2014-09-19</th>\n",
       "      <td>2.598884e+04</td>\n",
       "      <td>2.336609e+04</td>\n",
       "      <td>2.575365e+04</td>\n",
       "      <td>2.402334e+04</td>\n",
       "      <td>2307413745</td>\n",
       "      <td>2.402334e+04</td>\n",
       "    </tr>\n",
       "    <tr>\n",
       "      <th>2014-09-20</th>\n",
       "      <td>2.575756e+04</td>\n",
       "      <td>2.372438e+04</td>\n",
       "      <td>2.401585e+04</td>\n",
       "      <td>2.488181e+04</td>\n",
       "      <td>2243150060</td>\n",
       "      <td>2.488181e+04</td>\n",
       "    </tr>\n",
       "    <tr>\n",
       "      <th>2014-09-21</th>\n",
       "      <td>2.509612e+04</td>\n",
       "      <td>2.392506e+04</td>\n",
       "      <td>2.483197e+04</td>\n",
       "      <td>2.426826e+04</td>\n",
       "      <td>1617399085</td>\n",
       "      <td>2.426826e+04</td>\n",
       "    </tr>\n",
       "    <tr>\n",
       "      <th>...</th>\n",
       "      <td>...</td>\n",
       "      <td>...</td>\n",
       "      <td>...</td>\n",
       "      <td>...</td>\n",
       "      <td>...</td>\n",
       "      <td>...</td>\n",
       "    </tr>\n",
       "    <tr>\n",
       "      <th>2022-09-13</th>\n",
       "      <td>1.795188e+06</td>\n",
       "      <td>1.597057e+06</td>\n",
       "      <td>1.775301e+06</td>\n",
       "      <td>1.615674e+06</td>\n",
       "      <td>4066993383643</td>\n",
       "      <td>1.615674e+06</td>\n",
       "    </tr>\n",
       "    <tr>\n",
       "      <th>2022-09-14</th>\n",
       "      <td>1.629189e+06</td>\n",
       "      <td>1.573553e+06</td>\n",
       "      <td>1.606746e+06</td>\n",
       "      <td>1.608237e+06</td>\n",
       "      <td>3009114158391</td>\n",
       "      <td>1.608237e+06</td>\n",
       "    </tr>\n",
       "    <tr>\n",
       "      <th>2022-09-15</th>\n",
       "      <td>1.616613e+06</td>\n",
       "      <td>1.567400e+06</td>\n",
       "      <td>1.608332e+06</td>\n",
       "      <td>1.573129e+06</td>\n",
       "      <td>2905639315961</td>\n",
       "      <td>1.573129e+06</td>\n",
       "    </tr>\n",
       "    <tr>\n",
       "      <th>2022-09-16</th>\n",
       "      <td>1.584373e+06</td>\n",
       "      <td>1.545800e+06</td>\n",
       "      <td>1.573352e+06</td>\n",
       "      <td>1.575671e+06</td>\n",
       "      <td>2400521702522</td>\n",
       "      <td>1.575671e+06</td>\n",
       "    </tr>\n",
       "    <tr>\n",
       "      <th>2022-09-17</th>\n",
       "      <td>1.595323e+06</td>\n",
       "      <td>1.577152e+06</td>\n",
       "      <td>1.577152e+06</td>\n",
       "      <td>1.583106e+06</td>\n",
       "      <td>2357158739968</td>\n",
       "      <td>1.583106e+06</td>\n",
       "    </tr>\n",
       "  </tbody>\n",
       "</table>\n",
       "<p>2923 rows × 6 columns</p>\n",
       "</div>"
      ],
      "text/plain": [
       "                    High           Low          Open         Close  \\\n",
       "Date                                                                 \n",
       "2014-09-17  2.854223e+04  2.755250e+04  2.844333e+04  2.785164e+04   \n",
       "2014-09-18  2.782277e+04  2.508574e+04  2.782277e+04  2.577412e+04   \n",
       "2014-09-19  2.598884e+04  2.336609e+04  2.575365e+04  2.402334e+04   \n",
       "2014-09-20  2.575756e+04  2.372438e+04  2.401585e+04  2.488181e+04   \n",
       "2014-09-21  2.509612e+04  2.392506e+04  2.483197e+04  2.426826e+04   \n",
       "...                  ...           ...           ...           ...   \n",
       "2022-09-13  1.795188e+06  1.597057e+06  1.775301e+06  1.615674e+06   \n",
       "2022-09-14  1.629189e+06  1.573553e+06  1.606746e+06  1.608237e+06   \n",
       "2022-09-15  1.616613e+06  1.567400e+06  1.608332e+06  1.573129e+06   \n",
       "2022-09-16  1.584373e+06  1.545800e+06  1.573352e+06  1.575671e+06   \n",
       "2022-09-17  1.595323e+06  1.577152e+06  1.577152e+06  1.583106e+06   \n",
       "\n",
       "                   Volume     Adj Close  \n",
       "Date                                     \n",
       "2014-09-17     1282359120  2.785164e+04  \n",
       "2014-09-18     2093992320  2.577412e+04  \n",
       "2014-09-19     2307413745  2.402334e+04  \n",
       "2014-09-20     2243150060  2.488181e+04  \n",
       "2014-09-21     1617399085  2.426826e+04  \n",
       "...                   ...           ...  \n",
       "2022-09-13  4066993383643  1.615674e+06  \n",
       "2022-09-14  3009114158391  1.608237e+06  \n",
       "2022-09-15  2905639315961  1.573129e+06  \n",
       "2022-09-16  2400521702522  1.575671e+06  \n",
       "2022-09-17  2357158739968  1.583106e+06  \n",
       "\n",
       "[2923 rows x 6 columns]"
      ]
     },
     "execution_count": 2,
     "metadata": {},
     "output_type": "execute_result"
    }
   ],
   "source": [
    "start = dt.datetime.now() - dt.timedelta(days=3000)\n",
    "end = dt.datetime.now()\n",
    "df = pdr.DataReader('BTC-INR', 'yahoo', start, end)\n",
    "df"
   ]
  },
  {
   "cell_type": "code",
   "execution_count": 3,
   "id": "33ac7c01",
   "metadata": {},
   "outputs": [
    {
     "data": {
      "text/plain": [
       "(2923,)"
      ]
     },
     "execution_count": 3,
     "metadata": {},
     "output_type": "execute_result"
    }
   ],
   "source": [
    "scaler = MinMaxScaler(feature_range=(0,1))\n",
    "close = df.Close.values\n",
    "close = scaler.fit_transform(close.reshape(-1, 1))\n",
    "close = close.flatten()\n",
    "close.shape"
   ]
  },
  {
   "cell_type": "code",
   "execution_count": 4,
   "id": "4efbedd3",
   "metadata": {},
   "outputs": [],
   "source": [
    "closelist = close.tolist()"
   ]
  },
  {
   "cell_type": "code",
   "execution_count": 5,
   "id": "ec883f43",
   "metadata": {},
   "outputs": [
    {
     "data": {
      "text/plain": [
       "2923"
      ]
     },
     "execution_count": 5,
     "metadata": {},
     "output_type": "execute_result"
    }
   ],
   "source": [
    "len(closelist)"
   ]
  },
  {
   "cell_type": "code",
   "execution_count": 6,
   "id": "d66b6e14",
   "metadata": {},
   "outputs": [
    {
     "data": {
      "text/plain": [
       "[[1, 2, 3],\n",
       " [2, 3, 4],\n",
       " [3, 4, 5],\n",
       " [4, 5, 6],\n",
       " [5, 6, 7],\n",
       " [6, 7, 8],\n",
       " [7, 8, 9],\n",
       " [8, 9, 10]]"
      ]
     },
     "execution_count": 6,
     "metadata": {},
     "output_type": "execute_result"
    }
   ],
   "source": [
    "a = [1,2,3,4,5,6,7,8,9,10]\n",
    "b = []\n",
    "for i in range(len(a)-3+1):\n",
    "    b.append(a[i:i+3])\n",
    "b"
   ]
  },
  {
   "cell_type": "code",
   "execution_count": 7,
   "id": "c038273d",
   "metadata": {},
   "outputs": [
    {
     "data": {
      "text/plain": [
       "(2874, 50)"
      ]
     },
     "execution_count": 7,
     "metadata": {},
     "output_type": "execute_result"
    }
   ],
   "source": [
    "close1 = []\n",
    "for i in range(len(closelist)-50+1):\n",
    "    close1.append(closelist[i:i+50])\n",
    "close1 = np.array(close1)\n",
    "close1.shape"
   ]
  },
  {
   "cell_type": "code",
   "execution_count": 8,
   "id": "55d05a40",
   "metadata": {},
   "outputs": [
    {
     "data": {
      "text/plain": [
       "((2873, 50), (2873,))"
      ]
     },
     "execution_count": 8,
     "metadata": {},
     "output_type": "execute_result"
    }
   ],
   "source": [
    "close_y = close1[1:, 0]\n",
    "close_x = close1[:-1]\n",
    "close_x.shape, close_y.shape"
   ]
  },
  {
   "cell_type": "code",
   "execution_count": null,
   "id": "c61ddeab",
   "metadata": {},
   "outputs": [],
   "source": []
  },
  {
   "cell_type": "code",
   "execution_count": 9,
   "id": "cca62a7a",
   "metadata": {},
   "outputs": [
    {
     "data": {
      "text/plain": [
       "(2873, 50, 1)"
      ]
     },
     "execution_count": 9,
     "metadata": {},
     "output_type": "execute_result"
    }
   ],
   "source": [
    "close_x = np.expand_dims(close_x, axis=-1)\n",
    "close_x.shape"
   ]
  },
  {
   "cell_type": "code",
   "execution_count": 13,
   "id": "e2528a64",
   "metadata": {},
   "outputs": [],
   "source": [
    "model = Sequential([\n",
    "    LSTM(units=50, return_sequences=True, input_shape=(close_x.shape[1], 1)),\n",
    "    Dropout(0.2),\n",
    "    LSTM(units=50, return_sequences=True),\n",
    "    Dropout(0.2),\n",
    "    LSTM(units=50),\n",
    "    Dropout(0.2),\n",
    "    Dense(1)\n",
    "])"
   ]
  },
  {
   "cell_type": "code",
   "execution_count": 14,
   "id": "6ae76d61",
   "metadata": {},
   "outputs": [],
   "source": [
    "model.compile(optimizer=tf.keras.optimizers.Adam(), \n",
    "              loss='mse', metrics=['mae', 'accuracy'])"
   ]
  },
  {
   "cell_type": "code",
   "execution_count": 15,
   "id": "2c171e6f",
   "metadata": {},
   "outputs": [
    {
     "name": "stdout",
     "output_type": "stream",
     "text": [
      "Epoch 1/15\n",
      "90/90 [==============================] - 21s 120ms/step - loss: 0.0087 - mae: 0.0527 - accuracy: 6.9614e-04\n",
      "Epoch 2/15\n",
      "90/90 [==============================] - 11s 118ms/step - loss: 0.0051 - mae: 0.0388 - accuracy: 6.9614e-04\n",
      "Epoch 3/15\n",
      "90/90 [==============================] - 11s 119ms/step - loss: 0.0039 - mae: 0.0372 - accuracy: 6.9614e-04\n",
      "Epoch 4/15\n",
      "90/90 [==============================] - 11s 118ms/step - loss: 0.0035 - mae: 0.0355 - accuracy: 6.9614e-04\n",
      "Epoch 5/15\n",
      "90/90 [==============================] - 11s 118ms/step - loss: 0.0025 - mae: 0.0302 - accuracy: 6.9614e-04\n",
      "Epoch 6/15\n",
      "90/90 [==============================] - 11s 119ms/step - loss: 0.0022 - mae: 0.0291 - accuracy: 6.9614e-04\n",
      "Epoch 7/15\n",
      "90/90 [==============================] - 11s 118ms/step - loss: 0.0022 - mae: 0.0281 - accuracy: 6.9614e-04\n",
      "Epoch 8/15\n",
      "90/90 [==============================] - 11s 118ms/step - loss: 0.0024 - mae: 0.0288 - accuracy: 6.9614e-04\n",
      "Epoch 9/15\n",
      "90/90 [==============================] - 11s 118ms/step - loss: 0.0019 - mae: 0.0278 - accuracy: 6.9614e-04\n",
      "Epoch 10/15\n",
      "90/90 [==============================] - 11s 118ms/step - loss: 0.0018 - mae: 0.0266 - accuracy: 6.9614e-04\n",
      "Epoch 11/15\n",
      "90/90 [==============================] - 11s 119ms/step - loss: 0.0019 - mae: 0.0261 - accuracy: 6.9614e-04\n",
      "Epoch 12/15\n",
      "90/90 [==============================] - 11s 118ms/step - loss: 0.0019 - mae: 0.0268 - accuracy: 6.9614e-04\n",
      "Epoch 13/15\n",
      "90/90 [==============================] - 11s 118ms/step - loss: 0.0015 - mae: 0.0241 - accuracy: 6.9614e-04\n",
      "Epoch 14/15\n",
      "90/90 [==============================] - 11s 118ms/step - loss: 0.0018 - mae: 0.0259 - accuracy: 6.9614e-04\n",
      "Epoch 15/15\n",
      "90/90 [==============================] - 11s 118ms/step - loss: 0.0014 - mae: 0.0243 - accuracy: 6.9614e-04\n"
     ]
    },
    {
     "data": {
      "image/png": "[encoded data removed]",
      "text/plain": [
       "<Figure size 432x288 with 1 Axes>"
      ]
     },
     "metadata": {
      "needs_background": "light"
     },
     "output_type": "display_data"
    }
   ],
   "source": [
    "history = model.fit(close_x, close_y, epochs=15, batch_size=32)\n",
    "plt.plot(history.history['mae']);"
   ]
  },
  {
   "cell_type": "code",
   "execution_count": 16,
   "id": "88a64399",
   "metadata": {},
   "outputs": [
    {
     "name": "stderr",
     "output_type": "stream",
     "text": [
      "WARNING:absl:Found untraced functions such as lstm_cell_3_layer_call_fn, lstm_cell_3_layer_call_and_return_conditional_losses, lstm_cell_4_layer_call_fn, lstm_cell_4_layer_call_and_return_conditional_losses, lstm_cell_5_layer_call_fn while saving (showing 5 of 6). These functions will not be directly callable after loading.\n"
     ]
    },
    {
     "name": "stdout",
     "output_type": "stream",
     "text": [
      "INFO:tensorflow:Assets written to: model/Bitcoin50\\assets\n"
     ]
    },
    {
     "name": "stderr",
     "output_type": "stream",
     "text": [
      "INFO:tensorflow:Assets written to: model/Bitcoin50\\assets\n"
     ]
    }
   ],
   "source": [
    "model.save('model/Bitcoin50')"
   ]
  },
  {
   "cell_type": "code",
   "execution_count": 23,
   "id": "c27221f2",
   "metadata": {},
   "outputs": [],
   "source": [
    "m1 = tf.keras.models.load_model('model/Bitcoin50')"
   ]
  },
  {
   "cell_type": "code",
   "execution_count": 24,
   "id": "4454bebd",
   "metadata": {},
   "outputs": [
    {
     "name": "stdout",
     "output_type": "stream",
     "text": [
      "1/1 [==============================] - 2s 2s/step\n"
     ]
    },
    {
     "data": {
      "text/plain": [
       "array([[1897675.8]], dtype=float32)"
      ]
     },
     "execution_count": 24,
     "metadata": {},
     "output_type": "execute_result"
    }
   ],
   "source": [
    "scaler = MinMaxScaler(feature_range=(0,1))\n",
    "inp = scaler.fit_transform(df.Close.values[-50:].reshape(-1, 1))\n",
    "out = m1.predict(inp.reshape(1, -1, 1))\n",
    "scaler.inverse_transform(out) # 1897675.8"
   ]
  },
  {
   "cell_type": "code",
   "execution_count": null,
   "id": "4d96f84a",
   "metadata": {},
   "outputs": [],
   "source": [
    "model.evaluate(close_x, close_y)"
   ]
  },
  {
   "cell_type": "code",
   "execution_count": 22,
   "id": "e8dedd2b",
   "metadata": {},
   "outputs": [
    {
     "data": {
      "image/png": "[encoded data removed]",
      "text/plain": [
       "<Figure size 432x288 with 1 Axes>"
      ]
     },
     "metadata": {
      "needs_background": "light"
     },
     "output_type": "display_data"
    }
   ],
   "source": [
    "plt.plot(df.Close.values[-500:].tolist()+[1897675.8]);\n",
    "plt.plot(df.Close.values[-500:].tolist());"
   ]
  },
  {
   "cell_type": "code",
   "execution_count": null,
   "id": "24900e50",
   "metadata": {},
   "outputs": [],
   "source": []
  }
 ],
 "metadata": {
  "kernelspec": {
   "display_name": "Python 3 (ipykernel)",
   "language": "python",
   "name": "python3"
  },
  "language_info": {
   "codemirror_mode": {
    "name": "ipython",
    "version": 3
   },
   "file_extension": ".py",
   "mimetype": "text/x-python",
   "name": "python",
   "nbconvert_exporter": "python",
   "pygments_lexer": "ipython3",
   "version": "3.8.0"
  }
 },
 "nbformat": 4,
 "nbformat_minor": 5
}
