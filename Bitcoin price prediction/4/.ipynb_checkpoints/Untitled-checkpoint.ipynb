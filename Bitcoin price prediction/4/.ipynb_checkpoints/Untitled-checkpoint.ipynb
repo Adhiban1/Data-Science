{
 "cells": [
  {
   "cell_type": "code",
   "execution_count": 1,
   "id": "ece9ac04",
   "metadata": {},
   "outputs": [],
   "source": [
    "import pandas as pd\n",
    "import pandas_datareader as pdr\n",
    "from tensorflow.keras.models import Sequential\n",
    "from tensorflow.keras.layers import Dense\n",
    "import datetime as dt\n",
    "import matplotlib.pyplot as plt\n",
    "import numpy as np"
   ]
  },
  {
   "cell_type": "code",
   "execution_count": 2,
   "id": "fff8ab45",
   "metadata": {},
   "outputs": [
    {
     "data": {
      "text/html": [
       "<div>\n",
       "<style scoped>\n",
       "    .dataframe tbody tr th:only-of-type {\n",
       "        vertical-align: middle;\n",
       "    }\n",
       "\n",
       "    .dataframe tbody tr th {\n",
       "        vertical-align: top;\n",
       "    }\n",
       "\n",
       "    .dataframe thead th {\n",
       "        text-align: right;\n",
       "    }\n",
       "</style>\n",
       "<table border=\"1\" class=\"dataframe\">\n",
       "  <thead>\n",
       "    <tr style=\"text-align: right;\">\n",
       "      <th></th>\n",
       "      <th>High</th>\n",
       "      <th>Low</th>\n",
       "      <th>Open</th>\n",
       "      <th>Close</th>\n",
       "      <th>Volume</th>\n",
       "      <th>Adj Close</th>\n",
       "    </tr>\n",
       "    <tr>\n",
       "      <th>Date</th>\n",
       "      <th></th>\n",
       "      <th></th>\n",
       "      <th></th>\n",
       "      <th></th>\n",
       "      <th></th>\n",
       "      <th></th>\n",
       "    </tr>\n",
       "  </thead>\n",
       "  <tbody>\n",
       "    <tr>\n",
       "      <th>2014-09-17</th>\n",
       "      <td>28542.228516</td>\n",
       "      <td>27552.500000</td>\n",
       "      <td>28443.328125</td>\n",
       "      <td>27851.640625</td>\n",
       "      <td>1282359120</td>\n",
       "      <td>27851.640625</td>\n",
       "    </tr>\n",
       "    <tr>\n",
       "      <th>2014-09-18</th>\n",
       "      <td>27822.773438</td>\n",
       "      <td>25085.740234</td>\n",
       "      <td>27822.773438</td>\n",
       "      <td>25774.119141</td>\n",
       "      <td>2093992320</td>\n",
       "      <td>25774.119141</td>\n",
       "    </tr>\n",
       "    <tr>\n",
       "      <th>2014-09-19</th>\n",
       "      <td>25988.835938</td>\n",
       "      <td>23366.087891</td>\n",
       "      <td>25753.654297</td>\n",
       "      <td>24023.335938</td>\n",
       "      <td>2307413745</td>\n",
       "      <td>24023.335938</td>\n",
       "    </tr>\n",
       "    <tr>\n",
       "      <th>2014-09-20</th>\n",
       "      <td>25757.560547</td>\n",
       "      <td>23724.380859</td>\n",
       "      <td>24015.851562</td>\n",
       "      <td>24881.808594</td>\n",
       "      <td>2243150060</td>\n",
       "      <td>24881.808594</td>\n",
       "    </tr>\n",
       "    <tr>\n",
       "      <th>2014-09-21</th>\n",
       "      <td>25096.121094</td>\n",
       "      <td>23925.064453</td>\n",
       "      <td>24831.972656</td>\n",
       "      <td>24268.257812</td>\n",
       "      <td>1617399085</td>\n",
       "      <td>24268.257812</td>\n",
       "    </tr>\n",
       "  </tbody>\n",
       "</table>\n",
       "</div>"
      ],
      "text/plain": [
       "                    High           Low          Open         Close  \\\n",
       "Date                                                                 \n",
       "2014-09-17  28542.228516  27552.500000  28443.328125  27851.640625   \n",
       "2014-09-18  27822.773438  25085.740234  27822.773438  25774.119141   \n",
       "2014-09-19  25988.835938  23366.087891  25753.654297  24023.335938   \n",
       "2014-09-20  25757.560547  23724.380859  24015.851562  24881.808594   \n",
       "2014-09-21  25096.121094  23925.064453  24831.972656  24268.257812   \n",
       "\n",
       "                Volume     Adj Close  \n",
       "Date                                  \n",
       "2014-09-17  1282359120  27851.640625  \n",
       "2014-09-18  2093992320  25774.119141  \n",
       "2014-09-19  2307413745  24023.335938  \n",
       "2014-09-20  2243150060  24881.808594  \n",
       "2014-09-21  1617399085  24268.257812  "
      ]
     },
     "execution_count": 2,
     "metadata": {},
     "output_type": "execute_result"
    }
   ],
   "source": [
    "start = dt.datetime.now() - dt.timedelta(days=3000)\n",
    "end = dt.datetime.now()\n",
    "df = pdr.DataReader('BTC-INR', 'yahoo', start, end)\n",
    "df.head()"
   ]
  },
  {
   "cell_type": "code",
   "execution_count": 3,
   "id": "46f5040d",
   "metadata": {},
   "outputs": [],
   "source": [
    "def train_split(x, nums=50):\n",
    "    list1 = x.tolist()\n",
    "    list2 = []\n",
    "    for i in range(len(list1)-nums+1):\n",
    "        list2.append(list1[i:i+nums])\n",
    "    list2 = np.array(list2)\n",
    "    x2 = list2[:-1]\n",
    "    y2 = list2[1:, 0]\n",
    "    y2 = y2.reshape(-1, 1)\n",
    "    return x2, y2"
   ]
  },
  {
   "cell_type": "code",
   "execution_count": 4,
   "id": "6c0cebcb",
   "metadata": {},
   "outputs": [],
   "source": [
    "x_train, y_train = train_split(df.Close)"
   ]
  },
  {
   "cell_type": "code",
   "execution_count": 5,
   "id": "dcbb55a3",
   "metadata": {},
   "outputs": [
    {
     "data": {
      "text/plain": [
       "((2874, 50), (2874, 1))"
      ]
     },
     "execution_count": 5,
     "metadata": {},
     "output_type": "execute_result"
    }
   ],
   "source": [
    "x_train.shape, y_train.shape"
   ]
  },
  {
   "cell_type": "code",
   "execution_count": 44,
   "id": "6e37e468",
   "metadata": {},
   "outputs": [],
   "source": [
    "model = Sequential([\n",
    "    Dense(100),\n",
    "    Dense(1000),\n",
    "    Dense(100),\n",
    "    Dense(10),\n",
    "    Dense(1)\n",
    "])"
   ]
  },
  {
   "cell_type": "code",
   "execution_count": 89,
   "id": "d40bfc97",
   "metadata": {
    "scrolled": true
   },
   "outputs": [
    {
     "name": "stdout",
     "output_type": "stream",
     "text": [
      "Model: \"sequential_2\"\n",
      "_________________________________________________________________\n",
      " Layer (type)                Output Shape              Param #   \n",
      "=================================================================\n",
      " dense_10 (Dense)            (None, 100)               5100      \n",
      "                                                                 \n",
      " dense_11 (Dense)            (None, 1000)              101000    \n",
      "                                                                 \n",
      " dense_12 (Dense)            (None, 100)               100100    \n",
      "                                                                 \n",
      " dense_13 (Dense)            (None, 10)                1010      \n",
      "                                                                 \n",
      " dense_14 (Dense)            (None, 1)                 11        \n",
      "                                                                 \n",
      "=================================================================\n",
      "Total params: 207,221\n",
      "Trainable params: 207,221\n",
      "Non-trainable params: 0\n",
      "_________________________________________________________________\n"
     ]
    }
   ],
   "source": [
    "model.summary()"
   ]
  },
  {
   "cell_type": "code",
   "execution_count": 45,
   "id": "bed44f6d",
   "metadata": {},
   "outputs": [],
   "source": [
    "model.compile(optimizer='adam', loss='mse', metrics=['mae'])"
   ]
  },
  {
   "cell_type": "code",
   "execution_count": 63,
   "id": "582ffedc",
   "metadata": {},
   "outputs": [
    {
     "name": "stdout",
     "output_type": "stream",
     "text": [
      "Epoch 1/3\n",
      "45/45 [==============================] - 0s 5ms/step - loss: 395496672.0000 - mae: 9619.2031\n",
      "Epoch 2/3\n",
      "45/45 [==============================] - 0s 5ms/step - loss: 480116640.0000 - mae: 10423.4131\n",
      "Epoch 3/3\n",
      "45/45 [==============================] - 0s 5ms/step - loss: 308141920.0000 - mae: 8739.8193\n"
     ]
    },
    {
     "data": {
      "image/png": "[encoded data removed]",
      "text/plain": [
       "<Figure size 432x288 with 1 Axes>"
      ]
     },
     "metadata": {
      "needs_background": "light"
     },
     "output_type": "display_data"
    }
   ],
   "source": [
    "history = model.fit(x_train, y_train, epochs=3, batch_size=64)\n",
    "plt.plot(history.history['loss']); # 7868.2861"
   ]
  },
  {
   "cell_type": "code",
   "execution_count": 64,
   "id": "4859472a",
   "metadata": {},
   "outputs": [
    {
     "name": "stdout",
     "output_type": "stream",
     "text": [
      "INFO:tensorflow:Assets written to: model\\assets\n"
     ]
    }
   ],
   "source": [
    "model.save('model')"
   ]
  },
  {
   "cell_type": "code",
   "execution_count": 97,
   "id": "7d115ce9",
   "metadata": {},
   "outputs": [
    {
     "name": "stdout",
     "output_type": "stream",
     "text": [
      "1/1 [==============================] - 0s 42ms/step\n"
     ]
    },
    {
     "data": {
      "image/png": "[encoded data removed]",
      "text/plain": [
       "<Figure size 432x288 with 1 Axes>"
      ]
     },
     "metadata": {
      "needs_background": "light"
     },
     "output_type": "display_data"
    }
   ],
   "source": [
    "plt.plot(np.concatenate([df.Close.to_numpy()[-730:-700],\n",
    " model.predict(df.Close.to_numpy()[-750:-700].reshape(1, -1))[0]]), '-o');"
   ]
  },
  {
   "cell_type": "markdown",
   "id": "356e738e",
   "metadata": {},
   "source": [
    "## app.py"
   ]
  },
  {
   "cell_type": "code",
   "execution_count": 98,
   "id": "86cde468",
   "metadata": {},
   "outputs": [],
   "source": [
    "from tensorflow.keras.models import load_model\n",
    "import matplotlib.pyplot as plt\n",
    "import pandas_datareader as pdr\n",
    "import datetime as dt\n",
    "import numpy as np"
   ]
  },
  {
   "cell_type": "code",
   "execution_count": 99,
   "id": "01b00b13",
   "metadata": {},
   "outputs": [],
   "source": [
    "model1 = load_model('model')"
   ]
  },
  {
   "cell_type": "code",
   "execution_count": 105,
   "id": "09cdfa56",
   "metadata": {},
   "outputs": [
    {
     "data": {
      "image/png": "[encoded data removed]",
      "text/plain": [
       "<Figure size 432x288 with 1 Axes>"
      ]
     },
     "metadata": {
      "needs_background": "light"
     },
     "output_type": "display_data"
    }
   ],
   "source": [
    "start = dt.datetime.now() - dt.timedelta(days=60)\n",
    "end = dt.datetime.now()\n",
    "df = pdr.DataReader('BTC-INR', 'yahoo', start, end)\n",
    "plt.grid()\n",
    "plt.plot(np.concatenate([df.Close.to_numpy()[-10:],\n",
    "model1.predict(df.Close.to_numpy()[-50:].reshape(1, -1), verbose=0)[0]]), '-o')\n",
    "plt.show()"
   ]
  },
  {
   "cell_type": "code",
   "execution_count": null,
   "id": "a12be278",
   "metadata": {},
   "outputs": [],
   "source": []
  }
 ],
 "metadata": {
  "kernelspec": {
   "display_name": "Python 3 (ipykernel)",
   "language": "python",
   "name": "python3"
  },
  "language_info": {
   "codemirror_mode": {
    "name": "ipython",
    "version": 3
   },
   "file_extension": ".py",
   "mimetype": "text/x-python",
   "name": "python",
   "nbconvert_exporter": "python",
   "pygments_lexer": "ipython3",
   "version": "3.8.0"
  }
 },
 "nbformat": 4,
 "nbformat_minor": 5
}
