{
 "cells": [
  {
   "cell_type": "code",
   "execution_count": null,
   "id": "9513b3ea",
   "metadata": {},
   "outputs": [],
   "source": [
    "import pandas as pd\n",
    "import pandas_datareader as pdr\n",
    "import tensorflow as tf\n",
    "import numpy as np\n",
    "import matplotlib.pyplot as plt\n",
    "import random"
   ]
  },
  {
   "cell_type": "code",
   "execution_count": null,
   "id": "0316ef53",
   "metadata": {},
   "outputs": [],
   "source": [
    "import datetime as dt"
   ]
  },
  {
   "cell_type": "code",
   "execution_count": null,
   "id": "113b3d72",
   "metadata": {},
   "outputs": [],
   "source": [
    "df = pdr.DataReader('BTC-USD', 'yahoo', \n",
    "                    dt.datetime.now()-dt.timedelta(days=3000), \n",
    "                    dt.datetime.now())\n",
    "df"
   ]
  },
  {
   "cell_type": "code",
   "execution_count": 41,
   "id": "d37b3600",
   "metadata": {},
   "outputs": [
    {
     "data": {
      "text/html": [
       "<div>\n",
       "<style scoped>\n",
       "    .dataframe tbody tr th:only-of-type {\n",
       "        vertical-align: middle;\n",
       "    }\n",
       "\n",
       "    .dataframe tbody tr th {\n",
       "        vertical-align: top;\n",
       "    }\n",
       "\n",
       "    .dataframe thead th {\n",
       "        text-align: right;\n",
       "    }\n",
       "</style>\n",
       "<table border=\"1\" class=\"dataframe\">\n",
       "  <thead>\n",
       "    <tr style=\"text-align: right;\">\n",
       "      <th></th>\n",
       "      <th>High</th>\n",
       "      <th>Low</th>\n",
       "      <th>Open</th>\n",
       "      <th>Close</th>\n",
       "      <th>Volume</th>\n",
       "      <th>Adj Close</th>\n",
       "    </tr>\n",
       "    <tr>\n",
       "      <th>Date</th>\n",
       "      <th></th>\n",
       "      <th></th>\n",
       "      <th></th>\n",
       "      <th></th>\n",
       "      <th></th>\n",
       "      <th></th>\n",
       "    </tr>\n",
       "  </thead>\n",
       "  <tbody>\n",
       "    <tr>\n",
       "      <th>2014-09-17</th>\n",
       "      <td>468.174011</td>\n",
       "      <td>452.421997</td>\n",
       "      <td>465.864014</td>\n",
       "      <td>457.334015</td>\n",
       "      <td>21056800</td>\n",
       "      <td>457.334015</td>\n",
       "    </tr>\n",
       "    <tr>\n",
       "      <th>2014-09-18</th>\n",
       "      <td>456.859985</td>\n",
       "      <td>413.104004</td>\n",
       "      <td>456.859985</td>\n",
       "      <td>424.440002</td>\n",
       "      <td>34483200</td>\n",
       "      <td>424.440002</td>\n",
       "    </tr>\n",
       "    <tr>\n",
       "      <th>2014-09-19</th>\n",
       "      <td>427.834991</td>\n",
       "      <td>384.532013</td>\n",
       "      <td>424.102997</td>\n",
       "      <td>394.795990</td>\n",
       "      <td>37919700</td>\n",
       "      <td>394.795990</td>\n",
       "    </tr>\n",
       "    <tr>\n",
       "      <th>2014-09-20</th>\n",
       "      <td>423.295990</td>\n",
       "      <td>389.882996</td>\n",
       "      <td>394.673004</td>\n",
       "      <td>408.903992</td>\n",
       "      <td>36863600</td>\n",
       "      <td>408.903992</td>\n",
       "    </tr>\n",
       "    <tr>\n",
       "      <th>2014-09-21</th>\n",
       "      <td>412.425995</td>\n",
       "      <td>393.181000</td>\n",
       "      <td>408.084991</td>\n",
       "      <td>398.821014</td>\n",
       "      <td>26580100</td>\n",
       "      <td>398.821014</td>\n",
       "    </tr>\n",
       "    <tr>\n",
       "      <th>...</th>\n",
       "      <td>...</td>\n",
       "      <td>...</td>\n",
       "      <td>...</td>\n",
       "      <td>...</td>\n",
       "      <td>...</td>\n",
       "      <td>...</td>\n",
       "    </tr>\n",
       "    <tr>\n",
       "      <th>2022-09-08</th>\n",
       "      <td>19417.351562</td>\n",
       "      <td>19076.714844</td>\n",
       "      <td>19289.941406</td>\n",
       "      <td>19329.833984</td>\n",
       "      <td>32194477850</td>\n",
       "      <td>19329.833984</td>\n",
       "    </tr>\n",
       "    <tr>\n",
       "      <th>2022-09-09</th>\n",
       "      <td>21439.410156</td>\n",
       "      <td>19310.962891</td>\n",
       "      <td>19328.140625</td>\n",
       "      <td>21381.152344</td>\n",
       "      <td>48469528171</td>\n",
       "      <td>21381.152344</td>\n",
       "    </tr>\n",
       "    <tr>\n",
       "      <th>2022-09-10</th>\n",
       "      <td>21760.275391</td>\n",
       "      <td>21168.722656</td>\n",
       "      <td>21376.912109</td>\n",
       "      <td>21680.539062</td>\n",
       "      <td>36913738894</td>\n",
       "      <td>21680.539062</td>\n",
       "    </tr>\n",
       "    <tr>\n",
       "      <th>2022-09-11</th>\n",
       "      <td>21770.552734</td>\n",
       "      <td>21406.945312</td>\n",
       "      <td>21678.542969</td>\n",
       "      <td>21769.255859</td>\n",
       "      <td>34493951963</td>\n",
       "      <td>21769.255859</td>\n",
       "    </tr>\n",
       "    <tr>\n",
       "      <th>2022-09-12</th>\n",
       "      <td>22433.746094</td>\n",
       "      <td>21607.703125</td>\n",
       "      <td>21757.916016</td>\n",
       "      <td>22281.414062</td>\n",
       "      <td>49411837952</td>\n",
       "      <td>22281.414062</td>\n",
       "    </tr>\n",
       "  </tbody>\n",
       "</table>\n",
       "<p>2918 rows × 6 columns</p>\n",
       "</div>"
      ],
      "text/plain": [
       "                    High           Low          Open         Close  \\\n",
       "Date                                                                 \n",
       "2014-09-17    468.174011    452.421997    465.864014    457.334015   \n",
       "2014-09-18    456.859985    413.104004    456.859985    424.440002   \n",
       "2014-09-19    427.834991    384.532013    424.102997    394.795990   \n",
       "2014-09-20    423.295990    389.882996    394.673004    408.903992   \n",
       "2014-09-21    412.425995    393.181000    408.084991    398.821014   \n",
       "...                  ...           ...           ...           ...   \n",
       "2022-09-08  19417.351562  19076.714844  19289.941406  19329.833984   \n",
       "2022-09-09  21439.410156  19310.962891  19328.140625  21381.152344   \n",
       "2022-09-10  21760.275391  21168.722656  21376.912109  21680.539062   \n",
       "2022-09-11  21770.552734  21406.945312  21678.542969  21769.255859   \n",
       "2022-09-12  22433.746094  21607.703125  21757.916016  22281.414062   \n",
       "\n",
       "                 Volume     Adj Close  \n",
       "Date                                   \n",
       "2014-09-17     21056800    457.334015  \n",
       "2014-09-18     34483200    424.440002  \n",
       "2014-09-19     37919700    394.795990  \n",
       "2014-09-20     36863600    408.903992  \n",
       "2014-09-21     26580100    398.821014  \n",
       "...                 ...           ...  \n",
       "2022-09-08  32194477850  19329.833984  \n",
       "2022-09-09  48469528171  21381.152344  \n",
       "2022-09-10  36913738894  21680.539062  \n",
       "2022-09-11  34493951963  21769.255859  \n",
       "2022-09-12  49411837952  22281.414062  \n",
       "\n",
       "[2918 rows x 6 columns]"
      ]
     },
     "execution_count": 41,
     "metadata": {},
     "output_type": "execute_result"
    }
   ],
   "source": [
    "df"
   ]
  },
  {
   "cell_type": "code",
   "execution_count": null,
   "id": "99f69f98",
   "metadata": {},
   "outputs": [],
   "source": [
    "x = list(df.Open.to_numpy())"
   ]
  },
  {
   "cell_type": "code",
   "execution_count": 11,
   "id": "2e0f93ad",
   "metadata": {},
   "outputs": [],
   "source": [
    "x1 = []\n",
    "for i in range(len(x)-51+1):\n",
    "    x1.append(x[i:i+51])"
   ]
  },
  {
   "cell_type": "code",
   "execution_count": 12,
   "id": "3e3e0e1e",
   "metadata": {},
   "outputs": [],
   "source": [
    "x1 = np.array(x1)"
   ]
  },
  {
   "cell_type": "code",
   "execution_count": 13,
   "id": "5654a01c",
   "metadata": {},
   "outputs": [
    {
     "data": {
      "text/plain": [
       "(2868, 51)"
      ]
     },
     "execution_count": 13,
     "metadata": {},
     "output_type": "execute_result"
    }
   ],
   "source": [
    "x1.shape"
   ]
  },
  {
   "cell_type": "code",
   "execution_count": 15,
   "id": "be727da0",
   "metadata": {},
   "outputs": [],
   "source": [
    "x2 = x1[:, :50]\n",
    "y2 = x1[:, -1]"
   ]
  },
  {
   "cell_type": "code",
   "execution_count": 16,
   "id": "00ff24a2",
   "metadata": {},
   "outputs": [
    {
     "data": {
      "text/plain": [
       "((2868, 50), (2868,))"
      ]
     },
     "execution_count": 16,
     "metadata": {},
     "output_type": "execute_result"
    }
   ],
   "source": [
    "x2.shape, y2.shape"
   ]
  },
  {
   "cell_type": "code",
   "execution_count": 17,
   "id": "25e38c6d",
   "metadata": {},
   "outputs": [],
   "source": [
    "comp = x2[:, -1]"
   ]
  },
  {
   "cell_type": "code",
   "execution_count": 18,
   "id": "8c220787",
   "metadata": {},
   "outputs": [
    {
     "data": {
      "text/plain": [
       "(2868,)"
      ]
     },
     "execution_count": 18,
     "metadata": {},
     "output_type": "execute_result"
    }
   ],
   "source": [
    "comp.shape"
   ]
  },
  {
   "cell_type": "code",
   "execution_count": 20,
   "id": "fa6b8e32",
   "metadata": {},
   "outputs": [],
   "source": [
    "y3 = []\n",
    "\n",
    "for i,j in zip(comp, y2):\n",
    "    if i < j:\n",
    "        y3.append([1])\n",
    "    else:\n",
    "        y3.append([0])"
   ]
  },
  {
   "cell_type": "code",
   "execution_count": 22,
   "id": "70e41578",
   "metadata": {},
   "outputs": [],
   "source": [
    "y3 = np.array(y3)"
   ]
  },
  {
   "cell_type": "code",
   "execution_count": 23,
   "id": "1eebc41b",
   "metadata": {},
   "outputs": [
    {
     "data": {
      "text/plain": [
       "((2868, 50), (2868, 1))"
      ]
     },
     "execution_count": 23,
     "metadata": {},
     "output_type": "execute_result"
    }
   ],
   "source": [
    "x2.shape, y3.shape"
   ]
  },
  {
   "cell_type": "code",
   "execution_count": 24,
   "id": "0acf6a87",
   "metadata": {},
   "outputs": [],
   "source": [
    "model = tf.keras.Sequential([\n",
    "    tf.keras.layers.Dense(100, input_shape=[50], activation='relu'),\n",
    "    tf.keras.layers.Dropout(0.2),\n",
    "    tf.keras.layers.Dense(10, activation='relu'),\n",
    "    tf.keras.layers.Dropout(0.2),\n",
    "    tf.keras.layers.Dense(2, activation='softmax')\n",
    "])\n",
    "\n",
    "model.compile(loss=tf.keras.losses.SparseCategoricalCrossentropy(), \n",
    "              optimizer='adam', metrics=['accuracy'])"
   ]
  },
  {
   "cell_type": "code",
   "execution_count": 35,
   "id": "ebd93dbf",
   "metadata": {},
   "outputs": [
    {
     "data": {
      "image/png": "[encoded data removed]",
      "text/plain": [
       "<Figure size 432x288 with 1 Axes>"
      ]
     },
     "metadata": {
      "needs_background": "light"
     },
     "output_type": "display_data"
    }
   ],
   "source": [
    "history = model.fit(x2, y3, epochs=2, verbose=0)\n",
    "plt.plot(history.history['accuracy']);"
   ]
  },
  {
   "cell_type": "code",
   "execution_count": 36,
   "id": "960a3e45",
   "metadata": {},
   "outputs": [
    {
     "name": "stdout",
     "output_type": "stream",
     "text": [
      "90/90 [==============================] - 0s 5ms/step - loss: 0.6904 - accuracy: 0.5370\n"
     ]
    },
    {
     "data": {
      "text/plain": [
       "[0.6904126405715942, 0.5369595289230347]"
      ]
     },
     "execution_count": 36,
     "metadata": {},
     "output_type": "execute_result"
    }
   ],
   "source": [
    "model.evaluate(x2, y3)"
   ]
  },
  {
   "cell_type": "code",
   "execution_count": 38,
   "id": "6f033ea1",
   "metadata": {},
   "outputs": [
    {
     "name": "stdout",
     "output_type": "stream",
     "text": [
      "1/1 [==============================] - 0s 27ms/step\n"
     ]
    },
    {
     "data": {
      "text/plain": [
       "1"
      ]
     },
     "execution_count": 38,
     "metadata": {},
     "output_type": "execute_result"
    }
   ],
   "source": [
    "np.argmax(model.predict(df.Open.to_numpy()[:50].reshape(1, -1)))"
   ]
  },
  {
   "cell_type": "code",
   "execution_count": 39,
   "id": "583ecdd9",
   "metadata": {},
   "outputs": [
    {
     "name": "stdout",
     "output_type": "stream",
     "text": [
      "INFO:tensorflow:Assets written to: Bitcoin50 2.0\\assets\n"
     ]
    }
   ],
   "source": [
    "model.save('Bitcoin50 2.0')"
   ]
  },
  {
   "cell_type": "code",
   "execution_count": 40,
   "id": "b58c063e",
   "metadata": {},
   "outputs": [],
   "source": [
    "m1 = tf.keras.models.load_model('Bitcoin50 2.0')"
   ]
  },
  {
   "cell_type": "code",
   "execution_count": 42,
   "id": "1c0cef66",
   "metadata": {},
   "outputs": [
    {
     "name": "stdout",
     "output_type": "stream",
     "text": [
      "1/1 [==============================] - 0s 51ms/step\n"
     ]
    },
    {
     "data": {
      "text/plain": [
       "1"
      ]
     },
     "execution_count": 42,
     "metadata": {},
     "output_type": "execute_result"
    }
   ],
   "source": [
    "np.argmax(model.predict(df.Open.to_numpy()[:50].reshape(1, -1)))"
   ]
  }
 ],
 "metadata": {
  "kernelspec": {
   "display_name": "Python 3 (ipykernel)",
   "language": "python",
   "name": "python3"
  },
  "language_info": {
   "codemirror_mode": {
    "name": "ipython",
    "version": 3
   },
   "file_extension": ".py",
   "mimetype": "text/x-python",
   "name": "python",
   "nbconvert_exporter": "python",
   "pygments_lexer": "ipython3",
   "version": "3.8.0"
  }
 },
 "nbformat": 4,
 "nbformat_minor": 5
}
