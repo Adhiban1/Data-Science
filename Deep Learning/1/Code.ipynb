{
  "cells": [
    {
      "cell_type": "code",
      "source": [
        "import tensorflow as tf\n",
        "import numpy as np\n",
        "import random\n",
        "from tensorflow.keras.datasets.mnist import load_data\n",
        "import matplotlib.pyplot as plt\n",
        "from tensorflow.keras.layers import Conv2D, Dense, Input, MaxPool2D, \\\n",
        "                                    BatchNormalization, GlobalAvgPool2D"
      ],
      "metadata": {
        "id": "bOayxXTGSHv1"
      },
      "execution_count": 1,
      "outputs": []
    },
    {
      "cell_type": "code",
      "source": [
        "import matplotlib.pyplot as plt"
      ],
      "metadata": {
        "id": "KtJCqMqcuV5O"
      },
      "execution_count": 2,
      "outputs": []
    },
    {
      "cell_type": "code",
      "source": [
        "(x_train, y_train), (x_test, y_test) = load_data()\n",
        "(x_train.shape, y_train.shape), (x_test.shape, y_test.shape)"
      ],
      "metadata": {
        "colab": {
          "base_uri": "https://localhost:8080/"
        },
        "id": "FtSa__iYSZYR",
        "outputId": "9cd40970-5880-49d9-d4ca-c35b9e4b621b"
      },
      "execution_count": 3,
      "outputs": [
        {
          "output_type": "execute_result",
          "data": {
            "text/plain": [
              "(((60000, 28, 28), (60000,)), ((10000, 28, 28), (10000,)))"
            ]
          },
          "metadata": {},
          "execution_count": 3
        }
      ]
    },
    {
      "cell_type": "code",
      "source": [
        "x_train, x_test = x_train.astype(np.float16)/255, x_test.astype(np.float16)/255"
      ],
      "metadata": {
        "id": "IThIfNACSoWf"
      },
      "execution_count": 4,
      "outputs": []
    },
    {
      "cell_type": "code",
      "source": [
        "seq_model = tf.keras.Sequential([\n",
        "    Input(shape=(28, 28, 1)),\n",
        "    Conv2D(32, (3,3), activation='relu'),\n",
        "    Conv2D(64, (3,3), activation='relu'),\n",
        "    MaxPool2D(),\n",
        "    BatchNormalization(),\n",
        "\n",
        "    Conv2D(128, (3,3), activation='relu'),\n",
        "    MaxPool2D(),\n",
        "    BatchNormalization(),\n",
        "\n",
        "    GlobalAvgPool2D(),\n",
        "    Dense(64, activation='relu'),\n",
        "    Dense(10, activation='softmax')\n",
        "])"
      ],
      "metadata": {
        "id": "4nJLTkfbS0he"
      },
      "execution_count": 5,
      "outputs": []
    },
    {
      "cell_type": "code",
      "source": [
        "def functional_model():\n",
        "    my_input = Input(shape=(28, 28, 1))\n",
        "    x = Conv2D(32, (3,3), activation='relu')(my_input)\n",
        "    x = Conv2D(64, (3,3), activation='relu')(x)\n",
        "    x = MaxPool2D()(x)\n",
        "    x = BatchNormalization()(x)\n",
        "\n",
        "    x = Conv2D(128, (3,3), activation='relu')(x)\n",
        "    x = MaxPool2D()(x)\n",
        "    x = BatchNormalization()(x)\n",
        "\n",
        "    x = GlobalAvgPool2D()(x)\n",
        "    x = Dense(64, activation='relu')(x)\n",
        "    x = Dense(10, activation='softmax')(x)\n",
        "\n",
        "    model = tf.keras.Model(inputs=my_input, outputs=x)\n",
        "\n",
        "    return model"
      ],
      "metadata": {
        "id": "6pyxMP0X3x84"
      },
      "execution_count": 6,
      "outputs": []
    },
    {
      "cell_type": "code",
      "source": [
        "class MyCustomModel(tf.keras.Model):\n",
        "    def __init__(self):\n",
        "        super().__init__()\n",
        "        # self.my_input = Input(shape=(28, 28, 1))\n",
        "        self.conv1 = Conv2D(32, (3,3), activation='relu')\n",
        "        self.conv2 = Conv2D(64, (3,3), activation='relu')\n",
        "        self.max1 = MaxPool2D()\n",
        "        self.bn1 = BatchNormalization()\n",
        "\n",
        "        self.conv3 = Conv2D(128, (3,3), activation='relu')\n",
        "        self.max2 = MaxPool2D()\n",
        "        self.bn2 = BatchNormalization()\n",
        "\n",
        "        self.glo = GlobalAvgPool2D()\n",
        "        self.d1 = Dense(64, activation='relu')\n",
        "        self.d2 = Dense(10, activation='softmax')\n",
        "    \n",
        "    def call(self, my_input):\n",
        "        x = self.conv1(my_input)\n",
        "        x = self.conv2(x)\n",
        "        x = self.max1(x)\n",
        "        x = self.bn1(x)\n",
        "        x = self.conv3(x)\n",
        "        x = self.max2(x)\n",
        "        x = self.bn2(x)\n",
        "        x = self.glo(x)\n",
        "        x = self.d1(x)\n",
        "        x = self.d2(x)\n",
        "\n",
        "        return x"
      ],
      "metadata": {
        "id": "6S4oVFBk7O-M"
      },
      "execution_count": 7,
      "outputs": []
    },
    {
      "cell_type": "code",
      "source": [
        "x_train = np.expand_dims(x_train, axis=-1)\n",
        "x_test = np.expand_dims(x_test, axis=-1)"
      ],
      "metadata": {
        "id": "9eePdKq-VTll"
      },
      "execution_count": 8,
      "outputs": []
    },
    {
      "cell_type": "code",
      "source": [
        "(x_train.shape, y_train.shape), (x_test.shape, y_test.shape)"
      ],
      "metadata": {
        "colab": {
          "base_uri": "https://localhost:8080/"
        },
        "id": "jERz42zyUb19",
        "outputId": "a0616bbc-2f93-4423-f7b1-258f24eb1e7e"
      },
      "execution_count": 9,
      "outputs": [
        {
          "output_type": "execute_result",
          "data": {
            "text/plain": [
              "(((60000, 28, 28, 1), (60000,)), ((10000, 28, 28, 1), (10000,)))"
            ]
          },
          "metadata": {},
          "execution_count": 9
        }
      ]
    },
    {
      "cell_type": "code",
      "source": [
        "# model = functional_model()\n",
        "model = MyCustomModel()\n",
        "model.compile(optimizer='adam', \n",
        "              loss=tf.keras.losses.SparseCategoricalCrossentropy(), \n",
        "              metrics=['accuracy'])"
      ],
      "metadata": {
        "id": "FRGRtNb2VoRY"
      },
      "execution_count": 10,
      "outputs": []
    },
    {
      "cell_type": "code",
      "source": [
        "model.fit(x_train, y_train, batch_size=64, epochs=5)"
      ],
      "metadata": {
        "colab": {
          "base_uri": "https://localhost:8080/"
        },
        "id": "JPPWj0CvYVMR",
        "outputId": "4b4270c1-89d4-4a5d-f953-5975de3a20df"
      },
      "execution_count": 11,
      "outputs": [
        {
          "output_type": "stream",
          "name": "stdout",
          "text": [
            "Epoch 1/5\n",
            "938/938 [==============================] - 8s 6ms/step - loss: 0.1975 - accuracy: 0.9450\n",
            "Epoch 2/5\n",
            "938/938 [==============================] - 6s 6ms/step - loss: 0.0504 - accuracy: 0.9846\n",
            "Epoch 3/5\n",
            "938/938 [==============================] - 6s 6ms/step - loss: 0.0349 - accuracy: 0.9893\n",
            "Epoch 4/5\n",
            "938/938 [==============================] - 6s 6ms/step - loss: 0.0267 - accuracy: 0.9914\n",
            "Epoch 5/5\n",
            "938/938 [==============================] - 6s 6ms/step - loss: 0.0207 - accuracy: 0.9937\n"
          ]
        },
        {
          "output_type": "execute_result",
          "data": {
            "text/plain": [
              "<keras.callbacks.History at 0x7f8eec38cad0>"
            ]
          },
          "metadata": {},
          "execution_count": 11
        }
      ]
    },
    {
      "cell_type": "code",
      "source": [
        "model.evaluate(x_test, y_test, batch_size=64)"
      ],
      "metadata": {
        "colab": {
          "base_uri": "https://localhost:8080/"
        },
        "id": "lsJgEL7hppvv",
        "outputId": "849bc788-2326-4353-83f9-f9cb9e9d373d"
      },
      "execution_count": 12,
      "outputs": [
        {
          "output_type": "stream",
          "name": "stdout",
          "text": [
            "157/157 [==============================] - 1s 4ms/step - loss: 0.0409 - accuracy: 0.9876\n"
          ]
        },
        {
          "output_type": "execute_result",
          "data": {
            "text/plain": [
              "[0.04090941324830055, 0.9876000285148621]"
            ]
          },
          "metadata": {},
          "execution_count": 12
        }
      ]
    },
    {
      "cell_type": "code",
      "source": [],
      "metadata": {
        "id": "CQ9liAK_vtte"
      },
      "execution_count": 12,
      "outputs": []
    },
    {
      "cell_type": "code",
      "source": [
        "n = random.randint(0, 10000)\n",
        "print(np.argmax(model.predict(np.expand_dims(x_test[n], axis=0))))\n",
        "plt.imshow((x_test.reshape(10000, 28, 28)[n]*255).astype(np.int16), cmap='gray');"
      ],
      "metadata": {
        "colab": {
          "base_uri": "https://localhost:8080/",
          "height": 282
        },
        "id": "y8_oXi6UvP6i",
        "outputId": "a6af1194-6084-4dcd-cb3c-2b5d4c0addc1"
      },
      "execution_count": 13,
      "outputs": [
        {
          "output_type": "stream",
          "name": "stdout",
          "text": [
            "9\n"
          ]
        },
        {
          "output_type": "display_data",
          "data": {
            "text/plain": [
              "<Figure size 432x288 with 1 Axes>"
            ],
            "image/png": "[encoded data removed]"
          },
          "metadata": {
            "needs_background": "light"
          }
        }
      ]
    }
  ],
  "metadata": {
    "colab": {
      "collapsed_sections": [],
      "provenance": []
    },
    "gpuClass": "standard",
    "kernelspec": {
      "display_name": "Python 3",
      "name": "python3"
    },
    "language_info": {
      "name": "python"
    },
    "accelerator": "GPU"
  },
  "nbformat": 4,
  "nbformat_minor": 0
}