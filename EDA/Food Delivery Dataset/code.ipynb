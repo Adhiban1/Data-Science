{
 "cells": [
  {
   "cell_type": "code",
   "execution_count": 1,
   "metadata": {},
   "outputs": [],
   "source": [
    "import re\n",
    "import json\n",
    "import pickle\n",
    "import warnings\n",
    "import numpy as np\n",
    "import pandas as pd\n",
    "import datetime as dt\n",
    "import seaborn as sns\n",
    "import matplotlib.pyplot as plt\n",
    "from pandas_profiling import ProfileReport"
   ]
  },
  {
   "cell_type": "code",
   "execution_count": 2,
   "metadata": {},
   "outputs": [],
   "source": [
    "sns.set()\n",
    "warnings.filterwarnings('ignore')"
   ]
  },
  {
   "cell_type": "code",
   "execution_count": 3,
   "metadata": {},
   "outputs": [
    {
     "data": {
      "text/html": [
       "<div>\n",
       "<style scoped>\n",
       "    .dataframe tbody tr th:only-of-type {\n",
       "        vertical-align: middle;\n",
       "    }\n",
       "\n",
       "    .dataframe tbody tr th {\n",
       "        vertical-align: top;\n",
       "    }\n",
       "\n",
       "    .dataframe thead th {\n",
       "        text-align: right;\n",
       "    }\n",
       "</style>\n",
       "<table border=\"1\" class=\"dataframe\">\n",
       "  <thead>\n",
       "    <tr style=\"text-align: right;\">\n",
       "      <th></th>\n",
       "      <th>ID</th>\n",
       "      <th>Delivery_person_ID</th>\n",
       "      <th>Delivery_person_Age</th>\n",
       "      <th>Delivery_person_Ratings</th>\n",
       "      <th>Restaurant_latitude</th>\n",
       "      <th>Restaurant_longitude</th>\n",
       "      <th>Delivery_location_latitude</th>\n",
       "      <th>Delivery_location_longitude</th>\n",
       "      <th>Order_Date</th>\n",
       "      <th>Time_Orderd</th>\n",
       "      <th>Time_Order_picked</th>\n",
       "      <th>Weatherconditions</th>\n",
       "      <th>Road_traffic_density</th>\n",
       "      <th>Vehicle_condition</th>\n",
       "      <th>Type_of_order</th>\n",
       "      <th>Type_of_vehicle</th>\n",
       "      <th>multiple_deliveries</th>\n",
       "      <th>Festival</th>\n",
       "      <th>City</th>\n",
       "      <th>Time_taken(min)</th>\n",
       "    </tr>\n",
       "  </thead>\n",
       "  <tbody>\n",
       "    <tr>\n",
       "      <th>0</th>\n",
       "      <td>0x4607</td>\n",
       "      <td>INDORES13DEL02</td>\n",
       "      <td>37</td>\n",
       "      <td>4.9</td>\n",
       "      <td>22.745049</td>\n",
       "      <td>75.892471</td>\n",
       "      <td>22.765049</td>\n",
       "      <td>75.912471</td>\n",
       "      <td>19-03-2022</td>\n",
       "      <td>11:30:00</td>\n",
       "      <td>11:45:00</td>\n",
       "      <td>conditions Sunny</td>\n",
       "      <td>High</td>\n",
       "      <td>2</td>\n",
       "      <td>Snack</td>\n",
       "      <td>motorcycle</td>\n",
       "      <td>0</td>\n",
       "      <td>No</td>\n",
       "      <td>Urban</td>\n",
       "      <td>(min) 24</td>\n",
       "    </tr>\n",
       "    <tr>\n",
       "      <th>1</th>\n",
       "      <td>0xb379</td>\n",
       "      <td>BANGRES18DEL02</td>\n",
       "      <td>34</td>\n",
       "      <td>4.5</td>\n",
       "      <td>12.913041</td>\n",
       "      <td>77.683237</td>\n",
       "      <td>13.043041</td>\n",
       "      <td>77.813237</td>\n",
       "      <td>25-03-2022</td>\n",
       "      <td>19:45:00</td>\n",
       "      <td>19:50:00</td>\n",
       "      <td>conditions Stormy</td>\n",
       "      <td>Jam</td>\n",
       "      <td>2</td>\n",
       "      <td>Snack</td>\n",
       "      <td>scooter</td>\n",
       "      <td>1</td>\n",
       "      <td>No</td>\n",
       "      <td>Metropolitian</td>\n",
       "      <td>(min) 33</td>\n",
       "    </tr>\n",
       "    <tr>\n",
       "      <th>2</th>\n",
       "      <td>0x5d6d</td>\n",
       "      <td>BANGRES19DEL01</td>\n",
       "      <td>23</td>\n",
       "      <td>4.4</td>\n",
       "      <td>12.914264</td>\n",
       "      <td>77.678400</td>\n",
       "      <td>12.924264</td>\n",
       "      <td>77.688400</td>\n",
       "      <td>19-03-2022</td>\n",
       "      <td>08:30:00</td>\n",
       "      <td>08:45:00</td>\n",
       "      <td>conditions Sandstorms</td>\n",
       "      <td>Low</td>\n",
       "      <td>0</td>\n",
       "      <td>Drinks</td>\n",
       "      <td>motorcycle</td>\n",
       "      <td>1</td>\n",
       "      <td>No</td>\n",
       "      <td>Urban</td>\n",
       "      <td>(min) 26</td>\n",
       "    </tr>\n",
       "    <tr>\n",
       "      <th>3</th>\n",
       "      <td>0x7a6a</td>\n",
       "      <td>COIMBRES13DEL02</td>\n",
       "      <td>38</td>\n",
       "      <td>4.7</td>\n",
       "      <td>11.003669</td>\n",
       "      <td>76.976494</td>\n",
       "      <td>11.053669</td>\n",
       "      <td>77.026494</td>\n",
       "      <td>05-04-2022</td>\n",
       "      <td>18:00:00</td>\n",
       "      <td>18:10:00</td>\n",
       "      <td>conditions Sunny</td>\n",
       "      <td>Medium</td>\n",
       "      <td>0</td>\n",
       "      <td>Buffet</td>\n",
       "      <td>motorcycle</td>\n",
       "      <td>1</td>\n",
       "      <td>No</td>\n",
       "      <td>Metropolitian</td>\n",
       "      <td>(min) 21</td>\n",
       "    </tr>\n",
       "    <tr>\n",
       "      <th>4</th>\n",
       "      <td>0x70a2</td>\n",
       "      <td>CHENRES12DEL01</td>\n",
       "      <td>32</td>\n",
       "      <td>4.6</td>\n",
       "      <td>12.972793</td>\n",
       "      <td>80.249982</td>\n",
       "      <td>13.012793</td>\n",
       "      <td>80.289982</td>\n",
       "      <td>26-03-2022</td>\n",
       "      <td>13:30:00</td>\n",
       "      <td>13:45:00</td>\n",
       "      <td>conditions Cloudy</td>\n",
       "      <td>High</td>\n",
       "      <td>1</td>\n",
       "      <td>Snack</td>\n",
       "      <td>scooter</td>\n",
       "      <td>1</td>\n",
       "      <td>No</td>\n",
       "      <td>Metropolitian</td>\n",
       "      <td>(min) 30</td>\n",
       "    </tr>\n",
       "  </tbody>\n",
       "</table>\n",
       "</div>"
      ],
      "text/plain": [
       "        ID Delivery_person_ID Delivery_person_Age Delivery_person_Ratings  \\\n",
       "0  0x4607     INDORES13DEL02                   37                     4.9   \n",
       "1  0xb379     BANGRES18DEL02                   34                     4.5   \n",
       "2  0x5d6d     BANGRES19DEL01                   23                     4.4   \n",
       "3  0x7a6a    COIMBRES13DEL02                   38                     4.7   \n",
       "4  0x70a2     CHENRES12DEL01                   32                     4.6   \n",
       "\n",
       "   Restaurant_latitude  Restaurant_longitude  Delivery_location_latitude  \\\n",
       "0            22.745049             75.892471                   22.765049   \n",
       "1            12.913041             77.683237                   13.043041   \n",
       "2            12.914264             77.678400                   12.924264   \n",
       "3            11.003669             76.976494                   11.053669   \n",
       "4            12.972793             80.249982                   13.012793   \n",
       "\n",
       "   Delivery_location_longitude  Order_Date Time_Orderd Time_Order_picked  \\\n",
       "0                    75.912471  19-03-2022    11:30:00          11:45:00   \n",
       "1                    77.813237  25-03-2022    19:45:00          19:50:00   \n",
       "2                    77.688400  19-03-2022    08:30:00          08:45:00   \n",
       "3                    77.026494  05-04-2022    18:00:00          18:10:00   \n",
       "4                    80.289982  26-03-2022    13:30:00          13:45:00   \n",
       "\n",
       "       Weatherconditions Road_traffic_density  Vehicle_condition  \\\n",
       "0       conditions Sunny                High                   2   \n",
       "1      conditions Stormy                 Jam                   2   \n",
       "2  conditions Sandstorms                 Low                   0   \n",
       "3       conditions Sunny              Medium                   0   \n",
       "4      conditions Cloudy                High                   1   \n",
       "\n",
       "  Type_of_order Type_of_vehicle multiple_deliveries Festival            City  \\\n",
       "0        Snack      motorcycle                    0      No           Urban    \n",
       "1        Snack         scooter                    1      No   Metropolitian    \n",
       "2       Drinks      motorcycle                    1      No           Urban    \n",
       "3       Buffet      motorcycle                    1      No   Metropolitian    \n",
       "4        Snack         scooter                    1      No   Metropolitian    \n",
       "\n",
       "  Time_taken(min)  \n",
       "0        (min) 24  \n",
       "1        (min) 33  \n",
       "2        (min) 26  \n",
       "3        (min) 21  \n",
       "4        (min) 30  "
      ]
     },
     "execution_count": 3,
     "metadata": {},
     "output_type": "execute_result"
    }
   ],
   "source": [
    "df = pd.read_csv(r'dataset\\train.csv')\n",
    "df.head()"
   ]
  },
  {
   "cell_type": "markdown",
   "metadata": {},
   "source": [
    "## Prepocessing report:"
   ]
  },
  {
   "cell_type": "code",
   "execution_count": 4,
   "metadata": {},
   "outputs": [
    {
     "data": {
      "application/vnd.jupyter.widget-view+json": {
       "model_id": "8a40a368edfe4a81927422cac1132505",
       "version_major": 2,
       "version_minor": 0
      },
      "text/plain": [
       "Summarize dataset:   0%|          | 0/5 [00:00<?, ?it/s]"
      ]
     },
     "metadata": {},
     "output_type": "display_data"
    },
    {
     "data": {
      "application/vnd.jupyter.widget-view+json": {
       "model_id": "bcd463b71216475ba841d1b51c32dce1",
       "version_major": 2,
       "version_minor": 0
      },
      "text/plain": [
       "Generate report structure:   0%|          | 0/1 [00:00<?, ?it/s]"
      ]
     },
     "metadata": {},
     "output_type": "display_data"
    },
    {
     "data": {
      "application/vnd.jupyter.widget-view+json": {
       "model_id": "aba93cf922014c929f9ec348e3d0f2dc",
       "version_major": 2,
       "version_minor": 0
      },
      "text/plain": [
       "Render HTML:   0%|          | 0/1 [00:00<?, ?it/s]"
      ]
     },
     "metadata": {},
     "output_type": "display_data"
    },
    {
     "data": {
      "application/vnd.jupyter.widget-view+json": {
       "model_id": "c90461374de54d75b02df803f56f7a32",
       "version_major": 2,
       "version_minor": 0
      },
      "text/plain": [
       "Export report to file:   0%|          | 0/1 [00:00<?, ?it/s]"
      ]
     },
     "metadata": {},
     "output_type": "display_data"
    }
   ],
   "source": [
    "profile = ProfileReport(df)\n",
    "profile.to_file('pre.html')"
   ]
  },
  {
   "cell_type": "markdown",
   "metadata": {},
   "source": [
    "## Data Cleaning:\n",
    "Converting `'NaN '` variable into `np.nan`"
   ]
  },
  {
   "cell_type": "code",
   "execution_count": 5,
   "metadata": {},
   "outputs": [],
   "source": [
    "df = df.replace('NaN ', np.nan)\n",
    "df = df.dropna()"
   ]
  },
  {
   "cell_type": "code",
   "execution_count": 6,
   "metadata": {},
   "outputs": [
    {
     "data": {
      "text/plain": [
       "Index(['ID', 'Delivery_person_ID', 'Delivery_person_Age',\n",
       "       'Delivery_person_Ratings', 'Restaurant_latitude',\n",
       "       'Restaurant_longitude', 'Delivery_location_latitude',\n",
       "       'Delivery_location_longitude', 'Order_Date', 'Time_Orderd',\n",
       "       'Time_Order_picked', 'Weatherconditions', 'Road_traffic_density',\n",
       "       'Vehicle_condition', 'Type_of_order', 'Type_of_vehicle',\n",
       "       'multiple_deliveries', 'Festival', 'City', 'Time_taken(min)'],\n",
       "      dtype='object')"
      ]
     },
     "execution_count": 6,
     "metadata": {},
     "output_type": "execute_result"
    }
   ],
   "source": [
    "df.columns"
   ]
  },
  {
   "cell_type": "markdown",
   "metadata": {},
   "source": [
    "Drop unwanted Columns:"
   ]
  },
  {
   "cell_type": "code",
   "execution_count": 7,
   "metadata": {},
   "outputs": [],
   "source": [
    "df = df.drop([\n",
    "    'ID', \n",
    "    'Delivery_person_ID',\n",
    "    'Restaurant_latitude',\n",
    "    'Restaurant_longitude',\n",
    "    'Delivery_location_latitude',\n",
    "    'Delivery_location_longitude'\n",
    "    ], axis=1)"
   ]
  },
  {
   "cell_type": "code",
   "execution_count": 8,
   "metadata": {},
   "outputs": [
    {
     "name": "stdout",
     "output_type": "stream",
     "text": [
      "<class 'pandas.core.frame.DataFrame'>\n",
      "Int64Index: 41368 entries, 0 to 45592\n",
      "Data columns (total 14 columns):\n",
      " #   Column                   Non-Null Count  Dtype \n",
      "---  ------                   --------------  ----- \n",
      " 0   Delivery_person_Age      41368 non-null  object\n",
      " 1   Delivery_person_Ratings  41368 non-null  object\n",
      " 2   Order_Date               41368 non-null  object\n",
      " 3   Time_Orderd              41368 non-null  object\n",
      " 4   Time_Order_picked        41368 non-null  object\n",
      " 5   Weatherconditions        41368 non-null  object\n",
      " 6   Road_traffic_density     41368 non-null  object\n",
      " 7   Vehicle_condition        41368 non-null  int64 \n",
      " 8   Type_of_order            41368 non-null  object\n",
      " 9   Type_of_vehicle          41368 non-null  object\n",
      " 10  multiple_deliveries      41368 non-null  object\n",
      " 11  Festival                 41368 non-null  object\n",
      " 12  City                     41368 non-null  object\n",
      " 13  Time_taken(min)          41368 non-null  object\n",
      "dtypes: int64(1), object(13)\n",
      "memory usage: 4.7+ MB\n"
     ]
    },
    {
     "data": {
      "text/plain": [
       "(Index(['Delivery_person_Age', 'Delivery_person_Ratings', 'Order_Date',\n",
       "        'Time_Orderd', 'Time_Order_picked', 'Weatherconditions',\n",
       "        'Road_traffic_density', 'Vehicle_condition', 'Type_of_order',\n",
       "        'Type_of_vehicle', 'multiple_deliveries', 'Festival', 'City',\n",
       "        'Time_taken(min)'],\n",
       "       dtype='object'),\n",
       " None)"
      ]
     },
     "execution_count": 8,
     "metadata": {},
     "output_type": "execute_result"
    }
   ],
   "source": [
    "df.columns, df.info()"
   ]
  },
  {
   "cell_type": "markdown",
   "metadata": {},
   "source": [
    "Unique values of each columns:"
   ]
  },
  {
   "cell_type": "code",
   "execution_count": 9,
   "metadata": {},
   "outputs": [
    {
     "name": "stdout",
     "output_type": "stream",
     "text": [
      "Delivery_person_Age:\n",
      "['37' '34' '23' '38' '32' '22' '33' '35' '36' '21' '24' '29' '25' '31'\n",
      " '27' '26' '20' '28' '39' '30']\n",
      "----------------------------\n",
      "Delivery_person_Ratings:\n",
      "['4.9' '4.5' '4.4' '4.7' '4.6' '4.8' '4.2' '4.3' '4' '4.1' '5' '3.5' '3.8'\n",
      " '3.9' '3.7' '2.6' '2.5' '3.6' '3.1' '2.7' '3.2' '3.3' '3.4' '2.8' '2.9'\n",
      " '3']\n",
      "----------------------------\n",
      "Order_Date:\n",
      "['19-03-2022' '25-03-2022' '05-04-2022' '26-03-2022' '11-03-2022'\n",
      " '04-03-2022' '14-03-2022' '20-03-2022' '12-02-2022' '13-02-2022'\n",
      " '14-02-2022' '02-04-2022' '01-03-2022' '16-03-2022' '15-02-2022'\n",
      " '10-03-2022' '27-03-2022' '12-03-2022' '01-04-2022' '05-03-2022'\n",
      " '11-02-2022' '08-03-2022' '03-04-2022' '30-03-2022' '28-03-2022'\n",
      " '18-03-2022' '04-04-2022' '24-03-2022' '09-03-2022' '02-03-2022'\n",
      " '13-03-2022' '29-03-2022' '31-03-2022' '17-03-2022' '07-03-2022'\n",
      " '15-03-2022' '16-02-2022' '18-02-2022' '23-03-2022' '03-03-2022'\n",
      " '06-03-2022' '21-03-2022' '06-04-2022' '17-02-2022']\n",
      "----------------------------\n",
      "Time_Orderd:\n",
      "['11:30:00' '19:45:00' '08:30:00' '18:00:00' '13:30:00' '21:20:00'\n",
      " '19:15:00' '17:25:00' '20:55:00' '21:55:00' '14:55:00' '17:30:00'\n",
      " '09:20:00' '19:50:00' '20:25:00' '20:30:00' '21:15:00' '20:20:00'\n",
      " '22:30:00' '08:15:00' '19:30:00' '12:25:00' '18:35:00' '20:35:00'\n",
      " '23:20:00' '23:35:00' '22:35:00' '23:25:00' '13:35:00' '21:35:00'\n",
      " '18:55:00' '14:15:00' '11:00:00' '09:45:00' '08:40:00' '23:00:00'\n",
      " '19:10:00' '10:55:00' '21:40:00' '19:00:00' '16:45:00' '15:10:00'\n",
      " '22:45:00' '22:10:00' '20:45:00' '22:50:00' '17:55:00' '20:15:00'\n",
      " '22:25:00' '22:40:00' '23:50:00' '15:25:00' '10:20:00' '10:40:00'\n",
      " '15:55:00' '20:10:00' '12:10:00' '15:30:00' '10:35:00' '21:10:00'\n",
      " '20:50:00' '12:35:00' '21:00:00' '23:40:00' '18:15:00' '18:20:00'\n",
      " '11:45:00' '12:45:00' '23:30:00' '10:50:00' '21:25:00' '10:10:00'\n",
      " '17:50:00' '22:20:00' '12:40:00' '23:55:00' '10:25:00' '08:45:00'\n",
      " '23:45:00' '19:55:00' '22:15:00' '23:10:00' '18:25:00' '18:45:00'\n",
      " '16:50:00' '00:00:00' '14:20:00' '10:15:00' '08:50:00' '09:00:00'\n",
      " '17:45:00' '16:35:00' '21:45:00' '14:50:00' '18:10:00' '12:20:00'\n",
      " '12:50:00' '09:10:00' '12:30:00' '17:10:00' '20:40:00' '17:20:00'\n",
      " '18:30:00' '13:10:00' '19:35:00' '09:50:00' '20:00:00' '10:30:00'\n",
      " '09:40:00' '15:35:00' '16:55:00' '22:55:00' '16:00:00' '17:15:00'\n",
      " '21:30:00' '18:40:00' '11:10:00' '13:50:00' '21:50:00' '11:50:00'\n",
      " '22:00:00' '08:25:00' '11:20:00' '11:55:00' '09:30:00' '08:20:00'\n",
      " '08:10:00' '11:40:00' '23:15:00' '19:20:00' '12:15:00' '09:25:00'\n",
      " '11:35:00' '10:00:00' '15:00:00' '17:35:00' '17:40:00' '14:40:00'\n",
      " '18:50:00' '11:25:00' '19:40:00' '14:25:00' '12:00:00' '16:10:00'\n",
      " '19:25:00' '08:55:00' '13:40:00' '17:00:00' '09:35:00' '08:35:00'\n",
      " '11:15:00' '16:15:00' '09:15:00' '13:20:00' '15:50:00' '15:20:00'\n",
      " '16:20:00' '14:30:00' '15:45:00' '13:00:00' '12:55:00' '10:45:00'\n",
      " '13:25:00' '09:55:00' '15:15:00' '13:15:00' '14:00:00' '15:40:00'\n",
      " '16:25:00' '14:10:00' '13:45:00' '13:55:00' '16:40:00' '14:35:00'\n",
      " '16:30:00' '14:45:00']\n",
      "----------------------------\n",
      "Time_Order_picked:\n",
      "['11:45:00' '19:50:00' '08:45:00' '18:10:00' '13:45:00' '21:30:00'\n",
      " '19:30:00' '17:30:00' '21:05:00' '22:10:00' '15:05:00' '17:40:00'\n",
      " '09:30:00' '20:05:00' '20:35:00' '15:10:00' '20:40:00' '20:25:00'\n",
      " '22:45:00' '08:30:00' '19:45:00' '12:30:00' '18:50:00' '23:30:00'\n",
      " '21:35:00' '23:45:00' '22:50:00' '22:40:00' '23:35:00' '13:40:00'\n",
      " '21:45:00' '19:10:00' '14:25:00' '11:10:00' '09:55:00' '08:55:00'\n",
      " '23:10:00' '19:25:00' '11:00:00' '19:15:00' '16:55:00' '11:40:00'\n",
      " '15:15:00' '22:55:00' '22:25:00' '20:55:00' '23:05:00' '18:00:00'\n",
      " '23:00:00' '20:50:00' '20:20:00' '22:35:00' '22:00:00' '23:55:00'\n",
      " '15:40:00' '10:30:00' '21:00:00' '10:50:00' '16:05:00' '20:15:00'\n",
      " '12:15:00' '15:45:00' '22:15:00' '10:45:00' '00:05:00' '21:25:00'\n",
      " '12:45:00' '21:15:00' '18:20:00' '18:25:00' '11:50:00' '12:50:00'\n",
      " '10:55:00' '21:40:00' '10:20:00' '17:55:00' '23:50:00' '12:55:00'\n",
      " '00:10:00' '10:40:00' '09:00:00' '20:45:00' '20:00:00' '23:15:00'\n",
      " '18:35:00' '22:20:00' '17:00:00' '00:15:00' '21:20:00' '14:35:00'\n",
      " '10:25:00' '09:05:00' '16:50:00' '08:40:00' '23:40:00' '21:50:00'\n",
      " '15:00:00' '10:35:00' '09:25:00' '17:20:00' '17:25:00' '20:10:00'\n",
      " '00:00:00' '17:35:00' '19:00:00' '19:05:00' '13:20:00' '18:05:00'\n",
      " '19:20:00' '10:05:00' '09:10:00' '21:55:00' '19:40:00' '09:50:00'\n",
      " '15:50:00' '18:30:00' '18:15:00' '16:15:00' '11:15:00' '21:10:00'\n",
      " '15:30:00' '22:30:00' '15:20:00' '23:20:00' '11:25:00' '13:55:00'\n",
      " '18:45:00' '22:05:00' '11:55:00' '18:55:00' '18:40:00' '09:45:00'\n",
      " '17:15:00' '12:05:00' '12:00:00' '19:35:00' '08:25:00' '11:05:00'\n",
      " '12:40:00' '12:25:00' '08:20:00' '23:25:00' '16:10:00' '17:50:00'\n",
      " '08:15:00' '09:40:00' '20:30:00' '08:50:00' '14:45:00' '17:45:00'\n",
      " '10:00:00' '08:35:00' '19:55:00' '11:35:00' '11:20:00' '14:30:00'\n",
      " '12:10:00' '10:15:00' '17:05:00' '10:10:00' '11:30:00' '16:25:00'\n",
      " '13:35:00' '09:15:00' '15:55:00' '13:00:00' '15:35:00' '13:10:00'\n",
      " '13:05:00' '09:35:00' '16:20:00' '16:30:00' '16:45:00' '09:20:00'\n",
      " '13:25:00' '14:15:00' '16:35:00' '16:40:00' '14:05:00' '13:30:00'\n",
      " '14:40:00' '12:20:00' '13:50:00' '17:10:00' '14:20:00' '12:35:00'\n",
      " '14:00:00' '14:10:00' '15:25:00' '14:55:00' '13:15:00' '14:50:00'\n",
      " '16:00:00']\n",
      "----------------------------\n",
      "Weatherconditions:\n",
      "['conditions Sunny' 'conditions Stormy' 'conditions Sandstorms'\n",
      " 'conditions Cloudy' 'conditions Fog' 'conditions Windy']\n",
      "----------------------------\n",
      "Road_traffic_density:\n",
      "['High ' 'Jam ' 'Low ' 'Medium ']\n",
      "----------------------------\n",
      "Vehicle_condition:\n",
      "[2 0 1]\n",
      "----------------------------\n",
      "Type_of_order:\n",
      "['Snack ' 'Drinks ' 'Buffet ' 'Meal ']\n",
      "----------------------------\n",
      "Type_of_vehicle:\n",
      "['motorcycle ' 'scooter ' 'electric_scooter ']\n",
      "----------------------------\n",
      "multiple_deliveries:\n",
      "['0' '1' '3' '2']\n",
      "----------------------------\n",
      "Festival:\n",
      "['No ' 'Yes ']\n",
      "----------------------------\n",
      "City:\n",
      "['Urban ' 'Metropolitian ' 'Semi-Urban ']\n",
      "----------------------------\n",
      "Time_taken(min):\n",
      "['(min) 24' '(min) 33' '(min) 26' '(min) 21' '(min) 30' '(min) 40'\n",
      " '(min) 32' '(min) 34' '(min) 46' '(min) 23' '(min) 20' '(min) 41'\n",
      " '(min) 15' '(min) 36' '(min) 39' '(min) 18' '(min) 38' '(min) 47'\n",
      " '(min) 12' '(min) 22' '(min) 25' '(min) 35' '(min) 10' '(min) 19'\n",
      " '(min) 11' '(min) 28' '(min) 52' '(min) 16' '(min) 27' '(min) 49'\n",
      " '(min) 17' '(min) 14' '(min) 37' '(min) 44' '(min) 42' '(min) 31'\n",
      " '(min) 13' '(min) 29' '(min) 50' '(min) 43' '(min) 48' '(min) 54'\n",
      " '(min) 53' '(min) 45' '(min) 51']\n",
      "----------------------------\n"
     ]
    }
   ],
   "source": [
    "for i in df.columns:\n",
    "    print(f'{i}:')\n",
    "    print(df[i].unique())\n",
    "    print('----------------------------')"
   ]
  },
  {
   "cell_type": "markdown",
   "metadata": {},
   "source": [
    "Cleaning:"
   ]
  },
  {
   "cell_type": "code",
   "execution_count": 10,
   "metadata": {},
   "outputs": [],
   "source": [
    "df.Delivery_person_Age = df.Delivery_person_Age.astype(int)\n",
    "df.Delivery_person_Ratings = df.Delivery_person_Ratings.astype(float)\n",
    "def dateconv(x):\n",
    "    date = list(map(int, x.split('-')))\n",
    "    return dt.date(day=date[0], month=date[1], year=date[2])\n",
    "df.Order_Date = df.Order_Date.apply(dateconv)\n",
    "def timeconv(x):\n",
    "    time = list(map(int, x.split(':')))\n",
    "    return dt.time(hour=time[0], minute=time[1], second=time[2])\n",
    "df.Time_Orderd = df.Time_Orderd.apply(timeconv)\n",
    "df.Time_Order_picked = df.Time_Order_picked.apply(timeconv)\n",
    "df.Weatherconditions = df.Weatherconditions.apply(lambda x: x.split(' ')[1])\n",
    "df.Vehicle_condition = df.Vehicle_condition.astype(int)\n",
    "df.multiple_deliveries = df.multiple_deliveries.astype(int)\n",
    "def festival(x):\n",
    "    if x == 'No ':\n",
    "        return 0\n",
    "    else:\n",
    "        return 1\n",
    "df.Festival = df.Festival.apply(festival)\n",
    "df['Time_taken(min)'] = df['Time_taken(min)'].apply(lambda x: int(re.findall('[\\d]+', x)[0]))"
   ]
  },
  {
   "cell_type": "code",
   "execution_count": 11,
   "metadata": {},
   "outputs": [
    {
     "name": "stdout",
     "output_type": "stream",
     "text": [
      "<class 'pandas.core.frame.DataFrame'>\n",
      "Int64Index: 41368 entries, 0 to 45592\n",
      "Data columns (total 14 columns):\n",
      " #   Column                   Non-Null Count  Dtype  \n",
      "---  ------                   --------------  -----  \n",
      " 0   Delivery_person_Age      41368 non-null  int32  \n",
      " 1   Delivery_person_Ratings  41368 non-null  float64\n",
      " 2   Order_Date               41368 non-null  object \n",
      " 3   Time_Orderd              41368 non-null  object \n",
      " 4   Time_Order_picked        41368 non-null  object \n",
      " 5   Weatherconditions        41368 non-null  object \n",
      " 6   Road_traffic_density     41368 non-null  object \n",
      " 7   Vehicle_condition        41368 non-null  int32  \n",
      " 8   Type_of_order            41368 non-null  object \n",
      " 9   Type_of_vehicle          41368 non-null  object \n",
      " 10  multiple_deliveries      41368 non-null  int32  \n",
      " 11  Festival                 41368 non-null  int64  \n",
      " 12  City                     41368 non-null  object \n",
      " 13  Time_taken(min)          41368 non-null  int64  \n",
      "dtypes: float64(1), int32(3), int64(2), object(8)\n",
      "memory usage: 4.3+ MB\n"
     ]
    }
   ],
   "source": [
    "df.info()"
   ]
  },
  {
   "cell_type": "code",
   "execution_count": 12,
   "metadata": {},
   "outputs": [
    {
     "data": {
      "text/html": [
       "<div>\n",
       "<style scoped>\n",
       "    .dataframe tbody tr th:only-of-type {\n",
       "        vertical-align: middle;\n",
       "    }\n",
       "\n",
       "    .dataframe tbody tr th {\n",
       "        vertical-align: top;\n",
       "    }\n",
       "\n",
       "    .dataframe thead th {\n",
       "        text-align: right;\n",
       "    }\n",
       "</style>\n",
       "<table border=\"1\" class=\"dataframe\">\n",
       "  <thead>\n",
       "    <tr style=\"text-align: right;\">\n",
       "      <th></th>\n",
       "      <th>Delivery_person_Age</th>\n",
       "      <th>Delivery_person_Ratings</th>\n",
       "      <th>Order_Date</th>\n",
       "      <th>Time_Orderd</th>\n",
       "      <th>Time_Order_picked</th>\n",
       "      <th>Weatherconditions</th>\n",
       "      <th>Road_traffic_density</th>\n",
       "      <th>Vehicle_condition</th>\n",
       "      <th>Type_of_order</th>\n",
       "      <th>Type_of_vehicle</th>\n",
       "      <th>multiple_deliveries</th>\n",
       "      <th>Festival</th>\n",
       "      <th>City</th>\n",
       "      <th>Time_taken(min)</th>\n",
       "    </tr>\n",
       "  </thead>\n",
       "  <tbody>\n",
       "    <tr>\n",
       "      <th>0</th>\n",
       "      <td>37</td>\n",
       "      <td>4.9</td>\n",
       "      <td>2022-03-19</td>\n",
       "      <td>11:30:00</td>\n",
       "      <td>11:45:00</td>\n",
       "      <td>Sunny</td>\n",
       "      <td>High</td>\n",
       "      <td>2</td>\n",
       "      <td>Snack</td>\n",
       "      <td>motorcycle</td>\n",
       "      <td>0</td>\n",
       "      <td>0</td>\n",
       "      <td>Urban</td>\n",
       "      <td>24</td>\n",
       "    </tr>\n",
       "    <tr>\n",
       "      <th>1</th>\n",
       "      <td>34</td>\n",
       "      <td>4.5</td>\n",
       "      <td>2022-03-25</td>\n",
       "      <td>19:45:00</td>\n",
       "      <td>19:50:00</td>\n",
       "      <td>Stormy</td>\n",
       "      <td>Jam</td>\n",
       "      <td>2</td>\n",
       "      <td>Snack</td>\n",
       "      <td>scooter</td>\n",
       "      <td>1</td>\n",
       "      <td>0</td>\n",
       "      <td>Metropolitian</td>\n",
       "      <td>33</td>\n",
       "    </tr>\n",
       "    <tr>\n",
       "      <th>2</th>\n",
       "      <td>23</td>\n",
       "      <td>4.4</td>\n",
       "      <td>2022-03-19</td>\n",
       "      <td>08:30:00</td>\n",
       "      <td>08:45:00</td>\n",
       "      <td>Sandstorms</td>\n",
       "      <td>Low</td>\n",
       "      <td>0</td>\n",
       "      <td>Drinks</td>\n",
       "      <td>motorcycle</td>\n",
       "      <td>1</td>\n",
       "      <td>0</td>\n",
       "      <td>Urban</td>\n",
       "      <td>26</td>\n",
       "    </tr>\n",
       "    <tr>\n",
       "      <th>3</th>\n",
       "      <td>38</td>\n",
       "      <td>4.7</td>\n",
       "      <td>2022-04-05</td>\n",
       "      <td>18:00:00</td>\n",
       "      <td>18:10:00</td>\n",
       "      <td>Sunny</td>\n",
       "      <td>Medium</td>\n",
       "      <td>0</td>\n",
       "      <td>Buffet</td>\n",
       "      <td>motorcycle</td>\n",
       "      <td>1</td>\n",
       "      <td>0</td>\n",
       "      <td>Metropolitian</td>\n",
       "      <td>21</td>\n",
       "    </tr>\n",
       "    <tr>\n",
       "      <th>4</th>\n",
       "      <td>32</td>\n",
       "      <td>4.6</td>\n",
       "      <td>2022-03-26</td>\n",
       "      <td>13:30:00</td>\n",
       "      <td>13:45:00</td>\n",
       "      <td>Cloudy</td>\n",
       "      <td>High</td>\n",
       "      <td>1</td>\n",
       "      <td>Snack</td>\n",
       "      <td>scooter</td>\n",
       "      <td>1</td>\n",
       "      <td>0</td>\n",
       "      <td>Metropolitian</td>\n",
       "      <td>30</td>\n",
       "    </tr>\n",
       "  </tbody>\n",
       "</table>\n",
       "</div>"
      ],
      "text/plain": [
       "   Delivery_person_Age  Delivery_person_Ratings  Order_Date Time_Orderd  \\\n",
       "0                   37                      4.9  2022-03-19    11:30:00   \n",
       "1                   34                      4.5  2022-03-25    19:45:00   \n",
       "2                   23                      4.4  2022-03-19    08:30:00   \n",
       "3                   38                      4.7  2022-04-05    18:00:00   \n",
       "4                   32                      4.6  2022-03-26    13:30:00   \n",
       "\n",
       "  Time_Order_picked Weatherconditions Road_traffic_density  Vehicle_condition  \\\n",
       "0          11:45:00             Sunny                High                   2   \n",
       "1          19:50:00            Stormy                 Jam                   2   \n",
       "2          08:45:00        Sandstorms                 Low                   0   \n",
       "3          18:10:00             Sunny              Medium                   0   \n",
       "4          13:45:00            Cloudy                High                   1   \n",
       "\n",
       "  Type_of_order Type_of_vehicle  multiple_deliveries  Festival  \\\n",
       "0        Snack      motorcycle                     0         0   \n",
       "1        Snack         scooter                     1         0   \n",
       "2       Drinks      motorcycle                     1         0   \n",
       "3       Buffet      motorcycle                     1         0   \n",
       "4        Snack         scooter                     1         0   \n",
       "\n",
       "             City  Time_taken(min)  \n",
       "0          Urban                24  \n",
       "1  Metropolitian                33  \n",
       "2          Urban                26  \n",
       "3  Metropolitian                21  \n",
       "4  Metropolitian                30  "
      ]
     },
     "execution_count": 12,
     "metadata": {},
     "output_type": "execute_result"
    }
   ],
   "source": [
    "df.head()"
   ]
  },
  {
   "cell_type": "markdown",
   "metadata": {},
   "source": [
    "## Post processing report:"
   ]
  },
  {
   "cell_type": "code",
   "execution_count": 13,
   "metadata": {},
   "outputs": [
    {
     "data": {
      "application/vnd.jupyter.widget-view+json": {
       "model_id": "6d543cace95f4f2c8eb89f6c3d3c8639",
       "version_major": 2,
       "version_minor": 0
      },
      "text/plain": [
       "Summarize dataset:   0%|          | 0/5 [00:00<?, ?it/s]"
      ]
     },
     "metadata": {},
     "output_type": "display_data"
    },
    {
     "data": {
      "application/vnd.jupyter.widget-view+json": {
       "model_id": "3f3301bf28ad4f75adc49b59847fbc42",
       "version_major": 2,
       "version_minor": 0
      },
      "text/plain": [
       "Generate report structure:   0%|          | 0/1 [00:00<?, ?it/s]"
      ]
     },
     "metadata": {},
     "output_type": "display_data"
    },
    {
     "data": {
      "application/vnd.jupyter.widget-view+json": {
       "model_id": "9e1643fe7c4b45e28ec417ccfd6289b2",
       "version_major": 2,
       "version_minor": 0
      },
      "text/plain": [
       "Render HTML:   0%|          | 0/1 [00:00<?, ?it/s]"
      ]
     },
     "metadata": {},
     "output_type": "display_data"
    },
    {
     "data": {
      "application/vnd.jupyter.widget-view+json": {
       "model_id": "cb5a4a767039448c80750006ee1b03d7",
       "version_major": 2,
       "version_minor": 0
      },
      "text/plain": [
       "Export report to file:   0%|          | 0/1 [00:00<?, ?it/s]"
      ]
     },
     "metadata": {},
     "output_type": "display_data"
    }
   ],
   "source": [
    "profile = ProfileReport(df)\n",
    "profile.to_file('post.html')"
   ]
  },
  {
   "cell_type": "markdown",
   "metadata": {},
   "source": [
    "## Seaborn pairplot:"
   ]
  },
  {
   "cell_type": "code",
   "execution_count": 14,
   "metadata": {},
   "outputs": [
    {
     "data": {
      "image/png": "[encoded data removed]",
      "text/plain": [
       "<Figure size 1080x1080 with 42 Axes>"
      ]
     },
     "metadata": {},
     "output_type": "display_data"
    }
   ],
   "source": [
    "sns.pairplot(df);"
   ]
  },
  {
   "cell_type": "markdown",
   "metadata": {},
   "source": [
    "## Group By Delivery_person_Age:"
   ]
  },
  {
   "cell_type": "code",
   "execution_count": 15,
   "metadata": {},
   "outputs": [
    {
     "data": {
      "text/html": [
       "<div>\n",
       "<style scoped>\n",
       "    .dataframe tbody tr th:only-of-type {\n",
       "        vertical-align: middle;\n",
       "    }\n",
       "\n",
       "    .dataframe tbody tr th {\n",
       "        vertical-align: top;\n",
       "    }\n",
       "\n",
       "    .dataframe thead th {\n",
       "        text-align: right;\n",
       "    }\n",
       "</style>\n",
       "<table border=\"1\" class=\"dataframe\">\n",
       "  <thead>\n",
       "    <tr style=\"text-align: right;\">\n",
       "      <th></th>\n",
       "      <th>Delivery_person_Ratings</th>\n",
       "      <th>Vehicle_condition</th>\n",
       "      <th>multiple_deliveries</th>\n",
       "      <th>Festival</th>\n",
       "      <th>Time_taken(min)</th>\n",
       "    </tr>\n",
       "    <tr>\n",
       "      <th>Delivery_person_Age</th>\n",
       "      <th></th>\n",
       "      <th></th>\n",
       "      <th></th>\n",
       "      <th></th>\n",
       "      <th></th>\n",
       "    </tr>\n",
       "  </thead>\n",
       "  <tbody>\n",
       "    <tr>\n",
       "      <th>20</th>\n",
       "      <td>4.679129</td>\n",
       "      <td>1.007007</td>\n",
       "      <td>0.665666</td>\n",
       "      <td>0.010511</td>\n",
       "      <td>23.165666</td>\n",
       "    </tr>\n",
       "    <tr>\n",
       "      <th>21</th>\n",
       "      <td>4.680453</td>\n",
       "      <td>0.968488</td>\n",
       "      <td>0.671098</td>\n",
       "      <td>0.010340</td>\n",
       "      <td>23.240768</td>\n",
       "    </tr>\n",
       "    <tr>\n",
       "      <th>22</th>\n",
       "      <td>4.670381</td>\n",
       "      <td>0.993247</td>\n",
       "      <td>0.682586</td>\n",
       "      <td>0.010613</td>\n",
       "      <td>23.246503</td>\n",
       "    </tr>\n",
       "    <tr>\n",
       "      <th>23</th>\n",
       "      <td>4.683037</td>\n",
       "      <td>0.997461</td>\n",
       "      <td>0.683596</td>\n",
       "      <td>0.008126</td>\n",
       "      <td>23.510411</td>\n",
       "    </tr>\n",
       "    <tr>\n",
       "      <th>24</th>\n",
       "      <td>4.673917</td>\n",
       "      <td>1.024818</td>\n",
       "      <td>0.654501</td>\n",
       "      <td>0.014599</td>\n",
       "      <td>23.428710</td>\n",
       "    </tr>\n",
       "    <tr>\n",
       "      <th>25</th>\n",
       "      <td>4.669406</td>\n",
       "      <td>0.986139</td>\n",
       "      <td>0.672277</td>\n",
       "      <td>0.007921</td>\n",
       "      <td>23.181683</td>\n",
       "    </tr>\n",
       "    <tr>\n",
       "      <th>26</th>\n",
       "      <td>4.676093</td>\n",
       "      <td>1.000497</td>\n",
       "      <td>0.665507</td>\n",
       "      <td>0.009940</td>\n",
       "      <td>23.273857</td>\n",
       "    </tr>\n",
       "    <tr>\n",
       "      <th>27</th>\n",
       "      <td>4.674181</td>\n",
       "      <td>0.982622</td>\n",
       "      <td>0.665839</td>\n",
       "      <td>0.011420</td>\n",
       "      <td>23.315293</td>\n",
       "    </tr>\n",
       "    <tr>\n",
       "      <th>28</th>\n",
       "      <td>4.683609</td>\n",
       "      <td>0.994163</td>\n",
       "      <td>0.685798</td>\n",
       "      <td>0.009728</td>\n",
       "      <td>23.437257</td>\n",
       "    </tr>\n",
       "    <tr>\n",
       "      <th>29</th>\n",
       "      <td>4.671316</td>\n",
       "      <td>1.003438</td>\n",
       "      <td>0.677308</td>\n",
       "      <td>0.007859</td>\n",
       "      <td>23.207269</td>\n",
       "    </tr>\n",
       "    <tr>\n",
       "      <th>30</th>\n",
       "      <td>4.596724</td>\n",
       "      <td>1.003276</td>\n",
       "      <td>0.825924</td>\n",
       "      <td>0.032288</td>\n",
       "      <td>29.286383</td>\n",
       "    </tr>\n",
       "    <tr>\n",
       "      <th>31</th>\n",
       "      <td>4.582382</td>\n",
       "      <td>0.975886</td>\n",
       "      <td>0.796752</td>\n",
       "      <td>0.027067</td>\n",
       "      <td>29.767717</td>\n",
       "    </tr>\n",
       "    <tr>\n",
       "      <th>32</th>\n",
       "      <td>4.581238</td>\n",
       "      <td>0.973062</td>\n",
       "      <td>0.825614</td>\n",
       "      <td>0.029301</td>\n",
       "      <td>30.024575</td>\n",
       "    </tr>\n",
       "    <tr>\n",
       "      <th>33</th>\n",
       "      <td>4.594383</td>\n",
       "      <td>1.032165</td>\n",
       "      <td>0.827172</td>\n",
       "      <td>0.032165</td>\n",
       "      <td>29.682669</td>\n",
       "    </tr>\n",
       "    <tr>\n",
       "      <th>34</th>\n",
       "      <td>4.591919</td>\n",
       "      <td>0.982684</td>\n",
       "      <td>0.820587</td>\n",
       "      <td>0.035594</td>\n",
       "      <td>29.687350</td>\n",
       "    </tr>\n",
       "    <tr>\n",
       "      <th>35</th>\n",
       "      <td>4.592287</td>\n",
       "      <td>1.014692</td>\n",
       "      <td>0.821396</td>\n",
       "      <td>0.027548</td>\n",
       "      <td>29.729568</td>\n",
       "    </tr>\n",
       "    <tr>\n",
       "      <th>36</th>\n",
       "      <td>4.598517</td>\n",
       "      <td>0.970343</td>\n",
       "      <td>0.805839</td>\n",
       "      <td>0.028730</td>\n",
       "      <td>29.693234</td>\n",
       "    </tr>\n",
       "    <tr>\n",
       "      <th>37</th>\n",
       "      <td>4.602152</td>\n",
       "      <td>1.007016</td>\n",
       "      <td>0.808700</td>\n",
       "      <td>0.023854</td>\n",
       "      <td>29.447147</td>\n",
       "    </tr>\n",
       "    <tr>\n",
       "      <th>38</th>\n",
       "      <td>4.594526</td>\n",
       "      <td>1.013686</td>\n",
       "      <td>0.835772</td>\n",
       "      <td>0.028787</td>\n",
       "      <td>29.606890</td>\n",
       "    </tr>\n",
       "    <tr>\n",
       "      <th>39</th>\n",
       "      <td>4.585078</td>\n",
       "      <td>0.985950</td>\n",
       "      <td>0.840601</td>\n",
       "      <td>0.032461</td>\n",
       "      <td>29.853682</td>\n",
       "    </tr>\n",
       "  </tbody>\n",
       "</table>\n",
       "</div>"
      ],
      "text/plain": [
       "                     Delivery_person_Ratings  Vehicle_condition  \\\n",
       "Delivery_person_Age                                               \n",
       "20                                  4.679129           1.007007   \n",
       "21                                  4.680453           0.968488   \n",
       "22                                  4.670381           0.993247   \n",
       "23                                  4.683037           0.997461   \n",
       "24                                  4.673917           1.024818   \n",
       "25                                  4.669406           0.986139   \n",
       "26                                  4.676093           1.000497   \n",
       "27                                  4.674181           0.982622   \n",
       "28                                  4.683609           0.994163   \n",
       "29                                  4.671316           1.003438   \n",
       "30                                  4.596724           1.003276   \n",
       "31                                  4.582382           0.975886   \n",
       "32                                  4.581238           0.973062   \n",
       "33                                  4.594383           1.032165   \n",
       "34                                  4.591919           0.982684   \n",
       "35                                  4.592287           1.014692   \n",
       "36                                  4.598517           0.970343   \n",
       "37                                  4.602152           1.007016   \n",
       "38                                  4.594526           1.013686   \n",
       "39                                  4.585078           0.985950   \n",
       "\n",
       "                     multiple_deliveries  Festival  Time_taken(min)  \n",
       "Delivery_person_Age                                                  \n",
       "20                              0.665666  0.010511        23.165666  \n",
       "21                              0.671098  0.010340        23.240768  \n",
       "22                              0.682586  0.010613        23.246503  \n",
       "23                              0.683596  0.008126        23.510411  \n",
       "24                              0.654501  0.014599        23.428710  \n",
       "25                              0.672277  0.007921        23.181683  \n",
       "26                              0.665507  0.009940        23.273857  \n",
       "27                              0.665839  0.011420        23.315293  \n",
       "28                              0.685798  0.009728        23.437257  \n",
       "29                              0.677308  0.007859        23.207269  \n",
       "30                              0.825924  0.032288        29.286383  \n",
       "31                              0.796752  0.027067        29.767717  \n",
       "32                              0.825614  0.029301        30.024575  \n",
       "33                              0.827172  0.032165        29.682669  \n",
       "34                              0.820587  0.035594        29.687350  \n",
       "35                              0.821396  0.027548        29.729568  \n",
       "36                              0.805839  0.028730        29.693234  \n",
       "37                              0.808700  0.023854        29.447147  \n",
       "38                              0.835772  0.028787        29.606890  \n",
       "39                              0.840601  0.032461        29.853682  "
      ]
     },
     "execution_count": 15,
     "metadata": {},
     "output_type": "execute_result"
    }
   ],
   "source": [
    "df1 = df.groupby('Delivery_person_Age').mean()\n",
    "df1"
   ]
  },
  {
   "cell_type": "code",
   "execution_count": 16,
   "metadata": {},
   "outputs": [
    {
     "data": {
      "image/png": "[encoded data removed]",
      "text/plain": [
       "<Figure size 432x288 with 1 Axes>"
      ]
     },
     "metadata": {},
     "output_type": "display_data"
    }
   ],
   "source": [
    "sns.lineplot(df1.index, df1.multiple_deliveries, marker='o');"
   ]
  },
  {
   "cell_type": "code",
   "execution_count": 17,
   "metadata": {},
   "outputs": [
    {
     "data": {
      "image/png": "[encoded data removed]",
      "text/plain": [
       "<Figure size 432x288 with 1 Axes>"
      ]
     },
     "metadata": {},
     "output_type": "display_data"
    }
   ],
   "source": [
    "sns.lineplot(df1.index, df1['Time_taken(min)'], marker='o');"
   ]
  },
  {
   "cell_type": "code",
   "execution_count": 18,
   "metadata": {},
   "outputs": [
    {
     "data": {
      "image/png": "[encoded data removed]",
      "text/plain": [
       "<Figure size 432x288 with 1 Axes>"
      ]
     },
     "metadata": {},
     "output_type": "display_data"
    }
   ],
   "source": [
    "sns.lineplot(df1.index, df1['Festival'], marker='o');"
   ]
  },
  {
   "cell_type": "markdown",
   "metadata": {},
   "source": [
    "## Group By City:"
   ]
  },
  {
   "cell_type": "code",
   "execution_count": 19,
   "metadata": {},
   "outputs": [
    {
     "data": {
      "text/html": [
       "<div>\n",
       "<style scoped>\n",
       "    .dataframe tbody tr th:only-of-type {\n",
       "        vertical-align: middle;\n",
       "    }\n",
       "\n",
       "    .dataframe tbody tr th {\n",
       "        vertical-align: top;\n",
       "    }\n",
       "\n",
       "    .dataframe thead th {\n",
       "        text-align: right;\n",
       "    }\n",
       "</style>\n",
       "<table border=\"1\" class=\"dataframe\">\n",
       "  <thead>\n",
       "    <tr style=\"text-align: right;\">\n",
       "      <th></th>\n",
       "      <th>Delivery_person_Age</th>\n",
       "      <th>Delivery_person_Ratings</th>\n",
       "      <th>Vehicle_condition</th>\n",
       "      <th>multiple_deliveries</th>\n",
       "      <th>Festival</th>\n",
       "      <th>Time_taken(min)</th>\n",
       "    </tr>\n",
       "    <tr>\n",
       "      <th>City</th>\n",
       "      <th></th>\n",
       "      <th></th>\n",
       "      <th></th>\n",
       "      <th></th>\n",
       "      <th></th>\n",
       "      <th></th>\n",
       "    </tr>\n",
       "  </thead>\n",
       "  <tbody>\n",
       "    <tr>\n",
       "      <th>Metropolitian</th>\n",
       "      <td>29.796367</td>\n",
       "      <td>4.623166</td>\n",
       "      <td>0.979385</td>\n",
       "      <td>0.767645</td>\n",
       "      <td>0.021526</td>\n",
       "      <td>27.429860</td>\n",
       "    </tr>\n",
       "    <tr>\n",
       "      <th>Semi-Urban</th>\n",
       "      <td>32.565789</td>\n",
       "      <td>4.492105</td>\n",
       "      <td>0.217105</td>\n",
       "      <td>1.467105</td>\n",
       "      <td>0.256579</td>\n",
       "      <td>49.710526</td>\n",
       "    </tr>\n",
       "    <tr>\n",
       "      <th>Urban</th>\n",
       "      <td>28.930913</td>\n",
       "      <td>4.669512</td>\n",
       "      <td>1.064403</td>\n",
       "      <td>0.670428</td>\n",
       "      <td>0.011603</td>\n",
       "      <td>23.209495</td>\n",
       "    </tr>\n",
       "  </tbody>\n",
       "</table>\n",
       "</div>"
      ],
      "text/plain": [
       "                Delivery_person_Age  Delivery_person_Ratings  \\\n",
       "City                                                           \n",
       "Metropolitian             29.796367                 4.623166   \n",
       "Semi-Urban                32.565789                 4.492105   \n",
       "Urban                     28.930913                 4.669512   \n",
       "\n",
       "                Vehicle_condition  multiple_deliveries  Festival  \\\n",
       "City                                                               \n",
       "Metropolitian            0.979385             0.767645  0.021526   \n",
       "Semi-Urban               0.217105             1.467105  0.256579   \n",
       "Urban                    1.064403             0.670428  0.011603   \n",
       "\n",
       "                Time_taken(min)  \n",
       "City                             \n",
       "Metropolitian         27.429860  \n",
       "Semi-Urban            49.710526  \n",
       "Urban                 23.209495  "
      ]
     },
     "execution_count": 19,
     "metadata": {},
     "output_type": "execute_result"
    }
   ],
   "source": [
    "df2 = df.groupby('City').mean()\n",
    "df2"
   ]
  },
  {
   "cell_type": "code",
   "execution_count": 20,
   "metadata": {},
   "outputs": [
    {
     "data": {
      "image/png": "[encoded data removed]",
      "text/plain": [
       "<Figure size 432x288 with 1 Axes>"
      ]
     },
     "metadata": {},
     "output_type": "display_data"
    }
   ],
   "source": [
    "sns.barplot(df2.index, df2['Time_taken(min)']);"
   ]
  },
  {
   "cell_type": "code",
   "execution_count": 21,
   "metadata": {},
   "outputs": [
    {
     "data": {
      "image/png": "[encoded data removed]",
      "text/plain": [
       "<Figure size 432x288 with 1 Axes>"
      ]
     },
     "metadata": {},
     "output_type": "display_data"
    }
   ],
   "source": [
    "sns.barplot(df2.index, df2['Vehicle_condition']);"
   ]
  },
  {
   "cell_type": "code",
   "execution_count": 22,
   "metadata": {},
   "outputs": [
    {
     "data": {
      "text/html": [
       "<div>\n",
       "<style scoped>\n",
       "    .dataframe tbody tr th:only-of-type {\n",
       "        vertical-align: middle;\n",
       "    }\n",
       "\n",
       "    .dataframe tbody tr th {\n",
       "        vertical-align: top;\n",
       "    }\n",
       "\n",
       "    .dataframe thead th {\n",
       "        text-align: right;\n",
       "    }\n",
       "</style>\n",
       "<table border=\"1\" class=\"dataframe\">\n",
       "  <thead>\n",
       "    <tr style=\"text-align: right;\">\n",
       "      <th></th>\n",
       "      <th>Count</th>\n",
       "    </tr>\n",
       "    <tr>\n",
       "      <th>City</th>\n",
       "      <th></th>\n",
       "    </tr>\n",
       "  </thead>\n",
       "  <tbody>\n",
       "    <tr>\n",
       "      <th>Metropolitian</th>\n",
       "      <td>31822</td>\n",
       "    </tr>\n",
       "    <tr>\n",
       "      <th>Semi-Urban</th>\n",
       "      <td>152</td>\n",
       "    </tr>\n",
       "    <tr>\n",
       "      <th>Urban</th>\n",
       "      <td>9394</td>\n",
       "    </tr>\n",
       "  </tbody>\n",
       "</table>\n",
       "</div>"
      ],
      "text/plain": [
       "                Count\n",
       "City                 \n",
       "Metropolitian   31822\n",
       "Semi-Urban        152\n",
       "Urban            9394"
      ]
     },
     "execution_count": 22,
     "metadata": {},
     "output_type": "execute_result"
    }
   ],
   "source": [
    "df3 = df.groupby('City').count()['Delivery_person_Age'].to_frame()\n",
    "df3.columns = ['Count']\n",
    "df3"
   ]
  },
  {
   "cell_type": "code",
   "execution_count": 23,
   "metadata": {},
   "outputs": [
    {
     "data": {
      "image/png": "[encoded data removed]",
      "text/plain": [
       "<Figure size 432x288 with 1 Axes>"
      ]
     },
     "metadata": {},
     "output_type": "display_data"
    }
   ],
   "source": [
    "plt.pie(x=df3.Count, labels=df3.index);"
   ]
  },
  {
   "cell_type": "markdown",
   "metadata": {},
   "source": [
    "## Group By Type_of_order:"
   ]
  },
  {
   "cell_type": "code",
   "execution_count": 24,
   "metadata": {},
   "outputs": [
    {
     "data": {
      "text/html": [
       "<div>\n",
       "<style scoped>\n",
       "    .dataframe tbody tr th:only-of-type {\n",
       "        vertical-align: middle;\n",
       "    }\n",
       "\n",
       "    .dataframe tbody tr th {\n",
       "        vertical-align: top;\n",
       "    }\n",
       "\n",
       "    .dataframe thead th {\n",
       "        text-align: right;\n",
       "    }\n",
       "</style>\n",
       "<table border=\"1\" class=\"dataframe\">\n",
       "  <thead>\n",
       "    <tr style=\"text-align: right;\">\n",
       "      <th></th>\n",
       "      <th>Delivery_person_Age</th>\n",
       "      <th>Delivery_person_Ratings</th>\n",
       "      <th>Vehicle_condition</th>\n",
       "      <th>multiple_deliveries</th>\n",
       "      <th>Festival</th>\n",
       "      <th>Time_taken(min)</th>\n",
       "    </tr>\n",
       "    <tr>\n",
       "      <th>Type_of_order</th>\n",
       "      <th></th>\n",
       "      <th></th>\n",
       "      <th></th>\n",
       "      <th></th>\n",
       "      <th></th>\n",
       "      <th></th>\n",
       "    </tr>\n",
       "  </thead>\n",
       "  <tbody>\n",
       "    <tr>\n",
       "      <th>Buffet</th>\n",
       "      <td>29.679836</td>\n",
       "      <td>4.634706</td>\n",
       "      <td>0.993350</td>\n",
       "      <td>0.743986</td>\n",
       "      <td>0.019460</td>\n",
       "      <td>26.540974</td>\n",
       "    </tr>\n",
       "    <tr>\n",
       "      <th>Drinks</th>\n",
       "      <td>29.577072</td>\n",
       "      <td>4.630877</td>\n",
       "      <td>1.000097</td>\n",
       "      <td>0.754999</td>\n",
       "      <td>0.019996</td>\n",
       "      <td>26.464085</td>\n",
       "    </tr>\n",
       "    <tr>\n",
       "      <th>Meal</th>\n",
       "      <td>29.633720</td>\n",
       "      <td>4.630688</td>\n",
       "      <td>0.985798</td>\n",
       "      <td>0.754342</td>\n",
       "      <td>0.019000</td>\n",
       "      <td>26.670281</td>\n",
       "    </tr>\n",
       "    <tr>\n",
       "      <th>Snack</th>\n",
       "      <td>29.550341</td>\n",
       "      <td>4.636568</td>\n",
       "      <td>1.004319</td>\n",
       "      <td>0.739226</td>\n",
       "      <td>0.022075</td>\n",
       "      <td>26.536808</td>\n",
       "    </tr>\n",
       "  </tbody>\n",
       "</table>\n",
       "</div>"
      ],
      "text/plain": [
       "               Delivery_person_Age  Delivery_person_Ratings  \\\n",
       "Type_of_order                                                 \n",
       "Buffet                   29.679836                 4.634706   \n",
       "Drinks                   29.577072                 4.630877   \n",
       "Meal                     29.633720                 4.630688   \n",
       "Snack                    29.550341                 4.636568   \n",
       "\n",
       "               Vehicle_condition  multiple_deliveries  Festival  \\\n",
       "Type_of_order                                                     \n",
       "Buffet                  0.993350             0.743986  0.019460   \n",
       "Drinks                  1.000097             0.754999  0.019996   \n",
       "Meal                    0.985798             0.754342  0.019000   \n",
       "Snack                   1.004319             0.739226  0.022075   \n",
       "\n",
       "               Time_taken(min)  \n",
       "Type_of_order                   \n",
       "Buffet               26.540974  \n",
       "Drinks               26.464085  \n",
       "Meal                 26.670281  \n",
       "Snack                26.536808  "
      ]
     },
     "execution_count": 24,
     "metadata": {},
     "output_type": "execute_result"
    }
   ],
   "source": [
    "df4 = df.groupby('Type_of_order').mean()\n",
    "df4"
   ]
  },
  {
   "cell_type": "code",
   "execution_count": 25,
   "metadata": {},
   "outputs": [
    {
     "data": {
      "image/png": "[encoded data removed]",
      "text/plain": [
       "<Figure size 432x288 with 1 Axes>"
      ]
     },
     "metadata": {},
     "output_type": "display_data"
    }
   ],
   "source": [
    "sns.lineplot(df4.index, df4['Time_taken(min)'], marker='o');"
   ]
  },
  {
   "cell_type": "markdown",
   "metadata": {},
   "source": [
    "## Group By Type_of_vehicle:"
   ]
  },
  {
   "cell_type": "code",
   "execution_count": 26,
   "metadata": {},
   "outputs": [
    {
     "data": {
      "text/html": [
       "<div>\n",
       "<style scoped>\n",
       "    .dataframe tbody tr th:only-of-type {\n",
       "        vertical-align: middle;\n",
       "    }\n",
       "\n",
       "    .dataframe tbody tr th {\n",
       "        vertical-align: top;\n",
       "    }\n",
       "\n",
       "    .dataframe thead th {\n",
       "        text-align: right;\n",
       "    }\n",
       "</style>\n",
       "<table border=\"1\" class=\"dataframe\">\n",
       "  <thead>\n",
       "    <tr style=\"text-align: right;\">\n",
       "      <th></th>\n",
       "      <th>Delivery_person_Age</th>\n",
       "      <th>Delivery_person_Ratings</th>\n",
       "      <th>Vehicle_condition</th>\n",
       "      <th>multiple_deliveries</th>\n",
       "      <th>Festival</th>\n",
       "      <th>Time_taken(min)</th>\n",
       "    </tr>\n",
       "    <tr>\n",
       "      <th>Type_of_vehicle</th>\n",
       "      <th></th>\n",
       "      <th></th>\n",
       "      <th></th>\n",
       "      <th></th>\n",
       "      <th></th>\n",
       "      <th></th>\n",
       "    </tr>\n",
       "  </thead>\n",
       "  <tbody>\n",
       "    <tr>\n",
       "      <th>electric_scooter</th>\n",
       "      <td>29.680120</td>\n",
       "      <td>4.648281</td>\n",
       "      <td>2.000000</td>\n",
       "      <td>0.700149</td>\n",
       "      <td>0.008670</td>\n",
       "      <td>24.587145</td>\n",
       "    </tr>\n",
       "    <tr>\n",
       "      <th>motorcycle</th>\n",
       "      <td>29.607613</td>\n",
       "      <td>4.626473</td>\n",
       "      <td>0.568313</td>\n",
       "      <td>0.783374</td>\n",
       "      <td>0.026955</td>\n",
       "      <td>27.843210</td>\n",
       "    </tr>\n",
       "    <tr>\n",
       "      <th>scooter</th>\n",
       "      <td>29.597173</td>\n",
       "      <td>4.641463</td>\n",
       "      <td>1.508271</td>\n",
       "      <td>0.697442</td>\n",
       "      <td>0.010858</td>\n",
       "      <td>24.748597</td>\n",
       "    </tr>\n",
       "  </tbody>\n",
       "</table>\n",
       "</div>"
      ],
      "text/plain": [
       "                   Delivery_person_Age  Delivery_person_Ratings  \\\n",
       "Type_of_vehicle                                                   \n",
       "electric_scooter             29.680120                 4.648281   \n",
       "motorcycle                   29.607613                 4.626473   \n",
       "scooter                      29.597173                 4.641463   \n",
       "\n",
       "                   Vehicle_condition  multiple_deliveries  Festival  \\\n",
       "Type_of_vehicle                                                       \n",
       "electric_scooter            2.000000             0.700149  0.008670   \n",
       "motorcycle                  0.568313             0.783374  0.026955   \n",
       "scooter                     1.508271             0.697442  0.010858   \n",
       "\n",
       "                   Time_taken(min)  \n",
       "Type_of_vehicle                     \n",
       "electric_scooter         24.587145  \n",
       "motorcycle               27.843210  \n",
       "scooter                  24.748597  "
      ]
     },
     "execution_count": 26,
     "metadata": {},
     "output_type": "execute_result"
    }
   ],
   "source": [
    "df5 = df.groupby('Type_of_vehicle').mean()\n",
    "df5"
   ]
  },
  {
   "cell_type": "code",
   "execution_count": 27,
   "metadata": {},
   "outputs": [
    {
     "data": {
      "image/png": "[encoded data removed]",
      "text/plain": [
       "<Figure size 432x288 with 1 Axes>"
      ]
     },
     "metadata": {},
     "output_type": "display_data"
    }
   ],
   "source": [
    "sns.barplot(df5.index, df5['Vehicle_condition']);"
   ]
  },
  {
   "cell_type": "code",
   "execution_count": 28,
   "metadata": {},
   "outputs": [
    {
     "data": {
      "image/png": "[encoded data removed]",
      "text/plain": [
       "<Figure size 432x288 with 1 Axes>"
      ]
     },
     "metadata": {},
     "output_type": "display_data"
    }
   ],
   "source": [
    "sns.lineplot(df5.index, df5['Time_taken(min)'], marker='o');"
   ]
  },
  {
   "cell_type": "markdown",
   "metadata": {},
   "source": [
    "## Group By Road_traffic_density:"
   ]
  },
  {
   "cell_type": "code",
   "execution_count": 29,
   "metadata": {},
   "outputs": [
    {
     "data": {
      "text/html": [
       "<div>\n",
       "<style scoped>\n",
       "    .dataframe tbody tr th:only-of-type {\n",
       "        vertical-align: middle;\n",
       "    }\n",
       "\n",
       "    .dataframe tbody tr th {\n",
       "        vertical-align: top;\n",
       "    }\n",
       "\n",
       "    .dataframe thead th {\n",
       "        text-align: right;\n",
       "    }\n",
       "</style>\n",
       "<table border=\"1\" class=\"dataframe\">\n",
       "  <thead>\n",
       "    <tr style=\"text-align: right;\">\n",
       "      <th></th>\n",
       "      <th>Delivery_person_Age</th>\n",
       "      <th>Delivery_person_Ratings</th>\n",
       "      <th>Vehicle_condition</th>\n",
       "      <th>multiple_deliveries</th>\n",
       "      <th>Festival</th>\n",
       "      <th>Time_taken(min)</th>\n",
       "    </tr>\n",
       "    <tr>\n",
       "      <th>Road_traffic_density</th>\n",
       "      <th></th>\n",
       "      <th></th>\n",
       "      <th></th>\n",
       "      <th></th>\n",
       "      <th></th>\n",
       "      <th></th>\n",
       "    </tr>\n",
       "  </thead>\n",
       "  <tbody>\n",
       "    <tr>\n",
       "      <th>High</th>\n",
       "      <td>29.691933</td>\n",
       "      <td>4.652230</td>\n",
       "      <td>0.990982</td>\n",
       "      <td>0.774311</td>\n",
       "      <td>0.016573</td>\n",
       "      <td>27.407019</td>\n",
       "    </tr>\n",
       "    <tr>\n",
       "      <th>Jam</th>\n",
       "      <td>29.614712</td>\n",
       "      <td>4.594019</td>\n",
       "      <td>1.006839</td>\n",
       "      <td>0.862300</td>\n",
       "      <td>0.045596</td>\n",
       "      <td>31.395699</td>\n",
       "    </tr>\n",
       "    <tr>\n",
       "      <th>Low</th>\n",
       "      <td>29.618554</td>\n",
       "      <td>4.645011</td>\n",
       "      <td>0.984837</td>\n",
       "      <td>0.632501</td>\n",
       "      <td>0.003290</td>\n",
       "      <td>21.494457</td>\n",
       "    </tr>\n",
       "    <tr>\n",
       "      <th>Medium</th>\n",
       "      <td>29.558914</td>\n",
       "      <td>4.660138</td>\n",
       "      <td>0.998914</td>\n",
       "      <td>0.748840</td>\n",
       "      <td>0.011753</td>\n",
       "      <td>26.899556</td>\n",
       "    </tr>\n",
       "  </tbody>\n",
       "</table>\n",
       "</div>"
      ],
      "text/plain": [
       "                      Delivery_person_Age  Delivery_person_Ratings  \\\n",
       "Road_traffic_density                                                 \n",
       "High                            29.691933                 4.652230   \n",
       "Jam                             29.614712                 4.594019   \n",
       "Low                             29.618554                 4.645011   \n",
       "Medium                          29.558914                 4.660138   \n",
       "\n",
       "                      Vehicle_condition  multiple_deliveries  Festival  \\\n",
       "Road_traffic_density                                                     \n",
       "High                           0.990982             0.774311  0.016573   \n",
       "Jam                            1.006839             0.862300  0.045596   \n",
       "Low                            0.984837             0.632501  0.003290   \n",
       "Medium                         0.998914             0.748840  0.011753   \n",
       "\n",
       "                      Time_taken(min)  \n",
       "Road_traffic_density                   \n",
       "High                        27.407019  \n",
       "Jam                         31.395699  \n",
       "Low                         21.494457  \n",
       "Medium                      26.899556  "
      ]
     },
     "execution_count": 29,
     "metadata": {},
     "output_type": "execute_result"
    }
   ],
   "source": [
    "df6 = df.groupby('Road_traffic_density').mean()\n",
    "df6"
   ]
  },
  {
   "cell_type": "code",
   "execution_count": 30,
   "metadata": {},
   "outputs": [
    {
     "data": {
      "image/png": "[encoded data removed]",
      "text/plain": [
       "<Figure size 432x288 with 1 Axes>"
      ]
     },
     "metadata": {},
     "output_type": "display_data"
    }
   ],
   "source": [
    "sns.lineplot(df6.index, df6['Time_taken(min)'], marker='o');"
   ]
  },
  {
   "cell_type": "markdown",
   "metadata": {},
   "source": [
    "## Group By Weatherconditions:"
   ]
  },
  {
   "cell_type": "code",
   "execution_count": 31,
   "metadata": {},
   "outputs": [
    {
     "data": {
      "text/html": [
       "<div>\n",
       "<style scoped>\n",
       "    .dataframe tbody tr th:only-of-type {\n",
       "        vertical-align: middle;\n",
       "    }\n",
       "\n",
       "    .dataframe tbody tr th {\n",
       "        vertical-align: top;\n",
       "    }\n",
       "\n",
       "    .dataframe thead th {\n",
       "        text-align: right;\n",
       "    }\n",
       "</style>\n",
       "<table border=\"1\" class=\"dataframe\">\n",
       "  <thead>\n",
       "    <tr style=\"text-align: right;\">\n",
       "      <th></th>\n",
       "      <th>Delivery_person_Age</th>\n",
       "      <th>Delivery_person_Ratings</th>\n",
       "      <th>Vehicle_condition</th>\n",
       "      <th>multiple_deliveries</th>\n",
       "      <th>Festival</th>\n",
       "      <th>Time_taken(min)</th>\n",
       "    </tr>\n",
       "    <tr>\n",
       "      <th>Weatherconditions</th>\n",
       "      <th></th>\n",
       "      <th></th>\n",
       "      <th></th>\n",
       "      <th></th>\n",
       "      <th></th>\n",
       "      <th></th>\n",
       "    </tr>\n",
       "  </thead>\n",
       "  <tbody>\n",
       "    <tr>\n",
       "      <th>Cloudy</th>\n",
       "      <td>29.633957</td>\n",
       "      <td>4.651871</td>\n",
       "      <td>0.997122</td>\n",
       "      <td>0.806763</td>\n",
       "      <td>0.033237</td>\n",
       "      <td>29.139281</td>\n",
       "    </tr>\n",
       "    <tr>\n",
       "      <th>Fog</th>\n",
       "      <td>29.458685</td>\n",
       "      <td>4.652965</td>\n",
       "      <td>1.003513</td>\n",
       "      <td>0.811270</td>\n",
       "      <td>0.034429</td>\n",
       "      <td>29.174115</td>\n",
       "    </tr>\n",
       "    <tr>\n",
       "      <th>Sandstorms</th>\n",
       "      <td>29.613981</td>\n",
       "      <td>4.611748</td>\n",
       "      <td>0.987887</td>\n",
       "      <td>0.727379</td>\n",
       "      <td>0.012551</td>\n",
       "      <td>26.113398</td>\n",
       "    </tr>\n",
       "    <tr>\n",
       "      <th>Stormy</th>\n",
       "      <td>29.673860</td>\n",
       "      <td>4.611819</td>\n",
       "      <td>1.006145</td>\n",
       "      <td>0.740889</td>\n",
       "      <td>0.014864</td>\n",
       "      <td>26.110619</td>\n",
       "    </tr>\n",
       "    <tr>\n",
       "      <th>Sunny</th>\n",
       "      <td>29.696553</td>\n",
       "      <td>4.654868</td>\n",
       "      <td>0.993499</td>\n",
       "      <td>0.655125</td>\n",
       "      <td>0.011188</td>\n",
       "      <td>22.143484</td>\n",
       "    </tr>\n",
       "    <tr>\n",
       "      <th>Windy</th>\n",
       "      <td>29.590145</td>\n",
       "      <td>4.616128</td>\n",
       "      <td>0.986548</td>\n",
       "      <td>0.741044</td>\n",
       "      <td>0.013598</td>\n",
       "      <td>26.357070</td>\n",
       "    </tr>\n",
       "  </tbody>\n",
       "</table>\n",
       "</div>"
      ],
      "text/plain": [
       "                   Delivery_person_Age  Delivery_person_Ratings  \\\n",
       "Weatherconditions                                                 \n",
       "Cloudy                       29.633957                 4.651871   \n",
       "Fog                          29.458685                 4.652965   \n",
       "Sandstorms                   29.613981                 4.611748   \n",
       "Stormy                       29.673860                 4.611819   \n",
       "Sunny                        29.696553                 4.654868   \n",
       "Windy                        29.590145                 4.616128   \n",
       "\n",
       "                   Vehicle_condition  multiple_deliveries  Festival  \\\n",
       "Weatherconditions                                                     \n",
       "Cloudy                      0.997122             0.806763  0.033237   \n",
       "Fog                         1.003513             0.811270  0.034429   \n",
       "Sandstorms                  0.987887             0.727379  0.012551   \n",
       "Stormy                      1.006145             0.740889  0.014864   \n",
       "Sunny                       0.993499             0.655125  0.011188   \n",
       "Windy                       0.986548             0.741044  0.013598   \n",
       "\n",
       "                   Time_taken(min)  \n",
       "Weatherconditions                   \n",
       "Cloudy                   29.139281  \n",
       "Fog                      29.174115  \n",
       "Sandstorms               26.113398  \n",
       "Stormy                   26.110619  \n",
       "Sunny                    22.143484  \n",
       "Windy                    26.357070  "
      ]
     },
     "execution_count": 31,
     "metadata": {},
     "output_type": "execute_result"
    }
   ],
   "source": [
    "df7 = df.groupby('Weatherconditions').mean()\n",
    "df7"
   ]
  },
  {
   "cell_type": "code",
   "execution_count": 32,
   "metadata": {},
   "outputs": [
    {
     "data": {
      "image/png": "[encoded data removed]",
      "text/plain": [
       "<Figure size 432x288 with 1 Axes>"
      ]
     },
     "metadata": {},
     "output_type": "display_data"
    }
   ],
   "source": [
    "sns.boxplot(df['Weatherconditions'], df['Time_taken(min)']);"
   ]
  },
  {
   "cell_type": "code",
   "execution_count": 33,
   "metadata": {},
   "outputs": [
    {
     "data": {
      "image/png": "[encoded data removed]",
      "text/plain": [
       "<Figure size 432x288 with 1 Axes>"
      ]
     },
     "metadata": {},
     "output_type": "display_data"
    }
   ],
   "source": [
    "sns.lineplot(df7.index, df7['Time_taken(min)'], marker='o');"
   ]
  },
  {
   "cell_type": "code",
   "execution_count": 34,
   "metadata": {},
   "outputs": [
    {
     "data": {
      "image/png": "[encoded data removed]",
      "text/plain": [
       "<Figure size 432x288 with 1 Axes>"
      ]
     },
     "metadata": {},
     "output_type": "display_data"
    }
   ],
   "source": [
    "sns.boxplot(df['Weatherconditions'], df['Delivery_person_Age']);"
   ]
  },
  {
   "cell_type": "code",
   "execution_count": 35,
   "metadata": {},
   "outputs": [
    {
     "data": {
      "image/png": "[encoded data removed]",
      "text/plain": [
       "<Figure size 432x288 with 1 Axes>"
      ]
     },
     "metadata": {},
     "output_type": "display_data"
    }
   ],
   "source": [
    "sns.lineplot(df7.index, df7['Delivery_person_Age'], marker='o');"
   ]
  },
  {
   "cell_type": "markdown",
   "metadata": {},
   "source": [
    "## DecisionTreeRegressor:"
   ]
  },
  {
   "cell_type": "code",
   "execution_count": 36,
   "metadata": {},
   "outputs": [],
   "source": [
    "from sklearn.tree import DecisionTreeRegressor"
   ]
  },
  {
   "cell_type": "markdown",
   "metadata": {},
   "source": [
    "Take required columns:"
   ]
  },
  {
   "cell_type": "code",
   "execution_count": 39,
   "metadata": {},
   "outputs": [],
   "source": [
    "df8 = df[['Delivery_person_Age', 'Delivery_person_Ratings',\n",
    "       'Weatherconditions', 'Road_traffic_density', 'Vehicle_condition', 'Type_of_order',\n",
    "       'Type_of_vehicle', 'multiple_deliveries', 'Festival', 'City',\n",
    "       'Time_taken(min)']]"
   ]
  },
  {
   "cell_type": "code",
   "execution_count": 40,
   "metadata": {},
   "outputs": [
    {
     "data": {
      "text/plain": [
       "Index(['Delivery_person_Age', 'Delivery_person_Ratings', 'Weatherconditions',\n",
       "       'Road_traffic_density', 'Vehicle_condition', 'Type_of_order',\n",
       "       'Type_of_vehicle', 'multiple_deliveries', 'Festival', 'City',\n",
       "       'Time_taken(min)'],\n",
       "      dtype='object')"
      ]
     },
     "execution_count": 40,
     "metadata": {},
     "output_type": "execute_result"
    }
   ],
   "source": [
    "df8.columns"
   ]
  },
  {
   "cell_type": "markdown",
   "metadata": {},
   "source": [
    "Unique elements of each columns:"
   ]
  },
  {
   "cell_type": "code",
   "execution_count": 42,
   "metadata": {},
   "outputs": [
    {
     "name": "stdout",
     "output_type": "stream",
     "text": [
      "Delivery_person_Age:\n",
      "[37 34 23 38 32 22 33 35 36 21 24 29 25 31 27 26 20 28 39 30]\n",
      "------------------------------------\n",
      "Delivery_person_Ratings:\n",
      "[4.9 4.5 4.4 4.7 4.6 4.8 4.2 4.3 4.  4.1 5.  3.5 3.8 3.9 3.7 2.6 2.5 3.6\n",
      " 3.1 2.7 3.2 3.3 3.4 2.8 2.9 3. ]\n",
      "------------------------------------\n",
      "Weatherconditions:\n",
      "['Sunny' 'Stormy' 'Sandstorms' 'Cloudy' 'Fog' 'Windy']\n",
      "------------------------------------\n",
      "Road_traffic_density:\n",
      "['High ' 'Jam ' 'Low ' 'Medium ']\n",
      "------------------------------------\n",
      "Vehicle_condition:\n",
      "[2 0 1]\n",
      "------------------------------------\n",
      "Type_of_order:\n",
      "['Snack ' 'Drinks ' 'Buffet ' 'Meal ']\n",
      "------------------------------------\n",
      "Type_of_vehicle:\n",
      "['motorcycle ' 'scooter ' 'electric_scooter ']\n",
      "------------------------------------\n",
      "multiple_deliveries:\n",
      "[0 1 3 2]\n",
      "------------------------------------\n",
      "Festival:\n",
      "[0 1]\n",
      "------------------------------------\n",
      "City:\n",
      "['Urban ' 'Metropolitian ' 'Semi-Urban ']\n",
      "------------------------------------\n",
      "Time_taken(min):\n",
      "[24 33 26 21 30 40 32 34 46 23 20 41 15 36 39 18 38 47 12 22 25 35 10 19\n",
      " 11 28 52 16 27 49 17 14 37 44 42 31 13 29 50 43 48 54 53 45 51]\n",
      "------------------------------------\n"
     ]
    }
   ],
   "source": [
    "for i in df8.columns:\n",
    "    print(f'{i}:')\n",
    "    print(df[i].unique())\n",
    "    print('------------------------------------')"
   ]
  },
  {
   "cell_type": "markdown",
   "metadata": {},
   "source": [
    "Converting all catagorical data into numerical data:"
   ]
  },
  {
   "cell_type": "code",
   "execution_count": 43,
   "metadata": {},
   "outputs": [
    {
     "data": {
      "text/html": [
       "<div>\n",
       "<style scoped>\n",
       "    .dataframe tbody tr th:only-of-type {\n",
       "        vertical-align: middle;\n",
       "    }\n",
       "\n",
       "    .dataframe tbody tr th {\n",
       "        vertical-align: top;\n",
       "    }\n",
       "\n",
       "    .dataframe thead th {\n",
       "        text-align: right;\n",
       "    }\n",
       "</style>\n",
       "<table border=\"1\" class=\"dataframe\">\n",
       "  <thead>\n",
       "    <tr style=\"text-align: right;\">\n",
       "      <th></th>\n",
       "      <th>Delivery_person_Age</th>\n",
       "      <th>Delivery_person_Ratings</th>\n",
       "      <th>Weatherconditions</th>\n",
       "      <th>Road_traffic_density</th>\n",
       "      <th>Vehicle_condition</th>\n",
       "      <th>Type_of_order</th>\n",
       "      <th>Type_of_vehicle</th>\n",
       "      <th>multiple_deliveries</th>\n",
       "      <th>Festival</th>\n",
       "      <th>City</th>\n",
       "      <th>Time_taken(min)</th>\n",
       "    </tr>\n",
       "  </thead>\n",
       "  <tbody>\n",
       "    <tr>\n",
       "      <th>0</th>\n",
       "      <td>37</td>\n",
       "      <td>4.9</td>\n",
       "      <td>0</td>\n",
       "      <td>0</td>\n",
       "      <td>2</td>\n",
       "      <td>0</td>\n",
       "      <td>0</td>\n",
       "      <td>0</td>\n",
       "      <td>0</td>\n",
       "      <td>0</td>\n",
       "      <td>24</td>\n",
       "    </tr>\n",
       "    <tr>\n",
       "      <th>1</th>\n",
       "      <td>34</td>\n",
       "      <td>4.5</td>\n",
       "      <td>1</td>\n",
       "      <td>1</td>\n",
       "      <td>2</td>\n",
       "      <td>0</td>\n",
       "      <td>1</td>\n",
       "      <td>1</td>\n",
       "      <td>0</td>\n",
       "      <td>1</td>\n",
       "      <td>33</td>\n",
       "    </tr>\n",
       "    <tr>\n",
       "      <th>2</th>\n",
       "      <td>23</td>\n",
       "      <td>4.4</td>\n",
       "      <td>2</td>\n",
       "      <td>2</td>\n",
       "      <td>0</td>\n",
       "      <td>1</td>\n",
       "      <td>0</td>\n",
       "      <td>1</td>\n",
       "      <td>0</td>\n",
       "      <td>0</td>\n",
       "      <td>26</td>\n",
       "    </tr>\n",
       "    <tr>\n",
       "      <th>3</th>\n",
       "      <td>38</td>\n",
       "      <td>4.7</td>\n",
       "      <td>0</td>\n",
       "      <td>3</td>\n",
       "      <td>0</td>\n",
       "      <td>2</td>\n",
       "      <td>0</td>\n",
       "      <td>1</td>\n",
       "      <td>0</td>\n",
       "      <td>1</td>\n",
       "      <td>21</td>\n",
       "    </tr>\n",
       "    <tr>\n",
       "      <th>4</th>\n",
       "      <td>32</td>\n",
       "      <td>4.6</td>\n",
       "      <td>3</td>\n",
       "      <td>0</td>\n",
       "      <td>1</td>\n",
       "      <td>0</td>\n",
       "      <td>1</td>\n",
       "      <td>1</td>\n",
       "      <td>0</td>\n",
       "      <td>1</td>\n",
       "      <td>30</td>\n",
       "    </tr>\n",
       "  </tbody>\n",
       "</table>\n",
       "</div>"
      ],
      "text/plain": [
       "   Delivery_person_Age  Delivery_person_Ratings  Weatherconditions  \\\n",
       "0                   37                      4.9                  0   \n",
       "1                   34                      4.5                  1   \n",
       "2                   23                      4.4                  2   \n",
       "3                   38                      4.7                  0   \n",
       "4                   32                      4.6                  3   \n",
       "\n",
       "   Road_traffic_density  Vehicle_condition  Type_of_order  Type_of_vehicle  \\\n",
       "0                     0                  2              0                0   \n",
       "1                     1                  2              0                1   \n",
       "2                     2                  0              1                0   \n",
       "3                     3                  0              2                0   \n",
       "4                     0                  1              0                1   \n",
       "\n",
       "   multiple_deliveries  Festival  City  Time_taken(min)  \n",
       "0                    0         0     0               24  \n",
       "1                    1         0     1               33  \n",
       "2                    1         0     0               26  \n",
       "3                    1         0     1               21  \n",
       "4                    1         0     1               30  "
      ]
     },
     "execution_count": 43,
     "metadata": {},
     "output_type": "execute_result"
    }
   ],
   "source": [
    "Weatherconditions = {}\n",
    "for i,j in enumerate(['Sunny', 'Stormy', 'Sandstorms', 'Cloudy', 'Fog', 'Windy']):\n",
    "    Weatherconditions[j] = i\n",
    "\n",
    "Road_traffic_density = {}\n",
    "for i,j in enumerate(['High ', 'Jam ', 'Low ', 'Medium ']):\n",
    "    Road_traffic_density[j] = i\n",
    "\n",
    "Type_of_order = {}\n",
    "for i,j in enumerate(['Snack ', 'Drinks ', 'Buffet ', 'Meal ']):\n",
    "    Type_of_order[j] = i\n",
    "\n",
    "Type_of_vehicle = {}\n",
    "for i,j in enumerate(['motorcycle ', 'scooter ', 'electric_scooter ']):\n",
    "    Type_of_vehicle[j] = i\n",
    "\n",
    "City = {}\n",
    "for i,j in enumerate(['Urban ', 'Metropolitian ', 'Semi-Urban ']):\n",
    "    City[j] = i\n",
    "\n",
    "df8['Weatherconditions'] = df8['Weatherconditions'].map(Weatherconditions)\n",
    "df8['Road_traffic_density'] = df8['Road_traffic_density'].map(Road_traffic_density)\n",
    "df8['Type_of_order'] = df8['Type_of_order'].map(Type_of_order)\n",
    "df8['Type_of_vehicle'] = df8['Type_of_vehicle'].map(Type_of_vehicle)\n",
    "df8['City'] = df8['City'].map(City)\n",
    "\n",
    "df8.head()"
   ]
  },
  {
   "cell_type": "markdown",
   "metadata": {},
   "source": [
    "DecisionTreeRegressor:"
   ]
  },
  {
   "cell_type": "code",
   "execution_count": 46,
   "metadata": {},
   "outputs": [
    {
     "data": {
      "text/plain": [
       "DecisionTreeRegressor()"
      ]
     },
     "execution_count": 46,
     "metadata": {},
     "output_type": "execute_result"
    }
   ],
   "source": [
    "model = DecisionTreeRegressor()\n",
    "model.fit(df8.drop('Time_taken(min)', axis=1).values, df8['Time_taken(min)'].values)"
   ]
  },
  {
   "cell_type": "code",
   "execution_count": null,
   "metadata": {},
   "outputs": [],
   "source": [
    "model_keys = {\n",
    "    'Weatherconditions':Weatherconditions,\n",
    "    'Road_traffic_density':Road_traffic_density,\n",
    "    'Type_of_order':Type_of_order,\n",
    "    'Type_of_vehicle':Type_of_vehicle,\n",
    "    'City':City\n",
    "}"
   ]
  },
  {
   "cell_type": "code",
   "execution_count": 50,
   "metadata": {},
   "outputs": [
    {
     "name": "stdout",
     "output_type": "stream",
     "text": [
      "{\n",
      "    \"Weatherconditions\": {\n",
      "        \"Sunny\": 0,\n",
      "        \"Stormy\": 1,\n",
      "        \"Sandstorms\": 2,\n",
      "        \"Cloudy\": 3,\n",
      "        \"Fog\": 4,\n",
      "        \"Windy\": 5\n",
      "    },\n",
      "    \"Road_traffic_density\": {\n",
      "        \"High \": 0,\n",
      "        \"Jam \": 1,\n",
      "        \"Low \": 2,\n",
      "        \"Medium \": 3\n",
      "    },\n",
      "    \"Type_of_order\": {\n",
      "        \"Snack \": 0,\n",
      "        \"Drinks \": 1,\n",
      "        \"Buffet \": 2,\n",
      "        \"Meal \": 3\n",
      "    },\n",
      "    \"Type_of_vehicle\": {\n",
      "        \"motorcycle \": 0,\n",
      "        \"scooter \": 1,\n",
      "        \"electric_scooter \": 2\n",
      "    },\n",
      "    \"City\": {\n",
      "        \"Urban \": 0,\n",
      "        \"Metropolitian \": 1,\n",
      "        \"Semi-Urban \": 2\n",
      "    }\n",
      "}\n"
     ]
    }
   ],
   "source": [
    "print(json.dumps(model_keys, indent=4))"
   ]
  },
  {
   "cell_type": "code",
   "execution_count": 52,
   "metadata": {},
   "outputs": [
    {
     "data": {
      "text/html": [
       "<div>\n",
       "<style scoped>\n",
       "    .dataframe tbody tr th:only-of-type {\n",
       "        vertical-align: middle;\n",
       "    }\n",
       "\n",
       "    .dataframe tbody tr th {\n",
       "        vertical-align: top;\n",
       "    }\n",
       "\n",
       "    .dataframe thead th {\n",
       "        text-align: right;\n",
       "    }\n",
       "</style>\n",
       "<table border=\"1\" class=\"dataframe\">\n",
       "  <thead>\n",
       "    <tr style=\"text-align: right;\">\n",
       "      <th></th>\n",
       "      <th>Delivery_person_Age</th>\n",
       "      <th>Delivery_person_Ratings</th>\n",
       "      <th>Weatherconditions</th>\n",
       "      <th>Road_traffic_density</th>\n",
       "      <th>Vehicle_condition</th>\n",
       "      <th>Type_of_order</th>\n",
       "      <th>Type_of_vehicle</th>\n",
       "      <th>multiple_deliveries</th>\n",
       "      <th>Festival</th>\n",
       "      <th>City</th>\n",
       "      <th>Time_taken(min)</th>\n",
       "    </tr>\n",
       "  </thead>\n",
       "  <tbody>\n",
       "    <tr>\n",
       "      <th>0</th>\n",
       "      <td>37</td>\n",
       "      <td>4.9</td>\n",
       "      <td>0</td>\n",
       "      <td>0</td>\n",
       "      <td>2</td>\n",
       "      <td>0</td>\n",
       "      <td>0</td>\n",
       "      <td>0</td>\n",
       "      <td>0</td>\n",
       "      <td>0</td>\n",
       "      <td>24</td>\n",
       "    </tr>\n",
       "    <tr>\n",
       "      <th>1</th>\n",
       "      <td>34</td>\n",
       "      <td>4.5</td>\n",
       "      <td>1</td>\n",
       "      <td>1</td>\n",
       "      <td>2</td>\n",
       "      <td>0</td>\n",
       "      <td>1</td>\n",
       "      <td>1</td>\n",
       "      <td>0</td>\n",
       "      <td>1</td>\n",
       "      <td>33</td>\n",
       "    </tr>\n",
       "    <tr>\n",
       "      <th>2</th>\n",
       "      <td>23</td>\n",
       "      <td>4.4</td>\n",
       "      <td>2</td>\n",
       "      <td>2</td>\n",
       "      <td>0</td>\n",
       "      <td>1</td>\n",
       "      <td>0</td>\n",
       "      <td>1</td>\n",
       "      <td>0</td>\n",
       "      <td>0</td>\n",
       "      <td>26</td>\n",
       "    </tr>\n",
       "    <tr>\n",
       "      <th>3</th>\n",
       "      <td>38</td>\n",
       "      <td>4.7</td>\n",
       "      <td>0</td>\n",
       "      <td>3</td>\n",
       "      <td>0</td>\n",
       "      <td>2</td>\n",
       "      <td>0</td>\n",
       "      <td>1</td>\n",
       "      <td>0</td>\n",
       "      <td>1</td>\n",
       "      <td>21</td>\n",
       "    </tr>\n",
       "    <tr>\n",
       "      <th>4</th>\n",
       "      <td>32</td>\n",
       "      <td>4.6</td>\n",
       "      <td>3</td>\n",
       "      <td>0</td>\n",
       "      <td>1</td>\n",
       "      <td>0</td>\n",
       "      <td>1</td>\n",
       "      <td>1</td>\n",
       "      <td>0</td>\n",
       "      <td>1</td>\n",
       "      <td>30</td>\n",
       "    </tr>\n",
       "  </tbody>\n",
       "</table>\n",
       "</div>"
      ],
      "text/plain": [
       "   Delivery_person_Age  Delivery_person_Ratings  Weatherconditions  \\\n",
       "0                   37                      4.9                  0   \n",
       "1                   34                      4.5                  1   \n",
       "2                   23                      4.4                  2   \n",
       "3                   38                      4.7                  0   \n",
       "4                   32                      4.6                  3   \n",
       "\n",
       "   Road_traffic_density  Vehicle_condition  Type_of_order  Type_of_vehicle  \\\n",
       "0                     0                  2              0                0   \n",
       "1                     1                  2              0                1   \n",
       "2                     2                  0              1                0   \n",
       "3                     3                  0              2                0   \n",
       "4                     0                  1              0                1   \n",
       "\n",
       "   multiple_deliveries  Festival  City  Time_taken(min)  \n",
       "0                    0         0     0               24  \n",
       "1                    1         0     1               33  \n",
       "2                    1         0     0               26  \n",
       "3                    1         0     1               21  \n",
       "4                    1         0     1               30  "
      ]
     },
     "execution_count": 52,
     "metadata": {},
     "output_type": "execute_result"
    }
   ],
   "source": [
    "df8.head()"
   ]
  },
  {
   "cell_type": "code",
   "execution_count": 87,
   "metadata": {},
   "outputs": [
    {
     "name": "stdout",
     "output_type": "stream",
     "text": [
      "A decision tree regressor.\n",
      "\n",
      "    Read more in the :ref:`User Guide <tree>`.\n",
      "\n",
      "    Parameters\n",
      "    ----------\n",
      "    criterion : {\"squared_error\", \"friedman_mse\", \"absolute_error\",             \"poisson\"}, default=\"squared_error\"\n",
      "        The function to measure the quality of a split. Supported criteria\n",
      "        are \"squared_error\" for the mean squared error, which is equal to\n",
      "        variance reduction as feature selection criterion and minimizes the L2\n",
      "        loss using the mean of each terminal node, \"friedman_mse\", which uses\n",
      "        mean squared error with Friedman's improvement score for potential\n",
      "        splits, \"absolute_error\" for the mean absolute error, which minimizes\n",
      "        the L1 loss using the median of each terminal node, and \"poisson\" which\n",
      "        uses reduction in Poisson deviance to find splits.\n",
      "\n",
      "        .. versionadded:: 0.18\n",
      "           Mean Absolute Error (MAE) criterion.\n",
      "\n",
      "        .. versionadded:: 0.24\n",
      "            Poisson deviance criterion.\n",
      "\n",
      "        .. deprecated:: 1.0\n",
      "            Criterion \"mse\" was deprecated in v1.0 and will be removed in\n",
      "            version 1.2. Use `criterion=\"squared_error\"` which is equivalent.\n",
      "\n",
      "        .. deprecated:: 1.0\n",
      "            Criterion \"mae\" was deprecated in v1.0 and will be removed in\n",
      "            version 1.2. Use `criterion=\"absolute_error\"` which is equivalent.\n",
      "\n",
      "    splitter : {\"best\", \"random\"}, default=\"best\"\n",
      "        The strategy used to choose the split at each node. Supported\n",
      "        strategies are \"best\" to choose the best split and \"random\" to choose\n",
      "        the best random split.\n",
      "\n",
      "    max_depth : int, default=None\n",
      "        The maximum depth of the tree. If None, then nodes are expanded until\n",
      "        all leaves are pure or until all leaves contain less than\n",
      "        min_samples_split samples.\n",
      "\n",
      "    min_samples_split : int or float, default=2\n",
      "        The minimum number of samples required to split an internal node:\n",
      "\n",
      "        - If int, then consider `min_samples_split` as the minimum number.\n",
      "        - If float, then `min_samples_split` is a fraction and\n",
      "          `ceil(min_samples_split * n_samples)` are the minimum\n",
      "          number of samples for each split.\n",
      "\n",
      "        .. versionchanged:: 0.18\n",
      "           Added float values for fractions.\n",
      "\n",
      "    min_samples_leaf : int or float, default=1\n",
      "        The minimum number of samples required to be at a leaf node.\n",
      "        A split point at any depth will only be considered if it leaves at\n",
      "        least ``min_samples_leaf`` training samples in each of the left and\n",
      "        right branches.  This may have the effect of smoothing the model,\n",
      "        especially in regression.\n",
      "\n",
      "        - If int, then consider `min_samples_leaf` as the minimum number.\n",
      "        - If float, then `min_samples_leaf` is a fraction and\n",
      "          `ceil(min_samples_leaf * n_samples)` are the minimum\n",
      "          number of samples for each node.\n",
      "\n",
      "        .. versionchanged:: 0.18\n",
      "           Added float values for fractions.\n",
      "\n",
      "    min_weight_fraction_leaf : float, default=0.0\n",
      "        The minimum weighted fraction of the sum total of weights (of all\n",
      "        the input samples) required to be at a leaf node. Samples have\n",
      "        equal weight when sample_weight is not provided.\n",
      "\n",
      "    max_features : int, float or {\"auto\", \"sqrt\", \"log2\"}, default=None\n",
      "        The number of features to consider when looking for the best split:\n",
      "\n",
      "        - If int, then consider `max_features` features at each split.\n",
      "        - If float, then `max_features` is a fraction and\n",
      "          `int(max_features * n_features)` features are considered at each\n",
      "          split.\n",
      "        - If \"auto\", then `max_features=n_features`.\n",
      "        - If \"sqrt\", then `max_features=sqrt(n_features)`.\n",
      "        - If \"log2\", then `max_features=log2(n_features)`.\n",
      "        - If None, then `max_features=n_features`.\n",
      "\n",
      "        Note: the search for a split does not stop until at least one\n",
      "        valid partition of the node samples is found, even if it requires to\n",
      "        effectively inspect more than ``max_features`` features.\n",
      "\n",
      "    random_state : int, RandomState instance or None, default=None\n",
      "        Controls the randomness of the estimator. The features are always\n",
      "        randomly permuted at each split, even if ``splitter`` is set to\n",
      "        ``\"best\"``. When ``max_features < n_features``, the algorithm will\n",
      "        select ``max_features`` at random at each split before finding the best\n",
      "        split among them. But the best found split may vary across different\n",
      "        runs, even if ``max_features=n_features``. That is the case, if the\n",
      "        improvement of the criterion is identical for several splits and one\n",
      "        split has to be selected at random. To obtain a deterministic behaviour\n",
      "        during fitting, ``random_state`` has to be fixed to an integer.\n",
      "        See :term:`Glossary <random_state>` for details.\n",
      "\n",
      "    max_leaf_nodes : int, default=None\n",
      "        Grow a tree with ``max_leaf_nodes`` in best-first fashion.\n",
      "        Best nodes are defined as relative reduction in impurity.\n",
      "        If None then unlimited number of leaf nodes.\n",
      "\n",
      "    min_impurity_decrease : float, default=0.0\n",
      "        A node will be split if this split induces a decrease of the impurity\n",
      "        greater than or equal to this value.\n",
      "\n",
      "        The weighted impurity decrease equation is the following::\n",
      "\n",
      "            N_t / N * (impurity - N_t_R / N_t * right_impurity\n",
      "                                - N_t_L / N_t * left_impurity)\n",
      "\n",
      "        where ``N`` is the total number of samples, ``N_t`` is the number of\n",
      "        samples at the current node, ``N_t_L`` is the number of samples in the\n",
      "        left child, and ``N_t_R`` is the number of samples in the right child.\n",
      "\n",
      "        ``N``, ``N_t``, ``N_t_R`` and ``N_t_L`` all refer to the weighted sum,\n",
      "        if ``sample_weight`` is passed.\n",
      "\n",
      "        .. versionadded:: 0.19\n",
      "\n",
      "    ccp_alpha : non-negative float, default=0.0\n",
      "        Complexity parameter used for Minimal Cost-Complexity Pruning. The\n",
      "        subtree with the largest cost complexity that is smaller than\n",
      "        ``ccp_alpha`` will be chosen. By default, no pruning is performed. See\n",
      "        :ref:`minimal_cost_complexity_pruning` for details.\n",
      "\n",
      "        .. versionadded:: 0.22\n",
      "\n",
      "    Attributes\n",
      "    ----------\n",
      "    feature_importances_ : ndarray of shape (n_features,)\n",
      "        The feature importances.\n",
      "        The higher, the more important the feature.\n",
      "        The importance of a feature is computed as the\n",
      "        (normalized) total reduction of the criterion brought\n",
      "        by that feature. It is also known as the Gini importance [4]_.\n",
      "\n",
      "        Warning: impurity-based feature importances can be misleading for\n",
      "        high cardinality features (many unique values). See\n",
      "        :func:`sklearn.inspection.permutation_importance` as an alternative.\n",
      "\n",
      "    max_features_ : int\n",
      "        The inferred value of max_features.\n",
      "\n",
      "    n_features_ : int\n",
      "        The number of features when ``fit`` is performed.\n",
      "\n",
      "        .. deprecated:: 1.0\n",
      "           `n_features_` is deprecated in 1.0 and will be removed in\n",
      "           1.2. Use `n_features_in_` instead.\n",
      "\n",
      "    n_features_in_ : int\n",
      "        Number of features seen during :term:`fit`.\n",
      "\n",
      "        .. versionadded:: 0.24\n",
      "\n",
      "    feature_names_in_ : ndarray of shape (`n_features_in_`,)\n",
      "        Names of features seen during :term:`fit`. Defined only when `X`\n",
      "        has feature names that are all strings.\n",
      "\n",
      "        .. versionadded:: 1.0\n",
      "\n",
      "    n_outputs_ : int\n",
      "        The number of outputs when ``fit`` is performed.\n",
      "\n",
      "    tree_ : Tree instance\n",
      "        The underlying Tree object. Please refer to\n",
      "        ``help(sklearn.tree._tree.Tree)`` for attributes of Tree object and\n",
      "        :ref:`sphx_glr_auto_examples_tree_plot_unveil_tree_structure.py`\n",
      "        for basic usage of these attributes.\n",
      "\n",
      "    See Also\n",
      "    --------\n",
      "    DecisionTreeClassifier : A decision tree classifier.\n",
      "\n",
      "    Notes\n",
      "    -----\n",
      "    The default values for the parameters controlling the size of the trees\n",
      "    (e.g. ``max_depth``, ``min_samples_leaf``, etc.) lead to fully grown and\n",
      "    unpruned trees which can potentially be very large on some data sets. To\n",
      "    reduce memory consumption, the complexity and size of the trees should be\n",
      "    controlled by setting those parameter values.\n",
      "\n",
      "    References\n",
      "    ----------\n",
      "\n",
      "    .. [1] https://en.wikipedia.org/wiki/Decision_tree_learning\n",
      "\n",
      "    .. [2] L. Breiman, J. Friedman, R. Olshen, and C. Stone, \"Classification\n",
      "           and Regression Trees\", Wadsworth, Belmont, CA, 1984.\n",
      "\n",
      "    .. [3] T. Hastie, R. Tibshirani and J. Friedman. \"Elements of Statistical\n",
      "           Learning\", Springer, 2009.\n",
      "\n",
      "    .. [4] L. Breiman, and A. Cutler, \"Random Forests\",\n",
      "           https://www.stat.berkeley.edu/~breiman/RandomForests/cc_home.htm\n",
      "\n",
      "    Examples\n",
      "    --------\n",
      "    >>> from sklearn.datasets import load_diabetes\n",
      "    >>> from sklearn.model_selection import cross_val_score\n",
      "    >>> from sklearn.tree import DecisionTreeRegressor\n",
      "    >>> X, y = load_diabetes(return_X_y=True)\n",
      "    >>> regressor = DecisionTreeRegressor(random_state=0)\n",
      "    >>> cross_val_score(regressor, X, y, cv=10)\n",
      "    ...                    # doctest: +SKIP\n",
      "    ...\n",
      "    array([-0.39..., -0.46...,  0.02...,  0.06..., -0.50...,\n",
      "           0.16...,  0.11..., -0.73..., -0.30..., -0.00...])\n",
      "    \n"
     ]
    }
   ],
   "source": [
    "print(model.__doc__)"
   ]
  },
  {
   "cell_type": "code",
   "execution_count": 93,
   "metadata": {},
   "outputs": [],
   "source": [
    "model.__doc__ = '''\n",
    "model.predict([[\n",
    "    Delivery_person_Age,\n",
    "    Delivery_person_Ratings,\n",
    "    Weatherconditions,\n",
    "    Road_traffic_density,\n",
    "    Vehicle_condition,\n",
    "    Type_of_order,\n",
    "    Type_of_vehicle,\n",
    "    multiple_deliveries,\n",
    "    Festival,\n",
    "    City]])\n",
    "\n",
    "#Dictionary:\n",
    "{\n",
    "    \"Weatherconditions\": {\n",
    "        \"Sunny\": 0,\n",
    "        \"Stormy\": 1,\n",
    "        \"Sandstorms\": 2,\n",
    "        \"Cloudy\": 3,\n",
    "        \"Fog\": 4,\n",
    "        \"Windy\": 5\n",
    "    },\n",
    "    \"Road_traffic_density\": {\n",
    "        \"High \": 0,\n",
    "        \"Jam \": 1,\n",
    "        \"Low \": 2,\n",
    "        \"Medium \": 3\n",
    "    },\n",
    "    \"Type_of_order\": {\n",
    "        \"Snack \": 0,\n",
    "        \"Drinks \": 1,\n",
    "        \"Buffet \": 2,\n",
    "        \"Meal \": 3\n",
    "    },\n",
    "    \"Type_of_vehicle\": {\n",
    "        \"motorcycle \": 0,\n",
    "        \"scooter \": 1,\n",
    "        \"electric_scooter \": 2\n",
    "    },\n",
    "    \"City\": {\n",
    "        \"Urban \": 0,\n",
    "        \"Metropolitian \": 1,\n",
    "        \"Semi-Urban \": 2\n",
    "    }\n",
    "}'''"
   ]
  },
  {
   "cell_type": "markdown",
   "metadata": {},
   "source": [
    "Saving model:"
   ]
  },
  {
   "cell_type": "code",
   "execution_count": 94,
   "metadata": {},
   "outputs": [],
   "source": [
    "with open('deliveryModel.pickle', 'wb') as f:\n",
    "    pickle.dump(model, f)"
   ]
  }
 ],
 "metadata": {
  "kernelspec": {
   "display_name": "Python 3.8.0 64-bit",
   "language": "python",
   "name": "python3"
  },
  "language_info": {
   "codemirror_mode": {
    "name": "ipython",
    "version": 3
   },
   "file_extension": ".py",
   "mimetype": "text/x-python",
   "name": "python",
   "nbconvert_exporter": "python",
   "pygments_lexer": "ipython3",
   "version": "3.8.0"
  },
  "orig_nbformat": 4,
  "vscode": {
   "interpreter": {
    "hash": "dd64fa47c1d5079257f080924009caa6defb8a7561db6b8108c694ffeb1b1bc7"
   }
  }
 },
 "nbformat": 4,
 "nbformat_minor": 2
}
