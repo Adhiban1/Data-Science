{
 "cells": [
  {
   "cell_type": "code",
   "execution_count": 1,
   "metadata": {},
   "outputs": [],
   "source": [
    "import pandas as pd\n",
    "import numpy as np"
   ]
  },
  {
   "cell_type": "markdown",
   "metadata": {},
   "source": [
    "### Read CSV:"
   ]
  },
  {
   "cell_type": "code",
   "execution_count": 2,
   "metadata": {},
   "outputs": [],
   "source": [
    "df = pd.read_csv('dataset/Energy Data1.csv')\n",
    "df = df.drop(31, axis=0)\n",
    "df = df.fillna(0)"
   ]
  },
  {
   "cell_type": "code",
   "execution_count": 3,
   "metadata": {},
   "outputs": [
    {
     "data": {
      "text/html": [
       "<div>\n",
       "<style scoped>\n",
       "    .dataframe tbody tr th:only-of-type {\n",
       "        vertical-align: middle;\n",
       "    }\n",
       "\n",
       "    .dataframe tbody tr th {\n",
       "        vertical-align: top;\n",
       "    }\n",
       "\n",
       "    .dataframe thead th {\n",
       "        text-align: right;\n",
       "    }\n",
       "</style>\n",
       "<table border=\"1\" class=\"dataframe\">\n",
       "  <thead>\n",
       "    <tr style=\"text-align: right;\">\n",
       "      <th></th>\n",
       "      <th>Year</th>\n",
       "      <th>Energy Related CO2missions (Gigatonnes)</th>\n",
       "      <th>Oil Production (Million barrels per day)</th>\n",
       "      <th>Natural Gas Production (Billion Cubic Metres)</th>\n",
       "      <th>Coal Production (million tons)</th>\n",
       "      <th>Electricity Generation (Terawatt-hours)</th>\n",
       "      <th>Hydroelectricity consumption in TWh</th>\n",
       "      <th>Nuclear energy consumption in TWh</th>\n",
       "      <th>Installed Solar Capacity (GW)</th>\n",
       "      <th>Installed Wind Capacity in GW</th>\n",
       "    </tr>\n",
       "  </thead>\n",
       "  <tbody>\n",
       "    <tr>\n",
       "      <th>0</th>\n",
       "      <td>1991</td>\n",
       "      <td>20.6</td>\n",
       "      <td>65.44</td>\n",
       "      <td>2026.8</td>\n",
       "      <td>4481.0</td>\n",
       "      <td>12,218</td>\n",
       "      <td>2247.96</td>\n",
       "      <td>2089.56</td>\n",
       "      <td>0.0</td>\n",
       "      <td>1.93</td>\n",
       "    </tr>\n",
       "    <tr>\n",
       "      <th>1</th>\n",
       "      <td>1992</td>\n",
       "      <td>20.5</td>\n",
       "      <td>65.71</td>\n",
       "      <td>2039.4</td>\n",
       "      <td>4432.0</td>\n",
       "      <td>12,330</td>\n",
       "      <td>2240.48</td>\n",
       "      <td>2105.40</td>\n",
       "      <td>0.0</td>\n",
       "      <td>2.17</td>\n",
       "    </tr>\n",
       "    <tr>\n",
       "      <th>2</th>\n",
       "      <td>1993</td>\n",
       "      <td>20.6</td>\n",
       "      <td>65.99</td>\n",
       "      <td>2073.5</td>\n",
       "      <td>4327.0</td>\n",
       "      <td>12,592</td>\n",
       "      <td>2364.56</td>\n",
       "      <td>2179.32</td>\n",
       "      <td>0.0</td>\n",
       "      <td>2.50</td>\n",
       "    </tr>\n",
       "    <tr>\n",
       "      <th>3</th>\n",
       "      <td>1994</td>\n",
       "      <td>20.7</td>\n",
       "      <td>66.89</td>\n",
       "      <td>2095.7</td>\n",
       "      <td>4402.0</td>\n",
       "      <td>12,917</td>\n",
       "      <td>2382.16</td>\n",
       "      <td>2217.60</td>\n",
       "      <td>0.0</td>\n",
       "      <td>2.99</td>\n",
       "    </tr>\n",
       "    <tr>\n",
       "      <th>4</th>\n",
       "      <td>1995</td>\n",
       "      <td>21.3</td>\n",
       "      <td>67.85</td>\n",
       "      <td>2136.1</td>\n",
       "      <td>4557.0</td>\n",
       "      <td>13,375</td>\n",
       "      <td>2508.44</td>\n",
       "      <td>2314.84</td>\n",
       "      <td>0.0</td>\n",
       "      <td>3.49</td>\n",
       "    </tr>\n",
       "    <tr>\n",
       "      <th>5</th>\n",
       "      <td>1996</td>\n",
       "      <td>21.7</td>\n",
       "      <td>69.67</td>\n",
       "      <td>2230.0</td>\n",
       "      <td>4622.0</td>\n",
       "      <td>13,789</td>\n",
       "      <td>2548.92</td>\n",
       "      <td>2397.12</td>\n",
       "      <td>0.0</td>\n",
       "      <td>6.10</td>\n",
       "    </tr>\n",
       "    <tr>\n",
       "      <th>6</th>\n",
       "      <td>1997</td>\n",
       "      <td>22.1</td>\n",
       "      <td>71.85</td>\n",
       "      <td>2233.0</td>\n",
       "      <td>4621.0</td>\n",
       "      <td>14,121</td>\n",
       "      <td>2589.40</td>\n",
       "      <td>2381.28</td>\n",
       "      <td>0.0</td>\n",
       "      <td>7.60</td>\n",
       "    </tr>\n",
       "    <tr>\n",
       "      <th>7</th>\n",
       "      <td>1998</td>\n",
       "      <td>22.3</td>\n",
       "      <td>73.28</td>\n",
       "      <td>2284.1</td>\n",
       "      <td>4569.0</td>\n",
       "      <td>14,503</td>\n",
       "      <td>2620.64</td>\n",
       "      <td>2422.20</td>\n",
       "      <td>0.0</td>\n",
       "      <td>10.20</td>\n",
       "    </tr>\n",
       "    <tr>\n",
       "      <th>8</th>\n",
       "      <td>1999</td>\n",
       "      <td>22.4</td>\n",
       "      <td>71.83</td>\n",
       "      <td>2339.3</td>\n",
       "      <td>4499.0</td>\n",
       "      <td>14,918</td>\n",
       "      <td>2640.00</td>\n",
       "      <td>2514.16</td>\n",
       "      <td>0.0</td>\n",
       "      <td>13.60</td>\n",
       "    </tr>\n",
       "    <tr>\n",
       "      <th>9</th>\n",
       "      <td>2000</td>\n",
       "      <td>23.1</td>\n",
       "      <td>74.48</td>\n",
       "      <td>2421.8</td>\n",
       "      <td>4638.0</td>\n",
       "      <td>15,556</td>\n",
       "      <td>2714.36</td>\n",
       "      <td>2574.00</td>\n",
       "      <td>1.3</td>\n",
       "      <td>17.00</td>\n",
       "    </tr>\n",
       "    <tr>\n",
       "      <th>10</th>\n",
       "      <td>2001</td>\n",
       "      <td>23.5</td>\n",
       "      <td>74.49</td>\n",
       "      <td>2477.2</td>\n",
       "      <td>4860.0</td>\n",
       "      <td>15,789</td>\n",
       "      <td>2615.80</td>\n",
       "      <td>2645.28</td>\n",
       "      <td>1.6</td>\n",
       "      <td>24.00</td>\n",
       "    </tr>\n",
       "    <tr>\n",
       "      <th>11</th>\n",
       "      <td>2002</td>\n",
       "      <td>23.8</td>\n",
       "      <td>74.95</td>\n",
       "      <td>2518.9</td>\n",
       "      <td>4914.0</td>\n",
       "      <td>16,345</td>\n",
       "      <td>2633.84</td>\n",
       "      <td>2686.20</td>\n",
       "      <td>2.1</td>\n",
       "      <td>31.00</td>\n",
       "    </tr>\n",
       "    <tr>\n",
       "      <th>12</th>\n",
       "      <td>2003</td>\n",
       "      <td>24.9</td>\n",
       "      <td>77.57</td>\n",
       "      <td>2616.6</td>\n",
       "      <td>5263.0</td>\n",
       "      <td>16,924</td>\n",
       "      <td>2632.96</td>\n",
       "      <td>2632.52</td>\n",
       "      <td>2.6</td>\n",
       "      <td>39.00</td>\n",
       "    </tr>\n",
       "    <tr>\n",
       "      <th>13</th>\n",
       "      <td>2004</td>\n",
       "      <td>26.0</td>\n",
       "      <td>80.97</td>\n",
       "      <td>2688.5</td>\n",
       "      <td>5663.0</td>\n",
       "      <td>17,727</td>\n",
       "      <td>2797.52</td>\n",
       "      <td>2749.56</td>\n",
       "      <td>3.7</td>\n",
       "      <td>48.00</td>\n",
       "    </tr>\n",
       "    <tr>\n",
       "      <th>14</th>\n",
       "      <td>2005</td>\n",
       "      <td>27.0</td>\n",
       "      <td>82.01</td>\n",
       "      <td>2770.4</td>\n",
       "      <td>6022.0</td>\n",
       "      <td>18,454</td>\n",
       "      <td>2914.12</td>\n",
       "      <td>2757.48</td>\n",
       "      <td>5.1</td>\n",
       "      <td>59.00</td>\n",
       "    </tr>\n",
       "    <tr>\n",
       "      <th>15</th>\n",
       "      <td>2006</td>\n",
       "      <td>27.8</td>\n",
       "      <td>82.48</td>\n",
       "      <td>2869.4</td>\n",
       "      <td>6367.0</td>\n",
       "      <td>19,155</td>\n",
       "      <td>3023.68</td>\n",
       "      <td>2794.88</td>\n",
       "      <td>6.7</td>\n",
       "      <td>74.00</td>\n",
       "    </tr>\n",
       "    <tr>\n",
       "      <th>16</th>\n",
       "      <td>2007</td>\n",
       "      <td>28.9</td>\n",
       "      <td>82.29</td>\n",
       "      <td>2939.3</td>\n",
       "      <td>6644.0</td>\n",
       "      <td>20,046</td>\n",
       "      <td>3081.76</td>\n",
       "      <td>2735.92</td>\n",
       "      <td>9.2</td>\n",
       "      <td>94.00</td>\n",
       "    </tr>\n",
       "    <tr>\n",
       "      <th>17</th>\n",
       "      <td>2008</td>\n",
       "      <td>29.1</td>\n",
       "      <td>82.93</td>\n",
       "      <td>3047.2</td>\n",
       "      <td>6842.0</td>\n",
       "      <td>20,422</td>\n",
       "      <td>3201.88</td>\n",
       "      <td>2723.60</td>\n",
       "      <td>16.0</td>\n",
       "      <td>121.00</td>\n",
       "    </tr>\n",
       "    <tr>\n",
       "      <th>18</th>\n",
       "      <td>2009</td>\n",
       "      <td>28.7</td>\n",
       "      <td>81.26</td>\n",
       "      <td>2955.9</td>\n",
       "      <td>6968.0</td>\n",
       "      <td>20,265</td>\n",
       "      <td>3245.00</td>\n",
       "      <td>2702.04</td>\n",
       "      <td>23.0</td>\n",
       "      <td>159.00</td>\n",
       "    </tr>\n",
       "    <tr>\n",
       "      <th>19</th>\n",
       "      <td>2010</td>\n",
       "      <td>30.4</td>\n",
       "      <td>83.29</td>\n",
       "      <td>3150.8</td>\n",
       "      <td>7354.0</td>\n",
       "      <td>21570.7</td>\n",
       "      <td>3427.16</td>\n",
       "      <td>2755.72</td>\n",
       "      <td>40.0</td>\n",
       "      <td>198.00</td>\n",
       "    </tr>\n",
       "    <tr>\n",
       "      <th>20</th>\n",
       "      <td>2011</td>\n",
       "      <td>31.3</td>\n",
       "      <td>84.04</td>\n",
       "      <td>3258.0</td>\n",
       "      <td>7833.0</td>\n",
       "      <td>22257</td>\n",
       "      <td>3482.60</td>\n",
       "      <td>2636.92</td>\n",
       "      <td>70.0</td>\n",
       "      <td>238.00</td>\n",
       "    </tr>\n",
       "    <tr>\n",
       "      <th>21</th>\n",
       "      <td>2012</td>\n",
       "      <td>31.6</td>\n",
       "      <td>86.26</td>\n",
       "      <td>3326.8</td>\n",
       "      <td>7936.0</td>\n",
       "      <td>22806.3</td>\n",
       "      <td>3655.08</td>\n",
       "      <td>2461.80</td>\n",
       "      <td>101.0</td>\n",
       "      <td>283.00</td>\n",
       "    </tr>\n",
       "    <tr>\n",
       "      <th>22</th>\n",
       "      <td>2013</td>\n",
       "      <td>32.2</td>\n",
       "      <td>86.67</td>\n",
       "      <td>3366.1</td>\n",
       "      <td>7976.0</td>\n",
       "      <td>23435.2</td>\n",
       "      <td>3781.36</td>\n",
       "      <td>2480.72</td>\n",
       "      <td>138.0</td>\n",
       "      <td>319.00</td>\n",
       "    </tr>\n",
       "    <tr>\n",
       "      <th>23</th>\n",
       "      <td>2014</td>\n",
       "      <td>32.3</td>\n",
       "      <td>88.83</td>\n",
       "      <td>3437.9</td>\n",
       "      <td>7939.0</td>\n",
       "      <td>24031.7</td>\n",
       "      <td>3870.68</td>\n",
       "      <td>2530.00</td>\n",
       "      <td>178.0</td>\n",
       "      <td>370.00</td>\n",
       "    </tr>\n",
       "    <tr>\n",
       "      <th>24</th>\n",
       "      <td>2015</td>\n",
       "      <td>32.2</td>\n",
       "      <td>91.63</td>\n",
       "      <td>3511.7</td>\n",
       "      <td>7669.0</td>\n",
       "      <td>24270.5</td>\n",
       "      <td>3874.20</td>\n",
       "      <td>2564.32</td>\n",
       "      <td>230.0</td>\n",
       "      <td>433.00</td>\n",
       "    </tr>\n",
       "    <tr>\n",
       "      <th>25</th>\n",
       "      <td>2016</td>\n",
       "      <td>32.2</td>\n",
       "      <td>91.99</td>\n",
       "      <td>3552.1</td>\n",
       "      <td>7293.0</td>\n",
       "      <td>24915.2</td>\n",
       "      <td>4018.52</td>\n",
       "      <td>2601.28</td>\n",
       "      <td>308.0</td>\n",
       "      <td>488.00</td>\n",
       "    </tr>\n",
       "    <tr>\n",
       "      <th>26</th>\n",
       "      <td>2017</td>\n",
       "      <td>32.7</td>\n",
       "      <td>92.57</td>\n",
       "      <td>3676.2</td>\n",
       "      <td>7545.0</td>\n",
       "      <td>25623.9</td>\n",
       "      <td>4041.84</td>\n",
       "      <td>2624.16</td>\n",
       "      <td>407.0</td>\n",
       "      <td>540.00</td>\n",
       "    </tr>\n",
       "    <tr>\n",
       "      <th>27</th>\n",
       "      <td>2018</td>\n",
       "      <td>33.5</td>\n",
       "      <td>94.85</td>\n",
       "      <td>3852.9</td>\n",
       "      <td>7827.0</td>\n",
       "      <td>26659.1</td>\n",
       "      <td>4231.00</td>\n",
       "      <td>2700.46</td>\n",
       "      <td>508.0</td>\n",
       "      <td>592.00</td>\n",
       "    </tr>\n",
       "    <tr>\n",
       "      <th>28</th>\n",
       "      <td>2019</td>\n",
       "      <td>33.4</td>\n",
       "      <td>94.96</td>\n",
       "      <td>3976.2</td>\n",
       "      <td>7960.0</td>\n",
       "      <td>27001</td>\n",
       "      <td>4294.00</td>\n",
       "      <td>2796.35</td>\n",
       "      <td>629.0</td>\n",
       "      <td>651.00</td>\n",
       "    </tr>\n",
       "    <tr>\n",
       "      <th>29</th>\n",
       "      <td>2020</td>\n",
       "      <td>31.5</td>\n",
       "      <td>88.39</td>\n",
       "      <td>3853.7</td>\n",
       "      <td>7575.0</td>\n",
       "      <td>26889</td>\n",
       "      <td>4370.00</td>\n",
       "      <td>2693.98</td>\n",
       "      <td>773.2</td>\n",
       "      <td>744.00</td>\n",
       "    </tr>\n",
       "    <tr>\n",
       "      <th>30</th>\n",
       "      <td>2021</td>\n",
       "      <td>33.0</td>\n",
       "      <td>89.90</td>\n",
       "      <td>0.0</td>\n",
       "      <td>0.0</td>\n",
       "      <td>28466</td>\n",
       "      <td>4250.00</td>\n",
       "      <td>2800.27</td>\n",
       "      <td>939.0</td>\n",
       "      <td>837.00</td>\n",
       "    </tr>\n",
       "  </tbody>\n",
       "</table>\n",
       "</div>"
      ],
      "text/plain": [
       "    Year  Energy Related CO2missions (Gigatonnes)  \\\n",
       "0   1991                                     20.6   \n",
       "1   1992                                     20.5   \n",
       "2   1993                                     20.6   \n",
       "3   1994                                     20.7   \n",
       "4   1995                                     21.3   \n",
       "5   1996                                     21.7   \n",
       "6   1997                                     22.1   \n",
       "7   1998                                     22.3   \n",
       "8   1999                                     22.4   \n",
       "9   2000                                     23.1   \n",
       "10  2001                                     23.5   \n",
       "11  2002                                     23.8   \n",
       "12  2003                                     24.9   \n",
       "13  2004                                     26.0   \n",
       "14  2005                                     27.0   \n",
       "15  2006                                     27.8   \n",
       "16  2007                                     28.9   \n",
       "17  2008                                     29.1   \n",
       "18  2009                                     28.7   \n",
       "19  2010                                     30.4   \n",
       "20  2011                                     31.3   \n",
       "21  2012                                     31.6   \n",
       "22  2013                                     32.2   \n",
       "23  2014                                     32.3   \n",
       "24  2015                                     32.2   \n",
       "25  2016                                     32.2   \n",
       "26  2017                                     32.7   \n",
       "27  2018                                     33.5   \n",
       "28  2019                                     33.4   \n",
       "29  2020                                     31.5   \n",
       "30  2021                                     33.0   \n",
       "\n",
       "    Oil Production (Million barrels per day)  \\\n",
       "0                                      65.44   \n",
       "1                                      65.71   \n",
       "2                                      65.99   \n",
       "3                                      66.89   \n",
       "4                                      67.85   \n",
       "5                                      69.67   \n",
       "6                                      71.85   \n",
       "7                                      73.28   \n",
       "8                                      71.83   \n",
       "9                                      74.48   \n",
       "10                                     74.49   \n",
       "11                                     74.95   \n",
       "12                                     77.57   \n",
       "13                                     80.97   \n",
       "14                                     82.01   \n",
       "15                                     82.48   \n",
       "16                                     82.29   \n",
       "17                                     82.93   \n",
       "18                                     81.26   \n",
       "19                                     83.29   \n",
       "20                                     84.04   \n",
       "21                                     86.26   \n",
       "22                                     86.67   \n",
       "23                                     88.83   \n",
       "24                                     91.63   \n",
       "25                                     91.99   \n",
       "26                                     92.57   \n",
       "27                                     94.85   \n",
       "28                                     94.96   \n",
       "29                                     88.39   \n",
       "30                                     89.90   \n",
       "\n",
       "    Natural Gas Production (Billion Cubic Metres)  \\\n",
       "0                                          2026.8   \n",
       "1                                          2039.4   \n",
       "2                                          2073.5   \n",
       "3                                          2095.7   \n",
       "4                                          2136.1   \n",
       "5                                          2230.0   \n",
       "6                                          2233.0   \n",
       "7                                          2284.1   \n",
       "8                                          2339.3   \n",
       "9                                          2421.8   \n",
       "10                                         2477.2   \n",
       "11                                         2518.9   \n",
       "12                                         2616.6   \n",
       "13                                         2688.5   \n",
       "14                                         2770.4   \n",
       "15                                         2869.4   \n",
       "16                                         2939.3   \n",
       "17                                         3047.2   \n",
       "18                                         2955.9   \n",
       "19                                         3150.8   \n",
       "20                                         3258.0   \n",
       "21                                         3326.8   \n",
       "22                                         3366.1   \n",
       "23                                         3437.9   \n",
       "24                                         3511.7   \n",
       "25                                         3552.1   \n",
       "26                                         3676.2   \n",
       "27                                         3852.9   \n",
       "28                                         3976.2   \n",
       "29                                         3853.7   \n",
       "30                                            0.0   \n",
       "\n",
       "    Coal Production (million tons) Electricity Generation (Terawatt-hours)  \\\n",
       "0                           4481.0                                  12,218   \n",
       "1                           4432.0                                  12,330   \n",
       "2                           4327.0                                  12,592   \n",
       "3                           4402.0                                  12,917   \n",
       "4                           4557.0                                  13,375   \n",
       "5                           4622.0                                  13,789   \n",
       "6                           4621.0                                  14,121   \n",
       "7                           4569.0                                  14,503   \n",
       "8                           4499.0                                  14,918   \n",
       "9                           4638.0                                  15,556   \n",
       "10                          4860.0                                  15,789   \n",
       "11                          4914.0                                  16,345   \n",
       "12                          5263.0                                  16,924   \n",
       "13                          5663.0                                  17,727   \n",
       "14                          6022.0                                  18,454   \n",
       "15                          6367.0                                  19,155   \n",
       "16                          6644.0                                  20,046   \n",
       "17                          6842.0                                  20,422   \n",
       "18                          6968.0                                  20,265   \n",
       "19                          7354.0                                 21570.7   \n",
       "20                          7833.0                                   22257   \n",
       "21                          7936.0                                 22806.3   \n",
       "22                          7976.0                                 23435.2   \n",
       "23                          7939.0                                 24031.7   \n",
       "24                          7669.0                                 24270.5   \n",
       "25                          7293.0                                 24915.2   \n",
       "26                          7545.0                                 25623.9   \n",
       "27                          7827.0                                 26659.1   \n",
       "28                          7960.0                                   27001   \n",
       "29                          7575.0                                   26889   \n",
       "30                             0.0                                   28466   \n",
       "\n",
       "    Hydroelectricity consumption in TWh  Nuclear energy consumption in TWh  \\\n",
       "0                               2247.96                            2089.56   \n",
       "1                               2240.48                            2105.40   \n",
       "2                               2364.56                            2179.32   \n",
       "3                               2382.16                            2217.60   \n",
       "4                               2508.44                            2314.84   \n",
       "5                               2548.92                            2397.12   \n",
       "6                               2589.40                            2381.28   \n",
       "7                               2620.64                            2422.20   \n",
       "8                               2640.00                            2514.16   \n",
       "9                               2714.36                            2574.00   \n",
       "10                              2615.80                            2645.28   \n",
       "11                              2633.84                            2686.20   \n",
       "12                              2632.96                            2632.52   \n",
       "13                              2797.52                            2749.56   \n",
       "14                              2914.12                            2757.48   \n",
       "15                              3023.68                            2794.88   \n",
       "16                              3081.76                            2735.92   \n",
       "17                              3201.88                            2723.60   \n",
       "18                              3245.00                            2702.04   \n",
       "19                              3427.16                            2755.72   \n",
       "20                              3482.60                            2636.92   \n",
       "21                              3655.08                            2461.80   \n",
       "22                              3781.36                            2480.72   \n",
       "23                              3870.68                            2530.00   \n",
       "24                              3874.20                            2564.32   \n",
       "25                              4018.52                            2601.28   \n",
       "26                              4041.84                            2624.16   \n",
       "27                              4231.00                            2700.46   \n",
       "28                              4294.00                            2796.35   \n",
       "29                              4370.00                            2693.98   \n",
       "30                              4250.00                            2800.27   \n",
       "\n",
       "    Installed Solar Capacity (GW)  Installed Wind Capacity in GW  \n",
       "0                             0.0                           1.93  \n",
       "1                             0.0                           2.17  \n",
       "2                             0.0                           2.50  \n",
       "3                             0.0                           2.99  \n",
       "4                             0.0                           3.49  \n",
       "5                             0.0                           6.10  \n",
       "6                             0.0                           7.60  \n",
       "7                             0.0                          10.20  \n",
       "8                             0.0                          13.60  \n",
       "9                             1.3                          17.00  \n",
       "10                            1.6                          24.00  \n",
       "11                            2.1                          31.00  \n",
       "12                            2.6                          39.00  \n",
       "13                            3.7                          48.00  \n",
       "14                            5.1                          59.00  \n",
       "15                            6.7                          74.00  \n",
       "16                            9.2                          94.00  \n",
       "17                           16.0                         121.00  \n",
       "18                           23.0                         159.00  \n",
       "19                           40.0                         198.00  \n",
       "20                           70.0                         238.00  \n",
       "21                          101.0                         283.00  \n",
       "22                          138.0                         319.00  \n",
       "23                          178.0                         370.00  \n",
       "24                          230.0                         433.00  \n",
       "25                          308.0                         488.00  \n",
       "26                          407.0                         540.00  \n",
       "27                          508.0                         592.00  \n",
       "28                          629.0                         651.00  \n",
       "29                          773.2                         744.00  \n",
       "30                          939.0                         837.00  "
      ]
     },
     "execution_count": 3,
     "metadata": {},
     "output_type": "execute_result"
    }
   ],
   "source": [
    "df"
   ]
  },
  {
   "cell_type": "code",
   "execution_count": 4,
   "metadata": {},
   "outputs": [
    {
     "name": "stdout",
     "output_type": "stream",
     "text": [
      "<class 'pandas.core.frame.DataFrame'>\n",
      "RangeIndex: 31 entries, 0 to 30\n",
      "Data columns (total 10 columns):\n",
      " #   Column                                         Non-Null Count  Dtype  \n",
      "---  ------                                         --------------  -----  \n",
      " 0   Year                                           31 non-null     int64  \n",
      " 1   Energy Related CO2missions (Gigatonnes)        31 non-null     float64\n",
      " 2   Oil Production (Million barrels per day)       31 non-null     float64\n",
      " 3   Natural Gas Production (Billion Cubic Metres)  31 non-null     float64\n",
      " 4   Coal Production (million tons)                 31 non-null     float64\n",
      " 5   Electricity Generation (Terawatt-hours)        31 non-null     object \n",
      " 6   Hydroelectricity consumption in TWh            31 non-null     float64\n",
      " 7   Nuclear energy consumption in TWh              31 non-null     float64\n",
      " 8   Installed Solar Capacity (GW)                  31 non-null     float64\n",
      " 9   Installed Wind Capacity in GW                  31 non-null     float64\n",
      "dtypes: float64(8), int64(1), object(1)\n",
      "memory usage: 2.5+ KB\n"
     ]
    }
   ],
   "source": [
    "df.info()"
   ]
  },
  {
   "cell_type": "markdown",
   "metadata": {},
   "source": [
    "### Converting Electricity Generation (Terawatt-hours) to int:"
   ]
  },
  {
   "cell_type": "code",
   "execution_count": 5,
   "metadata": {},
   "outputs": [],
   "source": [
    "df['Electricity Generation (Terawatt-hours)'] = (df['Electricity Generation (Terawatt-hours)']\n",
    ".str.replace(',', '')\n",
    ".astype('float64')\n",
    ".astype('int16'))"
   ]
  },
  {
   "cell_type": "code",
   "execution_count": 6,
   "metadata": {},
   "outputs": [
    {
     "name": "stdout",
     "output_type": "stream",
     "text": [
      "<class 'pandas.core.frame.DataFrame'>\n",
      "RangeIndex: 31 entries, 0 to 30\n",
      "Data columns (total 10 columns):\n",
      " #   Column                                         Non-Null Count  Dtype  \n",
      "---  ------                                         --------------  -----  \n",
      " 0   Year                                           31 non-null     int64  \n",
      " 1   Energy Related CO2missions (Gigatonnes)        31 non-null     float64\n",
      " 2   Oil Production (Million barrels per day)       31 non-null     float64\n",
      " 3   Natural Gas Production (Billion Cubic Metres)  31 non-null     float64\n",
      " 4   Coal Production (million tons)                 31 non-null     float64\n",
      " 5   Electricity Generation (Terawatt-hours)        31 non-null     int16  \n",
      " 6   Hydroelectricity consumption in TWh            31 non-null     float64\n",
      " 7   Nuclear energy consumption in TWh              31 non-null     float64\n",
      " 8   Installed Solar Capacity (GW)                  31 non-null     float64\n",
      " 9   Installed Wind Capacity in GW                  31 non-null     float64\n",
      "dtypes: float64(8), int16(1), int64(1)\n",
      "memory usage: 2.4 KB\n"
     ]
    }
   ],
   "source": [
    "df.info()"
   ]
  },
  {
   "cell_type": "markdown",
   "metadata": {},
   "source": [
    "### Saving df:"
   ]
  },
  {
   "cell_type": "code",
   "execution_count": 14,
   "metadata": {},
   "outputs": [
    {
     "data": {
      "text/plain": [
       "31"
      ]
     },
     "execution_count": 14,
     "metadata": {},
     "output_type": "execute_result"
    }
   ],
   "source": [
    "import sqlite3\n",
    "con = sqlite3.connect('Energy Data.sqlite3')\n",
    "df.to_sql('energy_data', con, index=False, if_exists='replace')"
   ]
  },
  {
   "cell_type": "markdown",
   "metadata": {},
   "source": [
    "### Loading Data:"
   ]
  },
  {
   "cell_type": "code",
   "execution_count": 17,
   "metadata": {},
   "outputs": [
    {
     "data": {
      "text/html": [
       "<div>\n",
       "<style scoped>\n",
       "    .dataframe tbody tr th:only-of-type {\n",
       "        vertical-align: middle;\n",
       "    }\n",
       "\n",
       "    .dataframe tbody tr th {\n",
       "        vertical-align: top;\n",
       "    }\n",
       "\n",
       "    .dataframe thead th {\n",
       "        text-align: right;\n",
       "    }\n",
       "</style>\n",
       "<table border=\"1\" class=\"dataframe\">\n",
       "  <thead>\n",
       "    <tr style=\"text-align: right;\">\n",
       "      <th></th>\n",
       "      <th>Year</th>\n",
       "      <th>Energy Related CO2missions (Gigatonnes)</th>\n",
       "      <th>Oil Production (Million barrels per day)</th>\n",
       "      <th>Natural Gas Production (Billion Cubic Metres)</th>\n",
       "      <th>Coal Production (million tons)</th>\n",
       "      <th>Electricity Generation (Terawatt-hours)</th>\n",
       "      <th>Hydroelectricity consumption in TWh</th>\n",
       "      <th>Nuclear energy consumption in TWh</th>\n",
       "      <th>Installed Solar Capacity (GW)</th>\n",
       "      <th>Installed Wind Capacity in GW</th>\n",
       "    </tr>\n",
       "  </thead>\n",
       "  <tbody>\n",
       "    <tr>\n",
       "      <th>0</th>\n",
       "      <td>1991</td>\n",
       "      <td>20.6</td>\n",
       "      <td>65.44</td>\n",
       "      <td>2026.8</td>\n",
       "      <td>4481</td>\n",
       "      <td>12218</td>\n",
       "      <td>2247.96</td>\n",
       "      <td>2089.56</td>\n",
       "      <td>0.0</td>\n",
       "      <td>1.93</td>\n",
       "    </tr>\n",
       "    <tr>\n",
       "      <th>1</th>\n",
       "      <td>1992</td>\n",
       "      <td>20.5</td>\n",
       "      <td>65.71</td>\n",
       "      <td>2039.4</td>\n",
       "      <td>4432</td>\n",
       "      <td>12330</td>\n",
       "      <td>2240.48</td>\n",
       "      <td>2105.40</td>\n",
       "      <td>0.0</td>\n",
       "      <td>2.17</td>\n",
       "    </tr>\n",
       "    <tr>\n",
       "      <th>2</th>\n",
       "      <td>1993</td>\n",
       "      <td>20.6</td>\n",
       "      <td>65.99</td>\n",
       "      <td>2073.5</td>\n",
       "      <td>4327</td>\n",
       "      <td>12592</td>\n",
       "      <td>2364.56</td>\n",
       "      <td>2179.32</td>\n",
       "      <td>0.0</td>\n",
       "      <td>2.50</td>\n",
       "    </tr>\n",
       "    <tr>\n",
       "      <th>3</th>\n",
       "      <td>1994</td>\n",
       "      <td>20.7</td>\n",
       "      <td>66.89</td>\n",
       "      <td>2095.7</td>\n",
       "      <td>4402</td>\n",
       "      <td>12917</td>\n",
       "      <td>2382.16</td>\n",
       "      <td>2217.60</td>\n",
       "      <td>0.0</td>\n",
       "      <td>2.99</td>\n",
       "    </tr>\n",
       "    <tr>\n",
       "      <th>4</th>\n",
       "      <td>1995</td>\n",
       "      <td>21.3</td>\n",
       "      <td>67.85</td>\n",
       "      <td>2136.1</td>\n",
       "      <td>4557</td>\n",
       "      <td>13375</td>\n",
       "      <td>2508.44</td>\n",
       "      <td>2314.84</td>\n",
       "      <td>0.0</td>\n",
       "      <td>3.49</td>\n",
       "    </tr>\n",
       "  </tbody>\n",
       "</table>\n",
       "</div>"
      ],
      "text/plain": [
       "   Year  Energy Related CO2missions (Gigatonnes)  \\\n",
       "0  1991                                     20.6   \n",
       "1  1992                                     20.5   \n",
       "2  1993                                     20.6   \n",
       "3  1994                                     20.7   \n",
       "4  1995                                     21.3   \n",
       "\n",
       "   Oil Production (Million barrels per day)  \\\n",
       "0                                     65.44   \n",
       "1                                     65.71   \n",
       "2                                     65.99   \n",
       "3                                     66.89   \n",
       "4                                     67.85   \n",
       "\n",
       "   Natural Gas Production (Billion Cubic Metres)  \\\n",
       "0                                         2026.8   \n",
       "1                                         2039.4   \n",
       "2                                         2073.5   \n",
       "3                                         2095.7   \n",
       "4                                         2136.1   \n",
       "\n",
       "   Coal Production (million tons)  Electricity Generation (Terawatt-hours)  \\\n",
       "0                            4481                                    12218   \n",
       "1                            4432                                    12330   \n",
       "2                            4327                                    12592   \n",
       "3                            4402                                    12917   \n",
       "4                            4557                                    13375   \n",
       "\n",
       "   Hydroelectricity consumption in TWh  Nuclear energy consumption in TWh  \\\n",
       "0                              2247.96                            2089.56   \n",
       "1                              2240.48                            2105.40   \n",
       "2                              2364.56                            2179.32   \n",
       "3                              2382.16                            2217.60   \n",
       "4                              2508.44                            2314.84   \n",
       "\n",
       "   Installed Solar Capacity (GW)  Installed Wind Capacity in GW  \n",
       "0                            0.0                           1.93  \n",
       "1                            0.0                           2.17  \n",
       "2                            0.0                           2.50  \n",
       "3                            0.0                           2.99  \n",
       "4                            0.0                           3.49  "
      ]
     },
     "execution_count": 17,
     "metadata": {},
     "output_type": "execute_result"
    }
   ],
   "source": [
    "df = pd.read_sql(\n",
    "    '''\n",
    "    --sql\n",
    "    select * from energy_data''', \n",
    "    con)\n",
    "df.head()"
   ]
  },
  {
   "cell_type": "code",
   "execution_count": 18,
   "metadata": {},
   "outputs": [
    {
     "name": "stdout",
     "output_type": "stream",
     "text": [
      "<class 'pandas.core.frame.DataFrame'>\n",
      "RangeIndex: 31 entries, 0 to 30\n",
      "Data columns (total 10 columns):\n",
      " #   Column                                         Non-Null Count  Dtype  \n",
      "---  ------                                         --------------  -----  \n",
      " 0   Year                                           31 non-null     int64  \n",
      " 1   Energy Related CO2missions (Gigatonnes)        31 non-null     float64\n",
      " 2   Oil Production (Million barrels per day)       31 non-null     float64\n",
      " 3   Natural Gas Production (Billion Cubic Metres)  31 non-null     float64\n",
      " 4   Coal Production (million tons)                 31 non-null     int64  \n",
      " 5   Electricity Generation (Terawatt-hours)        31 non-null     int64  \n",
      " 6   Hydroelectricity consumption in TWh            31 non-null     float64\n",
      " 7   Nuclear energy consumption in TWh              31 non-null     float64\n",
      " 8   Installed Solar Capacity (GW)                  31 non-null     float64\n",
      " 9   Installed Wind Capacity in GW                  31 non-null     float64\n",
      "dtypes: float64(7), int64(3)\n",
      "memory usage: 2.5 KB\n"
     ]
    }
   ],
   "source": [
    "df.info()"
   ]
  },
  {
   "cell_type": "markdown",
   "metadata": {},
   "source": [
    "### Visualization:"
   ]
  },
  {
   "cell_type": "code",
   "execution_count": 19,
   "metadata": {},
   "outputs": [],
   "source": [
    "df = df.set_index('Year')"
   ]
  },
  {
   "cell_type": "code",
   "execution_count": 25,
   "metadata": {},
   "outputs": [],
   "source": [
    "import plotly.express as px"
   ]
  },
  {
   "cell_type": "code",
   "execution_count": 22,
   "metadata": {},
   "outputs": [
    {
     "data": {
      "text/plain": [
       "Index(['Energy Related CO2missions (Gigatonnes)',\n",
       "       'Oil Production (Million barrels per day)',\n",
       "       'Natural Gas Production (Billion Cubic Metres)',\n",
       "       'Coal Production (million tons)',\n",
       "       'Electricity Generation (Terawatt-hours)',\n",
       "       'Hydroelectricity consumption in TWh',\n",
       "       'Nuclear energy consumption in TWh', 'Installed Solar Capacity (GW)',\n",
       "       'Installed Wind Capacity in GW'],\n",
       "      dtype='object')"
      ]
     },
     "execution_count": 22,
     "metadata": {},
     "output_type": "execute_result"
    }
   ],
   "source": [
    "df.columns "
   ]
  },
  {
   "cell_type": "code",
   "execution_count": 27,
   "metadata": {},
   "outputs": [
    {
     "data": {
      "application/vnd.plotly.v1+json": {
       "config": {
        "plotlyServerURL": "https://plot.ly"
       },
       "data": [
        {
         "hovertemplate": "variable=Energy Related CO2missions (Gigatonnes)<br>Year=%{x}<br>value=%{y}<extra></extra>",
         "legendgroup": "Energy Related CO2missions (Gigatonnes)",
         "line": {
          "color": "#636efa",
          "dash": "solid"
         },
         "marker": {
          "symbol": "circle"
         },
         "mode": "lines",
         "name": "Energy Related CO2missions (Gigatonnes)",
         "orientation": "v",
         "showlegend": true,
         "type": "scatter",
         "x": [
          1991,
          1992,
          1993,
          1994,
          1995,
          1996,
          1997,
          1998,
          1999,
          2000,
          2001,
          2002,
          2003,
          2004,
          2005,
          2006,
          2007,
          2008,
          2009,
          2010,
          2011,
          2012,
          2013,
          2014,
          2015,
          2016,
          2017,
          2018,
          2019,
          2020,
          2021
         ],
         "xaxis": "x",
         "y": [
          20.6,
          20.5,
          20.6,
          20.7,
          21.3,
          21.7,
          22.1,
          22.3,
          22.4,
          23.1,
          23.5,
          23.8,
          24.9,
          26,
          27,
          27.8,
          28.9,
          29.1,
          28.7,
          30.4,
          31.3,
          31.6,
          32.2,
          32.3,
          32.2,
          32.2,
          32.7,
          33.5,
          33.4,
          31.5,
          33
         ],
         "yaxis": "y"
        },
        {
         "hovertemplate": "variable=Oil Production (Million barrels per day)<br>Year=%{x}<br>value=%{y}<extra></extra>",
         "legendgroup": "Oil Production (Million barrels per day)",
         "line": {
          "color": "#EF553B",
          "dash": "solid"
         },
         "marker": {
          "symbol": "circle"
         },
         "mode": "lines",
         "name": "Oil Production (Million barrels per day)",
         "orientation": "v",
         "showlegend": true,
         "type": "scatter",
         "x": [
          1991,
          1992,
          1993,
          1994,
          1995,
          1996,
          1997,
          1998,
          1999,
          2000,
          2001,
          2002,
          2003,
          2004,
          2005,
          2006,
          2007,
          2008,
          2009,
          2010,
          2011,
          2012,
          2013,
          2014,
          2015,
          2016,
          2017,
          2018,
          2019,
          2020,
          2021
         ],
         "xaxis": "x",
         "y": [
          65.44,
          65.71,
          65.99,
          66.89,
          67.85,
          69.67,
          71.85,
          73.28,
          71.83,
          74.48,
          74.49,
          74.95,
          77.57,
          80.97,
          82.01,
          82.48,
          82.29,
          82.93,
          81.26,
          83.29,
          84.04,
          86.26,
          86.67,
          88.83,
          91.63,
          91.99,
          92.57,
          94.85,
          94.96,
          88.39,
          89.9
         ],
         "yaxis": "y"
        },
        {
         "hovertemplate": "variable=Natural Gas Production (Billion Cubic Metres)<br>Year=%{x}<br>value=%{y}<extra></extra>",
         "legendgroup": "Natural Gas Production (Billion Cubic Metres)",
         "line": {
          "color": "#00cc96",
          "dash": "solid"
         },
         "marker": {
          "symbol": "circle"
         },
         "mode": "lines",
         "name": "Natural Gas Production (Billion Cubic Metres)",
         "orientation": "v",
         "showlegend": true,
         "type": "scatter",
         "x": [
          1991,
          1992,
          1993,
          1994,
          1995,
          1996,
          1997,
          1998,
          1999,
          2000,
          2001,
          2002,
          2003,
          2004,
          2005,
          2006,
          2007,
          2008,
          2009,
          2010,
          2011,
          2012,
          2013,
          2014,
          2015,
          2016,
          2017,
          2018,
          2019,
          2020,
          2021
         ],
         "xaxis": "x",
         "y": [
          2026.8,
          2039.4,
          2073.5,
          2095.7,
          2136.1,
          2230,
          2233,
          2284.1,
          2339.3,
          2421.8,
          2477.2,
          2518.9,
          2616.6,
          2688.5,
          2770.4,
          2869.4,
          2939.3,
          3047.2,
          2955.9,
          3150.8,
          3258,
          3326.8,
          3366.1,
          3437.9,
          3511.7,
          3552.1,
          3676.2,
          3852.9,
          3976.2,
          3853.7,
          0
         ],
         "yaxis": "y"
        },
        {
         "hovertemplate": "variable=Coal Production (million tons)<br>Year=%{x}<br>value=%{y}<extra></extra>",
         "legendgroup": "Coal Production (million tons)",
         "line": {
          "color": "#ab63fa",
          "dash": "solid"
         },
         "marker": {
          "symbol": "circle"
         },
         "mode": "lines",
         "name": "Coal Production (million tons)",
         "orientation": "v",
         "showlegend": true,
         "type": "scatter",
         "x": [
          1991,
          1992,
          1993,
          1994,
          1995,
          1996,
          1997,
          1998,
          1999,
          2000,
          2001,
          2002,
          2003,
          2004,
          2005,
          2006,
          2007,
          2008,
          2009,
          2010,
          2011,
          2012,
          2013,
          2014,
          2015,
          2016,
          2017,
          2018,
          2019,
          2020,
          2021
         ],
         "xaxis": "x",
         "y": [
          4481,
          4432,
          4327,
          4402,
          4557,
          4622,
          4621,
          4569,
          4499,
          4638,
          4860,
          4914,
          5263,
          5663,
          6022,
          6367,
          6644,
          6842,
          6968,
          7354,
          7833,
          7936,
          7976,
          7939,
          7669,
          7293,
          7545,
          7827,
          7960,
          7575,
          0
         ],
         "yaxis": "y"
        },
        {
         "hovertemplate": "variable=Electricity Generation (Terawatt-hours)<br>Year=%{x}<br>value=%{y}<extra></extra>",
         "legendgroup": "Electricity Generation (Terawatt-hours)",
         "line": {
          "color": "#FFA15A",
          "dash": "solid"
         },
         "marker": {
          "symbol": "circle"
         },
         "mode": "lines",
         "name": "Electricity Generation (Terawatt-hours)",
         "orientation": "v",
         "showlegend": true,
         "type": "scatter",
         "x": [
          1991,
          1992,
          1993,
          1994,
          1995,
          1996,
          1997,
          1998,
          1999,
          2000,
          2001,
          2002,
          2003,
          2004,
          2005,
          2006,
          2007,
          2008,
          2009,
          2010,
          2011,
          2012,
          2013,
          2014,
          2015,
          2016,
          2017,
          2018,
          2019,
          2020,
          2021
         ],
         "xaxis": "x",
         "y": [
          12218,
          12330,
          12592,
          12917,
          13375,
          13789,
          14121,
          14503,
          14918,
          15556,
          15789,
          16345,
          16924,
          17727,
          18454,
          19155,
          20046,
          20422,
          20265,
          21570,
          22257,
          22806,
          23435,
          24031,
          24270,
          24915,
          25623,
          26659,
          27001,
          26889,
          28466
         ],
         "yaxis": "y"
        },
        {
         "hovertemplate": "variable=Hydroelectricity consumption in TWh<br>Year=%{x}<br>value=%{y}<extra></extra>",
         "legendgroup": "Hydroelectricity consumption in TWh",
         "line": {
          "color": "#19d3f3",
          "dash": "solid"
         },
         "marker": {
          "symbol": "circle"
         },
         "mode": "lines",
         "name": "Hydroelectricity consumption in TWh",
         "orientation": "v",
         "showlegend": true,
         "type": "scatter",
         "x": [
          1991,
          1992,
          1993,
          1994,
          1995,
          1996,
          1997,
          1998,
          1999,
          2000,
          2001,
          2002,
          2003,
          2004,
          2005,
          2006,
          2007,
          2008,
          2009,
          2010,
          2011,
          2012,
          2013,
          2014,
          2015,
          2016,
          2017,
          2018,
          2019,
          2020,
          2021
         ],
         "xaxis": "x",
         "y": [
          2247.96,
          2240.48,
          2364.56,
          2382.16,
          2508.44,
          2548.92,
          2589.4,
          2620.64,
          2640,
          2714.36,
          2615.8,
          2633.84,
          2632.96,
          2797.52,
          2914.12,
          3023.68,
          3081.76,
          3201.88,
          3245,
          3427.16,
          3482.6,
          3655.08,
          3781.36,
          3870.68,
          3874.2,
          4018.52,
          4041.84,
          4231,
          4294,
          4370,
          4250
         ],
         "yaxis": "y"
        },
        {
         "hovertemplate": "variable=Nuclear energy consumption in TWh<br>Year=%{x}<br>value=%{y}<extra></extra>",
         "legendgroup": "Nuclear energy consumption in TWh",
         "line": {
          "color": "#FF6692",
          "dash": "solid"
         },
         "marker": {
          "symbol": "circle"
         },
         "mode": "lines",
         "name": "Nuclear energy consumption in TWh",
         "orientation": "v",
         "showlegend": true,
         "type": "scatter",
         "x": [
          1991,
          1992,
          1993,
          1994,
          1995,
          1996,
          1997,
          1998,
          1999,
          2000,
          2001,
          2002,
          2003,
          2004,
          2005,
          2006,
          2007,
          2008,
          2009,
          2010,
          2011,
          2012,
          2013,
          2014,
          2015,
          2016,
          2017,
          2018,
          2019,
          2020,
          2021
         ],
         "xaxis": "x",
         "y": [
          2089.56,
          2105.4,
          2179.32,
          2217.6,
          2314.84,
          2397.12,
          2381.28,
          2422.2,
          2514.16,
          2574,
          2645.28,
          2686.2,
          2632.52,
          2749.56,
          2757.48,
          2794.88,
          2735.92,
          2723.6,
          2702.04,
          2755.72,
          2636.92,
          2461.8,
          2480.72,
          2530,
          2564.32,
          2601.28,
          2624.16,
          2700.46,
          2796.35,
          2693.98,
          2800.27
         ],
         "yaxis": "y"
        },
        {
         "hovertemplate": "variable=Installed Solar Capacity (GW)<br>Year=%{x}<br>value=%{y}<extra></extra>",
         "legendgroup": "Installed Solar Capacity (GW)",
         "line": {
          "color": "#B6E880",
          "dash": "solid"
         },
         "marker": {
          "symbol": "circle"
         },
         "mode": "lines",
         "name": "Installed Solar Capacity (GW)",
         "orientation": "v",
         "showlegend": true,
         "type": "scatter",
         "x": [
          1991,
          1992,
          1993,
          1994,
          1995,
          1996,
          1997,
          1998,
          1999,
          2000,
          2001,
          2002,
          2003,
          2004,
          2005,
          2006,
          2007,
          2008,
          2009,
          2010,
          2011,
          2012,
          2013,
          2014,
          2015,
          2016,
          2017,
          2018,
          2019,
          2020,
          2021
         ],
         "xaxis": "x",
         "y": [
          0,
          0,
          0,
          0,
          0,
          0,
          0,
          0,
          0,
          1.3,
          1.6,
          2.1,
          2.6,
          3.7,
          5.1,
          6.7,
          9.2,
          16,
          23,
          40,
          70,
          101,
          138,
          178,
          230,
          308,
          407,
          508,
          629,
          773.2,
          939
         ],
         "yaxis": "y"
        },
        {
         "hovertemplate": "variable=Installed Wind Capacity in GW<br>Year=%{x}<br>value=%{y}<extra></extra>",
         "legendgroup": "Installed Wind Capacity in GW",
         "line": {
          "color": "#FF97FF",
          "dash": "solid"
         },
         "marker": {
          "symbol": "circle"
         },
         "mode": "lines",
         "name": "Installed Wind Capacity in GW",
         "orientation": "v",
         "showlegend": true,
         "type": "scatter",
         "x": [
          1991,
          1992,
          1993,
          1994,
          1995,
          1996,
          1997,
          1998,
          1999,
          2000,
          2001,
          2002,
          2003,
          2004,
          2005,
          2006,
          2007,
          2008,
          2009,
          2010,
          2011,
          2012,
          2013,
          2014,
          2015,
          2016,
          2017,
          2018,
          2019,
          2020,
          2021
         ],
         "xaxis": "x",
         "y": [
          1.93,
          2.17,
          2.5,
          2.99,
          3.49,
          6.1,
          7.6,
          10.2,
          13.6,
          17,
          24,
          31,
          39,
          48,
          59,
          74,
          94,
          121,
          159,
          198,
          238,
          283,
          319,
          370,
          433,
          488,
          540,
          592,
          651,
          744,
          837
         ],
         "yaxis": "y"
        }
       ],
       "layout": {
        "legend": {
         "title": {
          "text": "variable"
         },
         "tracegroupgap": 0
        },
        "margin": {
         "t": 60
        },
        "template": {
         "data": {
          "bar": [
           {
            "error_x": {
             "color": "#f2f5fa"
            },
            "error_y": {
             "color": "#f2f5fa"
            },
            "marker": {
             "line": {
              "color": "rgb(17,17,17)",
              "width": 0.5
             },
             "pattern": {
              "fillmode": "overlay",
              "size": 10,
              "solidity": 0.2
             }
            },
            "type": "bar"
           }
          ],
          "barpolar": [
           {
            "marker": {
             "line": {
              "color": "rgb(17,17,17)",
              "width": 0.5
             },
             "pattern": {
              "fillmode": "overlay",
              "size": 10,
              "solidity": 0.2
             }
            },
            "type": "barpolar"
           }
          ],
          "carpet": [
           {
            "aaxis": {
             "endlinecolor": "#A2B1C6",
             "gridcolor": "#506784",
             "linecolor": "#506784",
             "minorgridcolor": "#506784",
             "startlinecolor": "#A2B1C6"
            },
            "baxis": {
             "endlinecolor": "#A2B1C6",
             "gridcolor": "#506784",
             "linecolor": "#506784",
             "minorgridcolor": "#506784",
             "startlinecolor": "#A2B1C6"
            },
            "type": "carpet"
           }
          ],
          "choropleth": [
           {
            "colorbar": {
             "outlinewidth": 0,
             "ticks": ""
            },
            "type": "choropleth"
           }
          ],
          "contour": [
           {
            "colorbar": {
             "outlinewidth": 0,
             "ticks": ""
            },
            "colorscale": [
             [
              0,
              "#0d0887"
             ],
             [
              0.1111111111111111,
              "#46039f"
             ],
             [
              0.2222222222222222,
              "#7201a8"
             ],
             [
              0.3333333333333333,
              "#9c179e"
             ],
             [
              0.4444444444444444,
              "#bd3786"
             ],
             [
              0.5555555555555556,
              "#d8576b"
             ],
             [
              0.6666666666666666,
              "#ed7953"
             ],
             [
              0.7777777777777778,
              "#fb9f3a"
             ],
             [
              0.8888888888888888,
              "#fdca26"
             ],
             [
              1,
              "#f0f921"
             ]
            ],
            "type": "contour"
           }
          ],
          "contourcarpet": [
           {
            "colorbar": {
             "outlinewidth": 0,
             "ticks": ""
            },
            "type": "contourcarpet"
           }
          ],
          "heatmap": [
           {
            "colorbar": {
             "outlinewidth": 0,
             "ticks": ""
            },
            "colorscale": [
             [
              0,
              "#0d0887"
             ],
             [
              0.1111111111111111,
              "#46039f"
             ],
             [
              0.2222222222222222,
              "#7201a8"
             ],
             [
              0.3333333333333333,
              "#9c179e"
             ],
             [
              0.4444444444444444,
              "#bd3786"
             ],
             [
              0.5555555555555556,
              "#d8576b"
             ],
             [
              0.6666666666666666,
              "#ed7953"
             ],
             [
              0.7777777777777778,
              "#fb9f3a"
             ],
             [
              0.8888888888888888,
              "#fdca26"
             ],
             [
              1,
              "#f0f921"
             ]
            ],
            "type": "heatmap"
           }
          ],
          "heatmapgl": [
           {
            "colorbar": {
             "outlinewidth": 0,
             "ticks": ""
            },
            "colorscale": [
             [
              0,
              "#0d0887"
             ],
             [
              0.1111111111111111,
              "#46039f"
             ],
             [
              0.2222222222222222,
              "#7201a8"
             ],
             [
              0.3333333333333333,
              "#9c179e"
             ],
             [
              0.4444444444444444,
              "#bd3786"
             ],
             [
              0.5555555555555556,
              "#d8576b"
             ],
             [
              0.6666666666666666,
              "#ed7953"
             ],
             [
              0.7777777777777778,
              "#fb9f3a"
             ],
             [
              0.8888888888888888,
              "#fdca26"
             ],
             [
              1,
              "#f0f921"
             ]
            ],
            "type": "heatmapgl"
           }
          ],
          "histogram": [
           {
            "marker": {
             "pattern": {
              "fillmode": "overlay",
              "size": 10,
              "solidity": 0.2
             }
            },
            "type": "histogram"
           }
          ],
          "histogram2d": [
           {
            "colorbar": {
             "outlinewidth": 0,
             "ticks": ""
            },
            "colorscale": [
             [
              0,
              "#0d0887"
             ],
             [
              0.1111111111111111,
              "#46039f"
             ],
             [
              0.2222222222222222,
              "#7201a8"
             ],
             [
              0.3333333333333333,
              "#9c179e"
             ],
             [
              0.4444444444444444,
              "#bd3786"
             ],
             [
              0.5555555555555556,
              "#d8576b"
             ],
             [
              0.6666666666666666,
              "#ed7953"
             ],
             [
              0.7777777777777778,
              "#fb9f3a"
             ],
             [
              0.8888888888888888,
              "#fdca26"
             ],
             [
              1,
              "#f0f921"
             ]
            ],
            "type": "histogram2d"
           }
          ],
          "histogram2dcontour": [
           {
            "colorbar": {
             "outlinewidth": 0,
             "ticks": ""
            },
            "colorscale": [
             [
              0,
              "#0d0887"
             ],
             [
              0.1111111111111111,
              "#46039f"
             ],
             [
              0.2222222222222222,
              "#7201a8"
             ],
             [
              0.3333333333333333,
              "#9c179e"
             ],
             [
              0.4444444444444444,
              "#bd3786"
             ],
             [
              0.5555555555555556,
              "#d8576b"
             ],
             [
              0.6666666666666666,
              "#ed7953"
             ],
             [
              0.7777777777777778,
              "#fb9f3a"
             ],
             [
              0.8888888888888888,
              "#fdca26"
             ],
             [
              1,
              "#f0f921"
             ]
            ],
            "type": "histogram2dcontour"
           }
          ],
          "mesh3d": [
           {
            "colorbar": {
             "outlinewidth": 0,
             "ticks": ""
            },
            "type": "mesh3d"
           }
          ],
          "parcoords": [
           {
            "line": {
             "colorbar": {
              "outlinewidth": 0,
              "ticks": ""
             }
            },
            "type": "parcoords"
           }
          ],
          "pie": [
           {
            "automargin": true,
            "type": "pie"
           }
          ],
          "scatter": [
           {
            "marker": {
             "line": {
              "color": "#283442"
             }
            },
            "type": "scatter"
           }
          ],
          "scatter3d": [
           {
            "line": {
             "colorbar": {
              "outlinewidth": 0,
              "ticks": ""
             }
            },
            "marker": {
             "colorbar": {
              "outlinewidth": 0,
              "ticks": ""
             }
            },
            "type": "scatter3d"
           }
          ],
          "scattercarpet": [
           {
            "marker": {
             "colorbar": {
              "outlinewidth": 0,
              "ticks": ""
             }
            },
            "type": "scattercarpet"
           }
          ],
          "scattergeo": [
           {
            "marker": {
             "colorbar": {
              "outlinewidth": 0,
              "ticks": ""
             }
            },
            "type": "scattergeo"
           }
          ],
          "scattergl": [
           {
            "marker": {
             "line": {
              "color": "#283442"
             }
            },
            "type": "scattergl"
           }
          ],
          "scattermapbox": [
           {
            "marker": {
             "colorbar": {
              "outlinewidth": 0,
              "ticks": ""
             }
            },
            "type": "scattermapbox"
           }
          ],
          "scatterpolar": [
           {
            "marker": {
             "colorbar": {
              "outlinewidth": 0,
              "ticks": ""
             }
            },
            "type": "scatterpolar"
           }
          ],
          "scatterpolargl": [
           {
            "marker": {
             "colorbar": {
              "outlinewidth": 0,
              "ticks": ""
             }
            },
            "type": "scatterpolargl"
           }
          ],
          "scatterternary": [
           {
            "marker": {
             "colorbar": {
              "outlinewidth": 0,
              "ticks": ""
             }
            },
            "type": "scatterternary"
           }
          ],
          "surface": [
           {
            "colorbar": {
             "outlinewidth": 0,
             "ticks": ""
            },
            "colorscale": [
             [
              0,
              "#0d0887"
             ],
             [
              0.1111111111111111,
              "#46039f"
             ],
             [
              0.2222222222222222,
              "#7201a8"
             ],
             [
              0.3333333333333333,
              "#9c179e"
             ],
             [
              0.4444444444444444,
              "#bd3786"
             ],
             [
              0.5555555555555556,
              "#d8576b"
             ],
             [
              0.6666666666666666,
              "#ed7953"
             ],
             [
              0.7777777777777778,
              "#fb9f3a"
             ],
             [
              0.8888888888888888,
              "#fdca26"
             ],
             [
              1,
              "#f0f921"
             ]
            ],
            "type": "surface"
           }
          ],
          "table": [
           {
            "cells": {
             "fill": {
              "color": "#506784"
             },
             "line": {
              "color": "rgb(17,17,17)"
             }
            },
            "header": {
             "fill": {
              "color": "#2a3f5f"
             },
             "line": {
              "color": "rgb(17,17,17)"
             }
            },
            "type": "table"
           }
          ]
         },
         "layout": {
          "annotationdefaults": {
           "arrowcolor": "#f2f5fa",
           "arrowhead": 0,
           "arrowwidth": 1
          },
          "autotypenumbers": "strict",
          "coloraxis": {
           "colorbar": {
            "outlinewidth": 0,
            "ticks": ""
           }
          },
          "colorscale": {
           "diverging": [
            [
             0,
             "#8e0152"
            ],
            [
             0.1,
             "#c51b7d"
            ],
            [
             0.2,
             "#de77ae"
            ],
            [
             0.3,
             "#f1b6da"
            ],
            [
             0.4,
             "#fde0ef"
            ],
            [
             0.5,
             "#f7f7f7"
            ],
            [
             0.6,
             "#e6f5d0"
            ],
            [
             0.7,
             "#b8e186"
            ],
            [
             0.8,
             "#7fbc41"
            ],
            [
             0.9,
             "#4d9221"
            ],
            [
             1,
             "#276419"
            ]
           ],
           "sequential": [
            [
             0,
             "#0d0887"
            ],
            [
             0.1111111111111111,
             "#46039f"
            ],
            [
             0.2222222222222222,
             "#7201a8"
            ],
            [
             0.3333333333333333,
             "#9c179e"
            ],
            [
             0.4444444444444444,
             "#bd3786"
            ],
            [
             0.5555555555555556,
             "#d8576b"
            ],
            [
             0.6666666666666666,
             "#ed7953"
            ],
            [
             0.7777777777777778,
             "#fb9f3a"
            ],
            [
             0.8888888888888888,
             "#fdca26"
            ],
            [
             1,
             "#f0f921"
            ]
           ],
           "sequentialminus": [
            [
             0,
             "#0d0887"
            ],
            [
             0.1111111111111111,
             "#46039f"
            ],
            [
             0.2222222222222222,
             "#7201a8"
            ],
            [
             0.3333333333333333,
             "#9c179e"
            ],
            [
             0.4444444444444444,
             "#bd3786"
            ],
            [
             0.5555555555555556,
             "#d8576b"
            ],
            [
             0.6666666666666666,
             "#ed7953"
            ],
            [
             0.7777777777777778,
             "#fb9f3a"
            ],
            [
             0.8888888888888888,
             "#fdca26"
            ],
            [
             1,
             "#f0f921"
            ]
           ]
          },
          "colorway": [
           "#636efa",
           "#EF553B",
           "#00cc96",
           "#ab63fa",
           "#FFA15A",
           "#19d3f3",
           "#FF6692",
           "#B6E880",
           "#FF97FF",
           "#FECB52"
          ],
          "font": {
           "color": "#f2f5fa"
          },
          "geo": {
           "bgcolor": "rgb(17,17,17)",
           "lakecolor": "rgb(17,17,17)",
           "landcolor": "rgb(17,17,17)",
           "showlakes": true,
           "showland": true,
           "subunitcolor": "#506784"
          },
          "hoverlabel": {
           "align": "left"
          },
          "hovermode": "closest",
          "mapbox": {
           "style": "dark"
          },
          "paper_bgcolor": "rgb(17,17,17)",
          "plot_bgcolor": "rgb(17,17,17)",
          "polar": {
           "angularaxis": {
            "gridcolor": "#506784",
            "linecolor": "#506784",
            "ticks": ""
           },
           "bgcolor": "rgb(17,17,17)",
           "radialaxis": {
            "gridcolor": "#506784",
            "linecolor": "#506784",
            "ticks": ""
           }
          },
          "scene": {
           "xaxis": {
            "backgroundcolor": "rgb(17,17,17)",
            "gridcolor": "#506784",
            "gridwidth": 2,
            "linecolor": "#506784",
            "showbackground": true,
            "ticks": "",
            "zerolinecolor": "#C8D4E3"
           },
           "yaxis": {
            "backgroundcolor": "rgb(17,17,17)",
            "gridcolor": "#506784",
            "gridwidth": 2,
            "linecolor": "#506784",
            "showbackground": true,
            "ticks": "",
            "zerolinecolor": "#C8D4E3"
           },
           "zaxis": {
            "backgroundcolor": "rgb(17,17,17)",
            "gridcolor": "#506784",
            "gridwidth": 2,
            "linecolor": "#506784",
            "showbackground": true,
            "ticks": "",
            "zerolinecolor": "#C8D4E3"
           }
          },
          "shapedefaults": {
           "line": {
            "color": "#f2f5fa"
           }
          },
          "sliderdefaults": {
           "bgcolor": "#C8D4E3",
           "bordercolor": "rgb(17,17,17)",
           "borderwidth": 1,
           "tickwidth": 0
          },
          "ternary": {
           "aaxis": {
            "gridcolor": "#506784",
            "linecolor": "#506784",
            "ticks": ""
           },
           "baxis": {
            "gridcolor": "#506784",
            "linecolor": "#506784",
            "ticks": ""
           },
           "bgcolor": "rgb(17,17,17)",
           "caxis": {
            "gridcolor": "#506784",
            "linecolor": "#506784",
            "ticks": ""
           }
          },
          "title": {
           "x": 0.05
          },
          "updatemenudefaults": {
           "bgcolor": "#506784",
           "borderwidth": 0
          },
          "xaxis": {
           "automargin": true,
           "gridcolor": "#283442",
           "linecolor": "#506784",
           "ticks": "",
           "title": {
            "standoff": 15
           },
           "zerolinecolor": "#283442",
           "zerolinewidth": 2
          },
          "yaxis": {
           "automargin": true,
           "gridcolor": "#283442",
           "linecolor": "#506784",
           "ticks": "",
           "title": {
            "standoff": 15
           },
           "zerolinecolor": "#283442",
           "zerolinewidth": 2
          }
         }
        },
        "xaxis": {
         "anchor": "y",
         "domain": [
          0,
          1
         ],
         "title": {
          "text": "Year"
         }
        },
        "yaxis": {
         "anchor": "x",
         "domain": [
          0,
          1
         ],
         "title": {
          "text": "value"
         }
        }
       }
      }
     },
     "metadata": {},
     "output_type": "display_data"
    }
   ],
   "source": [
    "fig = px.line(df, y=df.columns, template='plotly_dark')\n",
    "fig.show()"
   ]
  }
 ],
 "metadata": {
  "kernelspec": {
   "display_name": "Python 3.8.0 64-bit",
   "language": "python",
   "name": "python3"
  },
  "language_info": {
   "codemirror_mode": {
    "name": "ipython",
    "version": 3
   },
   "file_extension": ".py",
   "mimetype": "text/x-python",
   "name": "python",
   "nbconvert_exporter": "python",
   "pygments_lexer": "ipython3",
   "version": "3.8.0"
  },
  "orig_nbformat": 4,
  "vscode": {
   "interpreter": {
    "hash": "dd64fa47c1d5079257f080924009caa6defb8a7561db6b8108c694ffeb1b1bc7"
   }
  }
 },
 "nbformat": 4,
 "nbformat_minor": 2
}
