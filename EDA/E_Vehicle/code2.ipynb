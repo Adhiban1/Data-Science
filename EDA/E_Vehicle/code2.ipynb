{
 "cells": [
  {
   "cell_type": "code",
   "execution_count": 4,
   "metadata": {},
   "outputs": [],
   "source": [
    "import os\n",
    "import json\n",
    "import pandas as pd"
   ]
  },
  {
   "cell_type": "code",
   "execution_count": 2,
   "metadata": {},
   "outputs": [],
   "source": [
    "with open('csv_list.json', 'r') as f:\n",
    "    csv_list = json.load(f)['csv_list']"
   ]
  },
  {
   "cell_type": "code",
   "execution_count": 127,
   "metadata": {},
   "outputs": [
    {
     "data": {
      "text/plain": [
       "'Quickestelectriccars-EVDatabase.csv'"
      ]
     },
     "execution_count": 127,
     "metadata": {},
     "output_type": "execute_result"
    }
   ],
   "source": [
    "df = pd.read_csv(csv_list[15])\n",
    "os.path.basename(csv_list[15])"
   ]
  },
  {
   "cell_type": "code",
   "execution_count": 124,
   "metadata": {},
   "outputs": [
    {
     "data": {
      "text/plain": [
       "(179, 11)"
      ]
     },
     "execution_count": 124,
     "metadata": {},
     "output_type": "execute_result"
    }
   ],
   "source": [
    "df.shape"
   ]
  },
  {
   "cell_type": "code",
   "execution_count": 125,
   "metadata": {},
   "outputs": [],
   "source": [
    "pd.options.display.max_columns = 11"
   ]
  },
  {
   "cell_type": "code",
   "execution_count": 126,
   "metadata": {},
   "outputs": [
    {
     "data": {
      "text/html": [
       "<div>\n",
       "<style scoped>\n",
       "    .dataframe tbody tr th:only-of-type {\n",
       "        vertical-align: middle;\n",
       "    }\n",
       "\n",
       "    .dataframe tbody tr th {\n",
       "        vertical-align: top;\n",
       "    }\n",
       "\n",
       "    .dataframe thead th {\n",
       "        text-align: right;\n",
       "    }\n",
       "</style>\n",
       "<table border=\"1\" class=\"dataframe\">\n",
       "  <thead>\n",
       "    <tr style=\"text-align: right;\">\n",
       "      <th></th>\n",
       "      <th>Name</th>\n",
       "      <th>Subtitle</th>\n",
       "      <th>Acceleration</th>\n",
       "      <th>TopSpeed</th>\n",
       "      <th>Range</th>\n",
       "      <th>Efficiency</th>\n",
       "      <th>FastChargeSpeed</th>\n",
       "      <th>Drive</th>\n",
       "      <th>NumberofSeats</th>\n",
       "      <th>PriceinGermany</th>\n",
       "      <th>PriceinUK</th>\n",
       "    </tr>\n",
       "  </thead>\n",
       "  <tbody>\n",
       "    <tr>\n",
       "      <th>0</th>\n",
       "      <td>Tesla Roadster</td>\n",
       "      <td>Battery Electric Vehicle |       200 kWh</td>\n",
       "      <td>2.1 sec</td>\n",
       "      <td>410 km/h</td>\n",
       "      <td>970 km</td>\n",
       "      <td>206 Wh/km</td>\n",
       "      <td>920 km/h</td>\n",
       "      <td>All Wheel Drive</td>\n",
       "      <td>4</td>\n",
       "      <td>€215,000</td>\n",
       "      <td>£189,000</td>\n",
       "    </tr>\n",
       "    <tr>\n",
       "      <th>1</th>\n",
       "      <td>Tesla Model X Plaid</td>\n",
       "      <td>Battery Electric Vehicle |       90 kWh</td>\n",
       "      <td>2.6 sec</td>\n",
       "      <td>262 km/h</td>\n",
       "      <td>455 km</td>\n",
       "      <td>198 Wh/km</td>\n",
       "      <td>680 km/h</td>\n",
       "      <td>All Wheel Drive</td>\n",
       "      <td>7</td>\n",
       "      <td>€116,990</td>\n",
       "      <td>£110,980</td>\n",
       "    </tr>\n",
       "    <tr>\n",
       "      <th>2</th>\n",
       "      <td>Porsche Taycan Turbo S</td>\n",
       "      <td>Battery Electric Vehicle |       83.7 kWh</td>\n",
       "      <td>2.8 sec</td>\n",
       "      <td>260 km/h</td>\n",
       "      <td>390 km</td>\n",
       "      <td>215 Wh/km</td>\n",
       "      <td>860 km/h</td>\n",
       "      <td>All Wheel Drive</td>\n",
       "      <td>4</td>\n",
       "      <td>€186,336</td>\n",
       "      <td>£138,830</td>\n",
       "    </tr>\n",
       "  </tbody>\n",
       "</table>\n",
       "</div>"
      ],
      "text/plain": [
       "                     Name                                   Subtitle  \\\n",
       "0         Tesla Roadster   Battery Electric Vehicle |       200 kWh    \n",
       "1     Tesla Model X Plaid   Battery Electric Vehicle |       90 kWh    \n",
       "2  Porsche Taycan Turbo S  Battery Electric Vehicle |       83.7 kWh   \n",
       "\n",
       "  Acceleration  TopSpeed   Range Efficiency FastChargeSpeed            Drive  \\\n",
       "0      2.1 sec  410 km/h  970 km  206 Wh/km        920 km/h  All Wheel Drive   \n",
       "1      2.6 sec  262 km/h  455 km  198 Wh/km        680 km/h  All Wheel Drive   \n",
       "2      2.8 sec  260 km/h  390 km  215 Wh/km        860 km/h  All Wheel Drive   \n",
       "\n",
       "   NumberofSeats PriceinGermany PriceinUK  \n",
       "0              4       €215,000  £189,000  \n",
       "1              7       €116,990  £110,980  \n",
       "2              4       €186,336  £138,830  "
      ]
     },
     "execution_count": 126,
     "metadata": {},
     "output_type": "execute_result"
    }
   ],
   "source": [
    "df.head(3)"
   ]
  },
  {
   "cell_type": "code",
   "execution_count": null,
   "metadata": {},
   "outputs": [],
   "source": []
  }
 ],
 "metadata": {
  "kernelspec": {
   "display_name": "Python 3.9.12 ('base')",
   "language": "python",
   "name": "python3"
  },
  "language_info": {
   "codemirror_mode": {
    "name": "ipython",
    "version": 3
   },
   "file_extension": ".py",
   "mimetype": "text/x-python",
   "name": "python",
   "nbconvert_exporter": "python",
   "pygments_lexer": "ipython3",
   "version": "3.9.12"
  },
  "orig_nbformat": 4,
  "vscode": {
   "interpreter": {
    "hash": "0f841ebe00a5f5c5fdf6e9da3bda26ccc4a2bcf35d9606418511df2c737f82d0"
   }
  }
 },
 "nbformat": 4,
 "nbformat_minor": 2
}
