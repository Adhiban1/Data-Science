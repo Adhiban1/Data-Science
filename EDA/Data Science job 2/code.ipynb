{
 "cells": [
  {
   "cell_type": "code",
   "execution_count": 1,
   "id": "ecc1181b",
   "metadata": {},
   "outputs": [],
   "source": [
    "import numpy as np\n",
    "import pandas as pd\n",
    "from pandas_profiling import ProfileReport"
   ]
  },
  {
   "cell_type": "code",
   "execution_count": 32,
   "id": "debbb592",
   "metadata": {},
   "outputs": [],
   "source": [
    "import matplotlib.pyplot as plt\n",
    "import seaborn as sns"
   ]
  },
  {
   "cell_type": "code",
   "execution_count": 41,
   "id": "f1fa9a36",
   "metadata": {},
   "outputs": [],
   "source": [
    "import plotly.express as px"
   ]
  },
  {
   "cell_type": "code",
   "execution_count": 2,
   "id": "d7c4c3bb",
   "metadata": {},
   "outputs": [],
   "source": [
    "df = pd.read_csv('Data Science job.csv', index_col=0)"
   ]
  },
  {
   "cell_type": "code",
   "execution_count": 3,
   "id": "221f158a",
   "metadata": {},
   "outputs": [
    {
     "data": {
      "text/html": [
       "<div>\n",
       "<style scoped>\n",
       "    .dataframe tbody tr th:only-of-type {\n",
       "        vertical-align: middle;\n",
       "    }\n",
       "\n",
       "    .dataframe tbody tr th {\n",
       "        vertical-align: top;\n",
       "    }\n",
       "\n",
       "    .dataframe thead th {\n",
       "        text-align: right;\n",
       "    }\n",
       "</style>\n",
       "<table border=\"1\" class=\"dataframe\">\n",
       "  <thead>\n",
       "    <tr style=\"text-align: right;\">\n",
       "      <th></th>\n",
       "      <th>Job Title</th>\n",
       "      <th>Salary Estimate</th>\n",
       "      <th>Job Description</th>\n",
       "      <th>Rating</th>\n",
       "      <th>Company Name</th>\n",
       "      <th>Location</th>\n",
       "      <th>Headquarters</th>\n",
       "      <th>Size</th>\n",
       "      <th>Founded</th>\n",
       "      <th>Type of ownership</th>\n",
       "      <th>...</th>\n",
       "      <th>tensor</th>\n",
       "      <th>hadoop</th>\n",
       "      <th>tableau</th>\n",
       "      <th>bi</th>\n",
       "      <th>flink</th>\n",
       "      <th>mongo</th>\n",
       "      <th>google_an</th>\n",
       "      <th>job_title_sim</th>\n",
       "      <th>seniority_by_title</th>\n",
       "      <th>Degree</th>\n",
       "    </tr>\n",
       "    <tr>\n",
       "      <th>index</th>\n",
       "      <th></th>\n",
       "      <th></th>\n",
       "      <th></th>\n",
       "      <th></th>\n",
       "      <th></th>\n",
       "      <th></th>\n",
       "      <th></th>\n",
       "      <th></th>\n",
       "      <th></th>\n",
       "      <th></th>\n",
       "      <th></th>\n",
       "      <th></th>\n",
       "      <th></th>\n",
       "      <th></th>\n",
       "      <th></th>\n",
       "      <th></th>\n",
       "      <th></th>\n",
       "      <th></th>\n",
       "      <th></th>\n",
       "      <th></th>\n",
       "      <th></th>\n",
       "    </tr>\n",
       "  </thead>\n",
       "  <tbody>\n",
       "    <tr>\n",
       "      <th>0</th>\n",
       "      <td>Data Scientist</td>\n",
       "      <td>$53K-$91K (Glassdoor est.)</td>\n",
       "      <td>Data Scientist\\nLocation: Albuquerque, NM\\nEdu...</td>\n",
       "      <td>3.8</td>\n",
       "      <td>Tecolote Research\\n3.8</td>\n",
       "      <td>Albuquerque, NM</td>\n",
       "      <td>Goleta, CA</td>\n",
       "      <td>501 - 1000</td>\n",
       "      <td>1973</td>\n",
       "      <td>Company - Private</td>\n",
       "      <td>...</td>\n",
       "      <td>0</td>\n",
       "      <td>0</td>\n",
       "      <td>1</td>\n",
       "      <td>1</td>\n",
       "      <td>0</td>\n",
       "      <td>0</td>\n",
       "      <td>0</td>\n",
       "      <td>data scientist</td>\n",
       "      <td>na</td>\n",
       "      <td>M</td>\n",
       "    </tr>\n",
       "    <tr>\n",
       "      <th>1</th>\n",
       "      <td>Healthcare Data Scientist</td>\n",
       "      <td>$63K-$112K (Glassdoor est.)</td>\n",
       "      <td>What You Will Do:\\n\\nI. General Summary\\n\\nThe...</td>\n",
       "      <td>3.4</td>\n",
       "      <td>University of Maryland Medical System\\n3.4</td>\n",
       "      <td>Linthicum, MD</td>\n",
       "      <td>Baltimore, MD</td>\n",
       "      <td>10000+</td>\n",
       "      <td>1984</td>\n",
       "      <td>Other Organization</td>\n",
       "      <td>...</td>\n",
       "      <td>0</td>\n",
       "      <td>0</td>\n",
       "      <td>0</td>\n",
       "      <td>0</td>\n",
       "      <td>0</td>\n",
       "      <td>0</td>\n",
       "      <td>0</td>\n",
       "      <td>data scientist</td>\n",
       "      <td>na</td>\n",
       "      <td>M</td>\n",
       "    </tr>\n",
       "    <tr>\n",
       "      <th>2</th>\n",
       "      <td>Data Scientist</td>\n",
       "      <td>$80K-$90K (Glassdoor est.)</td>\n",
       "      <td>KnowBe4, Inc. is a high growth information sec...</td>\n",
       "      <td>4.8</td>\n",
       "      <td>KnowBe4\\n4.8</td>\n",
       "      <td>Clearwater, FL</td>\n",
       "      <td>Clearwater, FL</td>\n",
       "      <td>501 - 1000</td>\n",
       "      <td>2010</td>\n",
       "      <td>Company - Private</td>\n",
       "      <td>...</td>\n",
       "      <td>0</td>\n",
       "      <td>0</td>\n",
       "      <td>0</td>\n",
       "      <td>0</td>\n",
       "      <td>0</td>\n",
       "      <td>0</td>\n",
       "      <td>0</td>\n",
       "      <td>data scientist</td>\n",
       "      <td>na</td>\n",
       "      <td>M</td>\n",
       "    </tr>\n",
       "    <tr>\n",
       "      <th>3</th>\n",
       "      <td>Data Scientist</td>\n",
       "      <td>$56K-$97K (Glassdoor est.)</td>\n",
       "      <td>*Organization and Job ID**\\nJob ID: 310709\\n\\n...</td>\n",
       "      <td>3.8</td>\n",
       "      <td>PNNL\\n3.8</td>\n",
       "      <td>Richland, WA</td>\n",
       "      <td>Richland, WA</td>\n",
       "      <td>1001 - 5000</td>\n",
       "      <td>1965</td>\n",
       "      <td>Government</td>\n",
       "      <td>...</td>\n",
       "      <td>0</td>\n",
       "      <td>0</td>\n",
       "      <td>0</td>\n",
       "      <td>0</td>\n",
       "      <td>0</td>\n",
       "      <td>0</td>\n",
       "      <td>0</td>\n",
       "      <td>data scientist</td>\n",
       "      <td>na</td>\n",
       "      <td>na</td>\n",
       "    </tr>\n",
       "    <tr>\n",
       "      <th>4</th>\n",
       "      <td>Data Scientist</td>\n",
       "      <td>$86K-$143K (Glassdoor est.)</td>\n",
       "      <td>Data Scientist\\nAffinity Solutions / Marketing...</td>\n",
       "      <td>2.9</td>\n",
       "      <td>Affinity Solutions\\n2.9</td>\n",
       "      <td>New York, NY</td>\n",
       "      <td>New York, NY</td>\n",
       "      <td>51 - 200</td>\n",
       "      <td>1998</td>\n",
       "      <td>Company - Private</td>\n",
       "      <td>...</td>\n",
       "      <td>0</td>\n",
       "      <td>0</td>\n",
       "      <td>0</td>\n",
       "      <td>0</td>\n",
       "      <td>0</td>\n",
       "      <td>0</td>\n",
       "      <td>0</td>\n",
       "      <td>data scientist</td>\n",
       "      <td>na</td>\n",
       "      <td>na</td>\n",
       "    </tr>\n",
       "    <tr>\n",
       "      <th>...</th>\n",
       "      <td>...</td>\n",
       "      <td>...</td>\n",
       "      <td>...</td>\n",
       "      <td>...</td>\n",
       "      <td>...</td>\n",
       "      <td>...</td>\n",
       "      <td>...</td>\n",
       "      <td>...</td>\n",
       "      <td>...</td>\n",
       "      <td>...</td>\n",
       "      <td>...</td>\n",
       "      <td>...</td>\n",
       "      <td>...</td>\n",
       "      <td>...</td>\n",
       "      <td>...</td>\n",
       "      <td>...</td>\n",
       "      <td>...</td>\n",
       "      <td>...</td>\n",
       "      <td>...</td>\n",
       "      <td>...</td>\n",
       "      <td>...</td>\n",
       "    </tr>\n",
       "    <tr>\n",
       "      <th>950</th>\n",
       "      <td>Sr Scientist, Immuno-Oncology - Oncology</td>\n",
       "      <td>$58K-$111K (Glassdoor est.)</td>\n",
       "      <td>Site Name: USA - Massachusetts - Cambridge\\nPo...</td>\n",
       "      <td>3.9</td>\n",
       "      <td>GSK\\n3.9</td>\n",
       "      <td>Cambridge, MA</td>\n",
       "      <td>Brentford, United Kingdom</td>\n",
       "      <td>10000+</td>\n",
       "      <td>1830</td>\n",
       "      <td>Company - Public</td>\n",
       "      <td>...</td>\n",
       "      <td>0</td>\n",
       "      <td>0</td>\n",
       "      <td>0</td>\n",
       "      <td>0</td>\n",
       "      <td>0</td>\n",
       "      <td>0</td>\n",
       "      <td>0</td>\n",
       "      <td>other scientist</td>\n",
       "      <td>sr</td>\n",
       "      <td>M</td>\n",
       "    </tr>\n",
       "    <tr>\n",
       "      <th>951</th>\n",
       "      <td>Senior Data Engineer</td>\n",
       "      <td>$72K-$133K (Glassdoor est.)</td>\n",
       "      <td>THE CHALLENGE\\nEventbrite has a world-class da...</td>\n",
       "      <td>4.4</td>\n",
       "      <td>Eventbrite\\n4.4</td>\n",
       "      <td>Nashville, TN</td>\n",
       "      <td>San Francisco, CA</td>\n",
       "      <td>1001 - 5000</td>\n",
       "      <td>2006</td>\n",
       "      <td>Company - Public</td>\n",
       "      <td>...</td>\n",
       "      <td>0</td>\n",
       "      <td>1</td>\n",
       "      <td>0</td>\n",
       "      <td>0</td>\n",
       "      <td>0</td>\n",
       "      <td>0</td>\n",
       "      <td>0</td>\n",
       "      <td>data engineer</td>\n",
       "      <td>sr</td>\n",
       "      <td>na</td>\n",
       "    </tr>\n",
       "    <tr>\n",
       "      <th>952</th>\n",
       "      <td>Project Scientist - Auton Lab, Robotics Institute</td>\n",
       "      <td>$56K-$91K (Glassdoor est.)</td>\n",
       "      <td>The Auton Lab at Carnegie Mellon University is...</td>\n",
       "      <td>2.6</td>\n",
       "      <td>Software Engineering Institute\\n2.6</td>\n",
       "      <td>Pittsburgh, PA</td>\n",
       "      <td>Pittsburgh, PA</td>\n",
       "      <td>501 - 1000</td>\n",
       "      <td>1984</td>\n",
       "      <td>College / University</td>\n",
       "      <td>...</td>\n",
       "      <td>0</td>\n",
       "      <td>0</td>\n",
       "      <td>0</td>\n",
       "      <td>0</td>\n",
       "      <td>0</td>\n",
       "      <td>0</td>\n",
       "      <td>0</td>\n",
       "      <td>other scientist</td>\n",
       "      <td>na</td>\n",
       "      <td>P</td>\n",
       "    </tr>\n",
       "    <tr>\n",
       "      <th>953</th>\n",
       "      <td>Data Science Manager</td>\n",
       "      <td>$95K-$160K (Glassdoor est.)</td>\n",
       "      <td>Data Science ManagerResponsibilities:\\n\\nOvers...</td>\n",
       "      <td>3.2</td>\n",
       "      <td>Numeric, LLC\\n3.2</td>\n",
       "      <td>Allentown, PA</td>\n",
       "      <td>Chadds Ford, PA</td>\n",
       "      <td>1 - 50</td>\n",
       "      <td>-1</td>\n",
       "      <td>Company - Private</td>\n",
       "      <td>...</td>\n",
       "      <td>0</td>\n",
       "      <td>0</td>\n",
       "      <td>0</td>\n",
       "      <td>0</td>\n",
       "      <td>0</td>\n",
       "      <td>0</td>\n",
       "      <td>0</td>\n",
       "      <td>data scientist</td>\n",
       "      <td>na</td>\n",
       "      <td>na</td>\n",
       "    </tr>\n",
       "    <tr>\n",
       "      <th>955</th>\n",
       "      <td>Research Scientist – Security and Privacy</td>\n",
       "      <td>$61K-$126K (Glassdoor est.)</td>\n",
       "      <td>Returning Candidate? Log back in to the Career...</td>\n",
       "      <td>3.6</td>\n",
       "      <td>Riverside Research Institute\\n3.6</td>\n",
       "      <td>Beavercreek, OH</td>\n",
       "      <td>Arlington, VA</td>\n",
       "      <td>501 - 1000</td>\n",
       "      <td>1967</td>\n",
       "      <td>Nonprofit Organization</td>\n",
       "      <td>...</td>\n",
       "      <td>0</td>\n",
       "      <td>0</td>\n",
       "      <td>0</td>\n",
       "      <td>0</td>\n",
       "      <td>0</td>\n",
       "      <td>0</td>\n",
       "      <td>0</td>\n",
       "      <td>other scientist</td>\n",
       "      <td>na</td>\n",
       "      <td>M</td>\n",
       "    </tr>\n",
       "  </tbody>\n",
       "</table>\n",
       "<p>742 rows × 41 columns</p>\n",
       "</div>"
      ],
      "text/plain": [
       "                                               Job Title  \\\n",
       "index                                                      \n",
       "0                                         Data Scientist   \n",
       "1                              Healthcare Data Scientist   \n",
       "2                                         Data Scientist   \n",
       "3                                         Data Scientist   \n",
       "4                                         Data Scientist   \n",
       "...                                                  ...   \n",
       "950             Sr Scientist, Immuno-Oncology - Oncology   \n",
       "951                                 Senior Data Engineer   \n",
       "952    Project Scientist - Auton Lab, Robotics Institute   \n",
       "953                                 Data Science Manager   \n",
       "955            Research Scientist – Security and Privacy   \n",
       "\n",
       "                   Salary Estimate  \\\n",
       "index                                \n",
       "0       $53K-$91K (Glassdoor est.)   \n",
       "1      $63K-$112K (Glassdoor est.)   \n",
       "2       $80K-$90K (Glassdoor est.)   \n",
       "3       $56K-$97K (Glassdoor est.)   \n",
       "4      $86K-$143K (Glassdoor est.)   \n",
       "...                            ...   \n",
       "950    $58K-$111K (Glassdoor est.)   \n",
       "951    $72K-$133K (Glassdoor est.)   \n",
       "952     $56K-$91K (Glassdoor est.)   \n",
       "953    $95K-$160K (Glassdoor est.)   \n",
       "955    $61K-$126K (Glassdoor est.)   \n",
       "\n",
       "                                         Job Description  Rating  \\\n",
       "index                                                              \n",
       "0      Data Scientist\\nLocation: Albuquerque, NM\\nEdu...     3.8   \n",
       "1      What You Will Do:\\n\\nI. General Summary\\n\\nThe...     3.4   \n",
       "2      KnowBe4, Inc. is a high growth information sec...     4.8   \n",
       "3      *Organization and Job ID**\\nJob ID: 310709\\n\\n...     3.8   \n",
       "4      Data Scientist\\nAffinity Solutions / Marketing...     2.9   \n",
       "...                                                  ...     ...   \n",
       "950    Site Name: USA - Massachusetts - Cambridge\\nPo...     3.9   \n",
       "951    THE CHALLENGE\\nEventbrite has a world-class da...     4.4   \n",
       "952    The Auton Lab at Carnegie Mellon University is...     2.6   \n",
       "953    Data Science ManagerResponsibilities:\\n\\nOvers...     3.2   \n",
       "955    Returning Candidate? Log back in to the Career...     3.6   \n",
       "\n",
       "                                     Company Name         Location  \\\n",
       "index                                                                \n",
       "0                          Tecolote Research\\n3.8  Albuquerque, NM   \n",
       "1      University of Maryland Medical System\\n3.4    Linthicum, MD   \n",
       "2                                    KnowBe4\\n4.8   Clearwater, FL   \n",
       "3                                       PNNL\\n3.8     Richland, WA   \n",
       "4                         Affinity Solutions\\n2.9     New York, NY   \n",
       "...                                           ...              ...   \n",
       "950                                      GSK\\n3.9    Cambridge, MA   \n",
       "951                               Eventbrite\\n4.4    Nashville, TN   \n",
       "952           Software Engineering Institute\\n2.6   Pittsburgh, PA   \n",
       "953                             Numeric, LLC\\n3.2    Allentown, PA   \n",
       "955             Riverside Research Institute\\n3.6  Beavercreek, OH   \n",
       "\n",
       "                    Headquarters          Size  Founded  \\\n",
       "index                                                     \n",
       "0                     Goleta, CA   501 - 1000      1973   \n",
       "1                  Baltimore, MD       10000+      1984   \n",
       "2                 Clearwater, FL   501 - 1000      2010   \n",
       "3                   Richland, WA  1001 - 5000      1965   \n",
       "4                   New York, NY     51 - 200      1998   \n",
       "...                          ...           ...      ...   \n",
       "950    Brentford, United Kingdom       10000+      1830   \n",
       "951            San Francisco, CA  1001 - 5000      2006   \n",
       "952               Pittsburgh, PA   501 - 1000      1984   \n",
       "953              Chadds Ford, PA       1 - 50        -1   \n",
       "955                Arlington, VA   501 - 1000      1967   \n",
       "\n",
       "            Type of ownership  ... tensor hadoop tableau bi  flink  mongo  \\\n",
       "index                          ...                                          \n",
       "0           Company - Private  ...      0      0       1  1      0      0   \n",
       "1          Other Organization  ...      0      0       0  0      0      0   \n",
       "2           Company - Private  ...      0      0       0  0      0      0   \n",
       "3                  Government  ...      0      0       0  0      0      0   \n",
       "4           Company - Private  ...      0      0       0  0      0      0   \n",
       "...                       ...  ...    ...    ...     ... ..    ...    ...   \n",
       "950          Company - Public  ...      0      0       0  0      0      0   \n",
       "951          Company - Public  ...      0      1       0  0      0      0   \n",
       "952      College / University  ...      0      0       0  0      0      0   \n",
       "953         Company - Private  ...      0      0       0  0      0      0   \n",
       "955    Nonprofit Organization  ...      0      0       0  0      0      0   \n",
       "\n",
       "       google_an    job_title_sim  seniority_by_title Degree  \n",
       "index                                                         \n",
       "0              0   data scientist                  na      M  \n",
       "1              0   data scientist                  na      M  \n",
       "2              0   data scientist                  na      M  \n",
       "3              0   data scientist                  na     na  \n",
       "4              0   data scientist                  na     na  \n",
       "...          ...              ...                 ...    ...  \n",
       "950            0  other scientist                  sr      M  \n",
       "951            0    data engineer                  sr     na  \n",
       "952            0  other scientist                  na      P  \n",
       "953            0   data scientist                  na     na  \n",
       "955            0  other scientist                  na      M  \n",
       "\n",
       "[742 rows x 41 columns]"
      ]
     },
     "execution_count": 3,
     "metadata": {},
     "output_type": "execute_result"
    }
   ],
   "source": [
    "df"
   ]
  },
  {
   "cell_type": "markdown",
   "id": "393c7d9f",
   "metadata": {},
   "source": [
    "## Pre processing Report:"
   ]
  },
  {
   "cell_type": "code",
   "execution_count": 4,
   "id": "ac9a8111",
   "metadata": {},
   "outputs": [
    {
     "data": {
      "application/vnd.jupyter.widget-view+json": {
       "model_id": "50c98fa27c9a4c21b4036a5dc1f31676",
       "version_major": 2,
       "version_minor": 0
      },
      "text/plain": [
       "Summarize dataset:   0%|          | 0/5 [00:00<?, ?it/s]"
      ]
     },
     "metadata": {},
     "output_type": "display_data"
    },
    {
     "data": {
      "application/vnd.jupyter.widget-view+json": {
       "model_id": "109b3508ea274737bc2ea395ab9d3f7a",
       "version_major": 2,
       "version_minor": 0
      },
      "text/plain": [
       "Generate report structure:   0%|          | 0/1 [00:00<?, ?it/s]"
      ]
     },
     "metadata": {},
     "output_type": "display_data"
    },
    {
     "data": {
      "application/vnd.jupyter.widget-view+json": {
       "model_id": "304198652f1d4774bd99d90f1e666c1f",
       "version_major": 2,
       "version_minor": 0
      },
      "text/plain": [
       "Render HTML:   0%|          | 0/1 [00:00<?, ?it/s]"
      ]
     },
     "metadata": {},
     "output_type": "display_data"
    },
    {
     "data": {
      "application/vnd.jupyter.widget-view+json": {
       "model_id": "e76ef72b1f6b4b4f8b9df6c653be3582",
       "version_major": 2,
       "version_minor": 0
      },
      "text/plain": [
       "Export report to file:   0%|          | 0/1 [00:00<?, ?it/s]"
      ]
     },
     "metadata": {},
     "output_type": "display_data"
    }
   ],
   "source": [
    "profile = ProfileReport(df)\n",
    "profile.to_file('preprocessing.html')"
   ]
  },
  {
   "cell_type": "code",
   "execution_count": 5,
   "id": "99b222bd",
   "metadata": {},
   "outputs": [],
   "source": [
    "df = df.drop_duplicates()"
   ]
  },
  {
   "cell_type": "code",
   "execution_count": 6,
   "id": "fa949be8",
   "metadata": {},
   "outputs": [],
   "source": [
    "df = df.reset_index(drop=True)"
   ]
  },
  {
   "cell_type": "code",
   "execution_count": 7,
   "id": "8ed97bfd",
   "metadata": {},
   "outputs": [
    {
     "data": {
      "text/html": [
       "<div>\n",
       "<style scoped>\n",
       "    .dataframe tbody tr th:only-of-type {\n",
       "        vertical-align: middle;\n",
       "    }\n",
       "\n",
       "    .dataframe tbody tr th {\n",
       "        vertical-align: top;\n",
       "    }\n",
       "\n",
       "    .dataframe thead th {\n",
       "        text-align: right;\n",
       "    }\n",
       "</style>\n",
       "<table border=\"1\" class=\"dataframe\">\n",
       "  <thead>\n",
       "    <tr style=\"text-align: right;\">\n",
       "      <th></th>\n",
       "      <th>Job Title</th>\n",
       "      <th>Salary Estimate</th>\n",
       "      <th>Job Description</th>\n",
       "      <th>Rating</th>\n",
       "      <th>Company Name</th>\n",
       "      <th>Location</th>\n",
       "      <th>Headquarters</th>\n",
       "      <th>Size</th>\n",
       "      <th>Founded</th>\n",
       "      <th>Type of ownership</th>\n",
       "      <th>...</th>\n",
       "      <th>tensor</th>\n",
       "      <th>hadoop</th>\n",
       "      <th>tableau</th>\n",
       "      <th>bi</th>\n",
       "      <th>flink</th>\n",
       "      <th>mongo</th>\n",
       "      <th>google_an</th>\n",
       "      <th>job_title_sim</th>\n",
       "      <th>seniority_by_title</th>\n",
       "      <th>Degree</th>\n",
       "    </tr>\n",
       "  </thead>\n",
       "  <tbody>\n",
       "    <tr>\n",
       "      <th>0</th>\n",
       "      <td>Data Scientist</td>\n",
       "      <td>$53K-$91K (Glassdoor est.)</td>\n",
       "      <td>Data Scientist\\nLocation: Albuquerque, NM\\nEdu...</td>\n",
       "      <td>3.8</td>\n",
       "      <td>Tecolote Research\\n3.8</td>\n",
       "      <td>Albuquerque, NM</td>\n",
       "      <td>Goleta, CA</td>\n",
       "      <td>501 - 1000</td>\n",
       "      <td>1973</td>\n",
       "      <td>Company - Private</td>\n",
       "      <td>...</td>\n",
       "      <td>0</td>\n",
       "      <td>0</td>\n",
       "      <td>1</td>\n",
       "      <td>1</td>\n",
       "      <td>0</td>\n",
       "      <td>0</td>\n",
       "      <td>0</td>\n",
       "      <td>data scientist</td>\n",
       "      <td>na</td>\n",
       "      <td>M</td>\n",
       "    </tr>\n",
       "    <tr>\n",
       "      <th>1</th>\n",
       "      <td>Healthcare Data Scientist</td>\n",
       "      <td>$63K-$112K (Glassdoor est.)</td>\n",
       "      <td>What You Will Do:\\n\\nI. General Summary\\n\\nThe...</td>\n",
       "      <td>3.4</td>\n",
       "      <td>University of Maryland Medical System\\n3.4</td>\n",
       "      <td>Linthicum, MD</td>\n",
       "      <td>Baltimore, MD</td>\n",
       "      <td>10000+</td>\n",
       "      <td>1984</td>\n",
       "      <td>Other Organization</td>\n",
       "      <td>...</td>\n",
       "      <td>0</td>\n",
       "      <td>0</td>\n",
       "      <td>0</td>\n",
       "      <td>0</td>\n",
       "      <td>0</td>\n",
       "      <td>0</td>\n",
       "      <td>0</td>\n",
       "      <td>data scientist</td>\n",
       "      <td>na</td>\n",
       "      <td>M</td>\n",
       "    </tr>\n",
       "    <tr>\n",
       "      <th>2</th>\n",
       "      <td>Data Scientist</td>\n",
       "      <td>$80K-$90K (Glassdoor est.)</td>\n",
       "      <td>KnowBe4, Inc. is a high growth information sec...</td>\n",
       "      <td>4.8</td>\n",
       "      <td>KnowBe4\\n4.8</td>\n",
       "      <td>Clearwater, FL</td>\n",
       "      <td>Clearwater, FL</td>\n",
       "      <td>501 - 1000</td>\n",
       "      <td>2010</td>\n",
       "      <td>Company - Private</td>\n",
       "      <td>...</td>\n",
       "      <td>0</td>\n",
       "      <td>0</td>\n",
       "      <td>0</td>\n",
       "      <td>0</td>\n",
       "      <td>0</td>\n",
       "      <td>0</td>\n",
       "      <td>0</td>\n",
       "      <td>data scientist</td>\n",
       "      <td>na</td>\n",
       "      <td>M</td>\n",
       "    </tr>\n",
       "    <tr>\n",
       "      <th>3</th>\n",
       "      <td>Data Scientist</td>\n",
       "      <td>$56K-$97K (Glassdoor est.)</td>\n",
       "      <td>*Organization and Job ID**\\nJob ID: 310709\\n\\n...</td>\n",
       "      <td>3.8</td>\n",
       "      <td>PNNL\\n3.8</td>\n",
       "      <td>Richland, WA</td>\n",
       "      <td>Richland, WA</td>\n",
       "      <td>1001 - 5000</td>\n",
       "      <td>1965</td>\n",
       "      <td>Government</td>\n",
       "      <td>...</td>\n",
       "      <td>0</td>\n",
       "      <td>0</td>\n",
       "      <td>0</td>\n",
       "      <td>0</td>\n",
       "      <td>0</td>\n",
       "      <td>0</td>\n",
       "      <td>0</td>\n",
       "      <td>data scientist</td>\n",
       "      <td>na</td>\n",
       "      <td>na</td>\n",
       "    </tr>\n",
       "    <tr>\n",
       "      <th>4</th>\n",
       "      <td>Data Scientist</td>\n",
       "      <td>$86K-$143K (Glassdoor est.)</td>\n",
       "      <td>Data Scientist\\nAffinity Solutions / Marketing...</td>\n",
       "      <td>2.9</td>\n",
       "      <td>Affinity Solutions\\n2.9</td>\n",
       "      <td>New York, NY</td>\n",
       "      <td>New York, NY</td>\n",
       "      <td>51 - 200</td>\n",
       "      <td>1998</td>\n",
       "      <td>Company - Private</td>\n",
       "      <td>...</td>\n",
       "      <td>0</td>\n",
       "      <td>0</td>\n",
       "      <td>0</td>\n",
       "      <td>0</td>\n",
       "      <td>0</td>\n",
       "      <td>0</td>\n",
       "      <td>0</td>\n",
       "      <td>data scientist</td>\n",
       "      <td>na</td>\n",
       "      <td>na</td>\n",
       "    </tr>\n",
       "    <tr>\n",
       "      <th>...</th>\n",
       "      <td>...</td>\n",
       "      <td>...</td>\n",
       "      <td>...</td>\n",
       "      <td>...</td>\n",
       "      <td>...</td>\n",
       "      <td>...</td>\n",
       "      <td>...</td>\n",
       "      <td>...</td>\n",
       "      <td>...</td>\n",
       "      <td>...</td>\n",
       "      <td>...</td>\n",
       "      <td>...</td>\n",
       "      <td>...</td>\n",
       "      <td>...</td>\n",
       "      <td>...</td>\n",
       "      <td>...</td>\n",
       "      <td>...</td>\n",
       "      <td>...</td>\n",
       "      <td>...</td>\n",
       "      <td>...</td>\n",
       "      <td>...</td>\n",
       "    </tr>\n",
       "    <tr>\n",
       "      <th>462</th>\n",
       "      <td>Data Architect / Data Modeler</td>\n",
       "      <td>$63K-$110K (Glassdoor est.)</td>\n",
       "      <td>Medidata: Conquering Diseases Together\\n\\nMedi...</td>\n",
       "      <td>4.3</td>\n",
       "      <td>Medidata Solutions\\n4.3</td>\n",
       "      <td>New York, NY</td>\n",
       "      <td>New York, NY</td>\n",
       "      <td>1001 - 5000</td>\n",
       "      <td>1999</td>\n",
       "      <td>Company - Public</td>\n",
       "      <td>...</td>\n",
       "      <td>0</td>\n",
       "      <td>0</td>\n",
       "      <td>0</td>\n",
       "      <td>0</td>\n",
       "      <td>0</td>\n",
       "      <td>0</td>\n",
       "      <td>0</td>\n",
       "      <td>data modeler</td>\n",
       "      <td>na</td>\n",
       "      <td>M</td>\n",
       "    </tr>\n",
       "    <tr>\n",
       "      <th>463</th>\n",
       "      <td>Data Scientist</td>\n",
       "      <td>$65K-$113K (Glassdoor est.)</td>\n",
       "      <td>DatamanUSA has an exciting opportunity for a D...</td>\n",
       "      <td>3.4</td>\n",
       "      <td>DatamanUSA, LLC\\n3.4</td>\n",
       "      <td>Olympia, WA</td>\n",
       "      <td>Centennial, CO</td>\n",
       "      <td>51 - 200</td>\n",
       "      <td>-1</td>\n",
       "      <td>Company - Private</td>\n",
       "      <td>...</td>\n",
       "      <td>0</td>\n",
       "      <td>0</td>\n",
       "      <td>0</td>\n",
       "      <td>0</td>\n",
       "      <td>0</td>\n",
       "      <td>0</td>\n",
       "      <td>0</td>\n",
       "      <td>data scientist</td>\n",
       "      <td>na</td>\n",
       "      <td>na</td>\n",
       "    </tr>\n",
       "    <tr>\n",
       "      <th>464</th>\n",
       "      <td>Associate Scientist / Sr. Associate Scientist,...</td>\n",
       "      <td>$59K-$125K (Glassdoor est.)</td>\n",
       "      <td>Who we are\\n\\n23andMe, the leading consumer ge...</td>\n",
       "      <td>4.0</td>\n",
       "      <td>23andMe\\n4.0</td>\n",
       "      <td>South San Francisco, CA</td>\n",
       "      <td>Sunnyvale, CA</td>\n",
       "      <td>501 - 1000</td>\n",
       "      <td>2006</td>\n",
       "      <td>Company - Private</td>\n",
       "      <td>...</td>\n",
       "      <td>0</td>\n",
       "      <td>0</td>\n",
       "      <td>0</td>\n",
       "      <td>0</td>\n",
       "      <td>0</td>\n",
       "      <td>0</td>\n",
       "      <td>0</td>\n",
       "      <td>other scientist</td>\n",
       "      <td>sr</td>\n",
       "      <td>M</td>\n",
       "    </tr>\n",
       "    <tr>\n",
       "      <th>465</th>\n",
       "      <td>Machine Learning Engineer (NLP)</td>\n",
       "      <td>$80K-$142K (Glassdoor est.)</td>\n",
       "      <td>CK-12’s mission is to provide free access to o...</td>\n",
       "      <td>4.1</td>\n",
       "      <td>CK-12 Foundation\\n4.1</td>\n",
       "      <td>Palo Alto, CA</td>\n",
       "      <td>Palo Alto, CA</td>\n",
       "      <td>1 - 50</td>\n",
       "      <td>2007</td>\n",
       "      <td>Company - Private</td>\n",
       "      <td>...</td>\n",
       "      <td>1</td>\n",
       "      <td>0</td>\n",
       "      <td>0</td>\n",
       "      <td>0</td>\n",
       "      <td>0</td>\n",
       "      <td>0</td>\n",
       "      <td>0</td>\n",
       "      <td>machine learning engineer</td>\n",
       "      <td>na</td>\n",
       "      <td>na</td>\n",
       "    </tr>\n",
       "    <tr>\n",
       "      <th>466</th>\n",
       "      <td>Data Engineer</td>\n",
       "      <td>$62K-$113K (Glassdoor est.)</td>\n",
       "      <td>Do you find data architecture exciting? Does b...</td>\n",
       "      <td>3.9</td>\n",
       "      <td>Fivestars\\n3.9</td>\n",
       "      <td>San Francisco, CA</td>\n",
       "      <td>San Francisco, CA</td>\n",
       "      <td>201 - 500</td>\n",
       "      <td>2011</td>\n",
       "      <td>Company - Private</td>\n",
       "      <td>...</td>\n",
       "      <td>0</td>\n",
       "      <td>0</td>\n",
       "      <td>0</td>\n",
       "      <td>0</td>\n",
       "      <td>0</td>\n",
       "      <td>0</td>\n",
       "      <td>0</td>\n",
       "      <td>data engineer</td>\n",
       "      <td>na</td>\n",
       "      <td>P</td>\n",
       "    </tr>\n",
       "  </tbody>\n",
       "</table>\n",
       "<p>467 rows × 41 columns</p>\n",
       "</div>"
      ],
      "text/plain": [
       "                                             Job Title  \\\n",
       "0                                       Data Scientist   \n",
       "1                            Healthcare Data Scientist   \n",
       "2                                       Data Scientist   \n",
       "3                                       Data Scientist   \n",
       "4                                       Data Scientist   \n",
       "..                                                 ...   \n",
       "462                      Data Architect / Data Modeler   \n",
       "463                                     Data Scientist   \n",
       "464  Associate Scientist / Sr. Associate Scientist,...   \n",
       "465                    Machine Learning Engineer (NLP)   \n",
       "466                                      Data Engineer   \n",
       "\n",
       "                 Salary Estimate  \\\n",
       "0     $53K-$91K (Glassdoor est.)   \n",
       "1    $63K-$112K (Glassdoor est.)   \n",
       "2     $80K-$90K (Glassdoor est.)   \n",
       "3     $56K-$97K (Glassdoor est.)   \n",
       "4    $86K-$143K (Glassdoor est.)   \n",
       "..                           ...   \n",
       "462  $63K-$110K (Glassdoor est.)   \n",
       "463  $65K-$113K (Glassdoor est.)   \n",
       "464  $59K-$125K (Glassdoor est.)   \n",
       "465  $80K-$142K (Glassdoor est.)   \n",
       "466  $62K-$113K (Glassdoor est.)   \n",
       "\n",
       "                                       Job Description  Rating  \\\n",
       "0    Data Scientist\\nLocation: Albuquerque, NM\\nEdu...     3.8   \n",
       "1    What You Will Do:\\n\\nI. General Summary\\n\\nThe...     3.4   \n",
       "2    KnowBe4, Inc. is a high growth information sec...     4.8   \n",
       "3    *Organization and Job ID**\\nJob ID: 310709\\n\\n...     3.8   \n",
       "4    Data Scientist\\nAffinity Solutions / Marketing...     2.9   \n",
       "..                                                 ...     ...   \n",
       "462  Medidata: Conquering Diseases Together\\n\\nMedi...     4.3   \n",
       "463  DatamanUSA has an exciting opportunity for a D...     3.4   \n",
       "464  Who we are\\n\\n23andMe, the leading consumer ge...     4.0   \n",
       "465  CK-12’s mission is to provide free access to o...     4.1   \n",
       "466  Do you find data architecture exciting? Does b...     3.9   \n",
       "\n",
       "                                   Company Name                 Location  \\\n",
       "0                        Tecolote Research\\n3.8          Albuquerque, NM   \n",
       "1    University of Maryland Medical System\\n3.4            Linthicum, MD   \n",
       "2                                  KnowBe4\\n4.8           Clearwater, FL   \n",
       "3                                     PNNL\\n3.8             Richland, WA   \n",
       "4                       Affinity Solutions\\n2.9             New York, NY   \n",
       "..                                          ...                      ...   \n",
       "462                     Medidata Solutions\\n4.3             New York, NY   \n",
       "463                        DatamanUSA, LLC\\n3.4              Olympia, WA   \n",
       "464                                23andMe\\n4.0  South San Francisco, CA   \n",
       "465                       CK-12 Foundation\\n4.1            Palo Alto, CA   \n",
       "466                              Fivestars\\n3.9        San Francisco, CA   \n",
       "\n",
       "          Headquarters          Size  Founded   Type of ownership  ... tensor  \\\n",
       "0           Goleta, CA   501 - 1000      1973   Company - Private  ...      0   \n",
       "1        Baltimore, MD       10000+      1984  Other Organization  ...      0   \n",
       "2       Clearwater, FL   501 - 1000      2010   Company - Private  ...      0   \n",
       "3         Richland, WA  1001 - 5000      1965          Government  ...      0   \n",
       "4         New York, NY     51 - 200      1998   Company - Private  ...      0   \n",
       "..                 ...           ...      ...                 ...  ...    ...   \n",
       "462       New York, NY  1001 - 5000      1999    Company - Public  ...      0   \n",
       "463     Centennial, CO     51 - 200        -1   Company - Private  ...      0   \n",
       "464      Sunnyvale, CA   501 - 1000      2006   Company - Private  ...      0   \n",
       "465      Palo Alto, CA       1 - 50      2007   Company - Private  ...      1   \n",
       "466  San Francisco, CA    201 - 500      2011   Company - Private  ...      0   \n",
       "\n",
       "    hadoop tableau bi  flink  mongo  google_an              job_title_sim  \\\n",
       "0        0       1  1      0      0          0             data scientist   \n",
       "1        0       0  0      0      0          0             data scientist   \n",
       "2        0       0  0      0      0          0             data scientist   \n",
       "3        0       0  0      0      0          0             data scientist   \n",
       "4        0       0  0      0      0          0             data scientist   \n",
       "..     ...     ... ..    ...    ...        ...                        ...   \n",
       "462      0       0  0      0      0          0               data modeler   \n",
       "463      0       0  0      0      0          0             data scientist   \n",
       "464      0       0  0      0      0          0            other scientist   \n",
       "465      0       0  0      0      0          0  machine learning engineer   \n",
       "466      0       0  0      0      0          0              data engineer   \n",
       "\n",
       "     seniority_by_title Degree  \n",
       "0                    na      M  \n",
       "1                    na      M  \n",
       "2                    na      M  \n",
       "3                    na     na  \n",
       "4                    na     na  \n",
       "..                  ...    ...  \n",
       "462                  na      M  \n",
       "463                  na     na  \n",
       "464                  sr      M  \n",
       "465                  na     na  \n",
       "466                  na      P  \n",
       "\n",
       "[467 rows x 41 columns]"
      ]
     },
     "execution_count": 7,
     "metadata": {},
     "output_type": "execute_result"
    }
   ],
   "source": [
    "df"
   ]
  },
  {
   "cell_type": "markdown",
   "id": "6e851155",
   "metadata": {},
   "source": [
    "## Converting Salary Estimate into numeric:"
   ]
  },
  {
   "cell_type": "code",
   "execution_count": 8,
   "id": "65129525",
   "metadata": {},
   "outputs": [],
   "source": [
    "import re"
   ]
  },
  {
   "cell_type": "code",
   "execution_count": 9,
   "id": "06290f12",
   "metadata": {},
   "outputs": [
    {
     "data": {
      "text/plain": [
       "array(['$53K-$91K (Glassdoor est.)', '$63K-$112K (Glassdoor est.)',\n",
       "       '$80K-$90K (Glassdoor est.)', '$56K-$97K (Glassdoor est.)',\n",
       "       '$86K-$143K (Glassdoor est.)', '$71K-$119K (Glassdoor est.)',\n",
       "       '$54K-$93K (Glassdoor est.)', '$86K-$142K (Glassdoor est.)',\n",
       "       '$38K-$84K (Glassdoor est.)', '$120K-$160K (Glassdoor est.)',\n",
       "       '$126K-$201K (Glassdoor est.)', '$64K-$106K (Glassdoor est.)',\n",
       "       '$106K-$172K (Glassdoor est.)', '$46K-$85K (Glassdoor est.)',\n",
       "       '$83K-$144K (Glassdoor est.)', '$102K-$190K (Glassdoor est.)',\n",
       "       '$67K-$137K (Glassdoor est.)', '$118K-$189K (Glassdoor est.)',\n",
       "       '$110K-$175K (Glassdoor est.)', '$64K-$111K (Glassdoor est.)',\n",
       "       '$81K-$130K (Glassdoor est.)', '$73K-$119K (Glassdoor est.)',\n",
       "       '$86K-$139K (Glassdoor est.)', '$63K-$105K (Glassdoor est.)',\n",
       "       '$109K-$177K (Glassdoor est.)', '$63K-$110K (Glassdoor est.)',\n",
       "       '$75K-$124K (Glassdoor est.)', '$34K-$61K (Glassdoor est.)',\n",
       "       '$72K-$120K (Glassdoor est.)', '$93K-$149K (Glassdoor est.)',\n",
       "       '$85K-$140K (Glassdoor est.)', '$77K-$135K (Glassdoor est.)',\n",
       "       '$82K-$132K (Glassdoor est.)', '$83K-$137K (Glassdoor est.)',\n",
       "       '$115K-$180K (Glassdoor est.)', '$74K-$138K (Glassdoor est.)',\n",
       "       '$64K-$112K (Glassdoor est.)', '$68K-$129K (Glassdoor est.)',\n",
       "       '$52K-$113K (Glassdoor est.)', '$110K-$150K(Employer est.)',\n",
       "       'Employer Provided Salary:$150K-$160K',\n",
       "       '$158K-$211K (Glassdoor est.)', '$20K-$39K (Glassdoor est.)',\n",
       "       '$56K-$117K (Glassdoor est.)', '$63K-$99K (Glassdoor est.)',\n",
       "       '$68K-$114K (Glassdoor est.)', '$41K-$95K (Glassdoor est.)',\n",
       "       '$86K-$144K (Glassdoor est.)', '$80K-$139K (Glassdoor est.)',\n",
       "       '$56K-$95K (Glassdoor est.)', '$120K-$189K (Glassdoor est.)',\n",
       "       '$111K-$176K (Glassdoor est.)', '$84K-$146K (Glassdoor est.)',\n",
       "       '$107K-$172K (Glassdoor est.)', '$49K-$85K (Glassdoor est.)',\n",
       "       '$61K-$109K (Glassdoor est.)', '$88K-$148K (Glassdoor est.)',\n",
       "       '$60K-$99K (Glassdoor est.)', '$41K-$72K (Glassdoor est.)',\n",
       "       '$96K-$161K (Glassdoor est.)', '$65K-$130K (Glassdoor est.)',\n",
       "       '$52K-$81K (Glassdoor est.)', '$139K-$220K (Glassdoor est.)',\n",
       "       '$50K-$102K (Glassdoor est.)', '$85K-$139K (Glassdoor est.)',\n",
       "       '$74K-$122K (Glassdoor est.)', '$99K-$157K (Glassdoor est.)',\n",
       "       '$79K-$222K (Glassdoor est.)', '$57K-$118K (Glassdoor est.)',\n",
       "       '$86K-$141K (Glassdoor est.)', '$94K-$154K (Glassdoor est.)',\n",
       "       '$37K-$76K (Glassdoor est.)', '$100K-$160K (Glassdoor est.)',\n",
       "       '$55K-$100K (Glassdoor est.)', '$60K-$114K (Glassdoor est.)',\n",
       "       '$39K-$68K (Glassdoor est.)', '$64K-$107K (Glassdoor est.)',\n",
       "       '$31K-$65K (Glassdoor est.)', '$34K-$62K (Glassdoor est.)',\n",
       "       '$117K-$231K (Glassdoor est.)', '$79K-$134K (Glassdoor est.)',\n",
       "       '$52K-$93K (Glassdoor est.)', '$55K-$116K (Glassdoor est.)',\n",
       "       '$72K-$123K (Glassdoor est.)', '$74K-$124K (Glassdoor est.)',\n",
       "       '$40K-$73K (Glassdoor est.)', '$102K-$164K (Glassdoor est.)',\n",
       "       '$89K-$153K (Glassdoor est.)', '$61K-$110K (Glassdoor est.)',\n",
       "       '$65K-$110K (Glassdoor est.)', '$200K-$275K(Employer est.)',\n",
       "       '$68K-$123K (Glassdoor est.)', '$80K-$129K (Glassdoor est.)',\n",
       "       '$39K-$71K (Glassdoor est.)', '$38K-$85K (Glassdoor est.)',\n",
       "       '$121K-$193K (Glassdoor est.)', '$54K-$102K (Glassdoor est.)',\n",
       "       '$102K-$163K (Glassdoor est.)', '$76K-$140K (Glassdoor est.)',\n",
       "       '$60K-$101K (Glassdoor est.)', '$82K-$133K (Glassdoor est.)',\n",
       "       '$65K-$125K (Glassdoor est.)', '$91K-$148K (Glassdoor est.)',\n",
       "       '$95K-$173K (Glassdoor est.)', '$77K-$124K (Glassdoor est.)',\n",
       "       '$80K-$135K (Glassdoor est.)', '$85K-$159K (Glassdoor est.)',\n",
       "       '$80K-$105K(Employer est.)', '$43K-$81K (Glassdoor est.)',\n",
       "       '$29K-$50K (Glassdoor est.)', '$26K-$55K (Glassdoor est.)',\n",
       "       '$61K-$118K (Glassdoor est.)', '$60K-$102K (Glassdoor est.)',\n",
       "       '$112K-$182K (Glassdoor est.)', '$51K-$112K (Glassdoor est.)',\n",
       "       '$113K-$223K (Glassdoor est.)', '$72K-$129K (Glassdoor est.)',\n",
       "       '$71K-$123K (Glassdoor est.)',\n",
       "       'Employer Provided Salary:$120K-$145K',\n",
       "       '$80K-$120K (Glassdoor est.)', '$80K-$130K (Glassdoor est.)',\n",
       "       '$59K-$115K (Glassdoor est.)', '$71K-$136K (Glassdoor est.)',\n",
       "       '$81K-$167K (Glassdoor est.)', '$71K-$204K (Glassdoor est.)',\n",
       "       '$75K-$125K (Glassdoor est.)', '$77K-$136K (Glassdoor est.)',\n",
       "       '$74K-$123K (Glassdoor est.)', '$44K-$78K (Glassdoor est.)',\n",
       "       '$65K-$148K (Glassdoor est.)', '$59K-$110K (Glassdoor est.)',\n",
       "       '$85K-$134K (Glassdoor est.)', '$124K-$204K (Glassdoor est.)',\n",
       "       '$131K-$207K (Glassdoor est.)', '$110K-$174K (Glassdoor est.)',\n",
       "       '$52K-$101K (Glassdoor est.)', '$81K-$133K (Glassdoor est.)',\n",
       "       '$132K-$211K (Glassdoor est.)', '$74K-$140K (Glassdoor est.)',\n",
       "       '$100K-$190K (Glassdoor est.)', '$43K-$80K (Glassdoor est.)',\n",
       "       '$17-$24 Per Hour(Glassdoor est.)', '$91K-$149K (Glassdoor est.)',\n",
       "       '$42K-$82K (Glassdoor est.)', '$116K-$185K (Glassdoor est.)',\n",
       "       '$59K-$116K (Glassdoor est.)', '$48K-$95K (Glassdoor est.)',\n",
       "       '$31K-$72K (Glassdoor est.)', '$105K-$198K (Glassdoor est.)',\n",
       "       '$98K-$182K (Glassdoor est.)', '$73K-$124K (Glassdoor est.)',\n",
       "       'Employer Provided Salary:$200K-$250K',\n",
       "       '$21-$34 Per Hour(Glassdoor est.)', '$117K-$206K (Glassdoor est.)',\n",
       "       '$111K-$183K (Glassdoor est.)', '$81K-$159K (Glassdoor est.)',\n",
       "       '$83K-$166K (Glassdoor est.)', '$114K-$182K (Glassdoor est.)',\n",
       "       '$42K-$76K (Glassdoor est.)', '$114K-$179K (Glassdoor est.)',\n",
       "       '$60K-$123K (Glassdoor est.)', '$100K-$166K (Glassdoor est.)',\n",
       "       '$108K-$173K (Glassdoor est.)', '$48K-$93K (Glassdoor est.)',\n",
       "       '$54K-$115K (Glassdoor est.)', '$60K-$127K (Glassdoor est.)',\n",
       "       '$90K-$179K (Glassdoor est.)', '$138K-$224K (Glassdoor est.)',\n",
       "       '$190K-$220K(Employer est.)', '$35K-$62K (Glassdoor est.)',\n",
       "       '$18-$25 Per Hour(Glassdoor est.)', '$39K-$66K (Glassdoor est.)',\n",
       "       '$42K-$86K (Glassdoor est.)', '$69K-$127K (Glassdoor est.)',\n",
       "       '$40K-$68K (Glassdoor est.)', '$49K-$113K (Glassdoor est.)',\n",
       "       '$75K-$140K (Glassdoor est.)', '$66K-$112K (Glassdoor est.)',\n",
       "       '$76K-$125K (Glassdoor est.)', '$44K-$86K (Glassdoor est.)',\n",
       "       '$15-$25 Per Hour(Glassdoor est.)', '$53K-$92K (Glassdoor est.)',\n",
       "       '$65K-$120K (Glassdoor est.)', '$60K-$103K (Glassdoor est.)',\n",
       "       '$53K-$105K (Glassdoor est.)', '$33K-$62K (Glassdoor est.)',\n",
       "       '$48K-$90K (Glassdoor est.)', '$34K-$64K (Glassdoor est.)',\n",
       "       '$66K-$111K (Glassdoor est.)', '$91K-$138K (Glassdoor est.)',\n",
       "       '$62K-$114K (Glassdoor est.)', '$71K-$129K (Glassdoor est.)',\n",
       "       '$74K-$119K (Glassdoor est.)', '$55K-$97K (Glassdoor est.)',\n",
       "       '$15K-$16K(Employer est.)', '$61K-$106K (Glassdoor est.)',\n",
       "       '$127K-$199K (Glassdoor est.)', '$74K-$126K (Glassdoor est.)',\n",
       "       '$33K-$72K (Glassdoor est.)', '$37K-$63K (Glassdoor est.)',\n",
       "       '$67K-$119K (Glassdoor est.)', '$72K-$117K (Glassdoor est.)',\n",
       "       '$78K-$126K (Glassdoor est.)', '$116K-$194K (Glassdoor est.)',\n",
       "       '$83K-$133K (Glassdoor est.)', '$45K-$82K (Glassdoor est.)',\n",
       "       '$83K-$135K (Glassdoor est.)', '$70K-$122K (Glassdoor est.)',\n",
       "       '$70K-$132K (Glassdoor est.)', '$54K-$101K (Glassdoor est.)',\n",
       "       '$68K-$112K (Glassdoor est.)', '$42K-$74K (Glassdoor est.)',\n",
       "       '$95K-$161K (Glassdoor est.)', '$76K-$126K (Glassdoor est.)',\n",
       "       '$108K-$176K (Glassdoor est.)', '$130K-$208K (Glassdoor est.)',\n",
       "       '$37K-$68K (Glassdoor est.)', '$52K-$99K (Glassdoor est.)',\n",
       "       '$105K-$173K (Glassdoor est.)', '$71K-$134K (Glassdoor est.)',\n",
       "       '$39K-$82K (Glassdoor est.)', '$88K-$162K (Glassdoor est.)',\n",
       "       '$55K-$99K (Glassdoor est.)', '$67K-$117K (Glassdoor est.)',\n",
       "       '$92K-$150K (Glassdoor est.)', '$116K-$209K (Glassdoor est.)',\n",
       "       '$38K-$82K (Glassdoor est.)', 'Employer Provided Salary:$85K-$90K',\n",
       "       '$62K-$119K (Glassdoor est.)', '$84K-$136K (Glassdoor est.)',\n",
       "       '$52K-$89K (Glassdoor est.)', '$65K-$119K (Glassdoor est.)',\n",
       "       '$63K-$101K (Glassdoor est.)', '$127K-$202K (Glassdoor est.)',\n",
       "       '$31K-$57K (Glassdoor est.)', '$75K-$143K (Glassdoor est.)',\n",
       "       '$105K-$194K (Glassdoor est.)', '$45K-$86K (Glassdoor est.)',\n",
       "       '$95K-$154K (Glassdoor est.)', '$80K-$148K (Glassdoor est.)',\n",
       "       '$36K-$62K (Glassdoor est.)', '$50K-$92K (Glassdoor est.)',\n",
       "       '$67K-$135K (Glassdoor est.)', '$42K-$80K (Glassdoor est.)',\n",
       "       '$68K-$139K (Glassdoor est.)', '$34K-$92K (Glassdoor est.)',\n",
       "       '$54K-$71K (Glassdoor est.)', '$65K-$124K (Glassdoor est.)',\n",
       "       '$109K-$200K (Glassdoor est.)', '$61K-$113K (Glassdoor est.)',\n",
       "       '$43K-$86K (Glassdoor est.)', '$74K-$149K (Glassdoor est.)',\n",
       "       '$113K-$196K (Glassdoor est.)', '$97K-$160K (Glassdoor est.)',\n",
       "       '$24-$39 Per Hour(Glassdoor est.)', '$102K-$172K (Glassdoor est.)',\n",
       "       '$108K-$171K (Glassdoor est.)', '$76K-$142K (Glassdoor est.)',\n",
       "       '$202K-$306K (Glassdoor est.)', '$49K-$97K (Glassdoor est.)',\n",
       "       '$65K-$134K (Glassdoor est.)', '$32K-$59K (Glassdoor est.)',\n",
       "       '$87K-$158K (Glassdoor est.)', '$107K-$173K (Glassdoor est.)',\n",
       "       '$56K-$99K (Glassdoor est.)',\n",
       "       'Employer Provided Salary:$25-$28 Per Hour',\n",
       "       '$80K-$155K (Glassdoor est.)', '$43K-$98K (Glassdoor est.)',\n",
       "       '$45K-$78K (Glassdoor est.)', '$44K-$96K (Glassdoor est.)',\n",
       "       '$50K-$110K (Glassdoor est.)', '$61K-$119K (Glassdoor est.)',\n",
       "       'Employer Provided Salary:$100K-$140K',\n",
       "       '$56K-$91K (Glassdoor est.)', '$101K-$158K (Glassdoor est.)',\n",
       "       '$125K-$210K (Glassdoor est.)', '$43K-$77K (Glassdoor est.)',\n",
       "       '$139K-$221K (Glassdoor est.)', '$78K-$147K (Glassdoor est.)',\n",
       "       '$37K-$66K (Glassdoor est.)', '$38K-$64K (Glassdoor est.)',\n",
       "       '$43K-$82K (Glassdoor est.)', '$90K-$110K(Employer est.)',\n",
       "       '$93K-$151K (Glassdoor est.)', '$40K-$101K (Glassdoor est.)',\n",
       "       '$97K-$180K (Glassdoor est.)', '$81K-$134K (Glassdoor est.)',\n",
       "       '$84K-$157K (Glassdoor est.)', '$121K-$203K (Glassdoor est.)',\n",
       "       '$52K-$85K (Glassdoor est.)', '$81K-$140K (Glassdoor est.)',\n",
       "       '$83K-$148K (Glassdoor est.)', '$31K-$55K (Glassdoor est.)',\n",
       "       '$102K-$178K (Glassdoor est.)',\n",
       "       'Employer Provided Salary:$110K-$130K',\n",
       "       '$48K-$85K (Glassdoor est.)', '$66K-$123K (Glassdoor est.)',\n",
       "       '$92K-$146K (Glassdoor est.)', '$21-$29 Per Hour(Glassdoor est.)',\n",
       "       '$10-$17 Per Hour(Glassdoor est.)', '$150K-$239K (Glassdoor est.)',\n",
       "       '$52K-$91K (Glassdoor est.)', '$82K-$129K(Employer est.)',\n",
       "       '$47K-$101K (Glassdoor est.)', '$49K-$76K (Glassdoor est.)',\n",
       "       '$43K-$88K (Glassdoor est.)', '$124K-$199K (Glassdoor est.)',\n",
       "       '$97K-$181K (Glassdoor est.)', '$100K-$173K (Glassdoor est.)',\n",
       "       '$53K-$96K (Glassdoor est.)', '$65K-$96K (Glassdoor est.)',\n",
       "       '$75K-$127K (Glassdoor est.)', '$94K-$139K (Glassdoor est.)',\n",
       "       '$176K-$289K (Glassdoor est.)', '$92K-$149K (Glassdoor est.)',\n",
       "       '$118K-$188K (Glassdoor est.)', '$108K-$146K (Glassdoor est.)',\n",
       "       '$65K-$106K (Glassdoor est.)', '$55K-$98K (Glassdoor est.)',\n",
       "       '$94K-$162K (Glassdoor est.)', '$63K-$120K (Glassdoor est.)',\n",
       "       '$126K-$228K (Glassdoor est.)', '$80K-$134K (Glassdoor est.)',\n",
       "       '$85K-$142K (Glassdoor est.)', '$87K-$140K (Glassdoor est.)',\n",
       "       '$76K-$127K (Glassdoor est.)', '$54K-$92K (Glassdoor est.)',\n",
       "       '$61K-$100K (Glassdoor est.)', '$112K-$179K (Glassdoor est.)',\n",
       "       '$63K-$111K (Glassdoor est.)', '$75K-$126K (Glassdoor est.)',\n",
       "       '$110K-$184K (Glassdoor est.)', '$76K-$145K (Glassdoor est.)',\n",
       "       '$70K-$118K (Glassdoor est.)', '$94K-$153K (Glassdoor est.)',\n",
       "       '$150K-$180K (Glassdoor est.)', '$42K-$77K (Glassdoor est.)',\n",
       "       '$47K-$85K (Glassdoor est.)', '$62K-$112K (Glassdoor est.)',\n",
       "       '$64K-$108K (Glassdoor est.)', '$89K-$144K (Glassdoor est.)',\n",
       "       '$55K-$105K (Glassdoor est.)', '$135K-$211K (Glassdoor est.)',\n",
       "       '$57K-$80K (Glassdoor est.)', '$129K-$215K (Glassdoor est.)',\n",
       "       '$63K-$127K (Glassdoor est.)', '$50K-$89K (Glassdoor est.)',\n",
       "       '$71K-$124K (Glassdoor est.)', '$69K-$121K (Glassdoor est.)',\n",
       "       '$150K-$238K (Glassdoor est.)', '$77K-$132K (Glassdoor est.)',\n",
       "       '$59K-$112K (Glassdoor est.)', '$35K-$65K (Glassdoor est.)',\n",
       "       '$79K-$147K (Glassdoor est.)', '$119K-$187K (Glassdoor est.)',\n",
       "       '$90K-$157K (Glassdoor est.)', '$32K-$62K (Glassdoor est.)',\n",
       "       '$116K-$208K (Glassdoor est.)', '$102K-$165K (Glassdoor est.)',\n",
       "       '$91K-$159K (Glassdoor est.)', '$80K-$133K (Glassdoor est.)',\n",
       "       '$39K-$69K (Glassdoor est.)', '$27K-$48K (Glassdoor est.)',\n",
       "       '$36K-$71K (Glassdoor est.)', '$130K-$206K (Glassdoor est.)',\n",
       "       '$99K-$178K (Glassdoor est.)', '$86K-$137K (Glassdoor est.)',\n",
       "       '$37K-$100K (Glassdoor est.)', '$58K-$111K (Glassdoor est.)',\n",
       "       '$72K-$133K (Glassdoor est.)', '$61K-$126K (Glassdoor est.)',\n",
       "       '$95K-$160K (Glassdoor est.)', '$33K-$61K (Glassdoor est.)',\n",
       "       '$69K-$119K (Glassdoor est.)', '$67K-$127K (Glassdoor est.)',\n",
       "       '$66K-$117K (Glassdoor est.)', '$50K-$98K (Glassdoor est.)',\n",
       "       '$90K-$153K (Glassdoor est.)',\n",
       "       'Employer Provided Salary:$100K-$135K',\n",
       "       '$42K-$79K (Glassdoor est.)', '$84K-$153K (Glassdoor est.)',\n",
       "       '$44K-$73K (Glassdoor est.)', '$40K-$87K (Glassdoor est.)',\n",
       "       '$72K-$142K (Glassdoor est.)', '$74K-$137K (Glassdoor est.)',\n",
       "       '$57K-$109K (Glassdoor est.)', '$136K-$208K (Glassdoor est.)',\n",
       "       '$171K-$272K (Glassdoor est.)', '$65K-$126K (Glassdoor est.)',\n",
       "       '$118K-$228K (Glassdoor est.)', '$113K-$182K (Glassdoor est.)',\n",
       "       '$58K-$104K (Glassdoor est.)', '$58K-$108K (Glassdoor est.)',\n",
       "       '$81K-$161K (Glassdoor est.)', '$115K-$220K (Glassdoor est.)',\n",
       "       '$71K-$144K (Glassdoor est.)', '$32K-$57K (Glassdoor est.)',\n",
       "       '$79K-$136K (Glassdoor est.)', '$48K-$113K (Glassdoor est.)',\n",
       "       '$27-$47 Per Hour(Glassdoor est.)', '$68K-$125K (Glassdoor est.)',\n",
       "       '$39K-$67K (Glassdoor est.)', '$71K-$135K (Glassdoor est.)',\n",
       "       '$61K-$123K (Glassdoor est.)', '$87K-$141K (Glassdoor est.)',\n",
       "       '$71K-$121K (Glassdoor est.)', '$72K-$121K (Glassdoor est.)',\n",
       "       '$51K-$88K (Glassdoor est.)', '$101K-$141K (Glassdoor est.)',\n",
       "       '$79K-$127K (Glassdoor est.)', '$81K-$132K (Glassdoor est.)',\n",
       "       'Employer Provided Salary:$120K-$140K',\n",
       "       '$65K-$113K (Glassdoor est.)', '$59K-$125K (Glassdoor est.)',\n",
       "       '$80K-$142K (Glassdoor est.)', '$62K-$113K (Glassdoor est.)'],\n",
       "      dtype=object)"
      ]
     },
     "execution_count": 9,
     "metadata": {},
     "output_type": "execute_result"
    }
   ],
   "source": [
    "df['Salary Estimate'].unique()"
   ]
  },
  {
   "cell_type": "code",
   "execution_count": 10,
   "id": "05115227",
   "metadata": {},
   "outputs": [
    {
     "data": {
      "text/plain": [
       "['27', '47']"
      ]
     },
     "execution_count": 10,
     "metadata": {},
     "output_type": "execute_result"
    }
   ],
   "source": [
    "re.findall('[0-9]+', '$27-$47 Per Hour(Glassdoor est.)')"
   ]
  },
  {
   "cell_type": "code",
   "execution_count": 11,
   "id": "80bc6ea6",
   "metadata": {},
   "outputs": [],
   "source": [
    "temp = []\n",
    "for i in df['Salary Estimate']:\n",
    "    if len(re.findall('[0-9]+K', i)):\n",
    "        list1 = re.findall('[0-9]+', i)\n",
    "        list1 = list(map(int, list1)) + [0]\n",
    "        temp.append(list1)\n",
    "    else:\n",
    "        list1 = re.findall('[0-9]+', i)\n",
    "        list1 = list(map(int, list1)) + [1]\n",
    "        temp.append(list1)"
   ]
  },
  {
   "cell_type": "code",
   "execution_count": 12,
   "id": "0f4aef2c",
   "metadata": {},
   "outputs": [],
   "source": [
    "df[['Min_Salary', 'Max_Salary', 'Hourly']] = temp"
   ]
  },
  {
   "cell_type": "code",
   "execution_count": 13,
   "id": "4c1f5fcf",
   "metadata": {},
   "outputs": [],
   "source": [
    "df = df.drop('Salary Estimate', axis=1)"
   ]
  },
  {
   "cell_type": "code",
   "execution_count": 14,
   "id": "803bba7d",
   "metadata": {},
   "outputs": [
    {
     "data": {
      "text/html": [
       "<div>\n",
       "<style scoped>\n",
       "    .dataframe tbody tr th:only-of-type {\n",
       "        vertical-align: middle;\n",
       "    }\n",
       "\n",
       "    .dataframe tbody tr th {\n",
       "        vertical-align: top;\n",
       "    }\n",
       "\n",
       "    .dataframe thead th {\n",
       "        text-align: right;\n",
       "    }\n",
       "</style>\n",
       "<table border=\"1\" class=\"dataframe\">\n",
       "  <thead>\n",
       "    <tr style=\"text-align: right;\">\n",
       "      <th></th>\n",
       "      <th>Job Title</th>\n",
       "      <th>Job Description</th>\n",
       "      <th>Rating</th>\n",
       "      <th>Company Name</th>\n",
       "      <th>Location</th>\n",
       "      <th>Headquarters</th>\n",
       "      <th>Size</th>\n",
       "      <th>Founded</th>\n",
       "      <th>Type of ownership</th>\n",
       "      <th>Industry</th>\n",
       "      <th>...</th>\n",
       "      <th>tableau</th>\n",
       "      <th>bi</th>\n",
       "      <th>flink</th>\n",
       "      <th>mongo</th>\n",
       "      <th>google_an</th>\n",
       "      <th>job_title_sim</th>\n",
       "      <th>seniority_by_title</th>\n",
       "      <th>Degree</th>\n",
       "      <th>Min_Salary</th>\n",
       "      <th>Max_Salary</th>\n",
       "    </tr>\n",
       "  </thead>\n",
       "  <tbody>\n",
       "    <tr>\n",
       "      <th>0</th>\n",
       "      <td>Data Scientist</td>\n",
       "      <td>Data Scientist\\nLocation: Albuquerque, NM\\nEdu...</td>\n",
       "      <td>3.8</td>\n",
       "      <td>Tecolote Research\\n3.8</td>\n",
       "      <td>Albuquerque, NM</td>\n",
       "      <td>Goleta, CA</td>\n",
       "      <td>501 - 1000</td>\n",
       "      <td>1973</td>\n",
       "      <td>Company - Private</td>\n",
       "      <td>Aerospace &amp; Defense</td>\n",
       "      <td>...</td>\n",
       "      <td>1</td>\n",
       "      <td>1</td>\n",
       "      <td>0</td>\n",
       "      <td>0</td>\n",
       "      <td>0</td>\n",
       "      <td>data scientist</td>\n",
       "      <td>na</td>\n",
       "      <td>M</td>\n",
       "      <td>53</td>\n",
       "      <td>91</td>\n",
       "    </tr>\n",
       "    <tr>\n",
       "      <th>1</th>\n",
       "      <td>Healthcare Data Scientist</td>\n",
       "      <td>What You Will Do:\\n\\nI. General Summary\\n\\nThe...</td>\n",
       "      <td>3.4</td>\n",
       "      <td>University of Maryland Medical System\\n3.4</td>\n",
       "      <td>Linthicum, MD</td>\n",
       "      <td>Baltimore, MD</td>\n",
       "      <td>10000+</td>\n",
       "      <td>1984</td>\n",
       "      <td>Other Organization</td>\n",
       "      <td>Health Care Services &amp; Hospitals</td>\n",
       "      <td>...</td>\n",
       "      <td>0</td>\n",
       "      <td>0</td>\n",
       "      <td>0</td>\n",
       "      <td>0</td>\n",
       "      <td>0</td>\n",
       "      <td>data scientist</td>\n",
       "      <td>na</td>\n",
       "      <td>M</td>\n",
       "      <td>63</td>\n",
       "      <td>112</td>\n",
       "    </tr>\n",
       "    <tr>\n",
       "      <th>2</th>\n",
       "      <td>Data Scientist</td>\n",
       "      <td>KnowBe4, Inc. is a high growth information sec...</td>\n",
       "      <td>4.8</td>\n",
       "      <td>KnowBe4\\n4.8</td>\n",
       "      <td>Clearwater, FL</td>\n",
       "      <td>Clearwater, FL</td>\n",
       "      <td>501 - 1000</td>\n",
       "      <td>2010</td>\n",
       "      <td>Company - Private</td>\n",
       "      <td>Security Services</td>\n",
       "      <td>...</td>\n",
       "      <td>0</td>\n",
       "      <td>0</td>\n",
       "      <td>0</td>\n",
       "      <td>0</td>\n",
       "      <td>0</td>\n",
       "      <td>data scientist</td>\n",
       "      <td>na</td>\n",
       "      <td>M</td>\n",
       "      <td>80</td>\n",
       "      <td>90</td>\n",
       "    </tr>\n",
       "    <tr>\n",
       "      <th>3</th>\n",
       "      <td>Data Scientist</td>\n",
       "      <td>*Organization and Job ID**\\nJob ID: 310709\\n\\n...</td>\n",
       "      <td>3.8</td>\n",
       "      <td>PNNL\\n3.8</td>\n",
       "      <td>Richland, WA</td>\n",
       "      <td>Richland, WA</td>\n",
       "      <td>1001 - 5000</td>\n",
       "      <td>1965</td>\n",
       "      <td>Government</td>\n",
       "      <td>Energy</td>\n",
       "      <td>...</td>\n",
       "      <td>0</td>\n",
       "      <td>0</td>\n",
       "      <td>0</td>\n",
       "      <td>0</td>\n",
       "      <td>0</td>\n",
       "      <td>data scientist</td>\n",
       "      <td>na</td>\n",
       "      <td>na</td>\n",
       "      <td>56</td>\n",
       "      <td>97</td>\n",
       "    </tr>\n",
       "    <tr>\n",
       "      <th>4</th>\n",
       "      <td>Data Scientist</td>\n",
       "      <td>Data Scientist\\nAffinity Solutions / Marketing...</td>\n",
       "      <td>2.9</td>\n",
       "      <td>Affinity Solutions\\n2.9</td>\n",
       "      <td>New York, NY</td>\n",
       "      <td>New York, NY</td>\n",
       "      <td>51 - 200</td>\n",
       "      <td>1998</td>\n",
       "      <td>Company - Private</td>\n",
       "      <td>Advertising &amp; Marketing</td>\n",
       "      <td>...</td>\n",
       "      <td>0</td>\n",
       "      <td>0</td>\n",
       "      <td>0</td>\n",
       "      <td>0</td>\n",
       "      <td>0</td>\n",
       "      <td>data scientist</td>\n",
       "      <td>na</td>\n",
       "      <td>na</td>\n",
       "      <td>86</td>\n",
       "      <td>143</td>\n",
       "    </tr>\n",
       "    <tr>\n",
       "      <th>...</th>\n",
       "      <td>...</td>\n",
       "      <td>...</td>\n",
       "      <td>...</td>\n",
       "      <td>...</td>\n",
       "      <td>...</td>\n",
       "      <td>...</td>\n",
       "      <td>...</td>\n",
       "      <td>...</td>\n",
       "      <td>...</td>\n",
       "      <td>...</td>\n",
       "      <td>...</td>\n",
       "      <td>...</td>\n",
       "      <td>...</td>\n",
       "      <td>...</td>\n",
       "      <td>...</td>\n",
       "      <td>...</td>\n",
       "      <td>...</td>\n",
       "      <td>...</td>\n",
       "      <td>...</td>\n",
       "      <td>...</td>\n",
       "      <td>...</td>\n",
       "    </tr>\n",
       "    <tr>\n",
       "      <th>462</th>\n",
       "      <td>Data Architect / Data Modeler</td>\n",
       "      <td>Medidata: Conquering Diseases Together\\n\\nMedi...</td>\n",
       "      <td>4.3</td>\n",
       "      <td>Medidata Solutions\\n4.3</td>\n",
       "      <td>New York, NY</td>\n",
       "      <td>New York, NY</td>\n",
       "      <td>1001 - 5000</td>\n",
       "      <td>1999</td>\n",
       "      <td>Company - Public</td>\n",
       "      <td>Enterprise Software &amp; Network Solutions</td>\n",
       "      <td>...</td>\n",
       "      <td>0</td>\n",
       "      <td>0</td>\n",
       "      <td>0</td>\n",
       "      <td>0</td>\n",
       "      <td>0</td>\n",
       "      <td>data modeler</td>\n",
       "      <td>na</td>\n",
       "      <td>M</td>\n",
       "      <td>63</td>\n",
       "      <td>110</td>\n",
       "    </tr>\n",
       "    <tr>\n",
       "      <th>463</th>\n",
       "      <td>Data Scientist</td>\n",
       "      <td>DatamanUSA has an exciting opportunity for a D...</td>\n",
       "      <td>3.4</td>\n",
       "      <td>DatamanUSA, LLC\\n3.4</td>\n",
       "      <td>Olympia, WA</td>\n",
       "      <td>Centennial, CO</td>\n",
       "      <td>51 - 200</td>\n",
       "      <td>-1</td>\n",
       "      <td>Company - Private</td>\n",
       "      <td>IT Services</td>\n",
       "      <td>...</td>\n",
       "      <td>0</td>\n",
       "      <td>0</td>\n",
       "      <td>0</td>\n",
       "      <td>0</td>\n",
       "      <td>0</td>\n",
       "      <td>data scientist</td>\n",
       "      <td>na</td>\n",
       "      <td>na</td>\n",
       "      <td>65</td>\n",
       "      <td>113</td>\n",
       "    </tr>\n",
       "    <tr>\n",
       "      <th>464</th>\n",
       "      <td>Associate Scientist / Sr. Associate Scientist,...</td>\n",
       "      <td>Who we are\\n\\n23andMe, the leading consumer ge...</td>\n",
       "      <td>4.0</td>\n",
       "      <td>23andMe\\n4.0</td>\n",
       "      <td>South San Francisco, CA</td>\n",
       "      <td>Sunnyvale, CA</td>\n",
       "      <td>501 - 1000</td>\n",
       "      <td>2006</td>\n",
       "      <td>Company - Private</td>\n",
       "      <td>Biotech &amp; Pharmaceuticals</td>\n",
       "      <td>...</td>\n",
       "      <td>0</td>\n",
       "      <td>0</td>\n",
       "      <td>0</td>\n",
       "      <td>0</td>\n",
       "      <td>0</td>\n",
       "      <td>other scientist</td>\n",
       "      <td>sr</td>\n",
       "      <td>M</td>\n",
       "      <td>59</td>\n",
       "      <td>125</td>\n",
       "    </tr>\n",
       "    <tr>\n",
       "      <th>465</th>\n",
       "      <td>Machine Learning Engineer (NLP)</td>\n",
       "      <td>CK-12’s mission is to provide free access to o...</td>\n",
       "      <td>4.1</td>\n",
       "      <td>CK-12 Foundation\\n4.1</td>\n",
       "      <td>Palo Alto, CA</td>\n",
       "      <td>Palo Alto, CA</td>\n",
       "      <td>1 - 50</td>\n",
       "      <td>2007</td>\n",
       "      <td>Company - Private</td>\n",
       "      <td>K-12 Education</td>\n",
       "      <td>...</td>\n",
       "      <td>0</td>\n",
       "      <td>0</td>\n",
       "      <td>0</td>\n",
       "      <td>0</td>\n",
       "      <td>0</td>\n",
       "      <td>machine learning engineer</td>\n",
       "      <td>na</td>\n",
       "      <td>na</td>\n",
       "      <td>80</td>\n",
       "      <td>142</td>\n",
       "    </tr>\n",
       "    <tr>\n",
       "      <th>466</th>\n",
       "      <td>Data Engineer</td>\n",
       "      <td>Do you find data architecture exciting? Does b...</td>\n",
       "      <td>3.9</td>\n",
       "      <td>Fivestars\\n3.9</td>\n",
       "      <td>San Francisco, CA</td>\n",
       "      <td>San Francisco, CA</td>\n",
       "      <td>201 - 500</td>\n",
       "      <td>2011</td>\n",
       "      <td>Company - Private</td>\n",
       "      <td>Internet</td>\n",
       "      <td>...</td>\n",
       "      <td>0</td>\n",
       "      <td>0</td>\n",
       "      <td>0</td>\n",
       "      <td>0</td>\n",
       "      <td>0</td>\n",
       "      <td>data engineer</td>\n",
       "      <td>na</td>\n",
       "      <td>P</td>\n",
       "      <td>62</td>\n",
       "      <td>113</td>\n",
       "    </tr>\n",
       "  </tbody>\n",
       "</table>\n",
       "<p>467 rows × 42 columns</p>\n",
       "</div>"
      ],
      "text/plain": [
       "                                             Job Title  \\\n",
       "0                                       Data Scientist   \n",
       "1                            Healthcare Data Scientist   \n",
       "2                                       Data Scientist   \n",
       "3                                       Data Scientist   \n",
       "4                                       Data Scientist   \n",
       "..                                                 ...   \n",
       "462                      Data Architect / Data Modeler   \n",
       "463                                     Data Scientist   \n",
       "464  Associate Scientist / Sr. Associate Scientist,...   \n",
       "465                    Machine Learning Engineer (NLP)   \n",
       "466                                      Data Engineer   \n",
       "\n",
       "                                       Job Description  Rating  \\\n",
       "0    Data Scientist\\nLocation: Albuquerque, NM\\nEdu...     3.8   \n",
       "1    What You Will Do:\\n\\nI. General Summary\\n\\nThe...     3.4   \n",
       "2    KnowBe4, Inc. is a high growth information sec...     4.8   \n",
       "3    *Organization and Job ID**\\nJob ID: 310709\\n\\n...     3.8   \n",
       "4    Data Scientist\\nAffinity Solutions / Marketing...     2.9   \n",
       "..                                                 ...     ...   \n",
       "462  Medidata: Conquering Diseases Together\\n\\nMedi...     4.3   \n",
       "463  DatamanUSA has an exciting opportunity for a D...     3.4   \n",
       "464  Who we are\\n\\n23andMe, the leading consumer ge...     4.0   \n",
       "465  CK-12’s mission is to provide free access to o...     4.1   \n",
       "466  Do you find data architecture exciting? Does b...     3.9   \n",
       "\n",
       "                                   Company Name                 Location  \\\n",
       "0                        Tecolote Research\\n3.8          Albuquerque, NM   \n",
       "1    University of Maryland Medical System\\n3.4            Linthicum, MD   \n",
       "2                                  KnowBe4\\n4.8           Clearwater, FL   \n",
       "3                                     PNNL\\n3.8             Richland, WA   \n",
       "4                       Affinity Solutions\\n2.9             New York, NY   \n",
       "..                                          ...                      ...   \n",
       "462                     Medidata Solutions\\n4.3             New York, NY   \n",
       "463                        DatamanUSA, LLC\\n3.4              Olympia, WA   \n",
       "464                                23andMe\\n4.0  South San Francisco, CA   \n",
       "465                       CK-12 Foundation\\n4.1            Palo Alto, CA   \n",
       "466                              Fivestars\\n3.9        San Francisco, CA   \n",
       "\n",
       "          Headquarters          Size  Founded   Type of ownership  \\\n",
       "0           Goleta, CA   501 - 1000      1973   Company - Private   \n",
       "1        Baltimore, MD       10000+      1984  Other Organization   \n",
       "2       Clearwater, FL   501 - 1000      2010   Company - Private   \n",
       "3         Richland, WA  1001 - 5000      1965          Government   \n",
       "4         New York, NY     51 - 200      1998   Company - Private   \n",
       "..                 ...           ...      ...                 ...   \n",
       "462       New York, NY  1001 - 5000      1999    Company - Public   \n",
       "463     Centennial, CO     51 - 200        -1   Company - Private   \n",
       "464      Sunnyvale, CA   501 - 1000      2006   Company - Private   \n",
       "465      Palo Alto, CA       1 - 50      2007   Company - Private   \n",
       "466  San Francisco, CA    201 - 500      2011   Company - Private   \n",
       "\n",
       "                                    Industry  ... tableau bi flink  mongo  \\\n",
       "0                        Aerospace & Defense  ...       1  1     0      0   \n",
       "1           Health Care Services & Hospitals  ...       0  0     0      0   \n",
       "2                          Security Services  ...       0  0     0      0   \n",
       "3                                     Energy  ...       0  0     0      0   \n",
       "4                    Advertising & Marketing  ...       0  0     0      0   \n",
       "..                                       ...  ...     ... ..   ...    ...   \n",
       "462  Enterprise Software & Network Solutions  ...       0  0     0      0   \n",
       "463                              IT Services  ...       0  0     0      0   \n",
       "464                Biotech & Pharmaceuticals  ...       0  0     0      0   \n",
       "465                           K-12 Education  ...       0  0     0      0   \n",
       "466                                 Internet  ...       0  0     0      0   \n",
       "\n",
       "     google_an              job_title_sim  seniority_by_title  Degree  \\\n",
       "0            0             data scientist                  na       M   \n",
       "1            0             data scientist                  na       M   \n",
       "2            0             data scientist                  na       M   \n",
       "3            0             data scientist                  na      na   \n",
       "4            0             data scientist                  na      na   \n",
       "..         ...                        ...                 ...     ...   \n",
       "462          0               data modeler                  na       M   \n",
       "463          0             data scientist                  na      na   \n",
       "464          0            other scientist                  sr       M   \n",
       "465          0  machine learning engineer                  na      na   \n",
       "466          0              data engineer                  na       P   \n",
       "\n",
       "    Min_Salary Max_Salary  \n",
       "0           53         91  \n",
       "1           63        112  \n",
       "2           80         90  \n",
       "3           56         97  \n",
       "4           86        143  \n",
       "..         ...        ...  \n",
       "462         63        110  \n",
       "463         65        113  \n",
       "464         59        125  \n",
       "465         80        142  \n",
       "466         62        113  \n",
       "\n",
       "[467 rows x 42 columns]"
      ]
     },
     "execution_count": 14,
     "metadata": {},
     "output_type": "execute_result"
    }
   ],
   "source": [
    "df"
   ]
  },
  {
   "cell_type": "markdown",
   "id": "c73feaf2",
   "metadata": {},
   "source": [
    "## Removing the unwanted columns:"
   ]
  },
  {
   "cell_type": "code",
   "execution_count": 15,
   "id": "890b0bd9",
   "metadata": {},
   "outputs": [
    {
     "data": {
      "text/plain": [
       "Index(['Job Title', 'Job Description', 'Rating', 'Company Name', 'Location',\n",
       "       'Headquarters', 'Size', 'Founded', 'Type of ownership', 'Industry',\n",
       "       'Sector', 'Revenue', 'Competitors', 'Hourly', 'Employer provided',\n",
       "       'Lower Salary', 'Upper Salary', 'Avg Salary(K)', 'company_txt',\n",
       "       'Job Location', 'Age', 'Python', 'spark', 'aws', 'excel', 'sql', 'sas',\n",
       "       'keras', 'pytorch', 'scikit', 'tensor', 'hadoop', 'tableau', 'bi',\n",
       "       'flink', 'mongo', 'google_an', 'job_title_sim', 'seniority_by_title',\n",
       "       'Degree', 'Min_Salary', 'Max_Salary'],\n",
       "      dtype='object')"
      ]
     },
     "execution_count": 15,
     "metadata": {},
     "output_type": "execute_result"
    }
   ],
   "source": [
    "df.columns"
   ]
  },
  {
   "cell_type": "code",
   "execution_count": 16,
   "id": "bc8855c8",
   "metadata": {},
   "outputs": [
    {
     "data": {
      "text/html": [
       "<div>\n",
       "<style scoped>\n",
       "    .dataframe tbody tr th:only-of-type {\n",
       "        vertical-align: middle;\n",
       "    }\n",
       "\n",
       "    .dataframe tbody tr th {\n",
       "        vertical-align: top;\n",
       "    }\n",
       "\n",
       "    .dataframe thead th {\n",
       "        text-align: right;\n",
       "    }\n",
       "</style>\n",
       "<table border=\"1\" class=\"dataframe\">\n",
       "  <thead>\n",
       "    <tr style=\"text-align: right;\">\n",
       "      <th></th>\n",
       "      <th>Job Title</th>\n",
       "      <th>Rating</th>\n",
       "      <th>Size</th>\n",
       "      <th>Founded</th>\n",
       "      <th>Type of ownership</th>\n",
       "      <th>Industry</th>\n",
       "      <th>Sector</th>\n",
       "      <th>Revenue</th>\n",
       "      <th>Hourly</th>\n",
       "      <th>Employer provided</th>\n",
       "      <th>...</th>\n",
       "      <th>tableau</th>\n",
       "      <th>bi</th>\n",
       "      <th>flink</th>\n",
       "      <th>mongo</th>\n",
       "      <th>google_an</th>\n",
       "      <th>job_title_sim</th>\n",
       "      <th>seniority_by_title</th>\n",
       "      <th>Degree</th>\n",
       "      <th>Min_Salary</th>\n",
       "      <th>Max_Salary</th>\n",
       "    </tr>\n",
       "  </thead>\n",
       "  <tbody>\n",
       "    <tr>\n",
       "      <th>0</th>\n",
       "      <td>Data Scientist</td>\n",
       "      <td>3.8</td>\n",
       "      <td>501 - 1000</td>\n",
       "      <td>1973</td>\n",
       "      <td>Company - Private</td>\n",
       "      <td>Aerospace &amp; Defense</td>\n",
       "      <td>Aerospace &amp; Defense</td>\n",
       "      <td>$50 to $100 million (USD)</td>\n",
       "      <td>0</td>\n",
       "      <td>0</td>\n",
       "      <td>...</td>\n",
       "      <td>1</td>\n",
       "      <td>1</td>\n",
       "      <td>0</td>\n",
       "      <td>0</td>\n",
       "      <td>0</td>\n",
       "      <td>data scientist</td>\n",
       "      <td>na</td>\n",
       "      <td>M</td>\n",
       "      <td>53</td>\n",
       "      <td>91</td>\n",
       "    </tr>\n",
       "    <tr>\n",
       "      <th>1</th>\n",
       "      <td>Healthcare Data Scientist</td>\n",
       "      <td>3.4</td>\n",
       "      <td>10000+</td>\n",
       "      <td>1984</td>\n",
       "      <td>Other Organization</td>\n",
       "      <td>Health Care Services &amp; Hospitals</td>\n",
       "      <td>Health Care</td>\n",
       "      <td>$2 to $5 billion (USD)</td>\n",
       "      <td>0</td>\n",
       "      <td>0</td>\n",
       "      <td>...</td>\n",
       "      <td>0</td>\n",
       "      <td>0</td>\n",
       "      <td>0</td>\n",
       "      <td>0</td>\n",
       "      <td>0</td>\n",
       "      <td>data scientist</td>\n",
       "      <td>na</td>\n",
       "      <td>M</td>\n",
       "      <td>63</td>\n",
       "      <td>112</td>\n",
       "    </tr>\n",
       "    <tr>\n",
       "      <th>2</th>\n",
       "      <td>Data Scientist</td>\n",
       "      <td>4.8</td>\n",
       "      <td>501 - 1000</td>\n",
       "      <td>2010</td>\n",
       "      <td>Company - Private</td>\n",
       "      <td>Security Services</td>\n",
       "      <td>Business Services</td>\n",
       "      <td>$100 to $500 million (USD)</td>\n",
       "      <td>0</td>\n",
       "      <td>0</td>\n",
       "      <td>...</td>\n",
       "      <td>0</td>\n",
       "      <td>0</td>\n",
       "      <td>0</td>\n",
       "      <td>0</td>\n",
       "      <td>0</td>\n",
       "      <td>data scientist</td>\n",
       "      <td>na</td>\n",
       "      <td>M</td>\n",
       "      <td>80</td>\n",
       "      <td>90</td>\n",
       "    </tr>\n",
       "    <tr>\n",
       "      <th>3</th>\n",
       "      <td>Data Scientist</td>\n",
       "      <td>3.8</td>\n",
       "      <td>1001 - 5000</td>\n",
       "      <td>1965</td>\n",
       "      <td>Government</td>\n",
       "      <td>Energy</td>\n",
       "      <td>Oil, Gas, Energy &amp; Utilities</td>\n",
       "      <td>$500 million to $1 billion (USD)</td>\n",
       "      <td>0</td>\n",
       "      <td>0</td>\n",
       "      <td>...</td>\n",
       "      <td>0</td>\n",
       "      <td>0</td>\n",
       "      <td>0</td>\n",
       "      <td>0</td>\n",
       "      <td>0</td>\n",
       "      <td>data scientist</td>\n",
       "      <td>na</td>\n",
       "      <td>na</td>\n",
       "      <td>56</td>\n",
       "      <td>97</td>\n",
       "    </tr>\n",
       "    <tr>\n",
       "      <th>4</th>\n",
       "      <td>Data Scientist</td>\n",
       "      <td>2.9</td>\n",
       "      <td>51 - 200</td>\n",
       "      <td>1998</td>\n",
       "      <td>Company - Private</td>\n",
       "      <td>Advertising &amp; Marketing</td>\n",
       "      <td>Business Services</td>\n",
       "      <td>Unknown / Non-Applicable</td>\n",
       "      <td>0</td>\n",
       "      <td>0</td>\n",
       "      <td>...</td>\n",
       "      <td>0</td>\n",
       "      <td>0</td>\n",
       "      <td>0</td>\n",
       "      <td>0</td>\n",
       "      <td>0</td>\n",
       "      <td>data scientist</td>\n",
       "      <td>na</td>\n",
       "      <td>na</td>\n",
       "      <td>86</td>\n",
       "      <td>143</td>\n",
       "    </tr>\n",
       "    <tr>\n",
       "      <th>...</th>\n",
       "      <td>...</td>\n",
       "      <td>...</td>\n",
       "      <td>...</td>\n",
       "      <td>...</td>\n",
       "      <td>...</td>\n",
       "      <td>...</td>\n",
       "      <td>...</td>\n",
       "      <td>...</td>\n",
       "      <td>...</td>\n",
       "      <td>...</td>\n",
       "      <td>...</td>\n",
       "      <td>...</td>\n",
       "      <td>...</td>\n",
       "      <td>...</td>\n",
       "      <td>...</td>\n",
       "      <td>...</td>\n",
       "      <td>...</td>\n",
       "      <td>...</td>\n",
       "      <td>...</td>\n",
       "      <td>...</td>\n",
       "      <td>...</td>\n",
       "    </tr>\n",
       "    <tr>\n",
       "      <th>462</th>\n",
       "      <td>Data Architect / Data Modeler</td>\n",
       "      <td>4.3</td>\n",
       "      <td>1001 - 5000</td>\n",
       "      <td>1999</td>\n",
       "      <td>Company - Public</td>\n",
       "      <td>Enterprise Software &amp; Network Solutions</td>\n",
       "      <td>Information Technology</td>\n",
       "      <td>$500 million to $1 billion (USD)</td>\n",
       "      <td>0</td>\n",
       "      <td>0</td>\n",
       "      <td>...</td>\n",
       "      <td>0</td>\n",
       "      <td>0</td>\n",
       "      <td>0</td>\n",
       "      <td>0</td>\n",
       "      <td>0</td>\n",
       "      <td>data modeler</td>\n",
       "      <td>na</td>\n",
       "      <td>M</td>\n",
       "      <td>63</td>\n",
       "      <td>110</td>\n",
       "    </tr>\n",
       "    <tr>\n",
       "      <th>463</th>\n",
       "      <td>Data Scientist</td>\n",
       "      <td>3.4</td>\n",
       "      <td>51 - 200</td>\n",
       "      <td>-1</td>\n",
       "      <td>Company - Private</td>\n",
       "      <td>IT Services</td>\n",
       "      <td>Information Technology</td>\n",
       "      <td>$5 to $10 million (USD)</td>\n",
       "      <td>0</td>\n",
       "      <td>0</td>\n",
       "      <td>...</td>\n",
       "      <td>0</td>\n",
       "      <td>0</td>\n",
       "      <td>0</td>\n",
       "      <td>0</td>\n",
       "      <td>0</td>\n",
       "      <td>data scientist</td>\n",
       "      <td>na</td>\n",
       "      <td>na</td>\n",
       "      <td>65</td>\n",
       "      <td>113</td>\n",
       "    </tr>\n",
       "    <tr>\n",
       "      <th>464</th>\n",
       "      <td>Associate Scientist / Sr. Associate Scientist,...</td>\n",
       "      <td>4.0</td>\n",
       "      <td>501 - 1000</td>\n",
       "      <td>2006</td>\n",
       "      <td>Company - Private</td>\n",
       "      <td>Biotech &amp; Pharmaceuticals</td>\n",
       "      <td>Biotech &amp; Pharmaceuticals</td>\n",
       "      <td>Unknown / Non-Applicable</td>\n",
       "      <td>0</td>\n",
       "      <td>0</td>\n",
       "      <td>...</td>\n",
       "      <td>0</td>\n",
       "      <td>0</td>\n",
       "      <td>0</td>\n",
       "      <td>0</td>\n",
       "      <td>0</td>\n",
       "      <td>other scientist</td>\n",
       "      <td>sr</td>\n",
       "      <td>M</td>\n",
       "      <td>59</td>\n",
       "      <td>125</td>\n",
       "    </tr>\n",
       "    <tr>\n",
       "      <th>465</th>\n",
       "      <td>Machine Learning Engineer (NLP)</td>\n",
       "      <td>4.1</td>\n",
       "      <td>1 - 50</td>\n",
       "      <td>2007</td>\n",
       "      <td>Company - Private</td>\n",
       "      <td>K-12 Education</td>\n",
       "      <td>Education</td>\n",
       "      <td>Unknown / Non-Applicable</td>\n",
       "      <td>0</td>\n",
       "      <td>0</td>\n",
       "      <td>...</td>\n",
       "      <td>0</td>\n",
       "      <td>0</td>\n",
       "      <td>0</td>\n",
       "      <td>0</td>\n",
       "      <td>0</td>\n",
       "      <td>machine learning engineer</td>\n",
       "      <td>na</td>\n",
       "      <td>na</td>\n",
       "      <td>80</td>\n",
       "      <td>142</td>\n",
       "    </tr>\n",
       "    <tr>\n",
       "      <th>466</th>\n",
       "      <td>Data Engineer</td>\n",
       "      <td>3.9</td>\n",
       "      <td>201 - 500</td>\n",
       "      <td>2011</td>\n",
       "      <td>Company - Private</td>\n",
       "      <td>Internet</td>\n",
       "      <td>Information Technology</td>\n",
       "      <td>$100 to $500 million (USD)</td>\n",
       "      <td>0</td>\n",
       "      <td>0</td>\n",
       "      <td>...</td>\n",
       "      <td>0</td>\n",
       "      <td>0</td>\n",
       "      <td>0</td>\n",
       "      <td>0</td>\n",
       "      <td>0</td>\n",
       "      <td>data engineer</td>\n",
       "      <td>na</td>\n",
       "      <td>P</td>\n",
       "      <td>62</td>\n",
       "      <td>113</td>\n",
       "    </tr>\n",
       "  </tbody>\n",
       "</table>\n",
       "<p>467 rows × 36 columns</p>\n",
       "</div>"
      ],
      "text/plain": [
       "                                             Job Title  Rating          Size  \\\n",
       "0                                       Data Scientist     3.8   501 - 1000    \n",
       "1                            Healthcare Data Scientist     3.4       10000+    \n",
       "2                                       Data Scientist     4.8   501 - 1000    \n",
       "3                                       Data Scientist     3.8  1001 - 5000    \n",
       "4                                       Data Scientist     2.9     51 - 200    \n",
       "..                                                 ...     ...           ...   \n",
       "462                      Data Architect / Data Modeler     4.3  1001 - 5000    \n",
       "463                                     Data Scientist     3.4     51 - 200    \n",
       "464  Associate Scientist / Sr. Associate Scientist,...     4.0   501 - 1000    \n",
       "465                    Machine Learning Engineer (NLP)     4.1       1 - 50    \n",
       "466                                      Data Engineer     3.9    201 - 500    \n",
       "\n",
       "     Founded   Type of ownership                                 Industry  \\\n",
       "0       1973   Company - Private                      Aerospace & Defense   \n",
       "1       1984  Other Organization         Health Care Services & Hospitals   \n",
       "2       2010   Company - Private                        Security Services   \n",
       "3       1965          Government                                   Energy   \n",
       "4       1998   Company - Private                  Advertising & Marketing   \n",
       "..       ...                 ...                                      ...   \n",
       "462     1999    Company - Public  Enterprise Software & Network Solutions   \n",
       "463       -1   Company - Private                              IT Services   \n",
       "464     2006   Company - Private                Biotech & Pharmaceuticals   \n",
       "465     2007   Company - Private                           K-12 Education   \n",
       "466     2011   Company - Private                                 Internet   \n",
       "\n",
       "                           Sector                           Revenue  Hourly  \\\n",
       "0             Aerospace & Defense         $50 to $100 million (USD)       0   \n",
       "1                     Health Care            $2 to $5 billion (USD)       0   \n",
       "2               Business Services        $100 to $500 million (USD)       0   \n",
       "3    Oil, Gas, Energy & Utilities  $500 million to $1 billion (USD)       0   \n",
       "4               Business Services          Unknown / Non-Applicable       0   \n",
       "..                            ...                               ...     ...   \n",
       "462        Information Technology  $500 million to $1 billion (USD)       0   \n",
       "463        Information Technology           $5 to $10 million (USD)       0   \n",
       "464     Biotech & Pharmaceuticals          Unknown / Non-Applicable       0   \n",
       "465                     Education          Unknown / Non-Applicable       0   \n",
       "466        Information Technology        $100 to $500 million (USD)       0   \n",
       "\n",
       "     Employer provided  ...  tableau  bi  flink mongo  google_an  \\\n",
       "0                    0  ...        1   1      0     0          0   \n",
       "1                    0  ...        0   0      0     0          0   \n",
       "2                    0  ...        0   0      0     0          0   \n",
       "3                    0  ...        0   0      0     0          0   \n",
       "4                    0  ...        0   0      0     0          0   \n",
       "..                 ...  ...      ...  ..    ...   ...        ...   \n",
       "462                  0  ...        0   0      0     0          0   \n",
       "463                  0  ...        0   0      0     0          0   \n",
       "464                  0  ...        0   0      0     0          0   \n",
       "465                  0  ...        0   0      0     0          0   \n",
       "466                  0  ...        0   0      0     0          0   \n",
       "\n",
       "                 job_title_sim  seniority_by_title  Degree  Min_Salary  \\\n",
       "0               data scientist                  na       M          53   \n",
       "1               data scientist                  na       M          63   \n",
       "2               data scientist                  na       M          80   \n",
       "3               data scientist                  na      na          56   \n",
       "4               data scientist                  na      na          86   \n",
       "..                         ...                 ...     ...         ...   \n",
       "462               data modeler                  na       M          63   \n",
       "463             data scientist                  na      na          65   \n",
       "464            other scientist                  sr       M          59   \n",
       "465  machine learning engineer                  na      na          80   \n",
       "466              data engineer                  na       P          62   \n",
       "\n",
       "     Max_Salary  \n",
       "0            91  \n",
       "1           112  \n",
       "2            90  \n",
       "3            97  \n",
       "4           143  \n",
       "..          ...  \n",
       "462         110  \n",
       "463         113  \n",
       "464         125  \n",
       "465         142  \n",
       "466         113  \n",
       "\n",
       "[467 rows x 36 columns]"
      ]
     },
     "execution_count": 16,
     "metadata": {},
     "output_type": "execute_result"
    }
   ],
   "source": [
    "df = df[['Job Title', 'Rating', 'Size', 'Founded', 'Type of ownership',\n",
    "       'Industry', 'Sector', 'Revenue', 'Hourly', 'Employer provided',\n",
    "       'Lower Salary', 'Upper Salary', 'Avg Salary(K)', 'Job Location',\n",
    "       'Age', 'Python', 'spark', 'aws', 'excel', 'sql', 'sas', 'keras',\n",
    "       'pytorch', 'scikit', 'tensor', 'hadoop', 'tableau', 'bi', 'flink',\n",
    "       'mongo', 'google_an', 'job_title_sim', 'seniority_by_title',\n",
    "       'Degree', 'Min_Salary', 'Max_Salary']]\n",
    "df"
   ]
  },
  {
   "cell_type": "markdown",
   "id": "b15677c1",
   "metadata": {},
   "source": [
    "## Filtering the Age less then or equal to 60:"
   ]
  },
  {
   "cell_type": "code",
   "execution_count": 17,
   "id": "28944c98",
   "metadata": {},
   "outputs": [
    {
     "data": {
      "text/html": [
       "<div>\n",
       "<style scoped>\n",
       "    .dataframe tbody tr th:only-of-type {\n",
       "        vertical-align: middle;\n",
       "    }\n",
       "\n",
       "    .dataframe tbody tr th {\n",
       "        vertical-align: top;\n",
       "    }\n",
       "\n",
       "    .dataframe thead th {\n",
       "        text-align: right;\n",
       "    }\n",
       "</style>\n",
       "<table border=\"1\" class=\"dataframe\">\n",
       "  <thead>\n",
       "    <tr style=\"text-align: right;\">\n",
       "      <th></th>\n",
       "      <th>Job Title</th>\n",
       "      <th>Rating</th>\n",
       "      <th>Size</th>\n",
       "      <th>Founded</th>\n",
       "      <th>Type of ownership</th>\n",
       "      <th>Industry</th>\n",
       "      <th>Sector</th>\n",
       "      <th>Revenue</th>\n",
       "      <th>Hourly</th>\n",
       "      <th>Employer provided</th>\n",
       "      <th>...</th>\n",
       "      <th>tableau</th>\n",
       "      <th>bi</th>\n",
       "      <th>flink</th>\n",
       "      <th>mongo</th>\n",
       "      <th>google_an</th>\n",
       "      <th>job_title_sim</th>\n",
       "      <th>seniority_by_title</th>\n",
       "      <th>Degree</th>\n",
       "      <th>Min_Salary</th>\n",
       "      <th>Max_Salary</th>\n",
       "    </tr>\n",
       "  </thead>\n",
       "  <tbody>\n",
       "    <tr>\n",
       "      <th>0</th>\n",
       "      <td>Data Scientist</td>\n",
       "      <td>3.8</td>\n",
       "      <td>501 - 1000</td>\n",
       "      <td>1973</td>\n",
       "      <td>Company - Private</td>\n",
       "      <td>Aerospace &amp; Defense</td>\n",
       "      <td>Aerospace &amp; Defense</td>\n",
       "      <td>$50 to $100 million (USD)</td>\n",
       "      <td>0</td>\n",
       "      <td>0</td>\n",
       "      <td>...</td>\n",
       "      <td>1</td>\n",
       "      <td>1</td>\n",
       "      <td>0</td>\n",
       "      <td>0</td>\n",
       "      <td>0</td>\n",
       "      <td>data scientist</td>\n",
       "      <td>na</td>\n",
       "      <td>M</td>\n",
       "      <td>53</td>\n",
       "      <td>91</td>\n",
       "    </tr>\n",
       "    <tr>\n",
       "      <th>1</th>\n",
       "      <td>Healthcare Data Scientist</td>\n",
       "      <td>3.4</td>\n",
       "      <td>10000+</td>\n",
       "      <td>1984</td>\n",
       "      <td>Other Organization</td>\n",
       "      <td>Health Care Services &amp; Hospitals</td>\n",
       "      <td>Health Care</td>\n",
       "      <td>$2 to $5 billion (USD)</td>\n",
       "      <td>0</td>\n",
       "      <td>0</td>\n",
       "      <td>...</td>\n",
       "      <td>0</td>\n",
       "      <td>0</td>\n",
       "      <td>0</td>\n",
       "      <td>0</td>\n",
       "      <td>0</td>\n",
       "      <td>data scientist</td>\n",
       "      <td>na</td>\n",
       "      <td>M</td>\n",
       "      <td>63</td>\n",
       "      <td>112</td>\n",
       "    </tr>\n",
       "    <tr>\n",
       "      <th>2</th>\n",
       "      <td>Data Scientist</td>\n",
       "      <td>4.8</td>\n",
       "      <td>501 - 1000</td>\n",
       "      <td>2010</td>\n",
       "      <td>Company - Private</td>\n",
       "      <td>Security Services</td>\n",
       "      <td>Business Services</td>\n",
       "      <td>$100 to $500 million (USD)</td>\n",
       "      <td>0</td>\n",
       "      <td>0</td>\n",
       "      <td>...</td>\n",
       "      <td>0</td>\n",
       "      <td>0</td>\n",
       "      <td>0</td>\n",
       "      <td>0</td>\n",
       "      <td>0</td>\n",
       "      <td>data scientist</td>\n",
       "      <td>na</td>\n",
       "      <td>M</td>\n",
       "      <td>80</td>\n",
       "      <td>90</td>\n",
       "    </tr>\n",
       "    <tr>\n",
       "      <th>3</th>\n",
       "      <td>Data Scientist</td>\n",
       "      <td>3.8</td>\n",
       "      <td>1001 - 5000</td>\n",
       "      <td>1965</td>\n",
       "      <td>Government</td>\n",
       "      <td>Energy</td>\n",
       "      <td>Oil, Gas, Energy &amp; Utilities</td>\n",
       "      <td>$500 million to $1 billion (USD)</td>\n",
       "      <td>0</td>\n",
       "      <td>0</td>\n",
       "      <td>...</td>\n",
       "      <td>0</td>\n",
       "      <td>0</td>\n",
       "      <td>0</td>\n",
       "      <td>0</td>\n",
       "      <td>0</td>\n",
       "      <td>data scientist</td>\n",
       "      <td>na</td>\n",
       "      <td>na</td>\n",
       "      <td>56</td>\n",
       "      <td>97</td>\n",
       "    </tr>\n",
       "    <tr>\n",
       "      <th>4</th>\n",
       "      <td>Data Scientist</td>\n",
       "      <td>2.9</td>\n",
       "      <td>51 - 200</td>\n",
       "      <td>1998</td>\n",
       "      <td>Company - Private</td>\n",
       "      <td>Advertising &amp; Marketing</td>\n",
       "      <td>Business Services</td>\n",
       "      <td>Unknown / Non-Applicable</td>\n",
       "      <td>0</td>\n",
       "      <td>0</td>\n",
       "      <td>...</td>\n",
       "      <td>0</td>\n",
       "      <td>0</td>\n",
       "      <td>0</td>\n",
       "      <td>0</td>\n",
       "      <td>0</td>\n",
       "      <td>data scientist</td>\n",
       "      <td>na</td>\n",
       "      <td>na</td>\n",
       "      <td>86</td>\n",
       "      <td>143</td>\n",
       "    </tr>\n",
       "    <tr>\n",
       "      <th>...</th>\n",
       "      <td>...</td>\n",
       "      <td>...</td>\n",
       "      <td>...</td>\n",
       "      <td>...</td>\n",
       "      <td>...</td>\n",
       "      <td>...</td>\n",
       "      <td>...</td>\n",
       "      <td>...</td>\n",
       "      <td>...</td>\n",
       "      <td>...</td>\n",
       "      <td>...</td>\n",
       "      <td>...</td>\n",
       "      <td>...</td>\n",
       "      <td>...</td>\n",
       "      <td>...</td>\n",
       "      <td>...</td>\n",
       "      <td>...</td>\n",
       "      <td>...</td>\n",
       "      <td>...</td>\n",
       "      <td>...</td>\n",
       "      <td>...</td>\n",
       "    </tr>\n",
       "    <tr>\n",
       "      <th>462</th>\n",
       "      <td>Data Architect / Data Modeler</td>\n",
       "      <td>4.3</td>\n",
       "      <td>1001 - 5000</td>\n",
       "      <td>1999</td>\n",
       "      <td>Company - Public</td>\n",
       "      <td>Enterprise Software &amp; Network Solutions</td>\n",
       "      <td>Information Technology</td>\n",
       "      <td>$500 million to $1 billion (USD)</td>\n",
       "      <td>0</td>\n",
       "      <td>0</td>\n",
       "      <td>...</td>\n",
       "      <td>0</td>\n",
       "      <td>0</td>\n",
       "      <td>0</td>\n",
       "      <td>0</td>\n",
       "      <td>0</td>\n",
       "      <td>data modeler</td>\n",
       "      <td>na</td>\n",
       "      <td>M</td>\n",
       "      <td>63</td>\n",
       "      <td>110</td>\n",
       "    </tr>\n",
       "    <tr>\n",
       "      <th>463</th>\n",
       "      <td>Data Scientist</td>\n",
       "      <td>3.4</td>\n",
       "      <td>51 - 200</td>\n",
       "      <td>-1</td>\n",
       "      <td>Company - Private</td>\n",
       "      <td>IT Services</td>\n",
       "      <td>Information Technology</td>\n",
       "      <td>$5 to $10 million (USD)</td>\n",
       "      <td>0</td>\n",
       "      <td>0</td>\n",
       "      <td>...</td>\n",
       "      <td>0</td>\n",
       "      <td>0</td>\n",
       "      <td>0</td>\n",
       "      <td>0</td>\n",
       "      <td>0</td>\n",
       "      <td>data scientist</td>\n",
       "      <td>na</td>\n",
       "      <td>na</td>\n",
       "      <td>65</td>\n",
       "      <td>113</td>\n",
       "    </tr>\n",
       "    <tr>\n",
       "      <th>464</th>\n",
       "      <td>Associate Scientist / Sr. Associate Scientist,...</td>\n",
       "      <td>4.0</td>\n",
       "      <td>501 - 1000</td>\n",
       "      <td>2006</td>\n",
       "      <td>Company - Private</td>\n",
       "      <td>Biotech &amp; Pharmaceuticals</td>\n",
       "      <td>Biotech &amp; Pharmaceuticals</td>\n",
       "      <td>Unknown / Non-Applicable</td>\n",
       "      <td>0</td>\n",
       "      <td>0</td>\n",
       "      <td>...</td>\n",
       "      <td>0</td>\n",
       "      <td>0</td>\n",
       "      <td>0</td>\n",
       "      <td>0</td>\n",
       "      <td>0</td>\n",
       "      <td>other scientist</td>\n",
       "      <td>sr</td>\n",
       "      <td>M</td>\n",
       "      <td>59</td>\n",
       "      <td>125</td>\n",
       "    </tr>\n",
       "    <tr>\n",
       "      <th>465</th>\n",
       "      <td>Machine Learning Engineer (NLP)</td>\n",
       "      <td>4.1</td>\n",
       "      <td>1 - 50</td>\n",
       "      <td>2007</td>\n",
       "      <td>Company - Private</td>\n",
       "      <td>K-12 Education</td>\n",
       "      <td>Education</td>\n",
       "      <td>Unknown / Non-Applicable</td>\n",
       "      <td>0</td>\n",
       "      <td>0</td>\n",
       "      <td>...</td>\n",
       "      <td>0</td>\n",
       "      <td>0</td>\n",
       "      <td>0</td>\n",
       "      <td>0</td>\n",
       "      <td>0</td>\n",
       "      <td>machine learning engineer</td>\n",
       "      <td>na</td>\n",
       "      <td>na</td>\n",
       "      <td>80</td>\n",
       "      <td>142</td>\n",
       "    </tr>\n",
       "    <tr>\n",
       "      <th>466</th>\n",
       "      <td>Data Engineer</td>\n",
       "      <td>3.9</td>\n",
       "      <td>201 - 500</td>\n",
       "      <td>2011</td>\n",
       "      <td>Company - Private</td>\n",
       "      <td>Internet</td>\n",
       "      <td>Information Technology</td>\n",
       "      <td>$100 to $500 million (USD)</td>\n",
       "      <td>0</td>\n",
       "      <td>0</td>\n",
       "      <td>...</td>\n",
       "      <td>0</td>\n",
       "      <td>0</td>\n",
       "      <td>0</td>\n",
       "      <td>0</td>\n",
       "      <td>0</td>\n",
       "      <td>data engineer</td>\n",
       "      <td>na</td>\n",
       "      <td>P</td>\n",
       "      <td>62</td>\n",
       "      <td>113</td>\n",
       "    </tr>\n",
       "  </tbody>\n",
       "</table>\n",
       "<p>358 rows × 36 columns</p>\n",
       "</div>"
      ],
      "text/plain": [
       "                                             Job Title  Rating          Size  \\\n",
       "0                                       Data Scientist     3.8   501 - 1000    \n",
       "1                            Healthcare Data Scientist     3.4       10000+    \n",
       "2                                       Data Scientist     4.8   501 - 1000    \n",
       "3                                       Data Scientist     3.8  1001 - 5000    \n",
       "4                                       Data Scientist     2.9     51 - 200    \n",
       "..                                                 ...     ...           ...   \n",
       "462                      Data Architect / Data Modeler     4.3  1001 - 5000    \n",
       "463                                     Data Scientist     3.4     51 - 200    \n",
       "464  Associate Scientist / Sr. Associate Scientist,...     4.0   501 - 1000    \n",
       "465                    Machine Learning Engineer (NLP)     4.1       1 - 50    \n",
       "466                                      Data Engineer     3.9    201 - 500    \n",
       "\n",
       "     Founded   Type of ownership                                 Industry  \\\n",
       "0       1973   Company - Private                      Aerospace & Defense   \n",
       "1       1984  Other Organization         Health Care Services & Hospitals   \n",
       "2       2010   Company - Private                        Security Services   \n",
       "3       1965          Government                                   Energy   \n",
       "4       1998   Company - Private                  Advertising & Marketing   \n",
       "..       ...                 ...                                      ...   \n",
       "462     1999    Company - Public  Enterprise Software & Network Solutions   \n",
       "463       -1   Company - Private                              IT Services   \n",
       "464     2006   Company - Private                Biotech & Pharmaceuticals   \n",
       "465     2007   Company - Private                           K-12 Education   \n",
       "466     2011   Company - Private                                 Internet   \n",
       "\n",
       "                           Sector                           Revenue  Hourly  \\\n",
       "0             Aerospace & Defense         $50 to $100 million (USD)       0   \n",
       "1                     Health Care            $2 to $5 billion (USD)       0   \n",
       "2               Business Services        $100 to $500 million (USD)       0   \n",
       "3    Oil, Gas, Energy & Utilities  $500 million to $1 billion (USD)       0   \n",
       "4               Business Services          Unknown / Non-Applicable       0   \n",
       "..                            ...                               ...     ...   \n",
       "462        Information Technology  $500 million to $1 billion (USD)       0   \n",
       "463        Information Technology           $5 to $10 million (USD)       0   \n",
       "464     Biotech & Pharmaceuticals          Unknown / Non-Applicable       0   \n",
       "465                     Education          Unknown / Non-Applicable       0   \n",
       "466        Information Technology        $100 to $500 million (USD)       0   \n",
       "\n",
       "     Employer provided  ...  tableau  bi  flink mongo  google_an  \\\n",
       "0                    0  ...        1   1      0     0          0   \n",
       "1                    0  ...        0   0      0     0          0   \n",
       "2                    0  ...        0   0      0     0          0   \n",
       "3                    0  ...        0   0      0     0          0   \n",
       "4                    0  ...        0   0      0     0          0   \n",
       "..                 ...  ...      ...  ..    ...   ...        ...   \n",
       "462                  0  ...        0   0      0     0          0   \n",
       "463                  0  ...        0   0      0     0          0   \n",
       "464                  0  ...        0   0      0     0          0   \n",
       "465                  0  ...        0   0      0     0          0   \n",
       "466                  0  ...        0   0      0     0          0   \n",
       "\n",
       "                 job_title_sim  seniority_by_title  Degree  Min_Salary  \\\n",
       "0               data scientist                  na       M          53   \n",
       "1               data scientist                  na       M          63   \n",
       "2               data scientist                  na       M          80   \n",
       "3               data scientist                  na      na          56   \n",
       "4               data scientist                  na      na          86   \n",
       "..                         ...                 ...     ...         ...   \n",
       "462               data modeler                  na       M          63   \n",
       "463             data scientist                  na      na          65   \n",
       "464            other scientist                  sr       M          59   \n",
       "465  machine learning engineer                  na      na          80   \n",
       "466              data engineer                  na       P          62   \n",
       "\n",
       "     Max_Salary  \n",
       "0            91  \n",
       "1           112  \n",
       "2            90  \n",
       "3            97  \n",
       "4           143  \n",
       "..          ...  \n",
       "462         110  \n",
       "463         113  \n",
       "464         125  \n",
       "465         142  \n",
       "466         113  \n",
       "\n",
       "[358 rows x 36 columns]"
      ]
     },
     "execution_count": 17,
     "metadata": {},
     "output_type": "execute_result"
    }
   ],
   "source": [
    "df = df[df['Age'] <= 60]\n",
    "df"
   ]
  },
  {
   "cell_type": "markdown",
   "id": "52424c6d",
   "metadata": {},
   "source": [
    "## Replace Age -1 to mean value:"
   ]
  },
  {
   "cell_type": "code",
   "execution_count": 18,
   "id": "aa9902b7",
   "metadata": {},
   "outputs": [
    {
     "name": "stderr",
     "output_type": "stream",
     "text": [
      "C:\\Users\\ADHIBAN SIDDHARTH V\\AppData\\Local\\Temp\\ipykernel_10164\\3700054957.py:1: SettingWithCopyWarning: \n",
      "A value is trying to be set on a copy of a slice from a DataFrame.\n",
      "Try using .loc[row_indexer,col_indexer] = value instead\n",
      "\n",
      "See the caveats in the documentation: https://pandas.pydata.org/pandas-docs/stable/user_guide/indexing.html#returning-a-view-versus-a-copy\n",
      "  df['Age'] = df['Age'].replace(-1, 21)\n"
     ]
    }
   ],
   "source": [
    "df['Age'] = df['Age'].replace(-1, 21)"
   ]
  },
  {
   "cell_type": "code",
   "execution_count": 19,
   "id": "d1cd6520",
   "metadata": {},
   "outputs": [
    {
     "data": {
      "text/plain": [
       "array([48, 37, 11, 56, 23, 21, 13, 16,  7, 12, 10, 53, 59,  9, 26,  8, 24,\n",
       "       25, 47, 52, 36,  6, 28, 35, 22, 19,  5, 15, 18, 43,  4, 31, 33, 20,\n",
       "       14, 29, 27, 44,  2, 39, 55, 50, 34, 45, 40, 51, 54, 60, 57, 17, 30,\n",
       "       32, 49, 38, 41, 46, 42], dtype=int64)"
      ]
     },
     "execution_count": 19,
     "metadata": {},
     "output_type": "execute_result"
    }
   ],
   "source": [
    "df['Age'].unique()"
   ]
  },
  {
   "cell_type": "code",
   "execution_count": 20,
   "id": "99a927bb",
   "metadata": {},
   "outputs": [
    {
     "data": {
      "text/html": [
       "<div>\n",
       "<style scoped>\n",
       "    .dataframe tbody tr th:only-of-type {\n",
       "        vertical-align: middle;\n",
       "    }\n",
       "\n",
       "    .dataframe tbody tr th {\n",
       "        vertical-align: top;\n",
       "    }\n",
       "\n",
       "    .dataframe thead th {\n",
       "        text-align: right;\n",
       "    }\n",
       "</style>\n",
       "<table border=\"1\" class=\"dataframe\">\n",
       "  <thead>\n",
       "    <tr style=\"text-align: right;\">\n",
       "      <th></th>\n",
       "      <th>Job Title</th>\n",
       "      <th>Rating</th>\n",
       "      <th>Size</th>\n",
       "      <th>Founded</th>\n",
       "      <th>Type of ownership</th>\n",
       "      <th>Industry</th>\n",
       "      <th>Sector</th>\n",
       "      <th>Revenue</th>\n",
       "      <th>Hourly</th>\n",
       "      <th>Employer provided</th>\n",
       "      <th>...</th>\n",
       "      <th>tableau</th>\n",
       "      <th>bi</th>\n",
       "      <th>flink</th>\n",
       "      <th>mongo</th>\n",
       "      <th>google_an</th>\n",
       "      <th>job_title_sim</th>\n",
       "      <th>seniority_by_title</th>\n",
       "      <th>Degree</th>\n",
       "      <th>Min_Salary</th>\n",
       "      <th>Max_Salary</th>\n",
       "    </tr>\n",
       "  </thead>\n",
       "  <tbody>\n",
       "    <tr>\n",
       "      <th>0</th>\n",
       "      <td>Data Scientist</td>\n",
       "      <td>3.8</td>\n",
       "      <td>501 - 1000</td>\n",
       "      <td>1973</td>\n",
       "      <td>Company - Private</td>\n",
       "      <td>Aerospace &amp; Defense</td>\n",
       "      <td>Aerospace &amp; Defense</td>\n",
       "      <td>$50 to $100 million (USD)</td>\n",
       "      <td>0</td>\n",
       "      <td>0</td>\n",
       "      <td>...</td>\n",
       "      <td>1</td>\n",
       "      <td>1</td>\n",
       "      <td>0</td>\n",
       "      <td>0</td>\n",
       "      <td>0</td>\n",
       "      <td>data scientist</td>\n",
       "      <td>na</td>\n",
       "      <td>M</td>\n",
       "      <td>53</td>\n",
       "      <td>91</td>\n",
       "    </tr>\n",
       "    <tr>\n",
       "      <th>1</th>\n",
       "      <td>Healthcare Data Scientist</td>\n",
       "      <td>3.4</td>\n",
       "      <td>10000+</td>\n",
       "      <td>1984</td>\n",
       "      <td>Other Organization</td>\n",
       "      <td>Health Care Services &amp; Hospitals</td>\n",
       "      <td>Health Care</td>\n",
       "      <td>$2 to $5 billion (USD)</td>\n",
       "      <td>0</td>\n",
       "      <td>0</td>\n",
       "      <td>...</td>\n",
       "      <td>0</td>\n",
       "      <td>0</td>\n",
       "      <td>0</td>\n",
       "      <td>0</td>\n",
       "      <td>0</td>\n",
       "      <td>data scientist</td>\n",
       "      <td>na</td>\n",
       "      <td>M</td>\n",
       "      <td>63</td>\n",
       "      <td>112</td>\n",
       "    </tr>\n",
       "    <tr>\n",
       "      <th>2</th>\n",
       "      <td>Data Scientist</td>\n",
       "      <td>4.8</td>\n",
       "      <td>501 - 1000</td>\n",
       "      <td>2010</td>\n",
       "      <td>Company - Private</td>\n",
       "      <td>Security Services</td>\n",
       "      <td>Business Services</td>\n",
       "      <td>$100 to $500 million (USD)</td>\n",
       "      <td>0</td>\n",
       "      <td>0</td>\n",
       "      <td>...</td>\n",
       "      <td>0</td>\n",
       "      <td>0</td>\n",
       "      <td>0</td>\n",
       "      <td>0</td>\n",
       "      <td>0</td>\n",
       "      <td>data scientist</td>\n",
       "      <td>na</td>\n",
       "      <td>M</td>\n",
       "      <td>80</td>\n",
       "      <td>90</td>\n",
       "    </tr>\n",
       "    <tr>\n",
       "      <th>3</th>\n",
       "      <td>Data Scientist</td>\n",
       "      <td>3.8</td>\n",
       "      <td>1001 - 5000</td>\n",
       "      <td>1965</td>\n",
       "      <td>Government</td>\n",
       "      <td>Energy</td>\n",
       "      <td>Oil, Gas, Energy &amp; Utilities</td>\n",
       "      <td>$500 million to $1 billion (USD)</td>\n",
       "      <td>0</td>\n",
       "      <td>0</td>\n",
       "      <td>...</td>\n",
       "      <td>0</td>\n",
       "      <td>0</td>\n",
       "      <td>0</td>\n",
       "      <td>0</td>\n",
       "      <td>0</td>\n",
       "      <td>data scientist</td>\n",
       "      <td>na</td>\n",
       "      <td>na</td>\n",
       "      <td>56</td>\n",
       "      <td>97</td>\n",
       "    </tr>\n",
       "    <tr>\n",
       "      <th>4</th>\n",
       "      <td>Data Scientist</td>\n",
       "      <td>2.9</td>\n",
       "      <td>51 - 200</td>\n",
       "      <td>1998</td>\n",
       "      <td>Company - Private</td>\n",
       "      <td>Advertising &amp; Marketing</td>\n",
       "      <td>Business Services</td>\n",
       "      <td>Unknown / Non-Applicable</td>\n",
       "      <td>0</td>\n",
       "      <td>0</td>\n",
       "      <td>...</td>\n",
       "      <td>0</td>\n",
       "      <td>0</td>\n",
       "      <td>0</td>\n",
       "      <td>0</td>\n",
       "      <td>0</td>\n",
       "      <td>data scientist</td>\n",
       "      <td>na</td>\n",
       "      <td>na</td>\n",
       "      <td>86</td>\n",
       "      <td>143</td>\n",
       "    </tr>\n",
       "    <tr>\n",
       "      <th>...</th>\n",
       "      <td>...</td>\n",
       "      <td>...</td>\n",
       "      <td>...</td>\n",
       "      <td>...</td>\n",
       "      <td>...</td>\n",
       "      <td>...</td>\n",
       "      <td>...</td>\n",
       "      <td>...</td>\n",
       "      <td>...</td>\n",
       "      <td>...</td>\n",
       "      <td>...</td>\n",
       "      <td>...</td>\n",
       "      <td>...</td>\n",
       "      <td>...</td>\n",
       "      <td>...</td>\n",
       "      <td>...</td>\n",
       "      <td>...</td>\n",
       "      <td>...</td>\n",
       "      <td>...</td>\n",
       "      <td>...</td>\n",
       "      <td>...</td>\n",
       "    </tr>\n",
       "    <tr>\n",
       "      <th>462</th>\n",
       "      <td>Data Architect / Data Modeler</td>\n",
       "      <td>4.3</td>\n",
       "      <td>1001 - 5000</td>\n",
       "      <td>1999</td>\n",
       "      <td>Company - Public</td>\n",
       "      <td>Enterprise Software &amp; Network Solutions</td>\n",
       "      <td>Information Technology</td>\n",
       "      <td>$500 million to $1 billion (USD)</td>\n",
       "      <td>0</td>\n",
       "      <td>0</td>\n",
       "      <td>...</td>\n",
       "      <td>0</td>\n",
       "      <td>0</td>\n",
       "      <td>0</td>\n",
       "      <td>0</td>\n",
       "      <td>0</td>\n",
       "      <td>data modeler</td>\n",
       "      <td>na</td>\n",
       "      <td>M</td>\n",
       "      <td>63</td>\n",
       "      <td>110</td>\n",
       "    </tr>\n",
       "    <tr>\n",
       "      <th>463</th>\n",
       "      <td>Data Scientist</td>\n",
       "      <td>3.4</td>\n",
       "      <td>51 - 200</td>\n",
       "      <td>-1</td>\n",
       "      <td>Company - Private</td>\n",
       "      <td>IT Services</td>\n",
       "      <td>Information Technology</td>\n",
       "      <td>$5 to $10 million (USD)</td>\n",
       "      <td>0</td>\n",
       "      <td>0</td>\n",
       "      <td>...</td>\n",
       "      <td>0</td>\n",
       "      <td>0</td>\n",
       "      <td>0</td>\n",
       "      <td>0</td>\n",
       "      <td>0</td>\n",
       "      <td>data scientist</td>\n",
       "      <td>na</td>\n",
       "      <td>na</td>\n",
       "      <td>65</td>\n",
       "      <td>113</td>\n",
       "    </tr>\n",
       "    <tr>\n",
       "      <th>464</th>\n",
       "      <td>Associate Scientist / Sr. Associate Scientist,...</td>\n",
       "      <td>4.0</td>\n",
       "      <td>501 - 1000</td>\n",
       "      <td>2006</td>\n",
       "      <td>Company - Private</td>\n",
       "      <td>Biotech &amp; Pharmaceuticals</td>\n",
       "      <td>Biotech &amp; Pharmaceuticals</td>\n",
       "      <td>Unknown / Non-Applicable</td>\n",
       "      <td>0</td>\n",
       "      <td>0</td>\n",
       "      <td>...</td>\n",
       "      <td>0</td>\n",
       "      <td>0</td>\n",
       "      <td>0</td>\n",
       "      <td>0</td>\n",
       "      <td>0</td>\n",
       "      <td>other scientist</td>\n",
       "      <td>sr</td>\n",
       "      <td>M</td>\n",
       "      <td>59</td>\n",
       "      <td>125</td>\n",
       "    </tr>\n",
       "    <tr>\n",
       "      <th>465</th>\n",
       "      <td>Machine Learning Engineer (NLP)</td>\n",
       "      <td>4.1</td>\n",
       "      <td>1 - 50</td>\n",
       "      <td>2007</td>\n",
       "      <td>Company - Private</td>\n",
       "      <td>K-12 Education</td>\n",
       "      <td>Education</td>\n",
       "      <td>Unknown / Non-Applicable</td>\n",
       "      <td>0</td>\n",
       "      <td>0</td>\n",
       "      <td>...</td>\n",
       "      <td>0</td>\n",
       "      <td>0</td>\n",
       "      <td>0</td>\n",
       "      <td>0</td>\n",
       "      <td>0</td>\n",
       "      <td>machine learning engineer</td>\n",
       "      <td>na</td>\n",
       "      <td>na</td>\n",
       "      <td>80</td>\n",
       "      <td>142</td>\n",
       "    </tr>\n",
       "    <tr>\n",
       "      <th>466</th>\n",
       "      <td>Data Engineer</td>\n",
       "      <td>3.9</td>\n",
       "      <td>201 - 500</td>\n",
       "      <td>2011</td>\n",
       "      <td>Company - Private</td>\n",
       "      <td>Internet</td>\n",
       "      <td>Information Technology</td>\n",
       "      <td>$100 to $500 million (USD)</td>\n",
       "      <td>0</td>\n",
       "      <td>0</td>\n",
       "      <td>...</td>\n",
       "      <td>0</td>\n",
       "      <td>0</td>\n",
       "      <td>0</td>\n",
       "      <td>0</td>\n",
       "      <td>0</td>\n",
       "      <td>data engineer</td>\n",
       "      <td>na</td>\n",
       "      <td>P</td>\n",
       "      <td>62</td>\n",
       "      <td>113</td>\n",
       "    </tr>\n",
       "  </tbody>\n",
       "</table>\n",
       "<p>358 rows × 36 columns</p>\n",
       "</div>"
      ],
      "text/plain": [
       "                                             Job Title  Rating          Size  \\\n",
       "0                                       Data Scientist     3.8   501 - 1000    \n",
       "1                            Healthcare Data Scientist     3.4       10000+    \n",
       "2                                       Data Scientist     4.8   501 - 1000    \n",
       "3                                       Data Scientist     3.8  1001 - 5000    \n",
       "4                                       Data Scientist     2.9     51 - 200    \n",
       "..                                                 ...     ...           ...   \n",
       "462                      Data Architect / Data Modeler     4.3  1001 - 5000    \n",
       "463                                     Data Scientist     3.4     51 - 200    \n",
       "464  Associate Scientist / Sr. Associate Scientist,...     4.0   501 - 1000    \n",
       "465                    Machine Learning Engineer (NLP)     4.1       1 - 50    \n",
       "466                                      Data Engineer     3.9    201 - 500    \n",
       "\n",
       "     Founded   Type of ownership                                 Industry  \\\n",
       "0       1973   Company - Private                      Aerospace & Defense   \n",
       "1       1984  Other Organization         Health Care Services & Hospitals   \n",
       "2       2010   Company - Private                        Security Services   \n",
       "3       1965          Government                                   Energy   \n",
       "4       1998   Company - Private                  Advertising & Marketing   \n",
       "..       ...                 ...                                      ...   \n",
       "462     1999    Company - Public  Enterprise Software & Network Solutions   \n",
       "463       -1   Company - Private                              IT Services   \n",
       "464     2006   Company - Private                Biotech & Pharmaceuticals   \n",
       "465     2007   Company - Private                           K-12 Education   \n",
       "466     2011   Company - Private                                 Internet   \n",
       "\n",
       "                           Sector                           Revenue  Hourly  \\\n",
       "0             Aerospace & Defense         $50 to $100 million (USD)       0   \n",
       "1                     Health Care            $2 to $5 billion (USD)       0   \n",
       "2               Business Services        $100 to $500 million (USD)       0   \n",
       "3    Oil, Gas, Energy & Utilities  $500 million to $1 billion (USD)       0   \n",
       "4               Business Services          Unknown / Non-Applicable       0   \n",
       "..                            ...                               ...     ...   \n",
       "462        Information Technology  $500 million to $1 billion (USD)       0   \n",
       "463        Information Technology           $5 to $10 million (USD)       0   \n",
       "464     Biotech & Pharmaceuticals          Unknown / Non-Applicable       0   \n",
       "465                     Education          Unknown / Non-Applicable       0   \n",
       "466        Information Technology        $100 to $500 million (USD)       0   \n",
       "\n",
       "     Employer provided  ...  tableau  bi  flink mongo  google_an  \\\n",
       "0                    0  ...        1   1      0     0          0   \n",
       "1                    0  ...        0   0      0     0          0   \n",
       "2                    0  ...        0   0      0     0          0   \n",
       "3                    0  ...        0   0      0     0          0   \n",
       "4                    0  ...        0   0      0     0          0   \n",
       "..                 ...  ...      ...  ..    ...   ...        ...   \n",
       "462                  0  ...        0   0      0     0          0   \n",
       "463                  0  ...        0   0      0     0          0   \n",
       "464                  0  ...        0   0      0     0          0   \n",
       "465                  0  ...        0   0      0     0          0   \n",
       "466                  0  ...        0   0      0     0          0   \n",
       "\n",
       "                 job_title_sim  seniority_by_title  Degree  Min_Salary  \\\n",
       "0               data scientist                  na       M          53   \n",
       "1               data scientist                  na       M          63   \n",
       "2               data scientist                  na       M          80   \n",
       "3               data scientist                  na      na          56   \n",
       "4               data scientist                  na      na          86   \n",
       "..                         ...                 ...     ...         ...   \n",
       "462               data modeler                  na       M          63   \n",
       "463             data scientist                  na      na          65   \n",
       "464            other scientist                  sr       M          59   \n",
       "465  machine learning engineer                  na      na          80   \n",
       "466              data engineer                  na       P          62   \n",
       "\n",
       "     Max_Salary  \n",
       "0            91  \n",
       "1           112  \n",
       "2            90  \n",
       "3            97  \n",
       "4           143  \n",
       "..          ...  \n",
       "462         110  \n",
       "463         113  \n",
       "464         125  \n",
       "465         142  \n",
       "466         113  \n",
       "\n",
       "[358 rows x 36 columns]"
      ]
     },
     "execution_count": 20,
     "metadata": {},
     "output_type": "execute_result"
    }
   ],
   "source": [
    "df"
   ]
  },
  {
   "cell_type": "markdown",
   "id": "9abd0a02",
   "metadata": {},
   "source": [
    "## Revenue column:"
   ]
  },
  {
   "cell_type": "code",
   "execution_count": 21,
   "id": "1f6c6b4a",
   "metadata": {},
   "outputs": [
    {
     "data": {
      "text/plain": [
       "Unknown / Non-Applicable            124\n",
       "$100 to $500 million (USD)           48\n",
       "$50 to $100 million (USD)            27\n",
       "$500 million to $1 billion (USD)     25\n",
       "$1 to $2 billion (USD)               24\n",
       "$2 to $5 billion (USD)               22\n",
       "$25 to $50 million (USD)             21\n",
       "$10+ billion (USD)                   20\n",
       "$10 to $25 million (USD)             20\n",
       "$5 to $10 million (USD)              13\n",
       "$1 to $5 million (USD)                5\n",
       "$5 to $10 billion (USD)               5\n",
       "Less than $1 million (USD)            4\n",
       "Name: Revenue, dtype: int64"
      ]
     },
     "execution_count": 21,
     "metadata": {},
     "output_type": "execute_result"
    }
   ],
   "source": [
    "df.Revenue.value_counts()"
   ]
  },
  {
   "cell_type": "code",
   "execution_count": 22,
   "id": "d8978c0c",
   "metadata": {},
   "outputs": [],
   "source": [
    "df = df[df.Revenue != 'Unknown / Non-Applicable']"
   ]
  },
  {
   "cell_type": "code",
   "execution_count": 23,
   "id": "bd786956",
   "metadata": {},
   "outputs": [
    {
     "data": {
      "text/plain": [
       "$100 to $500 million (USD)          48\n",
       "$50 to $100 million (USD)           27\n",
       "$500 million to $1 billion (USD)    25\n",
       "$1 to $2 billion (USD)              24\n",
       "$2 to $5 billion (USD)              22\n",
       "$25 to $50 million (USD)            21\n",
       "$10+ billion (USD)                  20\n",
       "$10 to $25 million (USD)            20\n",
       "$5 to $10 million (USD)             13\n",
       "$1 to $5 million (USD)               5\n",
       "$5 to $10 billion (USD)              5\n",
       "Less than $1 million (USD)           4\n",
       "Name: Revenue, dtype: int64"
      ]
     },
     "execution_count": 23,
     "metadata": {},
     "output_type": "execute_result"
    }
   ],
   "source": [
    "df.Revenue.value_counts()"
   ]
  },
  {
   "cell_type": "code",
   "execution_count": 24,
   "id": "4696cd5b",
   "metadata": {},
   "outputs": [
    {
     "name": "stderr",
     "output_type": "stream",
     "text": [
      "C:\\Users\\ADHIBAN SIDDHARTH V\\AppData\\Local\\Temp\\ipykernel_10164\\2408868792.py:1: SettingWithCopyWarning: \n",
      "A value is trying to be set on a copy of a slice from a DataFrame.\n",
      "Try using .loc[row_indexer,col_indexer] = value instead\n",
      "\n",
      "See the caveats in the documentation: https://pandas.pydata.org/pandas-docs/stable/user_guide/indexing.html#returning-a-view-versus-a-copy\n",
      "  df.Revenue = df.Revenue.replace('$100 to $500 million (USD)', '100000000-500000000')\n",
      "C:\\Users\\ADHIBAN SIDDHARTH V\\AppData\\Local\\Temp\\ipykernel_10164\\2408868792.py:2: SettingWithCopyWarning: \n",
      "A value is trying to be set on a copy of a slice from a DataFrame.\n",
      "Try using .loc[row_indexer,col_indexer] = value instead\n",
      "\n",
      "See the caveats in the documentation: https://pandas.pydata.org/pandas-docs/stable/user_guide/indexing.html#returning-a-view-versus-a-copy\n",
      "  df.Revenue = df.Revenue.replace('$50 to $100 million (USD)', '50000000-100000000')\n",
      "C:\\Users\\ADHIBAN SIDDHARTH V\\AppData\\Local\\Temp\\ipykernel_10164\\2408868792.py:3: SettingWithCopyWarning: \n",
      "A value is trying to be set on a copy of a slice from a DataFrame.\n",
      "Try using .loc[row_indexer,col_indexer] = value instead\n",
      "\n",
      "See the caveats in the documentation: https://pandas.pydata.org/pandas-docs/stable/user_guide/indexing.html#returning-a-view-versus-a-copy\n",
      "  df.Revenue = df.Revenue.replace('$500 million to $1 billion (USD)', '500000000-1000000000')\n",
      "C:\\Users\\ADHIBAN SIDDHARTH V\\AppData\\Local\\Temp\\ipykernel_10164\\2408868792.py:4: SettingWithCopyWarning: \n",
      "A value is trying to be set on a copy of a slice from a DataFrame.\n",
      "Try using .loc[row_indexer,col_indexer] = value instead\n",
      "\n",
      "See the caveats in the documentation: https://pandas.pydata.org/pandas-docs/stable/user_guide/indexing.html#returning-a-view-versus-a-copy\n",
      "  df.Revenue = df.Revenue.replace('$1 to $2 billion (USD)', '1000000000-2000000000')\n",
      "C:\\Users\\ADHIBAN SIDDHARTH V\\AppData\\Local\\Temp\\ipykernel_10164\\2408868792.py:5: SettingWithCopyWarning: \n",
      "A value is trying to be set on a copy of a slice from a DataFrame.\n",
      "Try using .loc[row_indexer,col_indexer] = value instead\n",
      "\n",
      "See the caveats in the documentation: https://pandas.pydata.org/pandas-docs/stable/user_guide/indexing.html#returning-a-view-versus-a-copy\n",
      "  df.Revenue = df.Revenue.replace('$2 to $5 billion (USD)', '2000000000-5000000000')\n",
      "C:\\Users\\ADHIBAN SIDDHARTH V\\AppData\\Local\\Temp\\ipykernel_10164\\2408868792.py:6: SettingWithCopyWarning: \n",
      "A value is trying to be set on a copy of a slice from a DataFrame.\n",
      "Try using .loc[row_indexer,col_indexer] = value instead\n",
      "\n",
      "See the caveats in the documentation: https://pandas.pydata.org/pandas-docs/stable/user_guide/indexing.html#returning-a-view-versus-a-copy\n",
      "  df.Revenue = df.Revenue.replace('$25 to $50 million (USD)', '25000000-50000000')\n",
      "C:\\Users\\ADHIBAN SIDDHARTH V\\AppData\\Local\\Temp\\ipykernel_10164\\2408868792.py:7: SettingWithCopyWarning: \n",
      "A value is trying to be set on a copy of a slice from a DataFrame.\n",
      "Try using .loc[row_indexer,col_indexer] = value instead\n",
      "\n",
      "See the caveats in the documentation: https://pandas.pydata.org/pandas-docs/stable/user_guide/indexing.html#returning-a-view-versus-a-copy\n",
      "  df.Revenue = df.Revenue.replace('$10+ billion (USD)', '10000000000-10000000000')\n",
      "C:\\Users\\ADHIBAN SIDDHARTH V\\AppData\\Local\\Temp\\ipykernel_10164\\2408868792.py:8: SettingWithCopyWarning: \n",
      "A value is trying to be set on a copy of a slice from a DataFrame.\n",
      "Try using .loc[row_indexer,col_indexer] = value instead\n",
      "\n",
      "See the caveats in the documentation: https://pandas.pydata.org/pandas-docs/stable/user_guide/indexing.html#returning-a-view-versus-a-copy\n",
      "  df.Revenue = df.Revenue.replace('$10 to $25 million (USD)', '10000000-25000000')\n",
      "C:\\Users\\ADHIBAN SIDDHARTH V\\AppData\\Local\\Temp\\ipykernel_10164\\2408868792.py:9: SettingWithCopyWarning: \n",
      "A value is trying to be set on a copy of a slice from a DataFrame.\n",
      "Try using .loc[row_indexer,col_indexer] = value instead\n",
      "\n",
      "See the caveats in the documentation: https://pandas.pydata.org/pandas-docs/stable/user_guide/indexing.html#returning-a-view-versus-a-copy\n",
      "  df.Revenue = df.Revenue.replace('$5 to $10 million (USD)', '50000000-10000000')\n",
      "C:\\Users\\ADHIBAN SIDDHARTH V\\AppData\\Local\\Temp\\ipykernel_10164\\2408868792.py:10: SettingWithCopyWarning: \n",
      "A value is trying to be set on a copy of a slice from a DataFrame.\n",
      "Try using .loc[row_indexer,col_indexer] = value instead\n",
      "\n",
      "See the caveats in the documentation: https://pandas.pydata.org/pandas-docs/stable/user_guide/indexing.html#returning-a-view-versus-a-copy\n",
      "  df.Revenue = df.Revenue.replace('$1 to $5 million (USD)', '1000000-5000000')\n",
      "C:\\Users\\ADHIBAN SIDDHARTH V\\AppData\\Local\\Temp\\ipykernel_10164\\2408868792.py:11: SettingWithCopyWarning: \n",
      "A value is trying to be set on a copy of a slice from a DataFrame.\n",
      "Try using .loc[row_indexer,col_indexer] = value instead\n",
      "\n",
      "See the caveats in the documentation: https://pandas.pydata.org/pandas-docs/stable/user_guide/indexing.html#returning-a-view-versus-a-copy\n",
      "  df.Revenue = df.Revenue.replace('$5 to $10 billion (USD)', '5000000000-10000000000')\n",
      "C:\\Users\\ADHIBAN SIDDHARTH V\\AppData\\Local\\Temp\\ipykernel_10164\\2408868792.py:12: SettingWithCopyWarning: \n",
      "A value is trying to be set on a copy of a slice from a DataFrame.\n",
      "Try using .loc[row_indexer,col_indexer] = value instead\n",
      "\n",
      "See the caveats in the documentation: https://pandas.pydata.org/pandas-docs/stable/user_guide/indexing.html#returning-a-view-versus-a-copy\n",
      "  df.Revenue = df.Revenue.replace('Less than $1 million (USD)', '1000000-1000000')\n"
     ]
    }
   ],
   "source": [
    "df.Revenue = df.Revenue.replace('$100 to $500 million (USD)', '100000000-500000000')\n",
    "df.Revenue = df.Revenue.replace('$50 to $100 million (USD)', '50000000-100000000')\n",
    "df.Revenue = df.Revenue.replace('$500 million to $1 billion (USD)', '500000000-1000000000')\n",
    "df.Revenue = df.Revenue.replace('$1 to $2 billion (USD)', '1000000000-2000000000')\n",
    "df.Revenue = df.Revenue.replace('$2 to $5 billion (USD)', '2000000000-5000000000')\n",
    "df.Revenue = df.Revenue.replace('$25 to $50 million (USD)', '25000000-50000000')\n",
    "df.Revenue = df.Revenue.replace('$10+ billion (USD)', '10000000000-10000000000')\n",
    "df.Revenue = df.Revenue.replace('$10 to $25 million (USD)', '10000000-25000000')\n",
    "df.Revenue = df.Revenue.replace('$5 to $10 million (USD)', '50000000-10000000')\n",
    "df.Revenue = df.Revenue.replace('$1 to $5 million (USD)', '1000000-5000000')\n",
    "df.Revenue = df.Revenue.replace('$5 to $10 billion (USD)', '5000000000-10000000000')\n",
    "df.Revenue = df.Revenue.replace('Less than $1 million (USD)', '1000000-1000000')"
   ]
  },
  {
   "cell_type": "code",
   "execution_count": 25,
   "id": "d2ad06a3",
   "metadata": {},
   "outputs": [
    {
     "name": "stderr",
     "output_type": "stream",
     "text": [
      "C:\\Users\\ADHIBAN SIDDHARTH V\\AppData\\Local\\Temp\\ipykernel_10164\\3599596933.py:1: SettingWithCopyWarning: \n",
      "A value is trying to be set on a copy of a slice from a DataFrame.\n",
      "Try using .loc[row_indexer,col_indexer] = value instead\n",
      "\n",
      "See the caveats in the documentation: https://pandas.pydata.org/pandas-docs/stable/user_guide/indexing.html#returning-a-view-versus-a-copy\n",
      "  df[['Min_Revenue', 'Max_Revenue']] = df.Revenue.str.split('-', expand=True).astype(np.int64)\n",
      "C:\\Users\\ADHIBAN SIDDHARTH V\\AppData\\Local\\Temp\\ipykernel_10164\\3599596933.py:1: SettingWithCopyWarning: \n",
      "A value is trying to be set on a copy of a slice from a DataFrame.\n",
      "Try using .loc[row_indexer,col_indexer] = value instead\n",
      "\n",
      "See the caveats in the documentation: https://pandas.pydata.org/pandas-docs/stable/user_guide/indexing.html#returning-a-view-versus-a-copy\n",
      "  df[['Min_Revenue', 'Max_Revenue']] = df.Revenue.str.split('-', expand=True).astype(np.int64)\n"
     ]
    }
   ],
   "source": [
    "df[['Min_Revenue', 'Max_Revenue']] = df.Revenue.str.split('-', expand=True).astype(np.int64)"
   ]
  },
  {
   "cell_type": "code",
   "execution_count": 26,
   "id": "9f3c060e",
   "metadata": {},
   "outputs": [],
   "source": [
    "df = df.drop('Revenue', axis=1)"
   ]
  },
  {
   "cell_type": "code",
   "execution_count": 27,
   "id": "a911327a",
   "metadata": {},
   "outputs": [
    {
     "name": "stdout",
     "output_type": "stream",
     "text": [
      "<class 'pandas.core.frame.DataFrame'>\n",
      "Int64Index: 234 entries, 0 to 466\n",
      "Data columns (total 37 columns):\n",
      " #   Column              Non-Null Count  Dtype  \n",
      "---  ------              --------------  -----  \n",
      " 0   Job Title           234 non-null    object \n",
      " 1   Rating              234 non-null    float64\n",
      " 2   Size                234 non-null    object \n",
      " 3   Founded             234 non-null    int64  \n",
      " 4   Type of ownership   234 non-null    object \n",
      " 5   Industry            234 non-null    object \n",
      " 6   Sector              234 non-null    object \n",
      " 7   Hourly              234 non-null    int64  \n",
      " 8   Employer provided   234 non-null    int64  \n",
      " 9   Lower Salary        234 non-null    int64  \n",
      " 10  Upper Salary        234 non-null    int64  \n",
      " 11  Avg Salary(K)       234 non-null    float64\n",
      " 12  Job Location        234 non-null    object \n",
      " 13  Age                 234 non-null    int64  \n",
      " 14  Python              234 non-null    int64  \n",
      " 15  spark               234 non-null    int64  \n",
      " 16  aws                 234 non-null    int64  \n",
      " 17  excel               234 non-null    int64  \n",
      " 18  sql                 234 non-null    int64  \n",
      " 19  sas                 234 non-null    int64  \n",
      " 20  keras               234 non-null    int64  \n",
      " 21  pytorch             234 non-null    int64  \n",
      " 22  scikit              234 non-null    int64  \n",
      " 23  tensor              234 non-null    int64  \n",
      " 24  hadoop              234 non-null    int64  \n",
      " 25  tableau             234 non-null    int64  \n",
      " 26  bi                  234 non-null    int64  \n",
      " 27  flink               234 non-null    int64  \n",
      " 28  mongo               234 non-null    int64  \n",
      " 29  google_an           234 non-null    int64  \n",
      " 30  job_title_sim       234 non-null    object \n",
      " 31  seniority_by_title  234 non-null    object \n",
      " 32  Degree              234 non-null    object \n",
      " 33  Min_Salary          234 non-null    int64  \n",
      " 34  Max_Salary          234 non-null    int64  \n",
      " 35  Min_Revenue         234 non-null    int64  \n",
      " 36  Max_Revenue         234 non-null    int64  \n",
      "dtypes: float64(2), int64(26), object(9)\n",
      "memory usage: 69.5+ KB\n"
     ]
    }
   ],
   "source": [
    "df.info()"
   ]
  },
  {
   "cell_type": "code",
   "execution_count": 28,
   "id": "ca37eede",
   "metadata": {},
   "outputs": [
    {
     "name": "stdout",
     "output_type": "stream",
     "text": [
      "Job Title - 127\n",
      "Rating - 30\n",
      "Size - 7\n",
      "Founded - 54\n",
      "Type of ownership - 8\n",
      "Industry - 43\n",
      "Sector - 22\n",
      "Hourly - 2\n",
      "Employer provided - 2\n",
      "Lower Salary - 90\n",
      "Upper Salary - 122\n",
      "Avg Salary(K) - 153\n",
      "Job Location - 32\n",
      "Age - 53\n",
      "Python - 2\n",
      "spark - 2\n",
      "aws - 2\n",
      "excel - 2\n",
      "sql - 2\n",
      "sas - 2\n",
      "keras - 2\n",
      "pytorch - 2\n",
      "scikit - 2\n",
      "tensor - 2\n",
      "hadoop - 2\n",
      "tableau - 2\n",
      "bi - 2\n",
      "flink - 2\n",
      "mongo - 2\n",
      "google_an - 2\n",
      "job_title_sim - 9\n",
      "seniority_by_title - 3\n",
      "Degree - 3\n",
      "Min_Salary - 94\n",
      "Max_Salary - 123\n",
      "Min_Revenue - 10\n",
      "Max_Revenue - 11\n"
     ]
    }
   ],
   "source": [
    "for i in df.columns:\n",
    "    print(i, df[i].nunique(), sep=' - ')"
   ]
  },
  {
   "cell_type": "code",
   "execution_count": 29,
   "id": "5f8c66c0",
   "metadata": {},
   "outputs": [
    {
     "data": {
      "text/html": [
       "<div>\n",
       "<style scoped>\n",
       "    .dataframe tbody tr th:only-of-type {\n",
       "        vertical-align: middle;\n",
       "    }\n",
       "\n",
       "    .dataframe tbody tr th {\n",
       "        vertical-align: top;\n",
       "    }\n",
       "\n",
       "    .dataframe thead th {\n",
       "        text-align: right;\n",
       "    }\n",
       "</style>\n",
       "<table border=\"1\" class=\"dataframe\">\n",
       "  <thead>\n",
       "    <tr style=\"text-align: right;\">\n",
       "      <th></th>\n",
       "      <th>Job Title</th>\n",
       "      <th>Rating</th>\n",
       "      <th>Size</th>\n",
       "      <th>Founded</th>\n",
       "      <th>Type of ownership</th>\n",
       "      <th>Industry</th>\n",
       "      <th>Sector</th>\n",
       "      <th>Hourly</th>\n",
       "      <th>Employer provided</th>\n",
       "      <th>Lower Salary</th>\n",
       "      <th>...</th>\n",
       "      <th>flink</th>\n",
       "      <th>mongo</th>\n",
       "      <th>google_an</th>\n",
       "      <th>job_title_sim</th>\n",
       "      <th>seniority_by_title</th>\n",
       "      <th>Degree</th>\n",
       "      <th>Min_Salary</th>\n",
       "      <th>Max_Salary</th>\n",
       "      <th>Min_Revenue</th>\n",
       "      <th>Max_Revenue</th>\n",
       "    </tr>\n",
       "  </thead>\n",
       "  <tbody>\n",
       "    <tr>\n",
       "      <th>0</th>\n",
       "      <td>Data Scientist</td>\n",
       "      <td>3.8</td>\n",
       "      <td>501 - 1000</td>\n",
       "      <td>1973</td>\n",
       "      <td>Company - Private</td>\n",
       "      <td>Aerospace &amp; Defense</td>\n",
       "      <td>Aerospace &amp; Defense</td>\n",
       "      <td>0</td>\n",
       "      <td>0</td>\n",
       "      <td>53</td>\n",
       "      <td>...</td>\n",
       "      <td>0</td>\n",
       "      <td>0</td>\n",
       "      <td>0</td>\n",
       "      <td>data scientist</td>\n",
       "      <td>na</td>\n",
       "      <td>M</td>\n",
       "      <td>53</td>\n",
       "      <td>91</td>\n",
       "      <td>50000000</td>\n",
       "      <td>100000000</td>\n",
       "    </tr>\n",
       "    <tr>\n",
       "      <th>1</th>\n",
       "      <td>Healthcare Data Scientist</td>\n",
       "      <td>3.4</td>\n",
       "      <td>10000+</td>\n",
       "      <td>1984</td>\n",
       "      <td>Other Organization</td>\n",
       "      <td>Health Care Services &amp; Hospitals</td>\n",
       "      <td>Health Care</td>\n",
       "      <td>0</td>\n",
       "      <td>0</td>\n",
       "      <td>63</td>\n",
       "      <td>...</td>\n",
       "      <td>0</td>\n",
       "      <td>0</td>\n",
       "      <td>0</td>\n",
       "      <td>data scientist</td>\n",
       "      <td>na</td>\n",
       "      <td>M</td>\n",
       "      <td>63</td>\n",
       "      <td>112</td>\n",
       "      <td>2000000000</td>\n",
       "      <td>5000000000</td>\n",
       "    </tr>\n",
       "    <tr>\n",
       "      <th>2</th>\n",
       "      <td>Data Scientist</td>\n",
       "      <td>4.8</td>\n",
       "      <td>501 - 1000</td>\n",
       "      <td>2010</td>\n",
       "      <td>Company - Private</td>\n",
       "      <td>Security Services</td>\n",
       "      <td>Business Services</td>\n",
       "      <td>0</td>\n",
       "      <td>0</td>\n",
       "      <td>80</td>\n",
       "      <td>...</td>\n",
       "      <td>0</td>\n",
       "      <td>0</td>\n",
       "      <td>0</td>\n",
       "      <td>data scientist</td>\n",
       "      <td>na</td>\n",
       "      <td>M</td>\n",
       "      <td>80</td>\n",
       "      <td>90</td>\n",
       "      <td>100000000</td>\n",
       "      <td>500000000</td>\n",
       "    </tr>\n",
       "    <tr>\n",
       "      <th>3</th>\n",
       "      <td>Data Scientist</td>\n",
       "      <td>3.8</td>\n",
       "      <td>1001 - 5000</td>\n",
       "      <td>1965</td>\n",
       "      <td>Government</td>\n",
       "      <td>Energy</td>\n",
       "      <td>Oil, Gas, Energy &amp; Utilities</td>\n",
       "      <td>0</td>\n",
       "      <td>0</td>\n",
       "      <td>56</td>\n",
       "      <td>...</td>\n",
       "      <td>0</td>\n",
       "      <td>0</td>\n",
       "      <td>0</td>\n",
       "      <td>data scientist</td>\n",
       "      <td>na</td>\n",
       "      <td>na</td>\n",
       "      <td>56</td>\n",
       "      <td>97</td>\n",
       "      <td>500000000</td>\n",
       "      <td>1000000000</td>\n",
       "    </tr>\n",
       "    <tr>\n",
       "      <th>4</th>\n",
       "      <td>Data Scientist</td>\n",
       "      <td>3.4</td>\n",
       "      <td>201 - 500</td>\n",
       "      <td>2000</td>\n",
       "      <td>Company - Public</td>\n",
       "      <td>Real Estate</td>\n",
       "      <td>Real Estate</td>\n",
       "      <td>0</td>\n",
       "      <td>0</td>\n",
       "      <td>71</td>\n",
       "      <td>...</td>\n",
       "      <td>0</td>\n",
       "      <td>1</td>\n",
       "      <td>0</td>\n",
       "      <td>data scientist</td>\n",
       "      <td>na</td>\n",
       "      <td>na</td>\n",
       "      <td>71</td>\n",
       "      <td>119</td>\n",
       "      <td>1000000000</td>\n",
       "      <td>2000000000</td>\n",
       "    </tr>\n",
       "    <tr>\n",
       "      <th>...</th>\n",
       "      <td>...</td>\n",
       "      <td>...</td>\n",
       "      <td>...</td>\n",
       "      <td>...</td>\n",
       "      <td>...</td>\n",
       "      <td>...</td>\n",
       "      <td>...</td>\n",
       "      <td>...</td>\n",
       "      <td>...</td>\n",
       "      <td>...</td>\n",
       "      <td>...</td>\n",
       "      <td>...</td>\n",
       "      <td>...</td>\n",
       "      <td>...</td>\n",
       "      <td>...</td>\n",
       "      <td>...</td>\n",
       "      <td>...</td>\n",
       "      <td>...</td>\n",
       "      <td>...</td>\n",
       "      <td>...</td>\n",
       "      <td>...</td>\n",
       "    </tr>\n",
       "    <tr>\n",
       "      <th>229</th>\n",
       "      <td>Data Scientist</td>\n",
       "      <td>4.3</td>\n",
       "      <td>201 - 500</td>\n",
       "      <td>1969</td>\n",
       "      <td>Company - Private</td>\n",
       "      <td>IT Services</td>\n",
       "      <td>Information Technology</td>\n",
       "      <td>0</td>\n",
       "      <td>0</td>\n",
       "      <td>51</td>\n",
       "      <td>...</td>\n",
       "      <td>0</td>\n",
       "      <td>0</td>\n",
       "      <td>0</td>\n",
       "      <td>data scientist</td>\n",
       "      <td>na</td>\n",
       "      <td>na</td>\n",
       "      <td>51</td>\n",
       "      <td>88</td>\n",
       "      <td>50000000</td>\n",
       "      <td>100000000</td>\n",
       "    </tr>\n",
       "    <tr>\n",
       "      <th>230</th>\n",
       "      <td>Data Scientist (Warehouse Automation)</td>\n",
       "      <td>3.8</td>\n",
       "      <td>201 - 500</td>\n",
       "      <td>2005</td>\n",
       "      <td>Subsidiary or Business Segment</td>\n",
       "      <td>Consumer Products Manufacturing</td>\n",
       "      <td>Manufacturing</td>\n",
       "      <td>0</td>\n",
       "      <td>0</td>\n",
       "      <td>79</td>\n",
       "      <td>...</td>\n",
       "      <td>0</td>\n",
       "      <td>0</td>\n",
       "      <td>0</td>\n",
       "      <td>data scientist</td>\n",
       "      <td>na</td>\n",
       "      <td>M</td>\n",
       "      <td>79</td>\n",
       "      <td>127</td>\n",
       "      <td>25000000</td>\n",
       "      <td>50000000</td>\n",
       "    </tr>\n",
       "    <tr>\n",
       "      <th>231</th>\n",
       "      <td>Data Architect / Data Modeler</td>\n",
       "      <td>4.3</td>\n",
       "      <td>1001 - 5000</td>\n",
       "      <td>1999</td>\n",
       "      <td>Company - Public</td>\n",
       "      <td>Enterprise Software &amp; Network Solutions</td>\n",
       "      <td>Information Technology</td>\n",
       "      <td>0</td>\n",
       "      <td>0</td>\n",
       "      <td>63</td>\n",
       "      <td>...</td>\n",
       "      <td>0</td>\n",
       "      <td>0</td>\n",
       "      <td>0</td>\n",
       "      <td>data modeler</td>\n",
       "      <td>na</td>\n",
       "      <td>M</td>\n",
       "      <td>63</td>\n",
       "      <td>110</td>\n",
       "      <td>500000000</td>\n",
       "      <td>1000000000</td>\n",
       "    </tr>\n",
       "    <tr>\n",
       "      <th>232</th>\n",
       "      <td>Data Scientist</td>\n",
       "      <td>3.4</td>\n",
       "      <td>51 - 200</td>\n",
       "      <td>-1</td>\n",
       "      <td>Company - Private</td>\n",
       "      <td>IT Services</td>\n",
       "      <td>Information Technology</td>\n",
       "      <td>0</td>\n",
       "      <td>0</td>\n",
       "      <td>65</td>\n",
       "      <td>...</td>\n",
       "      <td>0</td>\n",
       "      <td>0</td>\n",
       "      <td>0</td>\n",
       "      <td>data scientist</td>\n",
       "      <td>na</td>\n",
       "      <td>na</td>\n",
       "      <td>65</td>\n",
       "      <td>113</td>\n",
       "      <td>50000000</td>\n",
       "      <td>10000000</td>\n",
       "    </tr>\n",
       "    <tr>\n",
       "      <th>233</th>\n",
       "      <td>Data Engineer</td>\n",
       "      <td>3.9</td>\n",
       "      <td>201 - 500</td>\n",
       "      <td>2011</td>\n",
       "      <td>Company - Private</td>\n",
       "      <td>Internet</td>\n",
       "      <td>Information Technology</td>\n",
       "      <td>0</td>\n",
       "      <td>0</td>\n",
       "      <td>62</td>\n",
       "      <td>...</td>\n",
       "      <td>0</td>\n",
       "      <td>0</td>\n",
       "      <td>0</td>\n",
       "      <td>data engineer</td>\n",
       "      <td>na</td>\n",
       "      <td>P</td>\n",
       "      <td>62</td>\n",
       "      <td>113</td>\n",
       "      <td>100000000</td>\n",
       "      <td>500000000</td>\n",
       "    </tr>\n",
       "  </tbody>\n",
       "</table>\n",
       "<p>234 rows × 37 columns</p>\n",
       "</div>"
      ],
      "text/plain": [
       "                                 Job Title  Rating          Size  Founded  \\\n",
       "0                           Data Scientist     3.8   501 - 1000      1973   \n",
       "1                Healthcare Data Scientist     3.4       10000+      1984   \n",
       "2                           Data Scientist     4.8   501 - 1000      2010   \n",
       "3                           Data Scientist     3.8  1001 - 5000      1965   \n",
       "4                           Data Scientist     3.4    201 - 500      2000   \n",
       "..                                     ...     ...           ...      ...   \n",
       "229                         Data Scientist     4.3    201 - 500      1969   \n",
       "230  Data Scientist (Warehouse Automation)     3.8    201 - 500      2005   \n",
       "231          Data Architect / Data Modeler     4.3  1001 - 5000      1999   \n",
       "232                         Data Scientist     3.4     51 - 200        -1   \n",
       "233                          Data Engineer     3.9    201 - 500      2011   \n",
       "\n",
       "                  Type of ownership                                 Industry  \\\n",
       "0                 Company - Private                      Aerospace & Defense   \n",
       "1                Other Organization         Health Care Services & Hospitals   \n",
       "2                 Company - Private                        Security Services   \n",
       "3                        Government                                   Energy   \n",
       "4                  Company - Public                              Real Estate   \n",
       "..                              ...                                      ...   \n",
       "229               Company - Private                              IT Services   \n",
       "230  Subsidiary or Business Segment          Consumer Products Manufacturing   \n",
       "231                Company - Public  Enterprise Software & Network Solutions   \n",
       "232               Company - Private                              IT Services   \n",
       "233               Company - Private                                 Internet   \n",
       "\n",
       "                           Sector  Hourly  Employer provided  Lower Salary  \\\n",
       "0             Aerospace & Defense       0                  0            53   \n",
       "1                     Health Care       0                  0            63   \n",
       "2               Business Services       0                  0            80   \n",
       "3    Oil, Gas, Energy & Utilities       0                  0            56   \n",
       "4                     Real Estate       0                  0            71   \n",
       "..                            ...     ...                ...           ...   \n",
       "229        Information Technology       0                  0            51   \n",
       "230                 Manufacturing       0                  0            79   \n",
       "231        Information Technology       0                  0            63   \n",
       "232        Information Technology       0                  0            65   \n",
       "233        Information Technology       0                  0            62   \n",
       "\n",
       "     ...  flink  mongo google_an   job_title_sim  seniority_by_title  Degree  \\\n",
       "0    ...      0      0         0  data scientist                  na       M   \n",
       "1    ...      0      0         0  data scientist                  na       M   \n",
       "2    ...      0      0         0  data scientist                  na       M   \n",
       "3    ...      0      0         0  data scientist                  na      na   \n",
       "4    ...      0      1         0  data scientist                  na      na   \n",
       "..   ...    ...    ...       ...             ...                 ...     ...   \n",
       "229  ...      0      0         0  data scientist                  na      na   \n",
       "230  ...      0      0         0  data scientist                  na       M   \n",
       "231  ...      0      0         0    data modeler                  na       M   \n",
       "232  ...      0      0         0  data scientist                  na      na   \n",
       "233  ...      0      0         0   data engineer                  na       P   \n",
       "\n",
       "     Min_Salary  Max_Salary  Min_Revenue  Max_Revenue  \n",
       "0            53          91     50000000    100000000  \n",
       "1            63         112   2000000000   5000000000  \n",
       "2            80          90    100000000    500000000  \n",
       "3            56          97    500000000   1000000000  \n",
       "4            71         119   1000000000   2000000000  \n",
       "..          ...         ...          ...          ...  \n",
       "229          51          88     50000000    100000000  \n",
       "230          79         127     25000000     50000000  \n",
       "231          63         110    500000000   1000000000  \n",
       "232          65         113     50000000     10000000  \n",
       "233          62         113    100000000    500000000  \n",
       "\n",
       "[234 rows x 37 columns]"
      ]
     },
     "execution_count": 29,
     "metadata": {},
     "output_type": "execute_result"
    }
   ],
   "source": [
    "df = df.reset_index(drop=True)\n",
    "df"
   ]
  },
  {
   "cell_type": "markdown",
   "id": "cf86447b",
   "metadata": {},
   "source": [
    "## Save cleaned data:"
   ]
  },
  {
   "cell_type": "code",
   "execution_count": 30,
   "id": "8382ac2b",
   "metadata": {},
   "outputs": [],
   "source": [
    "df.to_csv('cleaned_data.csv', index=False)"
   ]
  },
  {
   "cell_type": "markdown",
   "id": "14d00d38",
   "metadata": {},
   "source": [
    "## Post processing Report:"
   ]
  },
  {
   "cell_type": "code",
   "execution_count": 31,
   "id": "7290ca67",
   "metadata": {},
   "outputs": [
    {
     "data": {
      "application/vnd.jupyter.widget-view+json": {
       "model_id": "889cf767e5c74312bb063a3660d48805",
       "version_major": 2,
       "version_minor": 0
      },
      "text/plain": [
       "Summarize dataset:   0%|          | 0/5 [00:00<?, ?it/s]"
      ]
     },
     "metadata": {},
     "output_type": "display_data"
    },
    {
     "data": {
      "application/vnd.jupyter.widget-view+json": {
       "model_id": "50df9073842c45e2bcfba19f59f304ef",
       "version_major": 2,
       "version_minor": 0
      },
      "text/plain": [
       "Generate report structure:   0%|          | 0/1 [00:00<?, ?it/s]"
      ]
     },
     "metadata": {},
     "output_type": "display_data"
    },
    {
     "data": {
      "application/vnd.jupyter.widget-view+json": {
       "model_id": "277d27b09cfa480c98fb4f605037f70e",
       "version_major": 2,
       "version_minor": 0
      },
      "text/plain": [
       "Render HTML:   0%|          | 0/1 [00:00<?, ?it/s]"
      ]
     },
     "metadata": {},
     "output_type": "display_data"
    },
    {
     "data": {
      "application/vnd.jupyter.widget-view+json": {
       "model_id": "c51ffd8a502141abb45725175bc0a4d7",
       "version_major": 2,
       "version_minor": 0
      },
      "text/plain": [
       "Export report to file:   0%|          | 0/1 [00:00<?, ?it/s]"
      ]
     },
     "metadata": {},
     "output_type": "display_data"
    }
   ],
   "source": [
    "profile = ProfileReport(df)\n",
    "profile.to_file('postprocessing.html')"
   ]
  },
  {
   "cell_type": "markdown",
   "id": "c6a62ba4",
   "metadata": {},
   "source": [
    "## Data Analyse:\n",
    "### job_title_sim"
   ]
  },
  {
   "cell_type": "code",
   "execution_count": 89,
   "id": "f3d2b50d",
   "metadata": {},
   "outputs": [],
   "source": [
    "def round1(x):\n",
    "    return round(x, 2)"
   ]
  },
  {
   "cell_type": "code",
   "execution_count": 90,
   "id": "cf114b55",
   "metadata": {},
   "outputs": [],
   "source": [
    "df1 = df.groupby('job_title_sim').mean().sort_values('Avg Salary(K)').apply(round1)"
   ]
  },
  {
   "cell_type": "code",
   "execution_count": 91,
   "id": "51524a1c",
   "metadata": {},
   "outputs": [
    {
     "data": {
      "text/html": [
       "<div>\n",
       "<style scoped>\n",
       "    .dataframe tbody tr th:only-of-type {\n",
       "        vertical-align: middle;\n",
       "    }\n",
       "\n",
       "    .dataframe tbody tr th {\n",
       "        vertical-align: top;\n",
       "    }\n",
       "\n",
       "    .dataframe thead th {\n",
       "        text-align: right;\n",
       "    }\n",
       "</style>\n",
       "<table border=\"1\" class=\"dataframe\">\n",
       "  <thead>\n",
       "    <tr style=\"text-align: right;\">\n",
       "      <th></th>\n",
       "      <th>Rating</th>\n",
       "      <th>Founded</th>\n",
       "      <th>Hourly</th>\n",
       "      <th>Employer provided</th>\n",
       "      <th>Lower Salary</th>\n",
       "      <th>Upper Salary</th>\n",
       "      <th>Avg Salary(K)</th>\n",
       "      <th>Age</th>\n",
       "      <th>Python</th>\n",
       "      <th>spark</th>\n",
       "      <th>...</th>\n",
       "      <th>hadoop</th>\n",
       "      <th>tableau</th>\n",
       "      <th>bi</th>\n",
       "      <th>flink</th>\n",
       "      <th>mongo</th>\n",
       "      <th>google_an</th>\n",
       "      <th>Min_Salary</th>\n",
       "      <th>Max_Salary</th>\n",
       "      <th>Min_Revenue</th>\n",
       "      <th>Max_Revenue</th>\n",
       "    </tr>\n",
       "    <tr>\n",
       "      <th>job_title_sim</th>\n",
       "      <th></th>\n",
       "      <th></th>\n",
       "      <th></th>\n",
       "      <th></th>\n",
       "      <th></th>\n",
       "      <th></th>\n",
       "      <th></th>\n",
       "      <th></th>\n",
       "      <th></th>\n",
       "      <th></th>\n",
       "      <th></th>\n",
       "      <th></th>\n",
       "      <th></th>\n",
       "      <th></th>\n",
       "      <th></th>\n",
       "      <th></th>\n",
       "      <th></th>\n",
       "      <th></th>\n",
       "      <th></th>\n",
       "      <th></th>\n",
       "      <th></th>\n",
       "    </tr>\n",
       "  </thead>\n",
       "  <tbody>\n",
       "    <tr>\n",
       "      <th>analyst</th>\n",
       "      <td>3.58</td>\n",
       "      <td>1946.40</td>\n",
       "      <td>0.02</td>\n",
       "      <td>0.00</td>\n",
       "      <td>46.57</td>\n",
       "      <td>85.05</td>\n",
       "      <td>65.81</td>\n",
       "      <td>26.95</td>\n",
       "      <td>0.29</td>\n",
       "      <td>0.02</td>\n",
       "      <td>...</td>\n",
       "      <td>0.02</td>\n",
       "      <td>0.38</td>\n",
       "      <td>0.17</td>\n",
       "      <td>0.00</td>\n",
       "      <td>0.05</td>\n",
       "      <td>0.12</td>\n",
       "      <td>46.33</td>\n",
       "      <td>84.62</td>\n",
       "      <td>1.076310e+09</td>\n",
       "      <td>1.936310e+09</td>\n",
       "    </tr>\n",
       "    <tr>\n",
       "      <th>Data scientist project manager</th>\n",
       "      <td>3.82</td>\n",
       "      <td>1503.50</td>\n",
       "      <td>0.00</td>\n",
       "      <td>0.00</td>\n",
       "      <td>51.25</td>\n",
       "      <td>96.75</td>\n",
       "      <td>74.00</td>\n",
       "      <td>17.25</td>\n",
       "      <td>0.25</td>\n",
       "      <td>0.00</td>\n",
       "      <td>...</td>\n",
       "      <td>0.00</td>\n",
       "      <td>0.50</td>\n",
       "      <td>0.00</td>\n",
       "      <td>0.00</td>\n",
       "      <td>0.00</td>\n",
       "      <td>0.00</td>\n",
       "      <td>51.25</td>\n",
       "      <td>96.75</td>\n",
       "      <td>1.562500e+08</td>\n",
       "      <td>2.900000e+08</td>\n",
       "    </tr>\n",
       "    <tr>\n",
       "      <th>data analitics</th>\n",
       "      <td>3.95</td>\n",
       "      <td>1988.75</td>\n",
       "      <td>0.00</td>\n",
       "      <td>0.00</td>\n",
       "      <td>58.50</td>\n",
       "      <td>89.50</td>\n",
       "      <td>74.00</td>\n",
       "      <td>32.25</td>\n",
       "      <td>0.75</td>\n",
       "      <td>0.00</td>\n",
       "      <td>...</td>\n",
       "      <td>0.00</td>\n",
       "      <td>0.50</td>\n",
       "      <td>0.25</td>\n",
       "      <td>0.00</td>\n",
       "      <td>0.00</td>\n",
       "      <td>0.00</td>\n",
       "      <td>58.50</td>\n",
       "      <td>89.50</td>\n",
       "      <td>2.540000e+09</td>\n",
       "      <td>2.656250e+09</td>\n",
       "    </tr>\n",
       "    <tr>\n",
       "      <th>na</th>\n",
       "      <td>4.00</td>\n",
       "      <td>1989.33</td>\n",
       "      <td>0.00</td>\n",
       "      <td>0.00</td>\n",
       "      <td>53.00</td>\n",
       "      <td>107.00</td>\n",
       "      <td>80.00</td>\n",
       "      <td>31.67</td>\n",
       "      <td>0.33</td>\n",
       "      <td>0.33</td>\n",
       "      <td>...</td>\n",
       "      <td>0.67</td>\n",
       "      <td>0.00</td>\n",
       "      <td>0.00</td>\n",
       "      <td>0.00</td>\n",
       "      <td>0.00</td>\n",
       "      <td>0.00</td>\n",
       "      <td>53.00</td>\n",
       "      <td>107.00</td>\n",
       "      <td>3.358333e+09</td>\n",
       "      <td>3.353333e+09</td>\n",
       "    </tr>\n",
       "    <tr>\n",
       "      <th>other scientist</th>\n",
       "      <td>3.48</td>\n",
       "      <td>1872.24</td>\n",
       "      <td>0.12</td>\n",
       "      <td>0.00</td>\n",
       "      <td>63.27</td>\n",
       "      <td>124.73</td>\n",
       "      <td>94.00</td>\n",
       "      <td>27.48</td>\n",
       "      <td>0.09</td>\n",
       "      <td>0.00</td>\n",
       "      <td>...</td>\n",
       "      <td>0.00</td>\n",
       "      <td>0.00</td>\n",
       "      <td>0.00</td>\n",
       "      <td>0.00</td>\n",
       "      <td>0.00</td>\n",
       "      <td>0.00</td>\n",
       "      <td>60.39</td>\n",
       "      <td>120.18</td>\n",
       "      <td>1.154727e+09</td>\n",
       "      <td>1.480303e+09</td>\n",
       "    </tr>\n",
       "    <tr>\n",
       "      <th>data modeler</th>\n",
       "      <td>4.50</td>\n",
       "      <td>2001.00</td>\n",
       "      <td>0.00</td>\n",
       "      <td>0.00</td>\n",
       "      <td>71.00</td>\n",
       "      <td>122.00</td>\n",
       "      <td>96.50</td>\n",
       "      <td>20.00</td>\n",
       "      <td>0.00</td>\n",
       "      <td>0.00</td>\n",
       "      <td>...</td>\n",
       "      <td>0.00</td>\n",
       "      <td>0.00</td>\n",
       "      <td>0.00</td>\n",
       "      <td>0.00</td>\n",
       "      <td>0.00</td>\n",
       "      <td>0.00</td>\n",
       "      <td>71.00</td>\n",
       "      <td>122.00</td>\n",
       "      <td>2.550000e+08</td>\n",
       "      <td>5.125000e+08</td>\n",
       "    </tr>\n",
       "    <tr>\n",
       "      <th>data engineer</th>\n",
       "      <td>3.85</td>\n",
       "      <td>1803.39</td>\n",
       "      <td>0.00</td>\n",
       "      <td>0.00</td>\n",
       "      <td>76.46</td>\n",
       "      <td>136.66</td>\n",
       "      <td>106.56</td>\n",
       "      <td>22.39</td>\n",
       "      <td>0.71</td>\n",
       "      <td>0.61</td>\n",
       "      <td>...</td>\n",
       "      <td>0.46</td>\n",
       "      <td>0.15</td>\n",
       "      <td>0.07</td>\n",
       "      <td>0.10</td>\n",
       "      <td>0.12</td>\n",
       "      <td>0.00</td>\n",
       "      <td>76.46</td>\n",
       "      <td>136.66</td>\n",
       "      <td>7.180976e+08</td>\n",
       "      <td>1.402829e+09</td>\n",
       "    </tr>\n",
       "    <tr>\n",
       "      <th>data scientist</th>\n",
       "      <td>3.75</td>\n",
       "      <td>1799.57</td>\n",
       "      <td>0.00</td>\n",
       "      <td>0.01</td>\n",
       "      <td>84.21</td>\n",
       "      <td>137.93</td>\n",
       "      <td>111.07</td>\n",
       "      <td>27.16</td>\n",
       "      <td>0.77</td>\n",
       "      <td>0.29</td>\n",
       "      <td>...</td>\n",
       "      <td>0.23</td>\n",
       "      <td>0.24</td>\n",
       "      <td>0.10</td>\n",
       "      <td>0.01</td>\n",
       "      <td>0.06</td>\n",
       "      <td>0.02</td>\n",
       "      <td>84.21</td>\n",
       "      <td>137.93</td>\n",
       "      <td>1.732049e+09</td>\n",
       "      <td>2.425466e+09</td>\n",
       "    </tr>\n",
       "    <tr>\n",
       "      <th>machine learning engineer</th>\n",
       "      <td>3.80</td>\n",
       "      <td>1990.00</td>\n",
       "      <td>0.00</td>\n",
       "      <td>0.00</td>\n",
       "      <td>99.50</td>\n",
       "      <td>168.50</td>\n",
       "      <td>134.00</td>\n",
       "      <td>31.00</td>\n",
       "      <td>1.00</td>\n",
       "      <td>0.50</td>\n",
       "      <td>...</td>\n",
       "      <td>0.50</td>\n",
       "      <td>0.00</td>\n",
       "      <td>0.00</td>\n",
       "      <td>0.00</td>\n",
       "      <td>0.00</td>\n",
       "      <td>0.00</td>\n",
       "      <td>99.50</td>\n",
       "      <td>168.50</td>\n",
       "      <td>2.550000e+08</td>\n",
       "      <td>5.125000e+08</td>\n",
       "    </tr>\n",
       "  </tbody>\n",
       "</table>\n",
       "<p>9 rows × 28 columns</p>\n",
       "</div>"
      ],
      "text/plain": [
       "                                Rating  Founded  Hourly  Employer provided  \\\n",
       "job_title_sim                                                                \n",
       "analyst                           3.58  1946.40    0.02               0.00   \n",
       "Data scientist project manager    3.82  1503.50    0.00               0.00   \n",
       "data analitics                    3.95  1988.75    0.00               0.00   \n",
       "na                                4.00  1989.33    0.00               0.00   \n",
       "other scientist                   3.48  1872.24    0.12               0.00   \n",
       "data modeler                      4.50  2001.00    0.00               0.00   \n",
       "data engineer                     3.85  1803.39    0.00               0.00   \n",
       "data scientist                    3.75  1799.57    0.00               0.01   \n",
       "machine learning engineer         3.80  1990.00    0.00               0.00   \n",
       "\n",
       "                                Lower Salary  Upper Salary  Avg Salary(K)  \\\n",
       "job_title_sim                                                               \n",
       "analyst                                46.57         85.05          65.81   \n",
       "Data scientist project manager         51.25         96.75          74.00   \n",
       "data analitics                         58.50         89.50          74.00   \n",
       "na                                     53.00        107.00          80.00   \n",
       "other scientist                        63.27        124.73          94.00   \n",
       "data modeler                           71.00        122.00          96.50   \n",
       "data engineer                          76.46        136.66         106.56   \n",
       "data scientist                         84.21        137.93         111.07   \n",
       "machine learning engineer              99.50        168.50         134.00   \n",
       "\n",
       "                                  Age  Python  spark  ...  hadoop  tableau  \\\n",
       "job_title_sim                                         ...                    \n",
       "analyst                         26.95    0.29   0.02  ...    0.02     0.38   \n",
       "Data scientist project manager  17.25    0.25   0.00  ...    0.00     0.50   \n",
       "data analitics                  32.25    0.75   0.00  ...    0.00     0.50   \n",
       "na                              31.67    0.33   0.33  ...    0.67     0.00   \n",
       "other scientist                 27.48    0.09   0.00  ...    0.00     0.00   \n",
       "data modeler                    20.00    0.00   0.00  ...    0.00     0.00   \n",
       "data engineer                   22.39    0.71   0.61  ...    0.46     0.15   \n",
       "data scientist                  27.16    0.77   0.29  ...    0.23     0.24   \n",
       "machine learning engineer       31.00    1.00   0.50  ...    0.50     0.00   \n",
       "\n",
       "                                  bi  flink  mongo  google_an  Min_Salary  \\\n",
       "job_title_sim                                                               \n",
       "analyst                         0.17   0.00   0.05       0.12       46.33   \n",
       "Data scientist project manager  0.00   0.00   0.00       0.00       51.25   \n",
       "data analitics                  0.25   0.00   0.00       0.00       58.50   \n",
       "na                              0.00   0.00   0.00       0.00       53.00   \n",
       "other scientist                 0.00   0.00   0.00       0.00       60.39   \n",
       "data modeler                    0.00   0.00   0.00       0.00       71.00   \n",
       "data engineer                   0.07   0.10   0.12       0.00       76.46   \n",
       "data scientist                  0.10   0.01   0.06       0.02       84.21   \n",
       "machine learning engineer       0.00   0.00   0.00       0.00       99.50   \n",
       "\n",
       "                                Max_Salary   Min_Revenue   Max_Revenue  \n",
       "job_title_sim                                                           \n",
       "analyst                              84.62  1.076310e+09  1.936310e+09  \n",
       "Data scientist project manager       96.75  1.562500e+08  2.900000e+08  \n",
       "data analitics                       89.50  2.540000e+09  2.656250e+09  \n",
       "na                                  107.00  3.358333e+09  3.353333e+09  \n",
       "other scientist                     120.18  1.154727e+09  1.480303e+09  \n",
       "data modeler                        122.00  2.550000e+08  5.125000e+08  \n",
       "data engineer                       136.66  7.180976e+08  1.402829e+09  \n",
       "data scientist                      137.93  1.732049e+09  2.425466e+09  \n",
       "machine learning engineer           168.50  2.550000e+08  5.125000e+08  \n",
       "\n",
       "[9 rows x 28 columns]"
      ]
     },
     "execution_count": 91,
     "metadata": {},
     "output_type": "execute_result"
    }
   ],
   "source": [
    "df1"
   ]
  },
  {
   "cell_type": "code",
   "execution_count": 92,
   "id": "03cd4275",
   "metadata": {},
   "outputs": [
    {
     "data": {
      "text/plain": [
       "Index(['Rating', 'Founded', 'Hourly', 'Employer provided', 'Lower Salary',\n",
       "       'Upper Salary', 'Avg Salary(K)', 'Age', 'Python', 'spark', 'aws',\n",
       "       'excel', 'sql', 'sas', 'keras', 'pytorch', 'scikit', 'tensor', 'hadoop',\n",
       "       'tableau', 'bi', 'flink', 'mongo', 'google_an', 'Min_Salary',\n",
       "       'Max_Salary', 'Min_Revenue', 'Max_Revenue'],\n",
       "      dtype='object')"
      ]
     },
     "execution_count": 92,
     "metadata": {},
     "output_type": "execute_result"
    }
   ],
   "source": [
    "df1.columns"
   ]
  },
  {
   "cell_type": "code",
   "execution_count": 164,
   "id": "ccdfbac1",
   "metadata": {},
   "outputs": [
    {
     "data": {
      "application/vnd.plotly.v1+json": {
       "config": {
        "plotlyServerURL": "https://plot.ly"
       },
       "data": [
        {
         "alignmentgroup": "True",
         "hovertemplate": "job_title_sim=%{x}<br>Avg Salary(K)=%{y}<br>Python=%{marker.color}<extra></extra>",
         "legendgroup": "",
         "marker": {
          "color": [
           0.29,
           0.25,
           0.75,
           0.33,
           0.09,
           0,
           0.71,
           0.77,
           1
          ],
          "coloraxis": "coloraxis",
          "pattern": {
           "shape": ""
          }
         },
         "name": "",
         "offsetgroup": "",
         "orientation": "v",
         "showlegend": false,
         "textposition": "auto",
         "type": "bar",
         "x": [
          "analyst",
          "Data scientist project manager",
          "data analitics",
          "na",
          "other scientist",
          "data modeler",
          "data engineer",
          "data scientist",
          "machine learning engineer"
         ],
         "xaxis": "x",
         "y": [
          65.81,
          74,
          74,
          80,
          94,
          96.5,
          106.56,
          111.07,
          134
         ],
         "yaxis": "y"
        }
       ],
       "layout": {
        "barmode": "relative",
        "coloraxis": {
         "colorbar": {
          "title": {
           "text": "Python"
          }
         },
         "colorscale": [
          [
           0,
           "rgb(103,0,31)"
          ],
          [
           0.1,
           "rgb(178,24,43)"
          ],
          [
           0.2,
           "rgb(214,96,77)"
          ],
          [
           0.3,
           "rgb(244,165,130)"
          ],
          [
           0.4,
           "rgb(253,219,199)"
          ],
          [
           0.5,
           "rgb(247,247,247)"
          ],
          [
           0.6,
           "rgb(209,229,240)"
          ],
          [
           0.7,
           "rgb(146,197,222)"
          ],
          [
           0.8,
           "rgb(67,147,195)"
          ],
          [
           0.9,
           "rgb(33,102,172)"
          ],
          [
           1,
           "rgb(5,48,97)"
          ]
         ]
        },
        "legend": {
         "tracegroupgap": 0
        },
        "template": {
         "data": {
          "bar": [
           {
            "error_x": {
             "color": "#2a3f5f"
            },
            "error_y": {
             "color": "#2a3f5f"
            },
            "marker": {
             "line": {
              "color": "#E5ECF6",
              "width": 0.5
             },
             "pattern": {
              "fillmode": "overlay",
              "size": 10,
              "solidity": 0.2
             }
            },
            "type": "bar"
           }
          ],
          "barpolar": [
           {
            "marker": {
             "line": {
              "color": "#E5ECF6",
              "width": 0.5
             },
             "pattern": {
              "fillmode": "overlay",
              "size": 10,
              "solidity": 0.2
             }
            },
            "type": "barpolar"
           }
          ],
          "carpet": [
           {
            "aaxis": {
             "endlinecolor": "#2a3f5f",
             "gridcolor": "white",
             "linecolor": "white",
             "minorgridcolor": "white",
             "startlinecolor": "#2a3f5f"
            },
            "baxis": {
             "endlinecolor": "#2a3f5f",
             "gridcolor": "white",
             "linecolor": "white",
             "minorgridcolor": "white",
             "startlinecolor": "#2a3f5f"
            },
            "type": "carpet"
           }
          ],
          "choropleth": [
           {
            "colorbar": {
             "outlinewidth": 0,
             "ticks": ""
            },
            "type": "choropleth"
           }
          ],
          "contour": [
           {
            "colorbar": {
             "outlinewidth": 0,
             "ticks": ""
            },
            "colorscale": [
             [
              0,
              "#0d0887"
             ],
             [
              0.1111111111111111,
              "#46039f"
             ],
             [
              0.2222222222222222,
              "#7201a8"
             ],
             [
              0.3333333333333333,
              "#9c179e"
             ],
             [
              0.4444444444444444,
              "#bd3786"
             ],
             [
              0.5555555555555556,
              "#d8576b"
             ],
             [
              0.6666666666666666,
              "#ed7953"
             ],
             [
              0.7777777777777778,
              "#fb9f3a"
             ],
             [
              0.8888888888888888,
              "#fdca26"
             ],
             [
              1,
              "#f0f921"
             ]
            ],
            "type": "contour"
           }
          ],
          "contourcarpet": [
           {
            "colorbar": {
             "outlinewidth": 0,
             "ticks": ""
            },
            "type": "contourcarpet"
           }
          ],
          "heatmap": [
           {
            "colorbar": {
             "outlinewidth": 0,
             "ticks": ""
            },
            "colorscale": [
             [
              0,
              "#0d0887"
             ],
             [
              0.1111111111111111,
              "#46039f"
             ],
             [
              0.2222222222222222,
              "#7201a8"
             ],
             [
              0.3333333333333333,
              "#9c179e"
             ],
             [
              0.4444444444444444,
              "#bd3786"
             ],
             [
              0.5555555555555556,
              "#d8576b"
             ],
             [
              0.6666666666666666,
              "#ed7953"
             ],
             [
              0.7777777777777778,
              "#fb9f3a"
             ],
             [
              0.8888888888888888,
              "#fdca26"
             ],
             [
              1,
              "#f0f921"
             ]
            ],
            "type": "heatmap"
           }
          ],
          "heatmapgl": [
           {
            "colorbar": {
             "outlinewidth": 0,
             "ticks": ""
            },
            "colorscale": [
             [
              0,
              "#0d0887"
             ],
             [
              0.1111111111111111,
              "#46039f"
             ],
             [
              0.2222222222222222,
              "#7201a8"
             ],
             [
              0.3333333333333333,
              "#9c179e"
             ],
             [
              0.4444444444444444,
              "#bd3786"
             ],
             [
              0.5555555555555556,
              "#d8576b"
             ],
             [
              0.6666666666666666,
              "#ed7953"
             ],
             [
              0.7777777777777778,
              "#fb9f3a"
             ],
             [
              0.8888888888888888,
              "#fdca26"
             ],
             [
              1,
              "#f0f921"
             ]
            ],
            "type": "heatmapgl"
           }
          ],
          "histogram": [
           {
            "marker": {
             "pattern": {
              "fillmode": "overlay",
              "size": 10,
              "solidity": 0.2
             }
            },
            "type": "histogram"
           }
          ],
          "histogram2d": [
           {
            "colorbar": {
             "outlinewidth": 0,
             "ticks": ""
            },
            "colorscale": [
             [
              0,
              "#0d0887"
             ],
             [
              0.1111111111111111,
              "#46039f"
             ],
             [
              0.2222222222222222,
              "#7201a8"
             ],
             [
              0.3333333333333333,
              "#9c179e"
             ],
             [
              0.4444444444444444,
              "#bd3786"
             ],
             [
              0.5555555555555556,
              "#d8576b"
             ],
             [
              0.6666666666666666,
              "#ed7953"
             ],
             [
              0.7777777777777778,
              "#fb9f3a"
             ],
             [
              0.8888888888888888,
              "#fdca26"
             ],
             [
              1,
              "#f0f921"
             ]
            ],
            "type": "histogram2d"
           }
          ],
          "histogram2dcontour": [
           {
            "colorbar": {
             "outlinewidth": 0,
             "ticks": ""
            },
            "colorscale": [
             [
              0,
              "#0d0887"
             ],
             [
              0.1111111111111111,
              "#46039f"
             ],
             [
              0.2222222222222222,
              "#7201a8"
             ],
             [
              0.3333333333333333,
              "#9c179e"
             ],
             [
              0.4444444444444444,
              "#bd3786"
             ],
             [
              0.5555555555555556,
              "#d8576b"
             ],
             [
              0.6666666666666666,
              "#ed7953"
             ],
             [
              0.7777777777777778,
              "#fb9f3a"
             ],
             [
              0.8888888888888888,
              "#fdca26"
             ],
             [
              1,
              "#f0f921"
             ]
            ],
            "type": "histogram2dcontour"
           }
          ],
          "mesh3d": [
           {
            "colorbar": {
             "outlinewidth": 0,
             "ticks": ""
            },
            "type": "mesh3d"
           }
          ],
          "parcoords": [
           {
            "line": {
             "colorbar": {
              "outlinewidth": 0,
              "ticks": ""
             }
            },
            "type": "parcoords"
           }
          ],
          "pie": [
           {
            "automargin": true,
            "type": "pie"
           }
          ],
          "scatter": [
           {
            "fillpattern": {
             "fillmode": "overlay",
             "size": 10,
             "solidity": 0.2
            },
            "type": "scatter"
           }
          ],
          "scatter3d": [
           {
            "line": {
             "colorbar": {
              "outlinewidth": 0,
              "ticks": ""
             }
            },
            "marker": {
             "colorbar": {
              "outlinewidth": 0,
              "ticks": ""
             }
            },
            "type": "scatter3d"
           }
          ],
          "scattercarpet": [
           {
            "marker": {
             "colorbar": {
              "outlinewidth": 0,
              "ticks": ""
             }
            },
            "type": "scattercarpet"
           }
          ],
          "scattergeo": [
           {
            "marker": {
             "colorbar": {
              "outlinewidth": 0,
              "ticks": ""
             }
            },
            "type": "scattergeo"
           }
          ],
          "scattergl": [
           {
            "marker": {
             "colorbar": {
              "outlinewidth": 0,
              "ticks": ""
             }
            },
            "type": "scattergl"
           }
          ],
          "scattermapbox": [
           {
            "marker": {
             "colorbar": {
              "outlinewidth": 0,
              "ticks": ""
             }
            },
            "type": "scattermapbox"
           }
          ],
          "scatterpolar": [
           {
            "marker": {
             "colorbar": {
              "outlinewidth": 0,
              "ticks": ""
             }
            },
            "type": "scatterpolar"
           }
          ],
          "scatterpolargl": [
           {
            "marker": {
             "colorbar": {
              "outlinewidth": 0,
              "ticks": ""
             }
            },
            "type": "scatterpolargl"
           }
          ],
          "scatterternary": [
           {
            "marker": {
             "colorbar": {
              "outlinewidth": 0,
              "ticks": ""
             }
            },
            "type": "scatterternary"
           }
          ],
          "surface": [
           {
            "colorbar": {
             "outlinewidth": 0,
             "ticks": ""
            },
            "colorscale": [
             [
              0,
              "#0d0887"
             ],
             [
              0.1111111111111111,
              "#46039f"
             ],
             [
              0.2222222222222222,
              "#7201a8"
             ],
             [
              0.3333333333333333,
              "#9c179e"
             ],
             [
              0.4444444444444444,
              "#bd3786"
             ],
             [
              0.5555555555555556,
              "#d8576b"
             ],
             [
              0.6666666666666666,
              "#ed7953"
             ],
             [
              0.7777777777777778,
              "#fb9f3a"
             ],
             [
              0.8888888888888888,
              "#fdca26"
             ],
             [
              1,
              "#f0f921"
             ]
            ],
            "type": "surface"
           }
          ],
          "table": [
           {
            "cells": {
             "fill": {
              "color": "#EBF0F8"
             },
             "line": {
              "color": "white"
             }
            },
            "header": {
             "fill": {
              "color": "#C8D4E3"
             },
             "line": {
              "color": "white"
             }
            },
            "type": "table"
           }
          ]
         },
         "layout": {
          "annotationdefaults": {
           "arrowcolor": "#2a3f5f",
           "arrowhead": 0,
           "arrowwidth": 1
          },
          "autotypenumbers": "strict",
          "coloraxis": {
           "colorbar": {
            "outlinewidth": 0,
            "ticks": ""
           }
          },
          "colorscale": {
           "diverging": [
            [
             0,
             "#8e0152"
            ],
            [
             0.1,
             "#c51b7d"
            ],
            [
             0.2,
             "#de77ae"
            ],
            [
             0.3,
             "#f1b6da"
            ],
            [
             0.4,
             "#fde0ef"
            ],
            [
             0.5,
             "#f7f7f7"
            ],
            [
             0.6,
             "#e6f5d0"
            ],
            [
             0.7,
             "#b8e186"
            ],
            [
             0.8,
             "#7fbc41"
            ],
            [
             0.9,
             "#4d9221"
            ],
            [
             1,
             "#276419"
            ]
           ],
           "sequential": [
            [
             0,
             "#0d0887"
            ],
            [
             0.1111111111111111,
             "#46039f"
            ],
            [
             0.2222222222222222,
             "#7201a8"
            ],
            [
             0.3333333333333333,
             "#9c179e"
            ],
            [
             0.4444444444444444,
             "#bd3786"
            ],
            [
             0.5555555555555556,
             "#d8576b"
            ],
            [
             0.6666666666666666,
             "#ed7953"
            ],
            [
             0.7777777777777778,
             "#fb9f3a"
            ],
            [
             0.8888888888888888,
             "#fdca26"
            ],
            [
             1,
             "#f0f921"
            ]
           ],
           "sequentialminus": [
            [
             0,
             "#0d0887"
            ],
            [
             0.1111111111111111,
             "#46039f"
            ],
            [
             0.2222222222222222,
             "#7201a8"
            ],
            [
             0.3333333333333333,
             "#9c179e"
            ],
            [
             0.4444444444444444,
             "#bd3786"
            ],
            [
             0.5555555555555556,
             "#d8576b"
            ],
            [
             0.6666666666666666,
             "#ed7953"
            ],
            [
             0.7777777777777778,
             "#fb9f3a"
            ],
            [
             0.8888888888888888,
             "#fdca26"
            ],
            [
             1,
             "#f0f921"
            ]
           ]
          },
          "colorway": [
           "#636efa",
           "#EF553B",
           "#00cc96",
           "#ab63fa",
           "#FFA15A",
           "#19d3f3",
           "#FF6692",
           "#B6E880",
           "#FF97FF",
           "#FECB52"
          ],
          "font": {
           "color": "#2a3f5f"
          },
          "geo": {
           "bgcolor": "white",
           "lakecolor": "white",
           "landcolor": "#E5ECF6",
           "showlakes": true,
           "showland": true,
           "subunitcolor": "white"
          },
          "hoverlabel": {
           "align": "left"
          },
          "hovermode": "closest",
          "mapbox": {
           "style": "light"
          },
          "paper_bgcolor": "white",
          "plot_bgcolor": "#E5ECF6",
          "polar": {
           "angularaxis": {
            "gridcolor": "white",
            "linecolor": "white",
            "ticks": ""
           },
           "bgcolor": "#E5ECF6",
           "radialaxis": {
            "gridcolor": "white",
            "linecolor": "white",
            "ticks": ""
           }
          },
          "scene": {
           "xaxis": {
            "backgroundcolor": "#E5ECF6",
            "gridcolor": "white",
            "gridwidth": 2,
            "linecolor": "white",
            "showbackground": true,
            "ticks": "",
            "zerolinecolor": "white"
           },
           "yaxis": {
            "backgroundcolor": "#E5ECF6",
            "gridcolor": "white",
            "gridwidth": 2,
            "linecolor": "white",
            "showbackground": true,
            "ticks": "",
            "zerolinecolor": "white"
           },
           "zaxis": {
            "backgroundcolor": "#E5ECF6",
            "gridcolor": "white",
            "gridwidth": 2,
            "linecolor": "white",
            "showbackground": true,
            "ticks": "",
            "zerolinecolor": "white"
           }
          },
          "shapedefaults": {
           "line": {
            "color": "#2a3f5f"
           }
          },
          "ternary": {
           "aaxis": {
            "gridcolor": "white",
            "linecolor": "white",
            "ticks": ""
           },
           "baxis": {
            "gridcolor": "white",
            "linecolor": "white",
            "ticks": ""
           },
           "bgcolor": "#E5ECF6",
           "caxis": {
            "gridcolor": "white",
            "linecolor": "white",
            "ticks": ""
           }
          },
          "title": {
           "x": 0.05
          },
          "xaxis": {
           "automargin": true,
           "gridcolor": "white",
           "linecolor": "white",
           "ticks": "",
           "title": {
            "standoff": 15
           },
           "zerolinecolor": "white",
           "zerolinewidth": 2
          },
          "yaxis": {
           "automargin": true,
           "gridcolor": "white",
           "linecolor": "white",
           "ticks": "",
           "title": {
            "standoff": 15
           },
           "zerolinecolor": "white",
           "zerolinewidth": 2
          }
         }
        },
        "title": {
         "text": "Job Title sim vs Avg Salary(K) and Python usage"
        },
        "xaxis": {
         "anchor": "y",
         "domain": [
          0,
          1
         ],
         "title": {
          "text": "job_title_sim"
         }
        },
        "yaxis": {
         "anchor": "x",
         "domain": [
          0,
          1
         ],
         "title": {
          "text": "Avg Salary(K)"
         }
        }
       }
      },
      "text/html": [
       "<div>                            <div id=\"f01207c7-3063-46be-a3d1-fe6de7579035\" class=\"plotly-graph-div\" style=\"height:525px; width:100%;\"></div>            <script type=\"text/javascript\">                require([\"plotly\"], function(Plotly) {                    window.PLOTLYENV=window.PLOTLYENV || {};                                    if (document.getElementById(\"f01207c7-3063-46be-a3d1-fe6de7579035\")) {                    Plotly.newPlot(                        \"f01207c7-3063-46be-a3d1-fe6de7579035\",                        [{\"alignmentgroup\":\"True\",\"hovertemplate\":\"job_title_sim=%{x}<br>Avg Salary(K)=%{y}<br>Python=%{marker.color}<extra></extra>\",\"legendgroup\":\"\",\"marker\":{\"color\":[0.29,0.25,0.75,0.33,0.09,0.0,0.71,0.77,1.0],\"coloraxis\":\"coloraxis\",\"pattern\":{\"shape\":\"\"}},\"name\":\"\",\"offsetgroup\":\"\",\"orientation\":\"v\",\"showlegend\":false,\"textposition\":\"auto\",\"x\":[\"analyst\",\"Data scientist project manager\",\"data analitics\",\"na\",\"other scientist\",\"data modeler\",\"data engineer\",\"data scientist\",\"machine learning engineer\"],\"xaxis\":\"x\",\"y\":[65.81,74.0,74.0,80.0,94.0,96.5,106.56,111.07,134.0],\"yaxis\":\"y\",\"type\":\"bar\"}],                        {\"template\":{\"data\":{\"histogram2dcontour\":[{\"type\":\"histogram2dcontour\",\"colorbar\":{\"outlinewidth\":0,\"ticks\":\"\"},\"colorscale\":[[0.0,\"#0d0887\"],[0.1111111111111111,\"#46039f\"],[0.2222222222222222,\"#7201a8\"],[0.3333333333333333,\"#9c179e\"],[0.4444444444444444,\"#bd3786\"],[0.5555555555555556,\"#d8576b\"],[0.6666666666666666,\"#ed7953\"],[0.7777777777777778,\"#fb9f3a\"],[0.8888888888888888,\"#fdca26\"],[1.0,\"#f0f921\"]]}],\"choropleth\":[{\"type\":\"choropleth\",\"colorbar\":{\"outlinewidth\":0,\"ticks\":\"\"}}],\"histogram2d\":[{\"type\":\"histogram2d\",\"colorbar\":{\"outlinewidth\":0,\"ticks\":\"\"},\"colorscale\":[[0.0,\"#0d0887\"],[0.1111111111111111,\"#46039f\"],[0.2222222222222222,\"#7201a8\"],[0.3333333333333333,\"#9c179e\"],[0.4444444444444444,\"#bd3786\"],[0.5555555555555556,\"#d8576b\"],[0.6666666666666666,\"#ed7953\"],[0.7777777777777778,\"#fb9f3a\"],[0.8888888888888888,\"#fdca26\"],[1.0,\"#f0f921\"]]}],\"heatmap\":[{\"type\":\"heatmap\",\"colorbar\":{\"outlinewidth\":0,\"ticks\":\"\"},\"colorscale\":[[0.0,\"#0d0887\"],[0.1111111111111111,\"#46039f\"],[0.2222222222222222,\"#7201a8\"],[0.3333333333333333,\"#9c179e\"],[0.4444444444444444,\"#bd3786\"],[0.5555555555555556,\"#d8576b\"],[0.6666666666666666,\"#ed7953\"],[0.7777777777777778,\"#fb9f3a\"],[0.8888888888888888,\"#fdca26\"],[1.0,\"#f0f921\"]]}],\"heatmapgl\":[{\"type\":\"heatmapgl\",\"colorbar\":{\"outlinewidth\":0,\"ticks\":\"\"},\"colorscale\":[[0.0,\"#0d0887\"],[0.1111111111111111,\"#46039f\"],[0.2222222222222222,\"#7201a8\"],[0.3333333333333333,\"#9c179e\"],[0.4444444444444444,\"#bd3786\"],[0.5555555555555556,\"#d8576b\"],[0.6666666666666666,\"#ed7953\"],[0.7777777777777778,\"#fb9f3a\"],[0.8888888888888888,\"#fdca26\"],[1.0,\"#f0f921\"]]}],\"contourcarpet\":[{\"type\":\"contourcarpet\",\"colorbar\":{\"outlinewidth\":0,\"ticks\":\"\"}}],\"contour\":[{\"type\":\"contour\",\"colorbar\":{\"outlinewidth\":0,\"ticks\":\"\"},\"colorscale\":[[0.0,\"#0d0887\"],[0.1111111111111111,\"#46039f\"],[0.2222222222222222,\"#7201a8\"],[0.3333333333333333,\"#9c179e\"],[0.4444444444444444,\"#bd3786\"],[0.5555555555555556,\"#d8576b\"],[0.6666666666666666,\"#ed7953\"],[0.7777777777777778,\"#fb9f3a\"],[0.8888888888888888,\"#fdca26\"],[1.0,\"#f0f921\"]]}],\"surface\":[{\"type\":\"surface\",\"colorbar\":{\"outlinewidth\":0,\"ticks\":\"\"},\"colorscale\":[[0.0,\"#0d0887\"],[0.1111111111111111,\"#46039f\"],[0.2222222222222222,\"#7201a8\"],[0.3333333333333333,\"#9c179e\"],[0.4444444444444444,\"#bd3786\"],[0.5555555555555556,\"#d8576b\"],[0.6666666666666666,\"#ed7953\"],[0.7777777777777778,\"#fb9f3a\"],[0.8888888888888888,\"#fdca26\"],[1.0,\"#f0f921\"]]}],\"mesh3d\":[{\"type\":\"mesh3d\",\"colorbar\":{\"outlinewidth\":0,\"ticks\":\"\"}}],\"scatter\":[{\"fillpattern\":{\"fillmode\":\"overlay\",\"size\":10,\"solidity\":0.2},\"type\":\"scatter\"}],\"parcoords\":[{\"type\":\"parcoords\",\"line\":{\"colorbar\":{\"outlinewidth\":0,\"ticks\":\"\"}}}],\"scatterpolargl\":[{\"type\":\"scatterpolargl\",\"marker\":{\"colorbar\":{\"outlinewidth\":0,\"ticks\":\"\"}}}],\"bar\":[{\"error_x\":{\"color\":\"#2a3f5f\"},\"error_y\":{\"color\":\"#2a3f5f\"},\"marker\":{\"line\":{\"color\":\"#E5ECF6\",\"width\":0.5},\"pattern\":{\"fillmode\":\"overlay\",\"size\":10,\"solidity\":0.2}},\"type\":\"bar\"}],\"scattergeo\":[{\"type\":\"scattergeo\",\"marker\":{\"colorbar\":{\"outlinewidth\":0,\"ticks\":\"\"}}}],\"scatterpolar\":[{\"type\":\"scatterpolar\",\"marker\":{\"colorbar\":{\"outlinewidth\":0,\"ticks\":\"\"}}}],\"histogram\":[{\"marker\":{\"pattern\":{\"fillmode\":\"overlay\",\"size\":10,\"solidity\":0.2}},\"type\":\"histogram\"}],\"scattergl\":[{\"type\":\"scattergl\",\"marker\":{\"colorbar\":{\"outlinewidth\":0,\"ticks\":\"\"}}}],\"scatter3d\":[{\"type\":\"scatter3d\",\"line\":{\"colorbar\":{\"outlinewidth\":0,\"ticks\":\"\"}},\"marker\":{\"colorbar\":{\"outlinewidth\":0,\"ticks\":\"\"}}}],\"scattermapbox\":[{\"type\":\"scattermapbox\",\"marker\":{\"colorbar\":{\"outlinewidth\":0,\"ticks\":\"\"}}}],\"scatterternary\":[{\"type\":\"scatterternary\",\"marker\":{\"colorbar\":{\"outlinewidth\":0,\"ticks\":\"\"}}}],\"scattercarpet\":[{\"type\":\"scattercarpet\",\"marker\":{\"colorbar\":{\"outlinewidth\":0,\"ticks\":\"\"}}}],\"carpet\":[{\"aaxis\":{\"endlinecolor\":\"#2a3f5f\",\"gridcolor\":\"white\",\"linecolor\":\"white\",\"minorgridcolor\":\"white\",\"startlinecolor\":\"#2a3f5f\"},\"baxis\":{\"endlinecolor\":\"#2a3f5f\",\"gridcolor\":\"white\",\"linecolor\":\"white\",\"minorgridcolor\":\"white\",\"startlinecolor\":\"#2a3f5f\"},\"type\":\"carpet\"}],\"table\":[{\"cells\":{\"fill\":{\"color\":\"#EBF0F8\"},\"line\":{\"color\":\"white\"}},\"header\":{\"fill\":{\"color\":\"#C8D4E3\"},\"line\":{\"color\":\"white\"}},\"type\":\"table\"}],\"barpolar\":[{\"marker\":{\"line\":{\"color\":\"#E5ECF6\",\"width\":0.5},\"pattern\":{\"fillmode\":\"overlay\",\"size\":10,\"solidity\":0.2}},\"type\":\"barpolar\"}],\"pie\":[{\"automargin\":true,\"type\":\"pie\"}]},\"layout\":{\"autotypenumbers\":\"strict\",\"colorway\":[\"#636efa\",\"#EF553B\",\"#00cc96\",\"#ab63fa\",\"#FFA15A\",\"#19d3f3\",\"#FF6692\",\"#B6E880\",\"#FF97FF\",\"#FECB52\"],\"font\":{\"color\":\"#2a3f5f\"},\"hovermode\":\"closest\",\"hoverlabel\":{\"align\":\"left\"},\"paper_bgcolor\":\"white\",\"plot_bgcolor\":\"#E5ECF6\",\"polar\":{\"bgcolor\":\"#E5ECF6\",\"angularaxis\":{\"gridcolor\":\"white\",\"linecolor\":\"white\",\"ticks\":\"\"},\"radialaxis\":{\"gridcolor\":\"white\",\"linecolor\":\"white\",\"ticks\":\"\"}},\"ternary\":{\"bgcolor\":\"#E5ECF6\",\"aaxis\":{\"gridcolor\":\"white\",\"linecolor\":\"white\",\"ticks\":\"\"},\"baxis\":{\"gridcolor\":\"white\",\"linecolor\":\"white\",\"ticks\":\"\"},\"caxis\":{\"gridcolor\":\"white\",\"linecolor\":\"white\",\"ticks\":\"\"}},\"coloraxis\":{\"colorbar\":{\"outlinewidth\":0,\"ticks\":\"\"}},\"colorscale\":{\"sequential\":[[0.0,\"#0d0887\"],[0.1111111111111111,\"#46039f\"],[0.2222222222222222,\"#7201a8\"],[0.3333333333333333,\"#9c179e\"],[0.4444444444444444,\"#bd3786\"],[0.5555555555555556,\"#d8576b\"],[0.6666666666666666,\"#ed7953\"],[0.7777777777777778,\"#fb9f3a\"],[0.8888888888888888,\"#fdca26\"],[1.0,\"#f0f921\"]],\"sequentialminus\":[[0.0,\"#0d0887\"],[0.1111111111111111,\"#46039f\"],[0.2222222222222222,\"#7201a8\"],[0.3333333333333333,\"#9c179e\"],[0.4444444444444444,\"#bd3786\"],[0.5555555555555556,\"#d8576b\"],[0.6666666666666666,\"#ed7953\"],[0.7777777777777778,\"#fb9f3a\"],[0.8888888888888888,\"#fdca26\"],[1.0,\"#f0f921\"]],\"diverging\":[[0,\"#8e0152\"],[0.1,\"#c51b7d\"],[0.2,\"#de77ae\"],[0.3,\"#f1b6da\"],[0.4,\"#fde0ef\"],[0.5,\"#f7f7f7\"],[0.6,\"#e6f5d0\"],[0.7,\"#b8e186\"],[0.8,\"#7fbc41\"],[0.9,\"#4d9221\"],[1,\"#276419\"]]},\"xaxis\":{\"gridcolor\":\"white\",\"linecolor\":\"white\",\"ticks\":\"\",\"title\":{\"standoff\":15},\"zerolinecolor\":\"white\",\"automargin\":true,\"zerolinewidth\":2},\"yaxis\":{\"gridcolor\":\"white\",\"linecolor\":\"white\",\"ticks\":\"\",\"title\":{\"standoff\":15},\"zerolinecolor\":\"white\",\"automargin\":true,\"zerolinewidth\":2},\"scene\":{\"xaxis\":{\"backgroundcolor\":\"#E5ECF6\",\"gridcolor\":\"white\",\"linecolor\":\"white\",\"showbackground\":true,\"ticks\":\"\",\"zerolinecolor\":\"white\",\"gridwidth\":2},\"yaxis\":{\"backgroundcolor\":\"#E5ECF6\",\"gridcolor\":\"white\",\"linecolor\":\"white\",\"showbackground\":true,\"ticks\":\"\",\"zerolinecolor\":\"white\",\"gridwidth\":2},\"zaxis\":{\"backgroundcolor\":\"#E5ECF6\",\"gridcolor\":\"white\",\"linecolor\":\"white\",\"showbackground\":true,\"ticks\":\"\",\"zerolinecolor\":\"white\",\"gridwidth\":2}},\"shapedefaults\":{\"line\":{\"color\":\"#2a3f5f\"}},\"annotationdefaults\":{\"arrowcolor\":\"#2a3f5f\",\"arrowhead\":0,\"arrowwidth\":1},\"geo\":{\"bgcolor\":\"white\",\"landcolor\":\"#E5ECF6\",\"subunitcolor\":\"white\",\"showland\":true,\"showlakes\":true,\"lakecolor\":\"white\"},\"title\":{\"x\":0.05},\"mapbox\":{\"style\":\"light\"}}},\"xaxis\":{\"anchor\":\"y\",\"domain\":[0.0,1.0],\"title\":{\"text\":\"job_title_sim\"}},\"yaxis\":{\"anchor\":\"x\",\"domain\":[0.0,1.0],\"title\":{\"text\":\"Avg Salary(K)\"}},\"coloraxis\":{\"colorbar\":{\"title\":{\"text\":\"Python\"}},\"colorscale\":[[0.0,\"rgb(103,0,31)\"],[0.1,\"rgb(178,24,43)\"],[0.2,\"rgb(214,96,77)\"],[0.3,\"rgb(244,165,130)\"],[0.4,\"rgb(253,219,199)\"],[0.5,\"rgb(247,247,247)\"],[0.6,\"rgb(209,229,240)\"],[0.7,\"rgb(146,197,222)\"],[0.8,\"rgb(67,147,195)\"],[0.9,\"rgb(33,102,172)\"],[1.0,\"rgb(5,48,97)\"]]},\"legend\":{\"tracegroupgap\":0},\"title\":{\"text\":\"Job Title sim vs Avg Salary(K) and Python usage\"},\"barmode\":\"relative\"},                        {\"responsive\": true}                    ).then(function(){\n",
       "                            \n",
       "var gd = document.getElementById('f01207c7-3063-46be-a3d1-fe6de7579035');\n",
       "var x = new MutationObserver(function (mutations, observer) {{\n",
       "        var display = window.getComputedStyle(gd).display;\n",
       "        if (!display || display === 'none') {{\n",
       "            console.log([gd, 'removed!']);\n",
       "            Plotly.purge(gd);\n",
       "            observer.disconnect();\n",
       "        }}\n",
       "}});\n",
       "\n",
       "// Listen for the removal of the full notebook cells\n",
       "var notebookContainer = gd.closest('#notebook-container');\n",
       "if (notebookContainer) {{\n",
       "    x.observe(notebookContainer, {childList: true});\n",
       "}}\n",
       "\n",
       "// Listen for the clearing of the current output cell\n",
       "var outputEl = gd.closest('.output');\n",
       "if (outputEl) {{\n",
       "    x.observe(outputEl, {childList: true});\n",
       "}}\n",
       "\n",
       "                        })                };                });            </script>        </div>"
      ]
     },
     "metadata": {},
     "output_type": "display_data"
    }
   ],
   "source": [
    "fig1 = px.bar(df1, y='Avg Salary(K)', \n",
    "             color='Python', color_continuous_scale='rdbu', \n",
    "             title='Job Title sim vs Avg Salary(K) and Python usage')\n",
    "fig1.show()"
   ]
  },
  {
   "cell_type": "code",
   "execution_count": 165,
   "id": "11d5150b",
   "metadata": {},
   "outputs": [
    {
     "data": {
      "application/vnd.plotly.v1+json": {
       "config": {
        "plotlyServerURL": "https://plot.ly"
       },
       "data": [
        {
         "alignmentgroup": "True",
         "hovertemplate": "job_title_sim=%{x}<br>Avg Salary(K)=%{y}<br>sql=%{marker.color}<extra></extra>",
         "legendgroup": "",
         "marker": {
          "color": [
           0.74,
           0.75,
           0.75,
           0.67,
           0,
           0.5,
           0.88,
           0.59,
           1
          ],
          "coloraxis": "coloraxis",
          "pattern": {
           "shape": ""
          }
         },
         "name": "",
         "offsetgroup": "",
         "orientation": "v",
         "showlegend": false,
         "textposition": "auto",
         "type": "bar",
         "x": [
          "analyst",
          "Data scientist project manager",
          "data analitics",
          "na",
          "other scientist",
          "data modeler",
          "data engineer",
          "data scientist",
          "machine learning engineer"
         ],
         "xaxis": "x",
         "y": [
          65.81,
          74,
          74,
          80,
          94,
          96.5,
          106.56,
          111.07,
          134
         ],
         "yaxis": "y"
        }
       ],
       "layout": {
        "barmode": "relative",
        "coloraxis": {
         "colorbar": {
          "title": {
           "text": "sql"
          }
         },
         "colorscale": [
          [
           0,
           "#0d0887"
          ],
          [
           0.1111111111111111,
           "#46039f"
          ],
          [
           0.2222222222222222,
           "#7201a8"
          ],
          [
           0.3333333333333333,
           "#9c179e"
          ],
          [
           0.4444444444444444,
           "#bd3786"
          ],
          [
           0.5555555555555556,
           "#d8576b"
          ],
          [
           0.6666666666666666,
           "#ed7953"
          ],
          [
           0.7777777777777778,
           "#fb9f3a"
          ],
          [
           0.8888888888888888,
           "#fdca26"
          ],
          [
           1,
           "#f0f921"
          ]
         ]
        },
        "legend": {
         "tracegroupgap": 0
        },
        "template": {
         "data": {
          "bar": [
           {
            "error_x": {
             "color": "#2a3f5f"
            },
            "error_y": {
             "color": "#2a3f5f"
            },
            "marker": {
             "line": {
              "color": "#E5ECF6",
              "width": 0.5
             },
             "pattern": {
              "fillmode": "overlay",
              "size": 10,
              "solidity": 0.2
             }
            },
            "type": "bar"
           }
          ],
          "barpolar": [
           {
            "marker": {
             "line": {
              "color": "#E5ECF6",
              "width": 0.5
             },
             "pattern": {
              "fillmode": "overlay",
              "size": 10,
              "solidity": 0.2
             }
            },
            "type": "barpolar"
           }
          ],
          "carpet": [
           {
            "aaxis": {
             "endlinecolor": "#2a3f5f",
             "gridcolor": "white",
             "linecolor": "white",
             "minorgridcolor": "white",
             "startlinecolor": "#2a3f5f"
            },
            "baxis": {
             "endlinecolor": "#2a3f5f",
             "gridcolor": "white",
             "linecolor": "white",
             "minorgridcolor": "white",
             "startlinecolor": "#2a3f5f"
            },
            "type": "carpet"
           }
          ],
          "choropleth": [
           {
            "colorbar": {
             "outlinewidth": 0,
             "ticks": ""
            },
            "type": "choropleth"
           }
          ],
          "contour": [
           {
            "colorbar": {
             "outlinewidth": 0,
             "ticks": ""
            },
            "colorscale": [
             [
              0,
              "#0d0887"
             ],
             [
              0.1111111111111111,
              "#46039f"
             ],
             [
              0.2222222222222222,
              "#7201a8"
             ],
             [
              0.3333333333333333,
              "#9c179e"
             ],
             [
              0.4444444444444444,
              "#bd3786"
             ],
             [
              0.5555555555555556,
              "#d8576b"
             ],
             [
              0.6666666666666666,
              "#ed7953"
             ],
             [
              0.7777777777777778,
              "#fb9f3a"
             ],
             [
              0.8888888888888888,
              "#fdca26"
             ],
             [
              1,
              "#f0f921"
             ]
            ],
            "type": "contour"
           }
          ],
          "contourcarpet": [
           {
            "colorbar": {
             "outlinewidth": 0,
             "ticks": ""
            },
            "type": "contourcarpet"
           }
          ],
          "heatmap": [
           {
            "colorbar": {
             "outlinewidth": 0,
             "ticks": ""
            },
            "colorscale": [
             [
              0,
              "#0d0887"
             ],
             [
              0.1111111111111111,
              "#46039f"
             ],
             [
              0.2222222222222222,
              "#7201a8"
             ],
             [
              0.3333333333333333,
              "#9c179e"
             ],
             [
              0.4444444444444444,
              "#bd3786"
             ],
             [
              0.5555555555555556,
              "#d8576b"
             ],
             [
              0.6666666666666666,
              "#ed7953"
             ],
             [
              0.7777777777777778,
              "#fb9f3a"
             ],
             [
              0.8888888888888888,
              "#fdca26"
             ],
             [
              1,
              "#f0f921"
             ]
            ],
            "type": "heatmap"
           }
          ],
          "heatmapgl": [
           {
            "colorbar": {
             "outlinewidth": 0,
             "ticks": ""
            },
            "colorscale": [
             [
              0,
              "#0d0887"
             ],
             [
              0.1111111111111111,
              "#46039f"
             ],
             [
              0.2222222222222222,
              "#7201a8"
             ],
             [
              0.3333333333333333,
              "#9c179e"
             ],
             [
              0.4444444444444444,
              "#bd3786"
             ],
             [
              0.5555555555555556,
              "#d8576b"
             ],
             [
              0.6666666666666666,
              "#ed7953"
             ],
             [
              0.7777777777777778,
              "#fb9f3a"
             ],
             [
              0.8888888888888888,
              "#fdca26"
             ],
             [
              1,
              "#f0f921"
             ]
            ],
            "type": "heatmapgl"
           }
          ],
          "histogram": [
           {
            "marker": {
             "pattern": {
              "fillmode": "overlay",
              "size": 10,
              "solidity": 0.2
             }
            },
            "type": "histogram"
           }
          ],
          "histogram2d": [
           {
            "colorbar": {
             "outlinewidth": 0,
             "ticks": ""
            },
            "colorscale": [
             [
              0,
              "#0d0887"
             ],
             [
              0.1111111111111111,
              "#46039f"
             ],
             [
              0.2222222222222222,
              "#7201a8"
             ],
             [
              0.3333333333333333,
              "#9c179e"
             ],
             [
              0.4444444444444444,
              "#bd3786"
             ],
             [
              0.5555555555555556,
              "#d8576b"
             ],
             [
              0.6666666666666666,
              "#ed7953"
             ],
             [
              0.7777777777777778,
              "#fb9f3a"
             ],
             [
              0.8888888888888888,
              "#fdca26"
             ],
             [
              1,
              "#f0f921"
             ]
            ],
            "type": "histogram2d"
           }
          ],
          "histogram2dcontour": [
           {
            "colorbar": {
             "outlinewidth": 0,
             "ticks": ""
            },
            "colorscale": [
             [
              0,
              "#0d0887"
             ],
             [
              0.1111111111111111,
              "#46039f"
             ],
             [
              0.2222222222222222,
              "#7201a8"
             ],
             [
              0.3333333333333333,
              "#9c179e"
             ],
             [
              0.4444444444444444,
              "#bd3786"
             ],
             [
              0.5555555555555556,
              "#d8576b"
             ],
             [
              0.6666666666666666,
              "#ed7953"
             ],
             [
              0.7777777777777778,
              "#fb9f3a"
             ],
             [
              0.8888888888888888,
              "#fdca26"
             ],
             [
              1,
              "#f0f921"
             ]
            ],
            "type": "histogram2dcontour"
           }
          ],
          "mesh3d": [
           {
            "colorbar": {
             "outlinewidth": 0,
             "ticks": ""
            },
            "type": "mesh3d"
           }
          ],
          "parcoords": [
           {
            "line": {
             "colorbar": {
              "outlinewidth": 0,
              "ticks": ""
             }
            },
            "type": "parcoords"
           }
          ],
          "pie": [
           {
            "automargin": true,
            "type": "pie"
           }
          ],
          "scatter": [
           {
            "fillpattern": {
             "fillmode": "overlay",
             "size": 10,
             "solidity": 0.2
            },
            "type": "scatter"
           }
          ],
          "scatter3d": [
           {
            "line": {
             "colorbar": {
              "outlinewidth": 0,
              "ticks": ""
             }
            },
            "marker": {
             "colorbar": {
              "outlinewidth": 0,
              "ticks": ""
             }
            },
            "type": "scatter3d"
           }
          ],
          "scattercarpet": [
           {
            "marker": {
             "colorbar": {
              "outlinewidth": 0,
              "ticks": ""
             }
            },
            "type": "scattercarpet"
           }
          ],
          "scattergeo": [
           {
            "marker": {
             "colorbar": {
              "outlinewidth": 0,
              "ticks": ""
             }
            },
            "type": "scattergeo"
           }
          ],
          "scattergl": [
           {
            "marker": {
             "colorbar": {
              "outlinewidth": 0,
              "ticks": ""
             }
            },
            "type": "scattergl"
           }
          ],
          "scattermapbox": [
           {
            "marker": {
             "colorbar": {
              "outlinewidth": 0,
              "ticks": ""
             }
            },
            "type": "scattermapbox"
           }
          ],
          "scatterpolar": [
           {
            "marker": {
             "colorbar": {
              "outlinewidth": 0,
              "ticks": ""
             }
            },
            "type": "scatterpolar"
           }
          ],
          "scatterpolargl": [
           {
            "marker": {
             "colorbar": {
              "outlinewidth": 0,
              "ticks": ""
             }
            },
            "type": "scatterpolargl"
           }
          ],
          "scatterternary": [
           {
            "marker": {
             "colorbar": {
              "outlinewidth": 0,
              "ticks": ""
             }
            },
            "type": "scatterternary"
           }
          ],
          "surface": [
           {
            "colorbar": {
             "outlinewidth": 0,
             "ticks": ""
            },
            "colorscale": [
             [
              0,
              "#0d0887"
             ],
             [
              0.1111111111111111,
              "#46039f"
             ],
             [
              0.2222222222222222,
              "#7201a8"
             ],
             [
              0.3333333333333333,
              "#9c179e"
             ],
             [
              0.4444444444444444,
              "#bd3786"
             ],
             [
              0.5555555555555556,
              "#d8576b"
             ],
             [
              0.6666666666666666,
              "#ed7953"
             ],
             [
              0.7777777777777778,
              "#fb9f3a"
             ],
             [
              0.8888888888888888,
              "#fdca26"
             ],
             [
              1,
              "#f0f921"
             ]
            ],
            "type": "surface"
           }
          ],
          "table": [
           {
            "cells": {
             "fill": {
              "color": "#EBF0F8"
             },
             "line": {
              "color": "white"
             }
            },
            "header": {
             "fill": {
              "color": "#C8D4E3"
             },
             "line": {
              "color": "white"
             }
            },
            "type": "table"
           }
          ]
         },
         "layout": {
          "annotationdefaults": {
           "arrowcolor": "#2a3f5f",
           "arrowhead": 0,
           "arrowwidth": 1
          },
          "autotypenumbers": "strict",
          "coloraxis": {
           "colorbar": {
            "outlinewidth": 0,
            "ticks": ""
           }
          },
          "colorscale": {
           "diverging": [
            [
             0,
             "#8e0152"
            ],
            [
             0.1,
             "#c51b7d"
            ],
            [
             0.2,
             "#de77ae"
            ],
            [
             0.3,
             "#f1b6da"
            ],
            [
             0.4,
             "#fde0ef"
            ],
            [
             0.5,
             "#f7f7f7"
            ],
            [
             0.6,
             "#e6f5d0"
            ],
            [
             0.7,
             "#b8e186"
            ],
            [
             0.8,
             "#7fbc41"
            ],
            [
             0.9,
             "#4d9221"
            ],
            [
             1,
             "#276419"
            ]
           ],
           "sequential": [
            [
             0,
             "#0d0887"
            ],
            [
             0.1111111111111111,
             "#46039f"
            ],
            [
             0.2222222222222222,
             "#7201a8"
            ],
            [
             0.3333333333333333,
             "#9c179e"
            ],
            [
             0.4444444444444444,
             "#bd3786"
            ],
            [
             0.5555555555555556,
             "#d8576b"
            ],
            [
             0.6666666666666666,
             "#ed7953"
            ],
            [
             0.7777777777777778,
             "#fb9f3a"
            ],
            [
             0.8888888888888888,
             "#fdca26"
            ],
            [
             1,
             "#f0f921"
            ]
           ],
           "sequentialminus": [
            [
             0,
             "#0d0887"
            ],
            [
             0.1111111111111111,
             "#46039f"
            ],
            [
             0.2222222222222222,
             "#7201a8"
            ],
            [
             0.3333333333333333,
             "#9c179e"
            ],
            [
             0.4444444444444444,
             "#bd3786"
            ],
            [
             0.5555555555555556,
             "#d8576b"
            ],
            [
             0.6666666666666666,
             "#ed7953"
            ],
            [
             0.7777777777777778,
             "#fb9f3a"
            ],
            [
             0.8888888888888888,
             "#fdca26"
            ],
            [
             1,
             "#f0f921"
            ]
           ]
          },
          "colorway": [
           "#636efa",
           "#EF553B",
           "#00cc96",
           "#ab63fa",
           "#FFA15A",
           "#19d3f3",
           "#FF6692",
           "#B6E880",
           "#FF97FF",
           "#FECB52"
          ],
          "font": {
           "color": "#2a3f5f"
          },
          "geo": {
           "bgcolor": "white",
           "lakecolor": "white",
           "landcolor": "#E5ECF6",
           "showlakes": true,
           "showland": true,
           "subunitcolor": "white"
          },
          "hoverlabel": {
           "align": "left"
          },
          "hovermode": "closest",
          "mapbox": {
           "style": "light"
          },
          "paper_bgcolor": "white",
          "plot_bgcolor": "#E5ECF6",
          "polar": {
           "angularaxis": {
            "gridcolor": "white",
            "linecolor": "white",
            "ticks": ""
           },
           "bgcolor": "#E5ECF6",
           "radialaxis": {
            "gridcolor": "white",
            "linecolor": "white",
            "ticks": ""
           }
          },
          "scene": {
           "xaxis": {
            "backgroundcolor": "#E5ECF6",
            "gridcolor": "white",
            "gridwidth": 2,
            "linecolor": "white",
            "showbackground": true,
            "ticks": "",
            "zerolinecolor": "white"
           },
           "yaxis": {
            "backgroundcolor": "#E5ECF6",
            "gridcolor": "white",
            "gridwidth": 2,
            "linecolor": "white",
            "showbackground": true,
            "ticks": "",
            "zerolinecolor": "white"
           },
           "zaxis": {
            "backgroundcolor": "#E5ECF6",
            "gridcolor": "white",
            "gridwidth": 2,
            "linecolor": "white",
            "showbackground": true,
            "ticks": "",
            "zerolinecolor": "white"
           }
          },
          "shapedefaults": {
           "line": {
            "color": "#2a3f5f"
           }
          },
          "ternary": {
           "aaxis": {
            "gridcolor": "white",
            "linecolor": "white",
            "ticks": ""
           },
           "baxis": {
            "gridcolor": "white",
            "linecolor": "white",
            "ticks": ""
           },
           "bgcolor": "#E5ECF6",
           "caxis": {
            "gridcolor": "white",
            "linecolor": "white",
            "ticks": ""
           }
          },
          "title": {
           "x": 0.05
          },
          "xaxis": {
           "automargin": true,
           "gridcolor": "white",
           "linecolor": "white",
           "ticks": "",
           "title": {
            "standoff": 15
           },
           "zerolinecolor": "white",
           "zerolinewidth": 2
          },
          "yaxis": {
           "automargin": true,
           "gridcolor": "white",
           "linecolor": "white",
           "ticks": "",
           "title": {
            "standoff": 15
           },
           "zerolinecolor": "white",
           "zerolinewidth": 2
          }
         }
        },
        "title": {
         "text": "Job Title sim vs Avg Salary(K) and SQL usage"
        },
        "xaxis": {
         "anchor": "y",
         "domain": [
          0,
          1
         ],
         "title": {
          "text": "job_title_sim"
         }
        },
        "yaxis": {
         "anchor": "x",
         "domain": [
          0,
          1
         ],
         "title": {
          "text": "Avg Salary(K)"
         }
        }
       }
      },
      "text/html": [
       "<div>                            <div id=\"45e62d77-c841-450f-9948-a519722a9624\" class=\"plotly-graph-div\" style=\"height:525px; width:100%;\"></div>            <script type=\"text/javascript\">                require([\"plotly\"], function(Plotly) {                    window.PLOTLYENV=window.PLOTLYENV || {};                                    if (document.getElementById(\"45e62d77-c841-450f-9948-a519722a9624\")) {                    Plotly.newPlot(                        \"45e62d77-c841-450f-9948-a519722a9624\",                        [{\"alignmentgroup\":\"True\",\"hovertemplate\":\"job_title_sim=%{x}<br>Avg Salary(K)=%{y}<br>sql=%{marker.color}<extra></extra>\",\"legendgroup\":\"\",\"marker\":{\"color\":[0.74,0.75,0.75,0.67,0.0,0.5,0.88,0.59,1.0],\"coloraxis\":\"coloraxis\",\"pattern\":{\"shape\":\"\"}},\"name\":\"\",\"offsetgroup\":\"\",\"orientation\":\"v\",\"showlegend\":false,\"textposition\":\"auto\",\"x\":[\"analyst\",\"Data scientist project manager\",\"data analitics\",\"na\",\"other scientist\",\"data modeler\",\"data engineer\",\"data scientist\",\"machine learning engineer\"],\"xaxis\":\"x\",\"y\":[65.81,74.0,74.0,80.0,94.0,96.5,106.56,111.07,134.0],\"yaxis\":\"y\",\"type\":\"bar\"}],                        {\"template\":{\"data\":{\"histogram2dcontour\":[{\"type\":\"histogram2dcontour\",\"colorbar\":{\"outlinewidth\":0,\"ticks\":\"\"},\"colorscale\":[[0.0,\"#0d0887\"],[0.1111111111111111,\"#46039f\"],[0.2222222222222222,\"#7201a8\"],[0.3333333333333333,\"#9c179e\"],[0.4444444444444444,\"#bd3786\"],[0.5555555555555556,\"#d8576b\"],[0.6666666666666666,\"#ed7953\"],[0.7777777777777778,\"#fb9f3a\"],[0.8888888888888888,\"#fdca26\"],[1.0,\"#f0f921\"]]}],\"choropleth\":[{\"type\":\"choropleth\",\"colorbar\":{\"outlinewidth\":0,\"ticks\":\"\"}}],\"histogram2d\":[{\"type\":\"histogram2d\",\"colorbar\":{\"outlinewidth\":0,\"ticks\":\"\"},\"colorscale\":[[0.0,\"#0d0887\"],[0.1111111111111111,\"#46039f\"],[0.2222222222222222,\"#7201a8\"],[0.3333333333333333,\"#9c179e\"],[0.4444444444444444,\"#bd3786\"],[0.5555555555555556,\"#d8576b\"],[0.6666666666666666,\"#ed7953\"],[0.7777777777777778,\"#fb9f3a\"],[0.8888888888888888,\"#fdca26\"],[1.0,\"#f0f921\"]]}],\"heatmap\":[{\"type\":\"heatmap\",\"colorbar\":{\"outlinewidth\":0,\"ticks\":\"\"},\"colorscale\":[[0.0,\"#0d0887\"],[0.1111111111111111,\"#46039f\"],[0.2222222222222222,\"#7201a8\"],[0.3333333333333333,\"#9c179e\"],[0.4444444444444444,\"#bd3786\"],[0.5555555555555556,\"#d8576b\"],[0.6666666666666666,\"#ed7953\"],[0.7777777777777778,\"#fb9f3a\"],[0.8888888888888888,\"#fdca26\"],[1.0,\"#f0f921\"]]}],\"heatmapgl\":[{\"type\":\"heatmapgl\",\"colorbar\":{\"outlinewidth\":0,\"ticks\":\"\"},\"colorscale\":[[0.0,\"#0d0887\"],[0.1111111111111111,\"#46039f\"],[0.2222222222222222,\"#7201a8\"],[0.3333333333333333,\"#9c179e\"],[0.4444444444444444,\"#bd3786\"],[0.5555555555555556,\"#d8576b\"],[0.6666666666666666,\"#ed7953\"],[0.7777777777777778,\"#fb9f3a\"],[0.8888888888888888,\"#fdca26\"],[1.0,\"#f0f921\"]]}],\"contourcarpet\":[{\"type\":\"contourcarpet\",\"colorbar\":{\"outlinewidth\":0,\"ticks\":\"\"}}],\"contour\":[{\"type\":\"contour\",\"colorbar\":{\"outlinewidth\":0,\"ticks\":\"\"},\"colorscale\":[[0.0,\"#0d0887\"],[0.1111111111111111,\"#46039f\"],[0.2222222222222222,\"#7201a8\"],[0.3333333333333333,\"#9c179e\"],[0.4444444444444444,\"#bd3786\"],[0.5555555555555556,\"#d8576b\"],[0.6666666666666666,\"#ed7953\"],[0.7777777777777778,\"#fb9f3a\"],[0.8888888888888888,\"#fdca26\"],[1.0,\"#f0f921\"]]}],\"surface\":[{\"type\":\"surface\",\"colorbar\":{\"outlinewidth\":0,\"ticks\":\"\"},\"colorscale\":[[0.0,\"#0d0887\"],[0.1111111111111111,\"#46039f\"],[0.2222222222222222,\"#7201a8\"],[0.3333333333333333,\"#9c179e\"],[0.4444444444444444,\"#bd3786\"],[0.5555555555555556,\"#d8576b\"],[0.6666666666666666,\"#ed7953\"],[0.7777777777777778,\"#fb9f3a\"],[0.8888888888888888,\"#fdca26\"],[1.0,\"#f0f921\"]]}],\"mesh3d\":[{\"type\":\"mesh3d\",\"colorbar\":{\"outlinewidth\":0,\"ticks\":\"\"}}],\"scatter\":[{\"fillpattern\":{\"fillmode\":\"overlay\",\"size\":10,\"solidity\":0.2},\"type\":\"scatter\"}],\"parcoords\":[{\"type\":\"parcoords\",\"line\":{\"colorbar\":{\"outlinewidth\":0,\"ticks\":\"\"}}}],\"scatterpolargl\":[{\"type\":\"scatterpolargl\",\"marker\":{\"colorbar\":{\"outlinewidth\":0,\"ticks\":\"\"}}}],\"bar\":[{\"error_x\":{\"color\":\"#2a3f5f\"},\"error_y\":{\"color\":\"#2a3f5f\"},\"marker\":{\"line\":{\"color\":\"#E5ECF6\",\"width\":0.5},\"pattern\":{\"fillmode\":\"overlay\",\"size\":10,\"solidity\":0.2}},\"type\":\"bar\"}],\"scattergeo\":[{\"type\":\"scattergeo\",\"marker\":{\"colorbar\":{\"outlinewidth\":0,\"ticks\":\"\"}}}],\"scatterpolar\":[{\"type\":\"scatterpolar\",\"marker\":{\"colorbar\":{\"outlinewidth\":0,\"ticks\":\"\"}}}],\"histogram\":[{\"marker\":{\"pattern\":{\"fillmode\":\"overlay\",\"size\":10,\"solidity\":0.2}},\"type\":\"histogram\"}],\"scattergl\":[{\"type\":\"scattergl\",\"marker\":{\"colorbar\":{\"outlinewidth\":0,\"ticks\":\"\"}}}],\"scatter3d\":[{\"type\":\"scatter3d\",\"line\":{\"colorbar\":{\"outlinewidth\":0,\"ticks\":\"\"}},\"marker\":{\"colorbar\":{\"outlinewidth\":0,\"ticks\":\"\"}}}],\"scattermapbox\":[{\"type\":\"scattermapbox\",\"marker\":{\"colorbar\":{\"outlinewidth\":0,\"ticks\":\"\"}}}],\"scatterternary\":[{\"type\":\"scatterternary\",\"marker\":{\"colorbar\":{\"outlinewidth\":0,\"ticks\":\"\"}}}],\"scattercarpet\":[{\"type\":\"scattercarpet\",\"marker\":{\"colorbar\":{\"outlinewidth\":0,\"ticks\":\"\"}}}],\"carpet\":[{\"aaxis\":{\"endlinecolor\":\"#2a3f5f\",\"gridcolor\":\"white\",\"linecolor\":\"white\",\"minorgridcolor\":\"white\",\"startlinecolor\":\"#2a3f5f\"},\"baxis\":{\"endlinecolor\":\"#2a3f5f\",\"gridcolor\":\"white\",\"linecolor\":\"white\",\"minorgridcolor\":\"white\",\"startlinecolor\":\"#2a3f5f\"},\"type\":\"carpet\"}],\"table\":[{\"cells\":{\"fill\":{\"color\":\"#EBF0F8\"},\"line\":{\"color\":\"white\"}},\"header\":{\"fill\":{\"color\":\"#C8D4E3\"},\"line\":{\"color\":\"white\"}},\"type\":\"table\"}],\"barpolar\":[{\"marker\":{\"line\":{\"color\":\"#E5ECF6\",\"width\":0.5},\"pattern\":{\"fillmode\":\"overlay\",\"size\":10,\"solidity\":0.2}},\"type\":\"barpolar\"}],\"pie\":[{\"automargin\":true,\"type\":\"pie\"}]},\"layout\":{\"autotypenumbers\":\"strict\",\"colorway\":[\"#636efa\",\"#EF553B\",\"#00cc96\",\"#ab63fa\",\"#FFA15A\",\"#19d3f3\",\"#FF6692\",\"#B6E880\",\"#FF97FF\",\"#FECB52\"],\"font\":{\"color\":\"#2a3f5f\"},\"hovermode\":\"closest\",\"hoverlabel\":{\"align\":\"left\"},\"paper_bgcolor\":\"white\",\"plot_bgcolor\":\"#E5ECF6\",\"polar\":{\"bgcolor\":\"#E5ECF6\",\"angularaxis\":{\"gridcolor\":\"white\",\"linecolor\":\"white\",\"ticks\":\"\"},\"radialaxis\":{\"gridcolor\":\"white\",\"linecolor\":\"white\",\"ticks\":\"\"}},\"ternary\":{\"bgcolor\":\"#E5ECF6\",\"aaxis\":{\"gridcolor\":\"white\",\"linecolor\":\"white\",\"ticks\":\"\"},\"baxis\":{\"gridcolor\":\"white\",\"linecolor\":\"white\",\"ticks\":\"\"},\"caxis\":{\"gridcolor\":\"white\",\"linecolor\":\"white\",\"ticks\":\"\"}},\"coloraxis\":{\"colorbar\":{\"outlinewidth\":0,\"ticks\":\"\"}},\"colorscale\":{\"sequential\":[[0.0,\"#0d0887\"],[0.1111111111111111,\"#46039f\"],[0.2222222222222222,\"#7201a8\"],[0.3333333333333333,\"#9c179e\"],[0.4444444444444444,\"#bd3786\"],[0.5555555555555556,\"#d8576b\"],[0.6666666666666666,\"#ed7953\"],[0.7777777777777778,\"#fb9f3a\"],[0.8888888888888888,\"#fdca26\"],[1.0,\"#f0f921\"]],\"sequentialminus\":[[0.0,\"#0d0887\"],[0.1111111111111111,\"#46039f\"],[0.2222222222222222,\"#7201a8\"],[0.3333333333333333,\"#9c179e\"],[0.4444444444444444,\"#bd3786\"],[0.5555555555555556,\"#d8576b\"],[0.6666666666666666,\"#ed7953\"],[0.7777777777777778,\"#fb9f3a\"],[0.8888888888888888,\"#fdca26\"],[1.0,\"#f0f921\"]],\"diverging\":[[0,\"#8e0152\"],[0.1,\"#c51b7d\"],[0.2,\"#de77ae\"],[0.3,\"#f1b6da\"],[0.4,\"#fde0ef\"],[0.5,\"#f7f7f7\"],[0.6,\"#e6f5d0\"],[0.7,\"#b8e186\"],[0.8,\"#7fbc41\"],[0.9,\"#4d9221\"],[1,\"#276419\"]]},\"xaxis\":{\"gridcolor\":\"white\",\"linecolor\":\"white\",\"ticks\":\"\",\"title\":{\"standoff\":15},\"zerolinecolor\":\"white\",\"automargin\":true,\"zerolinewidth\":2},\"yaxis\":{\"gridcolor\":\"white\",\"linecolor\":\"white\",\"ticks\":\"\",\"title\":{\"standoff\":15},\"zerolinecolor\":\"white\",\"automargin\":true,\"zerolinewidth\":2},\"scene\":{\"xaxis\":{\"backgroundcolor\":\"#E5ECF6\",\"gridcolor\":\"white\",\"linecolor\":\"white\",\"showbackground\":true,\"ticks\":\"\",\"zerolinecolor\":\"white\",\"gridwidth\":2},\"yaxis\":{\"backgroundcolor\":\"#E5ECF6\",\"gridcolor\":\"white\",\"linecolor\":\"white\",\"showbackground\":true,\"ticks\":\"\",\"zerolinecolor\":\"white\",\"gridwidth\":2},\"zaxis\":{\"backgroundcolor\":\"#E5ECF6\",\"gridcolor\":\"white\",\"linecolor\":\"white\",\"showbackground\":true,\"ticks\":\"\",\"zerolinecolor\":\"white\",\"gridwidth\":2}},\"shapedefaults\":{\"line\":{\"color\":\"#2a3f5f\"}},\"annotationdefaults\":{\"arrowcolor\":\"#2a3f5f\",\"arrowhead\":0,\"arrowwidth\":1},\"geo\":{\"bgcolor\":\"white\",\"landcolor\":\"#E5ECF6\",\"subunitcolor\":\"white\",\"showland\":true,\"showlakes\":true,\"lakecolor\":\"white\"},\"title\":{\"x\":0.05},\"mapbox\":{\"style\":\"light\"}}},\"xaxis\":{\"anchor\":\"y\",\"domain\":[0.0,1.0],\"title\":{\"text\":\"job_title_sim\"}},\"yaxis\":{\"anchor\":\"x\",\"domain\":[0.0,1.0],\"title\":{\"text\":\"Avg Salary(K)\"}},\"coloraxis\":{\"colorbar\":{\"title\":{\"text\":\"sql\"}},\"colorscale\":[[0.0,\"#0d0887\"],[0.1111111111111111,\"#46039f\"],[0.2222222222222222,\"#7201a8\"],[0.3333333333333333,\"#9c179e\"],[0.4444444444444444,\"#bd3786\"],[0.5555555555555556,\"#d8576b\"],[0.6666666666666666,\"#ed7953\"],[0.7777777777777778,\"#fb9f3a\"],[0.8888888888888888,\"#fdca26\"],[1.0,\"#f0f921\"]]},\"legend\":{\"tracegroupgap\":0},\"title\":{\"text\":\"Job Title sim vs Avg Salary(K) and SQL usage\"},\"barmode\":\"relative\"},                        {\"responsive\": true}                    ).then(function(){\n",
       "                            \n",
       "var gd = document.getElementById('45e62d77-c841-450f-9948-a519722a9624');\n",
       "var x = new MutationObserver(function (mutations, observer) {{\n",
       "        var display = window.getComputedStyle(gd).display;\n",
       "        if (!display || display === 'none') {{\n",
       "            console.log([gd, 'removed!']);\n",
       "            Plotly.purge(gd);\n",
       "            observer.disconnect();\n",
       "        }}\n",
       "}});\n",
       "\n",
       "// Listen for the removal of the full notebook cells\n",
       "var notebookContainer = gd.closest('#notebook-container');\n",
       "if (notebookContainer) {{\n",
       "    x.observe(notebookContainer, {childList: true});\n",
       "}}\n",
       "\n",
       "// Listen for the clearing of the current output cell\n",
       "var outputEl = gd.closest('.output');\n",
       "if (outputEl) {{\n",
       "    x.observe(outputEl, {childList: true});\n",
       "}}\n",
       "\n",
       "                        })                };                });            </script>        </div>"
      ]
     },
     "metadata": {},
     "output_type": "display_data"
    }
   ],
   "source": [
    "fig2 = px.bar(df1, y='Avg Salary(K)', \n",
    "             color='sql', title='Job Title sim vs Avg Salary(K) and SQL usage')\n",
    "fig2.show()"
   ]
  },
  {
   "cell_type": "code",
   "execution_count": 166,
   "id": "e08ccfe6",
   "metadata": {},
   "outputs": [
    {
     "data": {
      "application/vnd.plotly.v1+json": {
       "config": {
        "plotlyServerURL": "https://plot.ly"
       },
       "data": [
        {
         "hovertemplate": "variable=Python<br>job_title_sim=%{x}<br>value=%{y}<extra></extra>",
         "legendgroup": "Python",
         "marker": {
          "color": "#636efa",
          "symbol": "circle"
         },
         "mode": "markers",
         "name": "Python",
         "orientation": "v",
         "showlegend": true,
         "type": "scatter",
         "x": [
          "analyst",
          "Data scientist project manager",
          "data analitics",
          "na",
          "other scientist",
          "data modeler",
          "data engineer",
          "data scientist",
          "machine learning engineer"
         ],
         "xaxis": "x",
         "y": [
          0.29,
          0.25,
          0.75,
          0.33,
          0.09,
          0,
          0.71,
          0.77,
          1
         ],
         "yaxis": "y"
        },
        {
         "hovertemplate": "variable=spark<br>job_title_sim=%{x}<br>value=%{y}<extra></extra>",
         "legendgroup": "spark",
         "marker": {
          "color": "#EF553B",
          "symbol": "circle"
         },
         "mode": "markers",
         "name": "spark",
         "orientation": "v",
         "showlegend": true,
         "type": "scatter",
         "x": [
          "analyst",
          "Data scientist project manager",
          "data analitics",
          "na",
          "other scientist",
          "data modeler",
          "data engineer",
          "data scientist",
          "machine learning engineer"
         ],
         "xaxis": "x",
         "y": [
          0.02,
          0,
          0,
          0.33,
          0,
          0,
          0.61,
          0.29,
          0.5
         ],
         "yaxis": "y"
        },
        {
         "hovertemplate": "variable=aws<br>job_title_sim=%{x}<br>value=%{y}<extra></extra>",
         "legendgroup": "aws",
         "marker": {
          "color": "#00cc96",
          "symbol": "circle"
         },
         "mode": "markers",
         "name": "aws",
         "orientation": "v",
         "showlegend": true,
         "type": "scatter",
         "x": [
          "analyst",
          "Data scientist project manager",
          "data analitics",
          "na",
          "other scientist",
          "data modeler",
          "data engineer",
          "data scientist",
          "machine learning engineer"
         ],
         "xaxis": "x",
         "y": [
          0.05,
          0.25,
          0,
          0.33,
          0.12,
          0.5,
          0.51,
          0.23,
          0
         ],
         "yaxis": "y"
        },
        {
         "hovertemplate": "variable=excel<br>job_title_sim=%{x}<br>value=%{y}<extra></extra>",
         "legendgroup": "excel",
         "marker": {
          "color": "#ab63fa",
          "symbol": "circle"
         },
         "mode": "markers",
         "name": "excel",
         "orientation": "v",
         "showlegend": true,
         "type": "scatter",
         "x": [
          "analyst",
          "Data scientist project manager",
          "data analitics",
          "na",
          "other scientist",
          "data modeler",
          "data engineer",
          "data scientist",
          "machine learning engineer"
         ],
         "xaxis": "x",
         "y": [
          0.86,
          0.5,
          0.5,
          0.67,
          0.42,
          0.5,
          0.39,
          0.45,
          0.5
         ],
         "yaxis": "y"
        },
        {
         "hovertemplate": "variable=sql<br>job_title_sim=%{x}<br>value=%{y}<extra></extra>",
         "legendgroup": "sql",
         "marker": {
          "color": "#FFA15A",
          "symbol": "circle"
         },
         "mode": "markers",
         "name": "sql",
         "orientation": "v",
         "showlegend": true,
         "type": "scatter",
         "x": [
          "analyst",
          "Data scientist project manager",
          "data analitics",
          "na",
          "other scientist",
          "data modeler",
          "data engineer",
          "data scientist",
          "machine learning engineer"
         ],
         "xaxis": "x",
         "y": [
          0.74,
          0.75,
          0.75,
          0.67,
          0,
          0.5,
          0.88,
          0.59,
          1
         ],
         "yaxis": "y"
        },
        {
         "hovertemplate": "variable=sas<br>job_title_sim=%{x}<br>value=%{y}<extra></extra>",
         "legendgroup": "sas",
         "marker": {
          "color": "#19d3f3",
          "symbol": "circle"
         },
         "mode": "markers",
         "name": "sas",
         "orientation": "v",
         "showlegend": true,
         "type": "scatter",
         "x": [
          "analyst",
          "Data scientist project manager",
          "data analitics",
          "na",
          "other scientist",
          "data modeler",
          "data engineer",
          "data scientist",
          "machine learning engineer"
         ],
         "xaxis": "x",
         "y": [
          0.1,
          0,
          0.25,
          0,
          0.03,
          0,
          0,
          0.17,
          0
         ],
         "yaxis": "y"
        },
        {
         "hovertemplate": "variable=keras<br>job_title_sim=%{x}<br>value=%{y}<extra></extra>",
         "legendgroup": "keras",
         "marker": {
          "color": "#FF6692",
          "symbol": "circle"
         },
         "mode": "markers",
         "name": "keras",
         "orientation": "v",
         "showlegend": true,
         "type": "scatter",
         "x": [
          "analyst",
          "Data scientist project manager",
          "data analitics",
          "na",
          "other scientist",
          "data modeler",
          "data engineer",
          "data scientist",
          "machine learning engineer"
         ],
         "xaxis": "x",
         "y": [
          0,
          0,
          0,
          0,
          0,
          0,
          0,
          0.08,
          0
         ],
         "yaxis": "y"
        },
        {
         "hovertemplate": "variable=pytorch<br>job_title_sim=%{x}<br>value=%{y}<extra></extra>",
         "legendgroup": "pytorch",
         "marker": {
          "color": "#B6E880",
          "symbol": "circle"
         },
         "mode": "markers",
         "name": "pytorch",
         "orientation": "v",
         "showlegend": true,
         "type": "scatter",
         "x": [
          "analyst",
          "Data scientist project manager",
          "data analitics",
          "na",
          "other scientist",
          "data modeler",
          "data engineer",
          "data scientist",
          "machine learning engineer"
         ],
         "xaxis": "x",
         "y": [
          0,
          0,
          0,
          0,
          0.03,
          0,
          0,
          0.13,
          0
         ],
         "yaxis": "y"
        },
        {
         "hovertemplate": "variable=scikit<br>job_title_sim=%{x}<br>value=%{y}<extra></extra>",
         "legendgroup": "scikit",
         "marker": {
          "color": "#FF97FF",
          "symbol": "circle"
         },
         "mode": "markers",
         "name": "scikit",
         "orientation": "v",
         "showlegend": true,
         "type": "scatter",
         "x": [
          "analyst",
          "Data scientist project manager",
          "data analitics",
          "na",
          "other scientist",
          "data modeler",
          "data engineer",
          "data scientist",
          "machine learning engineer"
         ],
         "xaxis": "x",
         "y": [
          0,
          0,
          0,
          0,
          0,
          0,
          0,
          0.18,
          0.5
         ],
         "yaxis": "y"
        },
        {
         "hovertemplate": "variable=tensor<br>job_title_sim=%{x}<br>value=%{y}<extra></extra>",
         "legendgroup": "tensor",
         "marker": {
          "color": "#FECB52",
          "symbol": "circle"
         },
         "mode": "markers",
         "name": "tensor",
         "orientation": "v",
         "showlegend": true,
         "type": "scatter",
         "x": [
          "analyst",
          "Data scientist project manager",
          "data analitics",
          "na",
          "other scientist",
          "data modeler",
          "data engineer",
          "data scientist",
          "machine learning engineer"
         ],
         "xaxis": "x",
         "y": [
          0,
          0,
          0,
          0,
          0.03,
          0,
          0.02,
          0.2,
          0.5
         ],
         "yaxis": "y"
        },
        {
         "hovertemplate": "variable=hadoop<br>job_title_sim=%{x}<br>value=%{y}<extra></extra>",
         "legendgroup": "hadoop",
         "marker": {
          "color": "#636efa",
          "symbol": "circle"
         },
         "mode": "markers",
         "name": "hadoop",
         "orientation": "v",
         "showlegend": true,
         "type": "scatter",
         "x": [
          "analyst",
          "Data scientist project manager",
          "data analitics",
          "na",
          "other scientist",
          "data modeler",
          "data engineer",
          "data scientist",
          "machine learning engineer"
         ],
         "xaxis": "x",
         "y": [
          0.02,
          0,
          0,
          0.67,
          0,
          0,
          0.46,
          0.23,
          0.5
         ],
         "yaxis": "y"
        },
        {
         "hovertemplate": "variable=tableau<br>job_title_sim=%{x}<br>value=%{y}<extra></extra>",
         "legendgroup": "tableau",
         "marker": {
          "color": "#EF553B",
          "symbol": "circle"
         },
         "mode": "markers",
         "name": "tableau",
         "orientation": "v",
         "showlegend": true,
         "type": "scatter",
         "x": [
          "analyst",
          "Data scientist project manager",
          "data analitics",
          "na",
          "other scientist",
          "data modeler",
          "data engineer",
          "data scientist",
          "machine learning engineer"
         ],
         "xaxis": "x",
         "y": [
          0.38,
          0.5,
          0.5,
          0,
          0,
          0,
          0.15,
          0.24,
          0
         ],
         "yaxis": "y"
        },
        {
         "hovertemplate": "variable=bi<br>job_title_sim=%{x}<br>value=%{y}<extra></extra>",
         "legendgroup": "bi",
         "marker": {
          "color": "#00cc96",
          "symbol": "circle"
         },
         "mode": "markers",
         "name": "bi",
         "orientation": "v",
         "showlegend": true,
         "type": "scatter",
         "x": [
          "analyst",
          "Data scientist project manager",
          "data analitics",
          "na",
          "other scientist",
          "data modeler",
          "data engineer",
          "data scientist",
          "machine learning engineer"
         ],
         "xaxis": "x",
         "y": [
          0.17,
          0,
          0.25,
          0,
          0,
          0,
          0.07,
          0.1,
          0
         ],
         "yaxis": "y"
        },
        {
         "hovertemplate": "variable=flink<br>job_title_sim=%{x}<br>value=%{y}<extra></extra>",
         "legendgroup": "flink",
         "marker": {
          "color": "#ab63fa",
          "symbol": "circle"
         },
         "mode": "markers",
         "name": "flink",
         "orientation": "v",
         "showlegend": true,
         "type": "scatter",
         "x": [
          "analyst",
          "Data scientist project manager",
          "data analitics",
          "na",
          "other scientist",
          "data modeler",
          "data engineer",
          "data scientist",
          "machine learning engineer"
         ],
         "xaxis": "x",
         "y": [
          0,
          0,
          0,
          0,
          0,
          0,
          0.1,
          0.01,
          0
         ],
         "yaxis": "y"
        },
        {
         "hovertemplate": "variable=mongo<br>job_title_sim=%{x}<br>value=%{y}<extra></extra>",
         "legendgroup": "mongo",
         "marker": {
          "color": "#FFA15A",
          "symbol": "circle"
         },
         "mode": "markers",
         "name": "mongo",
         "orientation": "v",
         "showlegend": true,
         "type": "scatter",
         "x": [
          "analyst",
          "Data scientist project manager",
          "data analitics",
          "na",
          "other scientist",
          "data modeler",
          "data engineer",
          "data scientist",
          "machine learning engineer"
         ],
         "xaxis": "x",
         "y": [
          0.05,
          0,
          0,
          0,
          0,
          0,
          0.12,
          0.06,
          0
         ],
         "yaxis": "y"
        },
        {
         "hovertemplate": "variable=google_an<br>job_title_sim=%{x}<br>value=%{y}<extra></extra>",
         "legendgroup": "google_an",
         "marker": {
          "color": "#19d3f3",
          "symbol": "circle"
         },
         "mode": "markers",
         "name": "google_an",
         "orientation": "v",
         "showlegend": true,
         "type": "scatter",
         "x": [
          "analyst",
          "Data scientist project manager",
          "data analitics",
          "na",
          "other scientist",
          "data modeler",
          "data engineer",
          "data scientist",
          "machine learning engineer"
         ],
         "xaxis": "x",
         "y": [
          0.12,
          0,
          0,
          0,
          0,
          0,
          0,
          0.02,
          0
         ],
         "yaxis": "y"
        }
       ],
       "layout": {
        "legend": {
         "title": {
          "text": "variable"
         },
         "tracegroupgap": 0
        },
        "template": {
         "data": {
          "bar": [
           {
            "error_x": {
             "color": "#2a3f5f"
            },
            "error_y": {
             "color": "#2a3f5f"
            },
            "marker": {
             "line": {
              "color": "#E5ECF6",
              "width": 0.5
             },
             "pattern": {
              "fillmode": "overlay",
              "size": 10,
              "solidity": 0.2
             }
            },
            "type": "bar"
           }
          ],
          "barpolar": [
           {
            "marker": {
             "line": {
              "color": "#E5ECF6",
              "width": 0.5
             },
             "pattern": {
              "fillmode": "overlay",
              "size": 10,
              "solidity": 0.2
             }
            },
            "type": "barpolar"
           }
          ],
          "carpet": [
           {
            "aaxis": {
             "endlinecolor": "#2a3f5f",
             "gridcolor": "white",
             "linecolor": "white",
             "minorgridcolor": "white",
             "startlinecolor": "#2a3f5f"
            },
            "baxis": {
             "endlinecolor": "#2a3f5f",
             "gridcolor": "white",
             "linecolor": "white",
             "minorgridcolor": "white",
             "startlinecolor": "#2a3f5f"
            },
            "type": "carpet"
           }
          ],
          "choropleth": [
           {
            "colorbar": {
             "outlinewidth": 0,
             "ticks": ""
            },
            "type": "choropleth"
           }
          ],
          "contour": [
           {
            "colorbar": {
             "outlinewidth": 0,
             "ticks": ""
            },
            "colorscale": [
             [
              0,
              "#0d0887"
             ],
             [
              0.1111111111111111,
              "#46039f"
             ],
             [
              0.2222222222222222,
              "#7201a8"
             ],
             [
              0.3333333333333333,
              "#9c179e"
             ],
             [
              0.4444444444444444,
              "#bd3786"
             ],
             [
              0.5555555555555556,
              "#d8576b"
             ],
             [
              0.6666666666666666,
              "#ed7953"
             ],
             [
              0.7777777777777778,
              "#fb9f3a"
             ],
             [
              0.8888888888888888,
              "#fdca26"
             ],
             [
              1,
              "#f0f921"
             ]
            ],
            "type": "contour"
           }
          ],
          "contourcarpet": [
           {
            "colorbar": {
             "outlinewidth": 0,
             "ticks": ""
            },
            "type": "contourcarpet"
           }
          ],
          "heatmap": [
           {
            "colorbar": {
             "outlinewidth": 0,
             "ticks": ""
            },
            "colorscale": [
             [
              0,
              "#0d0887"
             ],
             [
              0.1111111111111111,
              "#46039f"
             ],
             [
              0.2222222222222222,
              "#7201a8"
             ],
             [
              0.3333333333333333,
              "#9c179e"
             ],
             [
              0.4444444444444444,
              "#bd3786"
             ],
             [
              0.5555555555555556,
              "#d8576b"
             ],
             [
              0.6666666666666666,
              "#ed7953"
             ],
             [
              0.7777777777777778,
              "#fb9f3a"
             ],
             [
              0.8888888888888888,
              "#fdca26"
             ],
             [
              1,
              "#f0f921"
             ]
            ],
            "type": "heatmap"
           }
          ],
          "heatmapgl": [
           {
            "colorbar": {
             "outlinewidth": 0,
             "ticks": ""
            },
            "colorscale": [
             [
              0,
              "#0d0887"
             ],
             [
              0.1111111111111111,
              "#46039f"
             ],
             [
              0.2222222222222222,
              "#7201a8"
             ],
             [
              0.3333333333333333,
              "#9c179e"
             ],
             [
              0.4444444444444444,
              "#bd3786"
             ],
             [
              0.5555555555555556,
              "#d8576b"
             ],
             [
              0.6666666666666666,
              "#ed7953"
             ],
             [
              0.7777777777777778,
              "#fb9f3a"
             ],
             [
              0.8888888888888888,
              "#fdca26"
             ],
             [
              1,
              "#f0f921"
             ]
            ],
            "type": "heatmapgl"
           }
          ],
          "histogram": [
           {
            "marker": {
             "pattern": {
              "fillmode": "overlay",
              "size": 10,
              "solidity": 0.2
             }
            },
            "type": "histogram"
           }
          ],
          "histogram2d": [
           {
            "colorbar": {
             "outlinewidth": 0,
             "ticks": ""
            },
            "colorscale": [
             [
              0,
              "#0d0887"
             ],
             [
              0.1111111111111111,
              "#46039f"
             ],
             [
              0.2222222222222222,
              "#7201a8"
             ],
             [
              0.3333333333333333,
              "#9c179e"
             ],
             [
              0.4444444444444444,
              "#bd3786"
             ],
             [
              0.5555555555555556,
              "#d8576b"
             ],
             [
              0.6666666666666666,
              "#ed7953"
             ],
             [
              0.7777777777777778,
              "#fb9f3a"
             ],
             [
              0.8888888888888888,
              "#fdca26"
             ],
             [
              1,
              "#f0f921"
             ]
            ],
            "type": "histogram2d"
           }
          ],
          "histogram2dcontour": [
           {
            "colorbar": {
             "outlinewidth": 0,
             "ticks": ""
            },
            "colorscale": [
             [
              0,
              "#0d0887"
             ],
             [
              0.1111111111111111,
              "#46039f"
             ],
             [
              0.2222222222222222,
              "#7201a8"
             ],
             [
              0.3333333333333333,
              "#9c179e"
             ],
             [
              0.4444444444444444,
              "#bd3786"
             ],
             [
              0.5555555555555556,
              "#d8576b"
             ],
             [
              0.6666666666666666,
              "#ed7953"
             ],
             [
              0.7777777777777778,
              "#fb9f3a"
             ],
             [
              0.8888888888888888,
              "#fdca26"
             ],
             [
              1,
              "#f0f921"
             ]
            ],
            "type": "histogram2dcontour"
           }
          ],
          "mesh3d": [
           {
            "colorbar": {
             "outlinewidth": 0,
             "ticks": ""
            },
            "type": "mesh3d"
           }
          ],
          "parcoords": [
           {
            "line": {
             "colorbar": {
              "outlinewidth": 0,
              "ticks": ""
             }
            },
            "type": "parcoords"
           }
          ],
          "pie": [
           {
            "automargin": true,
            "type": "pie"
           }
          ],
          "scatter": [
           {
            "fillpattern": {
             "fillmode": "overlay",
             "size": 10,
             "solidity": 0.2
            },
            "type": "scatter"
           }
          ],
          "scatter3d": [
           {
            "line": {
             "colorbar": {
              "outlinewidth": 0,
              "ticks": ""
             }
            },
            "marker": {
             "colorbar": {
              "outlinewidth": 0,
              "ticks": ""
             }
            },
            "type": "scatter3d"
           }
          ],
          "scattercarpet": [
           {
            "marker": {
             "colorbar": {
              "outlinewidth": 0,
              "ticks": ""
             }
            },
            "type": "scattercarpet"
           }
          ],
          "scattergeo": [
           {
            "marker": {
             "colorbar": {
              "outlinewidth": 0,
              "ticks": ""
             }
            },
            "type": "scattergeo"
           }
          ],
          "scattergl": [
           {
            "marker": {
             "colorbar": {
              "outlinewidth": 0,
              "ticks": ""
             }
            },
            "type": "scattergl"
           }
          ],
          "scattermapbox": [
           {
            "marker": {
             "colorbar": {
              "outlinewidth": 0,
              "ticks": ""
             }
            },
            "type": "scattermapbox"
           }
          ],
          "scatterpolar": [
           {
            "marker": {
             "colorbar": {
              "outlinewidth": 0,
              "ticks": ""
             }
            },
            "type": "scatterpolar"
           }
          ],
          "scatterpolargl": [
           {
            "marker": {
             "colorbar": {
              "outlinewidth": 0,
              "ticks": ""
             }
            },
            "type": "scatterpolargl"
           }
          ],
          "scatterternary": [
           {
            "marker": {
             "colorbar": {
              "outlinewidth": 0,
              "ticks": ""
             }
            },
            "type": "scatterternary"
           }
          ],
          "surface": [
           {
            "colorbar": {
             "outlinewidth": 0,
             "ticks": ""
            },
            "colorscale": [
             [
              0,
              "#0d0887"
             ],
             [
              0.1111111111111111,
              "#46039f"
             ],
             [
              0.2222222222222222,
              "#7201a8"
             ],
             [
              0.3333333333333333,
              "#9c179e"
             ],
             [
              0.4444444444444444,
              "#bd3786"
             ],
             [
              0.5555555555555556,
              "#d8576b"
             ],
             [
              0.6666666666666666,
              "#ed7953"
             ],
             [
              0.7777777777777778,
              "#fb9f3a"
             ],
             [
              0.8888888888888888,
              "#fdca26"
             ],
             [
              1,
              "#f0f921"
             ]
            ],
            "type": "surface"
           }
          ],
          "table": [
           {
            "cells": {
             "fill": {
              "color": "#EBF0F8"
             },
             "line": {
              "color": "white"
             }
            },
            "header": {
             "fill": {
              "color": "#C8D4E3"
             },
             "line": {
              "color": "white"
             }
            },
            "type": "table"
           }
          ]
         },
         "layout": {
          "annotationdefaults": {
           "arrowcolor": "#2a3f5f",
           "arrowhead": 0,
           "arrowwidth": 1
          },
          "autotypenumbers": "strict",
          "coloraxis": {
           "colorbar": {
            "outlinewidth": 0,
            "ticks": ""
           }
          },
          "colorscale": {
           "diverging": [
            [
             0,
             "#8e0152"
            ],
            [
             0.1,
             "#c51b7d"
            ],
            [
             0.2,
             "#de77ae"
            ],
            [
             0.3,
             "#f1b6da"
            ],
            [
             0.4,
             "#fde0ef"
            ],
            [
             0.5,
             "#f7f7f7"
            ],
            [
             0.6,
             "#e6f5d0"
            ],
            [
             0.7,
             "#b8e186"
            ],
            [
             0.8,
             "#7fbc41"
            ],
            [
             0.9,
             "#4d9221"
            ],
            [
             1,
             "#276419"
            ]
           ],
           "sequential": [
            [
             0,
             "#0d0887"
            ],
            [
             0.1111111111111111,
             "#46039f"
            ],
            [
             0.2222222222222222,
             "#7201a8"
            ],
            [
             0.3333333333333333,
             "#9c179e"
            ],
            [
             0.4444444444444444,
             "#bd3786"
            ],
            [
             0.5555555555555556,
             "#d8576b"
            ],
            [
             0.6666666666666666,
             "#ed7953"
            ],
            [
             0.7777777777777778,
             "#fb9f3a"
            ],
            [
             0.8888888888888888,
             "#fdca26"
            ],
            [
             1,
             "#f0f921"
            ]
           ],
           "sequentialminus": [
            [
             0,
             "#0d0887"
            ],
            [
             0.1111111111111111,
             "#46039f"
            ],
            [
             0.2222222222222222,
             "#7201a8"
            ],
            [
             0.3333333333333333,
             "#9c179e"
            ],
            [
             0.4444444444444444,
             "#bd3786"
            ],
            [
             0.5555555555555556,
             "#d8576b"
            ],
            [
             0.6666666666666666,
             "#ed7953"
            ],
            [
             0.7777777777777778,
             "#fb9f3a"
            ],
            [
             0.8888888888888888,
             "#fdca26"
            ],
            [
             1,
             "#f0f921"
            ]
           ]
          },
          "colorway": [
           "#636efa",
           "#EF553B",
           "#00cc96",
           "#ab63fa",
           "#FFA15A",
           "#19d3f3",
           "#FF6692",
           "#B6E880",
           "#FF97FF",
           "#FECB52"
          ],
          "font": {
           "color": "#2a3f5f"
          },
          "geo": {
           "bgcolor": "white",
           "lakecolor": "white",
           "landcolor": "#E5ECF6",
           "showlakes": true,
           "showland": true,
           "subunitcolor": "white"
          },
          "hoverlabel": {
           "align": "left"
          },
          "hovermode": "closest",
          "mapbox": {
           "style": "light"
          },
          "paper_bgcolor": "white",
          "plot_bgcolor": "#E5ECF6",
          "polar": {
           "angularaxis": {
            "gridcolor": "white",
            "linecolor": "white",
            "ticks": ""
           },
           "bgcolor": "#E5ECF6",
           "radialaxis": {
            "gridcolor": "white",
            "linecolor": "white",
            "ticks": ""
           }
          },
          "scene": {
           "xaxis": {
            "backgroundcolor": "#E5ECF6",
            "gridcolor": "white",
            "gridwidth": 2,
            "linecolor": "white",
            "showbackground": true,
            "ticks": "",
            "zerolinecolor": "white"
           },
           "yaxis": {
            "backgroundcolor": "#E5ECF6",
            "gridcolor": "white",
            "gridwidth": 2,
            "linecolor": "white",
            "showbackground": true,
            "ticks": "",
            "zerolinecolor": "white"
           },
           "zaxis": {
            "backgroundcolor": "#E5ECF6",
            "gridcolor": "white",
            "gridwidth": 2,
            "linecolor": "white",
            "showbackground": true,
            "ticks": "",
            "zerolinecolor": "white"
           }
          },
          "shapedefaults": {
           "line": {
            "color": "#2a3f5f"
           }
          },
          "ternary": {
           "aaxis": {
            "gridcolor": "white",
            "linecolor": "white",
            "ticks": ""
           },
           "baxis": {
            "gridcolor": "white",
            "linecolor": "white",
            "ticks": ""
           },
           "bgcolor": "#E5ECF6",
           "caxis": {
            "gridcolor": "white",
            "linecolor": "white",
            "ticks": ""
           }
          },
          "title": {
           "x": 0.05
          },
          "xaxis": {
           "automargin": true,
           "gridcolor": "white",
           "linecolor": "white",
           "ticks": "",
           "title": {
            "standoff": 15
           },
           "zerolinecolor": "white",
           "zerolinewidth": 2
          },
          "yaxis": {
           "automargin": true,
           "gridcolor": "white",
           "linecolor": "white",
           "ticks": "",
           "title": {
            "standoff": 15
           },
           "zerolinecolor": "white",
           "zerolinewidth": 2
          }
         }
        },
        "title": {
         "text": "Job Title sim vs Avg Salary(K) and All Skills"
        },
        "xaxis": {
         "anchor": "y",
         "domain": [
          0,
          1
         ],
         "title": {
          "text": "job_title_sim"
         }
        },
        "yaxis": {
         "anchor": "x",
         "domain": [
          0,
          1
         ],
         "title": {
          "text": "value"
         }
        }
       }
      },
      "text/html": [
       "<div>                            <div id=\"12e8d907-eee3-4eba-a709-e8e58e37d942\" class=\"plotly-graph-div\" style=\"height:525px; width:100%;\"></div>            <script type=\"text/javascript\">                require([\"plotly\"], function(Plotly) {                    window.PLOTLYENV=window.PLOTLYENV || {};                                    if (document.getElementById(\"12e8d907-eee3-4eba-a709-e8e58e37d942\")) {                    Plotly.newPlot(                        \"12e8d907-eee3-4eba-a709-e8e58e37d942\",                        [{\"hovertemplate\":\"variable=Python<br>job_title_sim=%{x}<br>value=%{y}<extra></extra>\",\"legendgroup\":\"Python\",\"marker\":{\"color\":\"#636efa\",\"symbol\":\"circle\"},\"mode\":\"markers\",\"name\":\"Python\",\"orientation\":\"v\",\"showlegend\":true,\"x\":[\"analyst\",\"Data scientist project manager\",\"data analitics\",\"na\",\"other scientist\",\"data modeler\",\"data engineer\",\"data scientist\",\"machine learning engineer\"],\"xaxis\":\"x\",\"y\":[0.29,0.25,0.75,0.33,0.09,0.0,0.71,0.77,1.0],\"yaxis\":\"y\",\"type\":\"scatter\"},{\"hovertemplate\":\"variable=spark<br>job_title_sim=%{x}<br>value=%{y}<extra></extra>\",\"legendgroup\":\"spark\",\"marker\":{\"color\":\"#EF553B\",\"symbol\":\"circle\"},\"mode\":\"markers\",\"name\":\"spark\",\"orientation\":\"v\",\"showlegend\":true,\"x\":[\"analyst\",\"Data scientist project manager\",\"data analitics\",\"na\",\"other scientist\",\"data modeler\",\"data engineer\",\"data scientist\",\"machine learning engineer\"],\"xaxis\":\"x\",\"y\":[0.02,0.0,0.0,0.33,0.0,0.0,0.61,0.29,0.5],\"yaxis\":\"y\",\"type\":\"scatter\"},{\"hovertemplate\":\"variable=aws<br>job_title_sim=%{x}<br>value=%{y}<extra></extra>\",\"legendgroup\":\"aws\",\"marker\":{\"color\":\"#00cc96\",\"symbol\":\"circle\"},\"mode\":\"markers\",\"name\":\"aws\",\"orientation\":\"v\",\"showlegend\":true,\"x\":[\"analyst\",\"Data scientist project manager\",\"data analitics\",\"na\",\"other scientist\",\"data modeler\",\"data engineer\",\"data scientist\",\"machine learning engineer\"],\"xaxis\":\"x\",\"y\":[0.05,0.25,0.0,0.33,0.12,0.5,0.51,0.23,0.0],\"yaxis\":\"y\",\"type\":\"scatter\"},{\"hovertemplate\":\"variable=excel<br>job_title_sim=%{x}<br>value=%{y}<extra></extra>\",\"legendgroup\":\"excel\",\"marker\":{\"color\":\"#ab63fa\",\"symbol\":\"circle\"},\"mode\":\"markers\",\"name\":\"excel\",\"orientation\":\"v\",\"showlegend\":true,\"x\":[\"analyst\",\"Data scientist project manager\",\"data analitics\",\"na\",\"other scientist\",\"data modeler\",\"data engineer\",\"data scientist\",\"machine learning engineer\"],\"xaxis\":\"x\",\"y\":[0.86,0.5,0.5,0.67,0.42,0.5,0.39,0.45,0.5],\"yaxis\":\"y\",\"type\":\"scatter\"},{\"hovertemplate\":\"variable=sql<br>job_title_sim=%{x}<br>value=%{y}<extra></extra>\",\"legendgroup\":\"sql\",\"marker\":{\"color\":\"#FFA15A\",\"symbol\":\"circle\"},\"mode\":\"markers\",\"name\":\"sql\",\"orientation\":\"v\",\"showlegend\":true,\"x\":[\"analyst\",\"Data scientist project manager\",\"data analitics\",\"na\",\"other scientist\",\"data modeler\",\"data engineer\",\"data scientist\",\"machine learning engineer\"],\"xaxis\":\"x\",\"y\":[0.74,0.75,0.75,0.67,0.0,0.5,0.88,0.59,1.0],\"yaxis\":\"y\",\"type\":\"scatter\"},{\"hovertemplate\":\"variable=sas<br>job_title_sim=%{x}<br>value=%{y}<extra></extra>\",\"legendgroup\":\"sas\",\"marker\":{\"color\":\"#19d3f3\",\"symbol\":\"circle\"},\"mode\":\"markers\",\"name\":\"sas\",\"orientation\":\"v\",\"showlegend\":true,\"x\":[\"analyst\",\"Data scientist project manager\",\"data analitics\",\"na\",\"other scientist\",\"data modeler\",\"data engineer\",\"data scientist\",\"machine learning engineer\"],\"xaxis\":\"x\",\"y\":[0.1,0.0,0.25,0.0,0.03,0.0,0.0,0.17,0.0],\"yaxis\":\"y\",\"type\":\"scatter\"},{\"hovertemplate\":\"variable=keras<br>job_title_sim=%{x}<br>value=%{y}<extra></extra>\",\"legendgroup\":\"keras\",\"marker\":{\"color\":\"#FF6692\",\"symbol\":\"circle\"},\"mode\":\"markers\",\"name\":\"keras\",\"orientation\":\"v\",\"showlegend\":true,\"x\":[\"analyst\",\"Data scientist project manager\",\"data analitics\",\"na\",\"other scientist\",\"data modeler\",\"data engineer\",\"data scientist\",\"machine learning engineer\"],\"xaxis\":\"x\",\"y\":[0.0,0.0,0.0,0.0,0.0,0.0,0.0,0.08,0.0],\"yaxis\":\"y\",\"type\":\"scatter\"},{\"hovertemplate\":\"variable=pytorch<br>job_title_sim=%{x}<br>value=%{y}<extra></extra>\",\"legendgroup\":\"pytorch\",\"marker\":{\"color\":\"#B6E880\",\"symbol\":\"circle\"},\"mode\":\"markers\",\"name\":\"pytorch\",\"orientation\":\"v\",\"showlegend\":true,\"x\":[\"analyst\",\"Data scientist project manager\",\"data analitics\",\"na\",\"other scientist\",\"data modeler\",\"data engineer\",\"data scientist\",\"machine learning engineer\"],\"xaxis\":\"x\",\"y\":[0.0,0.0,0.0,0.0,0.03,0.0,0.0,0.13,0.0],\"yaxis\":\"y\",\"type\":\"scatter\"},{\"hovertemplate\":\"variable=scikit<br>job_title_sim=%{x}<br>value=%{y}<extra></extra>\",\"legendgroup\":\"scikit\",\"marker\":{\"color\":\"#FF97FF\",\"symbol\":\"circle\"},\"mode\":\"markers\",\"name\":\"scikit\",\"orientation\":\"v\",\"showlegend\":true,\"x\":[\"analyst\",\"Data scientist project manager\",\"data analitics\",\"na\",\"other scientist\",\"data modeler\",\"data engineer\",\"data scientist\",\"machine learning engineer\"],\"xaxis\":\"x\",\"y\":[0.0,0.0,0.0,0.0,0.0,0.0,0.0,0.18,0.5],\"yaxis\":\"y\",\"type\":\"scatter\"},{\"hovertemplate\":\"variable=tensor<br>job_title_sim=%{x}<br>value=%{y}<extra></extra>\",\"legendgroup\":\"tensor\",\"marker\":{\"color\":\"#FECB52\",\"symbol\":\"circle\"},\"mode\":\"markers\",\"name\":\"tensor\",\"orientation\":\"v\",\"showlegend\":true,\"x\":[\"analyst\",\"Data scientist project manager\",\"data analitics\",\"na\",\"other scientist\",\"data modeler\",\"data engineer\",\"data scientist\",\"machine learning engineer\"],\"xaxis\":\"x\",\"y\":[0.0,0.0,0.0,0.0,0.03,0.0,0.02,0.2,0.5],\"yaxis\":\"y\",\"type\":\"scatter\"},{\"hovertemplate\":\"variable=hadoop<br>job_title_sim=%{x}<br>value=%{y}<extra></extra>\",\"legendgroup\":\"hadoop\",\"marker\":{\"color\":\"#636efa\",\"symbol\":\"circle\"},\"mode\":\"markers\",\"name\":\"hadoop\",\"orientation\":\"v\",\"showlegend\":true,\"x\":[\"analyst\",\"Data scientist project manager\",\"data analitics\",\"na\",\"other scientist\",\"data modeler\",\"data engineer\",\"data scientist\",\"machine learning engineer\"],\"xaxis\":\"x\",\"y\":[0.02,0.0,0.0,0.67,0.0,0.0,0.46,0.23,0.5],\"yaxis\":\"y\",\"type\":\"scatter\"},{\"hovertemplate\":\"variable=tableau<br>job_title_sim=%{x}<br>value=%{y}<extra></extra>\",\"legendgroup\":\"tableau\",\"marker\":{\"color\":\"#EF553B\",\"symbol\":\"circle\"},\"mode\":\"markers\",\"name\":\"tableau\",\"orientation\":\"v\",\"showlegend\":true,\"x\":[\"analyst\",\"Data scientist project manager\",\"data analitics\",\"na\",\"other scientist\",\"data modeler\",\"data engineer\",\"data scientist\",\"machine learning engineer\"],\"xaxis\":\"x\",\"y\":[0.38,0.5,0.5,0.0,0.0,0.0,0.15,0.24,0.0],\"yaxis\":\"y\",\"type\":\"scatter\"},{\"hovertemplate\":\"variable=bi<br>job_title_sim=%{x}<br>value=%{y}<extra></extra>\",\"legendgroup\":\"bi\",\"marker\":{\"color\":\"#00cc96\",\"symbol\":\"circle\"},\"mode\":\"markers\",\"name\":\"bi\",\"orientation\":\"v\",\"showlegend\":true,\"x\":[\"analyst\",\"Data scientist project manager\",\"data analitics\",\"na\",\"other scientist\",\"data modeler\",\"data engineer\",\"data scientist\",\"machine learning engineer\"],\"xaxis\":\"x\",\"y\":[0.17,0.0,0.25,0.0,0.0,0.0,0.07,0.1,0.0],\"yaxis\":\"y\",\"type\":\"scatter\"},{\"hovertemplate\":\"variable=flink<br>job_title_sim=%{x}<br>value=%{y}<extra></extra>\",\"legendgroup\":\"flink\",\"marker\":{\"color\":\"#ab63fa\",\"symbol\":\"circle\"},\"mode\":\"markers\",\"name\":\"flink\",\"orientation\":\"v\",\"showlegend\":true,\"x\":[\"analyst\",\"Data scientist project manager\",\"data analitics\",\"na\",\"other scientist\",\"data modeler\",\"data engineer\",\"data scientist\",\"machine learning engineer\"],\"xaxis\":\"x\",\"y\":[0.0,0.0,0.0,0.0,0.0,0.0,0.1,0.01,0.0],\"yaxis\":\"y\",\"type\":\"scatter\"},{\"hovertemplate\":\"variable=mongo<br>job_title_sim=%{x}<br>value=%{y}<extra></extra>\",\"legendgroup\":\"mongo\",\"marker\":{\"color\":\"#FFA15A\",\"symbol\":\"circle\"},\"mode\":\"markers\",\"name\":\"mongo\",\"orientation\":\"v\",\"showlegend\":true,\"x\":[\"analyst\",\"Data scientist project manager\",\"data analitics\",\"na\",\"other scientist\",\"data modeler\",\"data engineer\",\"data scientist\",\"machine learning engineer\"],\"xaxis\":\"x\",\"y\":[0.05,0.0,0.0,0.0,0.0,0.0,0.12,0.06,0.0],\"yaxis\":\"y\",\"type\":\"scatter\"},{\"hovertemplate\":\"variable=google_an<br>job_title_sim=%{x}<br>value=%{y}<extra></extra>\",\"legendgroup\":\"google_an\",\"marker\":{\"color\":\"#19d3f3\",\"symbol\":\"circle\"},\"mode\":\"markers\",\"name\":\"google_an\",\"orientation\":\"v\",\"showlegend\":true,\"x\":[\"analyst\",\"Data scientist project manager\",\"data analitics\",\"na\",\"other scientist\",\"data modeler\",\"data engineer\",\"data scientist\",\"machine learning engineer\"],\"xaxis\":\"x\",\"y\":[0.12,0.0,0.0,0.0,0.0,0.0,0.0,0.02,0.0],\"yaxis\":\"y\",\"type\":\"scatter\"}],                        {\"template\":{\"data\":{\"histogram2dcontour\":[{\"type\":\"histogram2dcontour\",\"colorbar\":{\"outlinewidth\":0,\"ticks\":\"\"},\"colorscale\":[[0.0,\"#0d0887\"],[0.1111111111111111,\"#46039f\"],[0.2222222222222222,\"#7201a8\"],[0.3333333333333333,\"#9c179e\"],[0.4444444444444444,\"#bd3786\"],[0.5555555555555556,\"#d8576b\"],[0.6666666666666666,\"#ed7953\"],[0.7777777777777778,\"#fb9f3a\"],[0.8888888888888888,\"#fdca26\"],[1.0,\"#f0f921\"]]}],\"choropleth\":[{\"type\":\"choropleth\",\"colorbar\":{\"outlinewidth\":0,\"ticks\":\"\"}}],\"histogram2d\":[{\"type\":\"histogram2d\",\"colorbar\":{\"outlinewidth\":0,\"ticks\":\"\"},\"colorscale\":[[0.0,\"#0d0887\"],[0.1111111111111111,\"#46039f\"],[0.2222222222222222,\"#7201a8\"],[0.3333333333333333,\"#9c179e\"],[0.4444444444444444,\"#bd3786\"],[0.5555555555555556,\"#d8576b\"],[0.6666666666666666,\"#ed7953\"],[0.7777777777777778,\"#fb9f3a\"],[0.8888888888888888,\"#fdca26\"],[1.0,\"#f0f921\"]]}],\"heatmap\":[{\"type\":\"heatmap\",\"colorbar\":{\"outlinewidth\":0,\"ticks\":\"\"},\"colorscale\":[[0.0,\"#0d0887\"],[0.1111111111111111,\"#46039f\"],[0.2222222222222222,\"#7201a8\"],[0.3333333333333333,\"#9c179e\"],[0.4444444444444444,\"#bd3786\"],[0.5555555555555556,\"#d8576b\"],[0.6666666666666666,\"#ed7953\"],[0.7777777777777778,\"#fb9f3a\"],[0.8888888888888888,\"#fdca26\"],[1.0,\"#f0f921\"]]}],\"heatmapgl\":[{\"type\":\"heatmapgl\",\"colorbar\":{\"outlinewidth\":0,\"ticks\":\"\"},\"colorscale\":[[0.0,\"#0d0887\"],[0.1111111111111111,\"#46039f\"],[0.2222222222222222,\"#7201a8\"],[0.3333333333333333,\"#9c179e\"],[0.4444444444444444,\"#bd3786\"],[0.5555555555555556,\"#d8576b\"],[0.6666666666666666,\"#ed7953\"],[0.7777777777777778,\"#fb9f3a\"],[0.8888888888888888,\"#fdca26\"],[1.0,\"#f0f921\"]]}],\"contourcarpet\":[{\"type\":\"contourcarpet\",\"colorbar\":{\"outlinewidth\":0,\"ticks\":\"\"}}],\"contour\":[{\"type\":\"contour\",\"colorbar\":{\"outlinewidth\":0,\"ticks\":\"\"},\"colorscale\":[[0.0,\"#0d0887\"],[0.1111111111111111,\"#46039f\"],[0.2222222222222222,\"#7201a8\"],[0.3333333333333333,\"#9c179e\"],[0.4444444444444444,\"#bd3786\"],[0.5555555555555556,\"#d8576b\"],[0.6666666666666666,\"#ed7953\"],[0.7777777777777778,\"#fb9f3a\"],[0.8888888888888888,\"#fdca26\"],[1.0,\"#f0f921\"]]}],\"surface\":[{\"type\":\"surface\",\"colorbar\":{\"outlinewidth\":0,\"ticks\":\"\"},\"colorscale\":[[0.0,\"#0d0887\"],[0.1111111111111111,\"#46039f\"],[0.2222222222222222,\"#7201a8\"],[0.3333333333333333,\"#9c179e\"],[0.4444444444444444,\"#bd3786\"],[0.5555555555555556,\"#d8576b\"],[0.6666666666666666,\"#ed7953\"],[0.7777777777777778,\"#fb9f3a\"],[0.8888888888888888,\"#fdca26\"],[1.0,\"#f0f921\"]]}],\"mesh3d\":[{\"type\":\"mesh3d\",\"colorbar\":{\"outlinewidth\":0,\"ticks\":\"\"}}],\"scatter\":[{\"fillpattern\":{\"fillmode\":\"overlay\",\"size\":10,\"solidity\":0.2},\"type\":\"scatter\"}],\"parcoords\":[{\"type\":\"parcoords\",\"line\":{\"colorbar\":{\"outlinewidth\":0,\"ticks\":\"\"}}}],\"scatterpolargl\":[{\"type\":\"scatterpolargl\",\"marker\":{\"colorbar\":{\"outlinewidth\":0,\"ticks\":\"\"}}}],\"bar\":[{\"error_x\":{\"color\":\"#2a3f5f\"},\"error_y\":{\"color\":\"#2a3f5f\"},\"marker\":{\"line\":{\"color\":\"#E5ECF6\",\"width\":0.5},\"pattern\":{\"fillmode\":\"overlay\",\"size\":10,\"solidity\":0.2}},\"type\":\"bar\"}],\"scattergeo\":[{\"type\":\"scattergeo\",\"marker\":{\"colorbar\":{\"outlinewidth\":0,\"ticks\":\"\"}}}],\"scatterpolar\":[{\"type\":\"scatterpolar\",\"marker\":{\"colorbar\":{\"outlinewidth\":0,\"ticks\":\"\"}}}],\"histogram\":[{\"marker\":{\"pattern\":{\"fillmode\":\"overlay\",\"size\":10,\"solidity\":0.2}},\"type\":\"histogram\"}],\"scattergl\":[{\"type\":\"scattergl\",\"marker\":{\"colorbar\":{\"outlinewidth\":0,\"ticks\":\"\"}}}],\"scatter3d\":[{\"type\":\"scatter3d\",\"line\":{\"colorbar\":{\"outlinewidth\":0,\"ticks\":\"\"}},\"marker\":{\"colorbar\":{\"outlinewidth\":0,\"ticks\":\"\"}}}],\"scattermapbox\":[{\"type\":\"scattermapbox\",\"marker\":{\"colorbar\":{\"outlinewidth\":0,\"ticks\":\"\"}}}],\"scatterternary\":[{\"type\":\"scatterternary\",\"marker\":{\"colorbar\":{\"outlinewidth\":0,\"ticks\":\"\"}}}],\"scattercarpet\":[{\"type\":\"scattercarpet\",\"marker\":{\"colorbar\":{\"outlinewidth\":0,\"ticks\":\"\"}}}],\"carpet\":[{\"aaxis\":{\"endlinecolor\":\"#2a3f5f\",\"gridcolor\":\"white\",\"linecolor\":\"white\",\"minorgridcolor\":\"white\",\"startlinecolor\":\"#2a3f5f\"},\"baxis\":{\"endlinecolor\":\"#2a3f5f\",\"gridcolor\":\"white\",\"linecolor\":\"white\",\"minorgridcolor\":\"white\",\"startlinecolor\":\"#2a3f5f\"},\"type\":\"carpet\"}],\"table\":[{\"cells\":{\"fill\":{\"color\":\"#EBF0F8\"},\"line\":{\"color\":\"white\"}},\"header\":{\"fill\":{\"color\":\"#C8D4E3\"},\"line\":{\"color\":\"white\"}},\"type\":\"table\"}],\"barpolar\":[{\"marker\":{\"line\":{\"color\":\"#E5ECF6\",\"width\":0.5},\"pattern\":{\"fillmode\":\"overlay\",\"size\":10,\"solidity\":0.2}},\"type\":\"barpolar\"}],\"pie\":[{\"automargin\":true,\"type\":\"pie\"}]},\"layout\":{\"autotypenumbers\":\"strict\",\"colorway\":[\"#636efa\",\"#EF553B\",\"#00cc96\",\"#ab63fa\",\"#FFA15A\",\"#19d3f3\",\"#FF6692\",\"#B6E880\",\"#FF97FF\",\"#FECB52\"],\"font\":{\"color\":\"#2a3f5f\"},\"hovermode\":\"closest\",\"hoverlabel\":{\"align\":\"left\"},\"paper_bgcolor\":\"white\",\"plot_bgcolor\":\"#E5ECF6\",\"polar\":{\"bgcolor\":\"#E5ECF6\",\"angularaxis\":{\"gridcolor\":\"white\",\"linecolor\":\"white\",\"ticks\":\"\"},\"radialaxis\":{\"gridcolor\":\"white\",\"linecolor\":\"white\",\"ticks\":\"\"}},\"ternary\":{\"bgcolor\":\"#E5ECF6\",\"aaxis\":{\"gridcolor\":\"white\",\"linecolor\":\"white\",\"ticks\":\"\"},\"baxis\":{\"gridcolor\":\"white\",\"linecolor\":\"white\",\"ticks\":\"\"},\"caxis\":{\"gridcolor\":\"white\",\"linecolor\":\"white\",\"ticks\":\"\"}},\"coloraxis\":{\"colorbar\":{\"outlinewidth\":0,\"ticks\":\"\"}},\"colorscale\":{\"sequential\":[[0.0,\"#0d0887\"],[0.1111111111111111,\"#46039f\"],[0.2222222222222222,\"#7201a8\"],[0.3333333333333333,\"#9c179e\"],[0.4444444444444444,\"#bd3786\"],[0.5555555555555556,\"#d8576b\"],[0.6666666666666666,\"#ed7953\"],[0.7777777777777778,\"#fb9f3a\"],[0.8888888888888888,\"#fdca26\"],[1.0,\"#f0f921\"]],\"sequentialminus\":[[0.0,\"#0d0887\"],[0.1111111111111111,\"#46039f\"],[0.2222222222222222,\"#7201a8\"],[0.3333333333333333,\"#9c179e\"],[0.4444444444444444,\"#bd3786\"],[0.5555555555555556,\"#d8576b\"],[0.6666666666666666,\"#ed7953\"],[0.7777777777777778,\"#fb9f3a\"],[0.8888888888888888,\"#fdca26\"],[1.0,\"#f0f921\"]],\"diverging\":[[0,\"#8e0152\"],[0.1,\"#c51b7d\"],[0.2,\"#de77ae\"],[0.3,\"#f1b6da\"],[0.4,\"#fde0ef\"],[0.5,\"#f7f7f7\"],[0.6,\"#e6f5d0\"],[0.7,\"#b8e186\"],[0.8,\"#7fbc41\"],[0.9,\"#4d9221\"],[1,\"#276419\"]]},\"xaxis\":{\"gridcolor\":\"white\",\"linecolor\":\"white\",\"ticks\":\"\",\"title\":{\"standoff\":15},\"zerolinecolor\":\"white\",\"automargin\":true,\"zerolinewidth\":2},\"yaxis\":{\"gridcolor\":\"white\",\"linecolor\":\"white\",\"ticks\":\"\",\"title\":{\"standoff\":15},\"zerolinecolor\":\"white\",\"automargin\":true,\"zerolinewidth\":2},\"scene\":{\"xaxis\":{\"backgroundcolor\":\"#E5ECF6\",\"gridcolor\":\"white\",\"linecolor\":\"white\",\"showbackground\":true,\"ticks\":\"\",\"zerolinecolor\":\"white\",\"gridwidth\":2},\"yaxis\":{\"backgroundcolor\":\"#E5ECF6\",\"gridcolor\":\"white\",\"linecolor\":\"white\",\"showbackground\":true,\"ticks\":\"\",\"zerolinecolor\":\"white\",\"gridwidth\":2},\"zaxis\":{\"backgroundcolor\":\"#E5ECF6\",\"gridcolor\":\"white\",\"linecolor\":\"white\",\"showbackground\":true,\"ticks\":\"\",\"zerolinecolor\":\"white\",\"gridwidth\":2}},\"shapedefaults\":{\"line\":{\"color\":\"#2a3f5f\"}},\"annotationdefaults\":{\"arrowcolor\":\"#2a3f5f\",\"arrowhead\":0,\"arrowwidth\":1},\"geo\":{\"bgcolor\":\"white\",\"landcolor\":\"#E5ECF6\",\"subunitcolor\":\"white\",\"showland\":true,\"showlakes\":true,\"lakecolor\":\"white\"},\"title\":{\"x\":0.05},\"mapbox\":{\"style\":\"light\"}}},\"xaxis\":{\"anchor\":\"y\",\"domain\":[0.0,1.0],\"title\":{\"text\":\"job_title_sim\"}},\"yaxis\":{\"anchor\":\"x\",\"domain\":[0.0,1.0],\"title\":{\"text\":\"value\"}},\"legend\":{\"title\":{\"text\":\"variable\"},\"tracegroupgap\":0},\"title\":{\"text\":\"Job Title sim vs Avg Salary(K) and All Skills\"}},                        {\"responsive\": true}                    ).then(function(){\n",
       "                            \n",
       "var gd = document.getElementById('12e8d907-eee3-4eba-a709-e8e58e37d942');\n",
       "var x = new MutationObserver(function (mutations, observer) {{\n",
       "        var display = window.getComputedStyle(gd).display;\n",
       "        if (!display || display === 'none') {{\n",
       "            console.log([gd, 'removed!']);\n",
       "            Plotly.purge(gd);\n",
       "            observer.disconnect();\n",
       "        }}\n",
       "}});\n",
       "\n",
       "// Listen for the removal of the full notebook cells\n",
       "var notebookContainer = gd.closest('#notebook-container');\n",
       "if (notebookContainer) {{\n",
       "    x.observe(notebookContainer, {childList: true});\n",
       "}}\n",
       "\n",
       "// Listen for the clearing of the current output cell\n",
       "var outputEl = gd.closest('.output');\n",
       "if (outputEl) {{\n",
       "    x.observe(outputEl, {childList: true});\n",
       "}}\n",
       "\n",
       "                        })                };                });            </script>        </div>"
      ]
     },
     "metadata": {},
     "output_type": "display_data"
    }
   ],
   "source": [
    "fig3 = px.scatter(df1, y=[\n",
    "    'Python', 'spark', 'aws', 'excel', \n",
    "    'sql', 'sas', 'keras', 'pytorch', \n",
    "    'scikit', 'tensor', 'hadoop', 'tableau', \n",
    "    'bi', 'flink', 'mongo', 'google_an'], \n",
    "    title='Job Title sim vs Avg Salary(K) and All Skills')\n",
    "fig3.show()"
   ]
  },
  {
   "cell_type": "code",
   "execution_count": 112,
   "id": "601baa24",
   "metadata": {},
   "outputs": [
    {
     "data": {
      "text/html": [
       "<div>\n",
       "<style scoped>\n",
       "    .dataframe tbody tr th:only-of-type {\n",
       "        vertical-align: middle;\n",
       "    }\n",
       "\n",
       "    .dataframe tbody tr th {\n",
       "        vertical-align: top;\n",
       "    }\n",
       "\n",
       "    .dataframe thead th {\n",
       "        text-align: right;\n",
       "    }\n",
       "</style>\n",
       "<table border=\"1\" class=\"dataframe\">\n",
       "  <thead>\n",
       "    <tr style=\"text-align: right;\">\n",
       "      <th>job_title_sim</th>\n",
       "      <th>analyst</th>\n",
       "      <th>Data scientist project manager</th>\n",
       "      <th>data analitics</th>\n",
       "      <th>na</th>\n",
       "      <th>other scientist</th>\n",
       "      <th>data modeler</th>\n",
       "      <th>data engineer</th>\n",
       "      <th>data scientist</th>\n",
       "      <th>machine learning engineer</th>\n",
       "    </tr>\n",
       "  </thead>\n",
       "  <tbody>\n",
       "    <tr>\n",
       "      <th>Python</th>\n",
       "      <td>0.29</td>\n",
       "      <td>0.25</td>\n",
       "      <td>0.75</td>\n",
       "      <td>0.33</td>\n",
       "      <td>0.09</td>\n",
       "      <td>0.0</td>\n",
       "      <td>0.71</td>\n",
       "      <td>0.77</td>\n",
       "      <td>1.0</td>\n",
       "    </tr>\n",
       "    <tr>\n",
       "      <th>spark</th>\n",
       "      <td>0.02</td>\n",
       "      <td>0.00</td>\n",
       "      <td>0.00</td>\n",
       "      <td>0.33</td>\n",
       "      <td>0.00</td>\n",
       "      <td>0.0</td>\n",
       "      <td>0.61</td>\n",
       "      <td>0.29</td>\n",
       "      <td>0.5</td>\n",
       "    </tr>\n",
       "    <tr>\n",
       "      <th>aws</th>\n",
       "      <td>0.05</td>\n",
       "      <td>0.25</td>\n",
       "      <td>0.00</td>\n",
       "      <td>0.33</td>\n",
       "      <td>0.12</td>\n",
       "      <td>0.5</td>\n",
       "      <td>0.51</td>\n",
       "      <td>0.23</td>\n",
       "      <td>0.0</td>\n",
       "    </tr>\n",
       "    <tr>\n",
       "      <th>excel</th>\n",
       "      <td>0.86</td>\n",
       "      <td>0.50</td>\n",
       "      <td>0.50</td>\n",
       "      <td>0.67</td>\n",
       "      <td>0.42</td>\n",
       "      <td>0.5</td>\n",
       "      <td>0.39</td>\n",
       "      <td>0.45</td>\n",
       "      <td>0.5</td>\n",
       "    </tr>\n",
       "    <tr>\n",
       "      <th>sql</th>\n",
       "      <td>0.74</td>\n",
       "      <td>0.75</td>\n",
       "      <td>0.75</td>\n",
       "      <td>0.67</td>\n",
       "      <td>0.00</td>\n",
       "      <td>0.5</td>\n",
       "      <td>0.88</td>\n",
       "      <td>0.59</td>\n",
       "      <td>1.0</td>\n",
       "    </tr>\n",
       "    <tr>\n",
       "      <th>sas</th>\n",
       "      <td>0.10</td>\n",
       "      <td>0.00</td>\n",
       "      <td>0.25</td>\n",
       "      <td>0.00</td>\n",
       "      <td>0.03</td>\n",
       "      <td>0.0</td>\n",
       "      <td>0.00</td>\n",
       "      <td>0.17</td>\n",
       "      <td>0.0</td>\n",
       "    </tr>\n",
       "    <tr>\n",
       "      <th>keras</th>\n",
       "      <td>0.00</td>\n",
       "      <td>0.00</td>\n",
       "      <td>0.00</td>\n",
       "      <td>0.00</td>\n",
       "      <td>0.00</td>\n",
       "      <td>0.0</td>\n",
       "      <td>0.00</td>\n",
       "      <td>0.08</td>\n",
       "      <td>0.0</td>\n",
       "    </tr>\n",
       "    <tr>\n",
       "      <th>pytorch</th>\n",
       "      <td>0.00</td>\n",
       "      <td>0.00</td>\n",
       "      <td>0.00</td>\n",
       "      <td>0.00</td>\n",
       "      <td>0.03</td>\n",
       "      <td>0.0</td>\n",
       "      <td>0.00</td>\n",
       "      <td>0.13</td>\n",
       "      <td>0.0</td>\n",
       "    </tr>\n",
       "    <tr>\n",
       "      <th>scikit</th>\n",
       "      <td>0.00</td>\n",
       "      <td>0.00</td>\n",
       "      <td>0.00</td>\n",
       "      <td>0.00</td>\n",
       "      <td>0.00</td>\n",
       "      <td>0.0</td>\n",
       "      <td>0.00</td>\n",
       "      <td>0.18</td>\n",
       "      <td>0.5</td>\n",
       "    </tr>\n",
       "    <tr>\n",
       "      <th>tensor</th>\n",
       "      <td>0.00</td>\n",
       "      <td>0.00</td>\n",
       "      <td>0.00</td>\n",
       "      <td>0.00</td>\n",
       "      <td>0.03</td>\n",
       "      <td>0.0</td>\n",
       "      <td>0.02</td>\n",
       "      <td>0.20</td>\n",
       "      <td>0.5</td>\n",
       "    </tr>\n",
       "    <tr>\n",
       "      <th>hadoop</th>\n",
       "      <td>0.02</td>\n",
       "      <td>0.00</td>\n",
       "      <td>0.00</td>\n",
       "      <td>0.67</td>\n",
       "      <td>0.00</td>\n",
       "      <td>0.0</td>\n",
       "      <td>0.46</td>\n",
       "      <td>0.23</td>\n",
       "      <td>0.5</td>\n",
       "    </tr>\n",
       "    <tr>\n",
       "      <th>tableau</th>\n",
       "      <td>0.38</td>\n",
       "      <td>0.50</td>\n",
       "      <td>0.50</td>\n",
       "      <td>0.00</td>\n",
       "      <td>0.00</td>\n",
       "      <td>0.0</td>\n",
       "      <td>0.15</td>\n",
       "      <td>0.24</td>\n",
       "      <td>0.0</td>\n",
       "    </tr>\n",
       "    <tr>\n",
       "      <th>bi</th>\n",
       "      <td>0.17</td>\n",
       "      <td>0.00</td>\n",
       "      <td>0.25</td>\n",
       "      <td>0.00</td>\n",
       "      <td>0.00</td>\n",
       "      <td>0.0</td>\n",
       "      <td>0.07</td>\n",
       "      <td>0.10</td>\n",
       "      <td>0.0</td>\n",
       "    </tr>\n",
       "    <tr>\n",
       "      <th>flink</th>\n",
       "      <td>0.00</td>\n",
       "      <td>0.00</td>\n",
       "      <td>0.00</td>\n",
       "      <td>0.00</td>\n",
       "      <td>0.00</td>\n",
       "      <td>0.0</td>\n",
       "      <td>0.10</td>\n",
       "      <td>0.01</td>\n",
       "      <td>0.0</td>\n",
       "    </tr>\n",
       "    <tr>\n",
       "      <th>mongo</th>\n",
       "      <td>0.05</td>\n",
       "      <td>0.00</td>\n",
       "      <td>0.00</td>\n",
       "      <td>0.00</td>\n",
       "      <td>0.00</td>\n",
       "      <td>0.0</td>\n",
       "      <td>0.12</td>\n",
       "      <td>0.06</td>\n",
       "      <td>0.0</td>\n",
       "    </tr>\n",
       "    <tr>\n",
       "      <th>google_an</th>\n",
       "      <td>0.12</td>\n",
       "      <td>0.00</td>\n",
       "      <td>0.00</td>\n",
       "      <td>0.00</td>\n",
       "      <td>0.00</td>\n",
       "      <td>0.0</td>\n",
       "      <td>0.00</td>\n",
       "      <td>0.02</td>\n",
       "      <td>0.0</td>\n",
       "    </tr>\n",
       "  </tbody>\n",
       "</table>\n",
       "</div>"
      ],
      "text/plain": [
       "job_title_sim  analyst  Data scientist project manager  data analitics    na  \\\n",
       "Python            0.29                            0.25            0.75  0.33   \n",
       "spark             0.02                            0.00            0.00  0.33   \n",
       "aws               0.05                            0.25            0.00  0.33   \n",
       "excel             0.86                            0.50            0.50  0.67   \n",
       "sql               0.74                            0.75            0.75  0.67   \n",
       "sas               0.10                            0.00            0.25  0.00   \n",
       "keras             0.00                            0.00            0.00  0.00   \n",
       "pytorch           0.00                            0.00            0.00  0.00   \n",
       "scikit            0.00                            0.00            0.00  0.00   \n",
       "tensor            0.00                            0.00            0.00  0.00   \n",
       "hadoop            0.02                            0.00            0.00  0.67   \n",
       "tableau           0.38                            0.50            0.50  0.00   \n",
       "bi                0.17                            0.00            0.25  0.00   \n",
       "flink             0.00                            0.00            0.00  0.00   \n",
       "mongo             0.05                            0.00            0.00  0.00   \n",
       "google_an         0.12                            0.00            0.00  0.00   \n",
       "\n",
       "job_title_sim  other scientist  data modeler  data engineer  data scientist  \\\n",
       "Python                    0.09           0.0           0.71            0.77   \n",
       "spark                     0.00           0.0           0.61            0.29   \n",
       "aws                       0.12           0.5           0.51            0.23   \n",
       "excel                     0.42           0.5           0.39            0.45   \n",
       "sql                       0.00           0.5           0.88            0.59   \n",
       "sas                       0.03           0.0           0.00            0.17   \n",
       "keras                     0.00           0.0           0.00            0.08   \n",
       "pytorch                   0.03           0.0           0.00            0.13   \n",
       "scikit                    0.00           0.0           0.00            0.18   \n",
       "tensor                    0.03           0.0           0.02            0.20   \n",
       "hadoop                    0.00           0.0           0.46            0.23   \n",
       "tableau                   0.00           0.0           0.15            0.24   \n",
       "bi                        0.00           0.0           0.07            0.10   \n",
       "flink                     0.00           0.0           0.10            0.01   \n",
       "mongo                     0.00           0.0           0.12            0.06   \n",
       "google_an                 0.00           0.0           0.00            0.02   \n",
       "\n",
       "job_title_sim  machine learning engineer  \n",
       "Python                               1.0  \n",
       "spark                                0.5  \n",
       "aws                                  0.0  \n",
       "excel                                0.5  \n",
       "sql                                  1.0  \n",
       "sas                                  0.0  \n",
       "keras                                0.0  \n",
       "pytorch                              0.0  \n",
       "scikit                               0.5  \n",
       "tensor                               0.5  \n",
       "hadoop                               0.5  \n",
       "tableau                              0.0  \n",
       "bi                                   0.0  \n",
       "flink                                0.0  \n",
       "mongo                                0.0  \n",
       "google_an                            0.0  "
      ]
     },
     "execution_count": 112,
     "metadata": {},
     "output_type": "execute_result"
    }
   ],
   "source": [
    "df2 = df1.transpose()['Python':'google_an']\n",
    "df2"
   ]
  },
  {
   "cell_type": "code",
   "execution_count": 167,
   "id": "464e297c",
   "metadata": {},
   "outputs": [
    {
     "data": {
      "application/vnd.plotly.v1+json": {
       "config": {
        "plotlyServerURL": "https://plot.ly"
       },
       "data": [
        {
         "hovertemplate": "job_title_sim=analyst<br>index=%{x}<br>value=%{y}<extra></extra>",
         "legendgroup": "analyst",
         "marker": {
          "color": "#636efa",
          "symbol": "circle"
         },
         "mode": "markers",
         "name": "analyst",
         "orientation": "v",
         "showlegend": true,
         "type": "scatter",
         "x": [
          "Python",
          "spark",
          "aws",
          "excel",
          "sql",
          "sas",
          "keras",
          "pytorch",
          "scikit",
          "tensor",
          "hadoop",
          "tableau",
          "bi",
          "flink",
          "mongo",
          "google_an"
         ],
         "xaxis": "x",
         "y": [
          0.29,
          0.02,
          0.05,
          0.86,
          0.74,
          0.1,
          0,
          0,
          0,
          0,
          0.02,
          0.38,
          0.17,
          0,
          0.05,
          0.12
         ],
         "yaxis": "y"
        },
        {
         "hovertemplate": "job_title_sim=Data scientist project manager<br>index=%{x}<br>value=%{y}<extra></extra>",
         "legendgroup": "Data scientist project manager",
         "marker": {
          "color": "#EF553B",
          "symbol": "circle"
         },
         "mode": "markers",
         "name": "Data scientist project manager",
         "orientation": "v",
         "showlegend": true,
         "type": "scatter",
         "x": [
          "Python",
          "spark",
          "aws",
          "excel",
          "sql",
          "sas",
          "keras",
          "pytorch",
          "scikit",
          "tensor",
          "hadoop",
          "tableau",
          "bi",
          "flink",
          "mongo",
          "google_an"
         ],
         "xaxis": "x",
         "y": [
          0.25,
          0,
          0.25,
          0.5,
          0.75,
          0,
          0,
          0,
          0,
          0,
          0,
          0.5,
          0,
          0,
          0,
          0
         ],
         "yaxis": "y"
        },
        {
         "hovertemplate": "job_title_sim=data analitics<br>index=%{x}<br>value=%{y}<extra></extra>",
         "legendgroup": "data analitics",
         "marker": {
          "color": "#00cc96",
          "symbol": "circle"
         },
         "mode": "markers",
         "name": "data analitics",
         "orientation": "v",
         "showlegend": true,
         "type": "scatter",
         "x": [
          "Python",
          "spark",
          "aws",
          "excel",
          "sql",
          "sas",
          "keras",
          "pytorch",
          "scikit",
          "tensor",
          "hadoop",
          "tableau",
          "bi",
          "flink",
          "mongo",
          "google_an"
         ],
         "xaxis": "x",
         "y": [
          0.75,
          0,
          0,
          0.5,
          0.75,
          0.25,
          0,
          0,
          0,
          0,
          0,
          0.5,
          0.25,
          0,
          0,
          0
         ],
         "yaxis": "y"
        },
        {
         "hovertemplate": "job_title_sim=na<br>index=%{x}<br>value=%{y}<extra></extra>",
         "legendgroup": "na",
         "marker": {
          "color": "#ab63fa",
          "symbol": "circle"
         },
         "mode": "markers",
         "name": "na",
         "orientation": "v",
         "showlegend": true,
         "type": "scatter",
         "x": [
          "Python",
          "spark",
          "aws",
          "excel",
          "sql",
          "sas",
          "keras",
          "pytorch",
          "scikit",
          "tensor",
          "hadoop",
          "tableau",
          "bi",
          "flink",
          "mongo",
          "google_an"
         ],
         "xaxis": "x",
         "y": [
          0.33,
          0.33,
          0.33,
          0.67,
          0.67,
          0,
          0,
          0,
          0,
          0,
          0.67,
          0,
          0,
          0,
          0,
          0
         ],
         "yaxis": "y"
        },
        {
         "hovertemplate": "job_title_sim=other scientist<br>index=%{x}<br>value=%{y}<extra></extra>",
         "legendgroup": "other scientist",
         "marker": {
          "color": "#FFA15A",
          "symbol": "circle"
         },
         "mode": "markers",
         "name": "other scientist",
         "orientation": "v",
         "showlegend": true,
         "type": "scatter",
         "x": [
          "Python",
          "spark",
          "aws",
          "excel",
          "sql",
          "sas",
          "keras",
          "pytorch",
          "scikit",
          "tensor",
          "hadoop",
          "tableau",
          "bi",
          "flink",
          "mongo",
          "google_an"
         ],
         "xaxis": "x",
         "y": [
          0.09,
          0,
          0.12,
          0.42,
          0,
          0.03,
          0,
          0.03,
          0,
          0.03,
          0,
          0,
          0,
          0,
          0,
          0
         ],
         "yaxis": "y"
        },
        {
         "hovertemplate": "job_title_sim=data modeler<br>index=%{x}<br>value=%{y}<extra></extra>",
         "legendgroup": "data modeler",
         "marker": {
          "color": "#19d3f3",
          "symbol": "circle"
         },
         "mode": "markers",
         "name": "data modeler",
         "orientation": "v",
         "showlegend": true,
         "type": "scatter",
         "x": [
          "Python",
          "spark",
          "aws",
          "excel",
          "sql",
          "sas",
          "keras",
          "pytorch",
          "scikit",
          "tensor",
          "hadoop",
          "tableau",
          "bi",
          "flink",
          "mongo",
          "google_an"
         ],
         "xaxis": "x",
         "y": [
          0,
          0,
          0.5,
          0.5,
          0.5,
          0,
          0,
          0,
          0,
          0,
          0,
          0,
          0,
          0,
          0,
          0
         ],
         "yaxis": "y"
        },
        {
         "hovertemplate": "job_title_sim=data engineer<br>index=%{x}<br>value=%{y}<extra></extra>",
         "legendgroup": "data engineer",
         "marker": {
          "color": "#FF6692",
          "symbol": "circle"
         },
         "mode": "markers",
         "name": "data engineer",
         "orientation": "v",
         "showlegend": true,
         "type": "scatter",
         "x": [
          "Python",
          "spark",
          "aws",
          "excel",
          "sql",
          "sas",
          "keras",
          "pytorch",
          "scikit",
          "tensor",
          "hadoop",
          "tableau",
          "bi",
          "flink",
          "mongo",
          "google_an"
         ],
         "xaxis": "x",
         "y": [
          0.71,
          0.61,
          0.51,
          0.39,
          0.88,
          0,
          0,
          0,
          0,
          0.02,
          0.46,
          0.15,
          0.07,
          0.1,
          0.12,
          0
         ],
         "yaxis": "y"
        },
        {
         "hovertemplate": "job_title_sim=data scientist<br>index=%{x}<br>value=%{y}<extra></extra>",
         "legendgroup": "data scientist",
         "marker": {
          "color": "#B6E880",
          "symbol": "circle"
         },
         "mode": "markers",
         "name": "data scientist",
         "orientation": "v",
         "showlegend": true,
         "type": "scatter",
         "x": [
          "Python",
          "spark",
          "aws",
          "excel",
          "sql",
          "sas",
          "keras",
          "pytorch",
          "scikit",
          "tensor",
          "hadoop",
          "tableau",
          "bi",
          "flink",
          "mongo",
          "google_an"
         ],
         "xaxis": "x",
         "y": [
          0.77,
          0.29,
          0.23,
          0.45,
          0.59,
          0.17,
          0.08,
          0.13,
          0.18,
          0.2,
          0.23,
          0.24,
          0.1,
          0.01,
          0.06,
          0.02
         ],
         "yaxis": "y"
        },
        {
         "hovertemplate": "job_title_sim=machine learning engineer<br>index=%{x}<br>value=%{y}<extra></extra>",
         "legendgroup": "machine learning engineer",
         "marker": {
          "color": "#FF97FF",
          "symbol": "circle"
         },
         "mode": "markers",
         "name": "machine learning engineer",
         "orientation": "v",
         "showlegend": true,
         "type": "scatter",
         "x": [
          "Python",
          "spark",
          "aws",
          "excel",
          "sql",
          "sas",
          "keras",
          "pytorch",
          "scikit",
          "tensor",
          "hadoop",
          "tableau",
          "bi",
          "flink",
          "mongo",
          "google_an"
         ],
         "xaxis": "x",
         "y": [
          1,
          0.5,
          0,
          0.5,
          1,
          0,
          0,
          0,
          0.5,
          0.5,
          0.5,
          0,
          0,
          0,
          0,
          0
         ],
         "yaxis": "y"
        }
       ],
       "layout": {
        "legend": {
         "title": {
          "text": "job_title_sim"
         },
         "tracegroupgap": 0
        },
        "template": {
         "data": {
          "bar": [
           {
            "error_x": {
             "color": "#2a3f5f"
            },
            "error_y": {
             "color": "#2a3f5f"
            },
            "marker": {
             "line": {
              "color": "#E5ECF6",
              "width": 0.5
             },
             "pattern": {
              "fillmode": "overlay",
              "size": 10,
              "solidity": 0.2
             }
            },
            "type": "bar"
           }
          ],
          "barpolar": [
           {
            "marker": {
             "line": {
              "color": "#E5ECF6",
              "width": 0.5
             },
             "pattern": {
              "fillmode": "overlay",
              "size": 10,
              "solidity": 0.2
             }
            },
            "type": "barpolar"
           }
          ],
          "carpet": [
           {
            "aaxis": {
             "endlinecolor": "#2a3f5f",
             "gridcolor": "white",
             "linecolor": "white",
             "minorgridcolor": "white",
             "startlinecolor": "#2a3f5f"
            },
            "baxis": {
             "endlinecolor": "#2a3f5f",
             "gridcolor": "white",
             "linecolor": "white",
             "minorgridcolor": "white",
             "startlinecolor": "#2a3f5f"
            },
            "type": "carpet"
           }
          ],
          "choropleth": [
           {
            "colorbar": {
             "outlinewidth": 0,
             "ticks": ""
            },
            "type": "choropleth"
           }
          ],
          "contour": [
           {
            "colorbar": {
             "outlinewidth": 0,
             "ticks": ""
            },
            "colorscale": [
             [
              0,
              "#0d0887"
             ],
             [
              0.1111111111111111,
              "#46039f"
             ],
             [
              0.2222222222222222,
              "#7201a8"
             ],
             [
              0.3333333333333333,
              "#9c179e"
             ],
             [
              0.4444444444444444,
              "#bd3786"
             ],
             [
              0.5555555555555556,
              "#d8576b"
             ],
             [
              0.6666666666666666,
              "#ed7953"
             ],
             [
              0.7777777777777778,
              "#fb9f3a"
             ],
             [
              0.8888888888888888,
              "#fdca26"
             ],
             [
              1,
              "#f0f921"
             ]
            ],
            "type": "contour"
           }
          ],
          "contourcarpet": [
           {
            "colorbar": {
             "outlinewidth": 0,
             "ticks": ""
            },
            "type": "contourcarpet"
           }
          ],
          "heatmap": [
           {
            "colorbar": {
             "outlinewidth": 0,
             "ticks": ""
            },
            "colorscale": [
             [
              0,
              "#0d0887"
             ],
             [
              0.1111111111111111,
              "#46039f"
             ],
             [
              0.2222222222222222,
              "#7201a8"
             ],
             [
              0.3333333333333333,
              "#9c179e"
             ],
             [
              0.4444444444444444,
              "#bd3786"
             ],
             [
              0.5555555555555556,
              "#d8576b"
             ],
             [
              0.6666666666666666,
              "#ed7953"
             ],
             [
              0.7777777777777778,
              "#fb9f3a"
             ],
             [
              0.8888888888888888,
              "#fdca26"
             ],
             [
              1,
              "#f0f921"
             ]
            ],
            "type": "heatmap"
           }
          ],
          "heatmapgl": [
           {
            "colorbar": {
             "outlinewidth": 0,
             "ticks": ""
            },
            "colorscale": [
             [
              0,
              "#0d0887"
             ],
             [
              0.1111111111111111,
              "#46039f"
             ],
             [
              0.2222222222222222,
              "#7201a8"
             ],
             [
              0.3333333333333333,
              "#9c179e"
             ],
             [
              0.4444444444444444,
              "#bd3786"
             ],
             [
              0.5555555555555556,
              "#d8576b"
             ],
             [
              0.6666666666666666,
              "#ed7953"
             ],
             [
              0.7777777777777778,
              "#fb9f3a"
             ],
             [
              0.8888888888888888,
              "#fdca26"
             ],
             [
              1,
              "#f0f921"
             ]
            ],
            "type": "heatmapgl"
           }
          ],
          "histogram": [
           {
            "marker": {
             "pattern": {
              "fillmode": "overlay",
              "size": 10,
              "solidity": 0.2
             }
            },
            "type": "histogram"
           }
          ],
          "histogram2d": [
           {
            "colorbar": {
             "outlinewidth": 0,
             "ticks": ""
            },
            "colorscale": [
             [
              0,
              "#0d0887"
             ],
             [
              0.1111111111111111,
              "#46039f"
             ],
             [
              0.2222222222222222,
              "#7201a8"
             ],
             [
              0.3333333333333333,
              "#9c179e"
             ],
             [
              0.4444444444444444,
              "#bd3786"
             ],
             [
              0.5555555555555556,
              "#d8576b"
             ],
             [
              0.6666666666666666,
              "#ed7953"
             ],
             [
              0.7777777777777778,
              "#fb9f3a"
             ],
             [
              0.8888888888888888,
              "#fdca26"
             ],
             [
              1,
              "#f0f921"
             ]
            ],
            "type": "histogram2d"
           }
          ],
          "histogram2dcontour": [
           {
            "colorbar": {
             "outlinewidth": 0,
             "ticks": ""
            },
            "colorscale": [
             [
              0,
              "#0d0887"
             ],
             [
              0.1111111111111111,
              "#46039f"
             ],
             [
              0.2222222222222222,
              "#7201a8"
             ],
             [
              0.3333333333333333,
              "#9c179e"
             ],
             [
              0.4444444444444444,
              "#bd3786"
             ],
             [
              0.5555555555555556,
              "#d8576b"
             ],
             [
              0.6666666666666666,
              "#ed7953"
             ],
             [
              0.7777777777777778,
              "#fb9f3a"
             ],
             [
              0.8888888888888888,
              "#fdca26"
             ],
             [
              1,
              "#f0f921"
             ]
            ],
            "type": "histogram2dcontour"
           }
          ],
          "mesh3d": [
           {
            "colorbar": {
             "outlinewidth": 0,
             "ticks": ""
            },
            "type": "mesh3d"
           }
          ],
          "parcoords": [
           {
            "line": {
             "colorbar": {
              "outlinewidth": 0,
              "ticks": ""
             }
            },
            "type": "parcoords"
           }
          ],
          "pie": [
           {
            "automargin": true,
            "type": "pie"
           }
          ],
          "scatter": [
           {
            "fillpattern": {
             "fillmode": "overlay",
             "size": 10,
             "solidity": 0.2
            },
            "type": "scatter"
           }
          ],
          "scatter3d": [
           {
            "line": {
             "colorbar": {
              "outlinewidth": 0,
              "ticks": ""
             }
            },
            "marker": {
             "colorbar": {
              "outlinewidth": 0,
              "ticks": ""
             }
            },
            "type": "scatter3d"
           }
          ],
          "scattercarpet": [
           {
            "marker": {
             "colorbar": {
              "outlinewidth": 0,
              "ticks": ""
             }
            },
            "type": "scattercarpet"
           }
          ],
          "scattergeo": [
           {
            "marker": {
             "colorbar": {
              "outlinewidth": 0,
              "ticks": ""
             }
            },
            "type": "scattergeo"
           }
          ],
          "scattergl": [
           {
            "marker": {
             "colorbar": {
              "outlinewidth": 0,
              "ticks": ""
             }
            },
            "type": "scattergl"
           }
          ],
          "scattermapbox": [
           {
            "marker": {
             "colorbar": {
              "outlinewidth": 0,
              "ticks": ""
             }
            },
            "type": "scattermapbox"
           }
          ],
          "scatterpolar": [
           {
            "marker": {
             "colorbar": {
              "outlinewidth": 0,
              "ticks": ""
             }
            },
            "type": "scatterpolar"
           }
          ],
          "scatterpolargl": [
           {
            "marker": {
             "colorbar": {
              "outlinewidth": 0,
              "ticks": ""
             }
            },
            "type": "scatterpolargl"
           }
          ],
          "scatterternary": [
           {
            "marker": {
             "colorbar": {
              "outlinewidth": 0,
              "ticks": ""
             }
            },
            "type": "scatterternary"
           }
          ],
          "surface": [
           {
            "colorbar": {
             "outlinewidth": 0,
             "ticks": ""
            },
            "colorscale": [
             [
              0,
              "#0d0887"
             ],
             [
              0.1111111111111111,
              "#46039f"
             ],
             [
              0.2222222222222222,
              "#7201a8"
             ],
             [
              0.3333333333333333,
              "#9c179e"
             ],
             [
              0.4444444444444444,
              "#bd3786"
             ],
             [
              0.5555555555555556,
              "#d8576b"
             ],
             [
              0.6666666666666666,
              "#ed7953"
             ],
             [
              0.7777777777777778,
              "#fb9f3a"
             ],
             [
              0.8888888888888888,
              "#fdca26"
             ],
             [
              1,
              "#f0f921"
             ]
            ],
            "type": "surface"
           }
          ],
          "table": [
           {
            "cells": {
             "fill": {
              "color": "#EBF0F8"
             },
             "line": {
              "color": "white"
             }
            },
            "header": {
             "fill": {
              "color": "#C8D4E3"
             },
             "line": {
              "color": "white"
             }
            },
            "type": "table"
           }
          ]
         },
         "layout": {
          "annotationdefaults": {
           "arrowcolor": "#2a3f5f",
           "arrowhead": 0,
           "arrowwidth": 1
          },
          "autotypenumbers": "strict",
          "coloraxis": {
           "colorbar": {
            "outlinewidth": 0,
            "ticks": ""
           }
          },
          "colorscale": {
           "diverging": [
            [
             0,
             "#8e0152"
            ],
            [
             0.1,
             "#c51b7d"
            ],
            [
             0.2,
             "#de77ae"
            ],
            [
             0.3,
             "#f1b6da"
            ],
            [
             0.4,
             "#fde0ef"
            ],
            [
             0.5,
             "#f7f7f7"
            ],
            [
             0.6,
             "#e6f5d0"
            ],
            [
             0.7,
             "#b8e186"
            ],
            [
             0.8,
             "#7fbc41"
            ],
            [
             0.9,
             "#4d9221"
            ],
            [
             1,
             "#276419"
            ]
           ],
           "sequential": [
            [
             0,
             "#0d0887"
            ],
            [
             0.1111111111111111,
             "#46039f"
            ],
            [
             0.2222222222222222,
             "#7201a8"
            ],
            [
             0.3333333333333333,
             "#9c179e"
            ],
            [
             0.4444444444444444,
             "#bd3786"
            ],
            [
             0.5555555555555556,
             "#d8576b"
            ],
            [
             0.6666666666666666,
             "#ed7953"
            ],
            [
             0.7777777777777778,
             "#fb9f3a"
            ],
            [
             0.8888888888888888,
             "#fdca26"
            ],
            [
             1,
             "#f0f921"
            ]
           ],
           "sequentialminus": [
            [
             0,
             "#0d0887"
            ],
            [
             0.1111111111111111,
             "#46039f"
            ],
            [
             0.2222222222222222,
             "#7201a8"
            ],
            [
             0.3333333333333333,
             "#9c179e"
            ],
            [
             0.4444444444444444,
             "#bd3786"
            ],
            [
             0.5555555555555556,
             "#d8576b"
            ],
            [
             0.6666666666666666,
             "#ed7953"
            ],
            [
             0.7777777777777778,
             "#fb9f3a"
            ],
            [
             0.8888888888888888,
             "#fdca26"
            ],
            [
             1,
             "#f0f921"
            ]
           ]
          },
          "colorway": [
           "#636efa",
           "#EF553B",
           "#00cc96",
           "#ab63fa",
           "#FFA15A",
           "#19d3f3",
           "#FF6692",
           "#B6E880",
           "#FF97FF",
           "#FECB52"
          ],
          "font": {
           "color": "#2a3f5f"
          },
          "geo": {
           "bgcolor": "white",
           "lakecolor": "white",
           "landcolor": "#E5ECF6",
           "showlakes": true,
           "showland": true,
           "subunitcolor": "white"
          },
          "hoverlabel": {
           "align": "left"
          },
          "hovermode": "closest",
          "mapbox": {
           "style": "light"
          },
          "paper_bgcolor": "white",
          "plot_bgcolor": "#E5ECF6",
          "polar": {
           "angularaxis": {
            "gridcolor": "white",
            "linecolor": "white",
            "ticks": ""
           },
           "bgcolor": "#E5ECF6",
           "radialaxis": {
            "gridcolor": "white",
            "linecolor": "white",
            "ticks": ""
           }
          },
          "scene": {
           "xaxis": {
            "backgroundcolor": "#E5ECF6",
            "gridcolor": "white",
            "gridwidth": 2,
            "linecolor": "white",
            "showbackground": true,
            "ticks": "",
            "zerolinecolor": "white"
           },
           "yaxis": {
            "backgroundcolor": "#E5ECF6",
            "gridcolor": "white",
            "gridwidth": 2,
            "linecolor": "white",
            "showbackground": true,
            "ticks": "",
            "zerolinecolor": "white"
           },
           "zaxis": {
            "backgroundcolor": "#E5ECF6",
            "gridcolor": "white",
            "gridwidth": 2,
            "linecolor": "white",
            "showbackground": true,
            "ticks": "",
            "zerolinecolor": "white"
           }
          },
          "shapedefaults": {
           "line": {
            "color": "#2a3f5f"
           }
          },
          "ternary": {
           "aaxis": {
            "gridcolor": "white",
            "linecolor": "white",
            "ticks": ""
           },
           "baxis": {
            "gridcolor": "white",
            "linecolor": "white",
            "ticks": ""
           },
           "bgcolor": "#E5ECF6",
           "caxis": {
            "gridcolor": "white",
            "linecolor": "white",
            "ticks": ""
           }
          },
          "title": {
           "x": 0.05
          },
          "xaxis": {
           "automargin": true,
           "gridcolor": "white",
           "linecolor": "white",
           "ticks": "",
           "title": {
            "standoff": 15
           },
           "zerolinecolor": "white",
           "zerolinewidth": 2
          },
          "yaxis": {
           "automargin": true,
           "gridcolor": "white",
           "linecolor": "white",
           "ticks": "",
           "title": {
            "standoff": 15
           },
           "zerolinecolor": "white",
           "zerolinewidth": 2
          }
         }
        },
        "title": {
         "text": "Skill vs Values and The Job Title sim"
        },
        "xaxis": {
         "anchor": "y",
         "domain": [
          0,
          1
         ],
         "title": {
          "text": "index"
         }
        },
        "yaxis": {
         "anchor": "x",
         "domain": [
          0,
          1
         ],
         "title": {
          "text": "value"
         }
        }
       }
      },
      "text/html": [
       "<div>                            <div id=\"01c3890e-9d2a-435b-97a1-17a7d039138b\" class=\"plotly-graph-div\" style=\"height:525px; width:100%;\"></div>            <script type=\"text/javascript\">                require([\"plotly\"], function(Plotly) {                    window.PLOTLYENV=window.PLOTLYENV || {};                                    if (document.getElementById(\"01c3890e-9d2a-435b-97a1-17a7d039138b\")) {                    Plotly.newPlot(                        \"01c3890e-9d2a-435b-97a1-17a7d039138b\",                        [{\"hovertemplate\":\"job_title_sim=analyst<br>index=%{x}<br>value=%{y}<extra></extra>\",\"legendgroup\":\"analyst\",\"marker\":{\"color\":\"#636efa\",\"symbol\":\"circle\"},\"mode\":\"markers\",\"name\":\"analyst\",\"orientation\":\"v\",\"showlegend\":true,\"x\":[\"Python\",\"spark\",\"aws\",\"excel\",\"sql\",\"sas\",\"keras\",\"pytorch\",\"scikit\",\"tensor\",\"hadoop\",\"tableau\",\"bi\",\"flink\",\"mongo\",\"google_an\"],\"xaxis\":\"x\",\"y\":[0.29,0.02,0.05,0.86,0.74,0.1,0.0,0.0,0.0,0.0,0.02,0.38,0.17,0.0,0.05,0.12],\"yaxis\":\"y\",\"type\":\"scatter\"},{\"hovertemplate\":\"job_title_sim=Data scientist project manager<br>index=%{x}<br>value=%{y}<extra></extra>\",\"legendgroup\":\"Data scientist project manager\",\"marker\":{\"color\":\"#EF553B\",\"symbol\":\"circle\"},\"mode\":\"markers\",\"name\":\"Data scientist project manager\",\"orientation\":\"v\",\"showlegend\":true,\"x\":[\"Python\",\"spark\",\"aws\",\"excel\",\"sql\",\"sas\",\"keras\",\"pytorch\",\"scikit\",\"tensor\",\"hadoop\",\"tableau\",\"bi\",\"flink\",\"mongo\",\"google_an\"],\"xaxis\":\"x\",\"y\":[0.25,0.0,0.25,0.5,0.75,0.0,0.0,0.0,0.0,0.0,0.0,0.5,0.0,0.0,0.0,0.0],\"yaxis\":\"y\",\"type\":\"scatter\"},{\"hovertemplate\":\"job_title_sim=data analitics<br>index=%{x}<br>value=%{y}<extra></extra>\",\"legendgroup\":\"data analitics\",\"marker\":{\"color\":\"#00cc96\",\"symbol\":\"circle\"},\"mode\":\"markers\",\"name\":\"data analitics\",\"orientation\":\"v\",\"showlegend\":true,\"x\":[\"Python\",\"spark\",\"aws\",\"excel\",\"sql\",\"sas\",\"keras\",\"pytorch\",\"scikit\",\"tensor\",\"hadoop\",\"tableau\",\"bi\",\"flink\",\"mongo\",\"google_an\"],\"xaxis\":\"x\",\"y\":[0.75,0.0,0.0,0.5,0.75,0.25,0.0,0.0,0.0,0.0,0.0,0.5,0.25,0.0,0.0,0.0],\"yaxis\":\"y\",\"type\":\"scatter\"},{\"hovertemplate\":\"job_title_sim=na<br>index=%{x}<br>value=%{y}<extra></extra>\",\"legendgroup\":\"na\",\"marker\":{\"color\":\"#ab63fa\",\"symbol\":\"circle\"},\"mode\":\"markers\",\"name\":\"na\",\"orientation\":\"v\",\"showlegend\":true,\"x\":[\"Python\",\"spark\",\"aws\",\"excel\",\"sql\",\"sas\",\"keras\",\"pytorch\",\"scikit\",\"tensor\",\"hadoop\",\"tableau\",\"bi\",\"flink\",\"mongo\",\"google_an\"],\"xaxis\":\"x\",\"y\":[0.33,0.33,0.33,0.67,0.67,0.0,0.0,0.0,0.0,0.0,0.67,0.0,0.0,0.0,0.0,0.0],\"yaxis\":\"y\",\"type\":\"scatter\"},{\"hovertemplate\":\"job_title_sim=other scientist<br>index=%{x}<br>value=%{y}<extra></extra>\",\"legendgroup\":\"other scientist\",\"marker\":{\"color\":\"#FFA15A\",\"symbol\":\"circle\"},\"mode\":\"markers\",\"name\":\"other scientist\",\"orientation\":\"v\",\"showlegend\":true,\"x\":[\"Python\",\"spark\",\"aws\",\"excel\",\"sql\",\"sas\",\"keras\",\"pytorch\",\"scikit\",\"tensor\",\"hadoop\",\"tableau\",\"bi\",\"flink\",\"mongo\",\"google_an\"],\"xaxis\":\"x\",\"y\":[0.09,0.0,0.12,0.42,0.0,0.03,0.0,0.03,0.0,0.03,0.0,0.0,0.0,0.0,0.0,0.0],\"yaxis\":\"y\",\"type\":\"scatter\"},{\"hovertemplate\":\"job_title_sim=data modeler<br>index=%{x}<br>value=%{y}<extra></extra>\",\"legendgroup\":\"data modeler\",\"marker\":{\"color\":\"#19d3f3\",\"symbol\":\"circle\"},\"mode\":\"markers\",\"name\":\"data modeler\",\"orientation\":\"v\",\"showlegend\":true,\"x\":[\"Python\",\"spark\",\"aws\",\"excel\",\"sql\",\"sas\",\"keras\",\"pytorch\",\"scikit\",\"tensor\",\"hadoop\",\"tableau\",\"bi\",\"flink\",\"mongo\",\"google_an\"],\"xaxis\":\"x\",\"y\":[0.0,0.0,0.5,0.5,0.5,0.0,0.0,0.0,0.0,0.0,0.0,0.0,0.0,0.0,0.0,0.0],\"yaxis\":\"y\",\"type\":\"scatter\"},{\"hovertemplate\":\"job_title_sim=data engineer<br>index=%{x}<br>value=%{y}<extra></extra>\",\"legendgroup\":\"data engineer\",\"marker\":{\"color\":\"#FF6692\",\"symbol\":\"circle\"},\"mode\":\"markers\",\"name\":\"data engineer\",\"orientation\":\"v\",\"showlegend\":true,\"x\":[\"Python\",\"spark\",\"aws\",\"excel\",\"sql\",\"sas\",\"keras\",\"pytorch\",\"scikit\",\"tensor\",\"hadoop\",\"tableau\",\"bi\",\"flink\",\"mongo\",\"google_an\"],\"xaxis\":\"x\",\"y\":[0.71,0.61,0.51,0.39,0.88,0.0,0.0,0.0,0.0,0.02,0.46,0.15,0.07,0.1,0.12,0.0],\"yaxis\":\"y\",\"type\":\"scatter\"},{\"hovertemplate\":\"job_title_sim=data scientist<br>index=%{x}<br>value=%{y}<extra></extra>\",\"legendgroup\":\"data scientist\",\"marker\":{\"color\":\"#B6E880\",\"symbol\":\"circle\"},\"mode\":\"markers\",\"name\":\"data scientist\",\"orientation\":\"v\",\"showlegend\":true,\"x\":[\"Python\",\"spark\",\"aws\",\"excel\",\"sql\",\"sas\",\"keras\",\"pytorch\",\"scikit\",\"tensor\",\"hadoop\",\"tableau\",\"bi\",\"flink\",\"mongo\",\"google_an\"],\"xaxis\":\"x\",\"y\":[0.77,0.29,0.23,0.45,0.59,0.17,0.08,0.13,0.18,0.2,0.23,0.24,0.1,0.01,0.06,0.02],\"yaxis\":\"y\",\"type\":\"scatter\"},{\"hovertemplate\":\"job_title_sim=machine learning engineer<br>index=%{x}<br>value=%{y}<extra></extra>\",\"legendgroup\":\"machine learning engineer\",\"marker\":{\"color\":\"#FF97FF\",\"symbol\":\"circle\"},\"mode\":\"markers\",\"name\":\"machine learning engineer\",\"orientation\":\"v\",\"showlegend\":true,\"x\":[\"Python\",\"spark\",\"aws\",\"excel\",\"sql\",\"sas\",\"keras\",\"pytorch\",\"scikit\",\"tensor\",\"hadoop\",\"tableau\",\"bi\",\"flink\",\"mongo\",\"google_an\"],\"xaxis\":\"x\",\"y\":[1.0,0.5,0.0,0.5,1.0,0.0,0.0,0.0,0.5,0.5,0.5,0.0,0.0,0.0,0.0,0.0],\"yaxis\":\"y\",\"type\":\"scatter\"}],                        {\"template\":{\"data\":{\"histogram2dcontour\":[{\"type\":\"histogram2dcontour\",\"colorbar\":{\"outlinewidth\":0,\"ticks\":\"\"},\"colorscale\":[[0.0,\"#0d0887\"],[0.1111111111111111,\"#46039f\"],[0.2222222222222222,\"#7201a8\"],[0.3333333333333333,\"#9c179e\"],[0.4444444444444444,\"#bd3786\"],[0.5555555555555556,\"#d8576b\"],[0.6666666666666666,\"#ed7953\"],[0.7777777777777778,\"#fb9f3a\"],[0.8888888888888888,\"#fdca26\"],[1.0,\"#f0f921\"]]}],\"choropleth\":[{\"type\":\"choropleth\",\"colorbar\":{\"outlinewidth\":0,\"ticks\":\"\"}}],\"histogram2d\":[{\"type\":\"histogram2d\",\"colorbar\":{\"outlinewidth\":0,\"ticks\":\"\"},\"colorscale\":[[0.0,\"#0d0887\"],[0.1111111111111111,\"#46039f\"],[0.2222222222222222,\"#7201a8\"],[0.3333333333333333,\"#9c179e\"],[0.4444444444444444,\"#bd3786\"],[0.5555555555555556,\"#d8576b\"],[0.6666666666666666,\"#ed7953\"],[0.7777777777777778,\"#fb9f3a\"],[0.8888888888888888,\"#fdca26\"],[1.0,\"#f0f921\"]]}],\"heatmap\":[{\"type\":\"heatmap\",\"colorbar\":{\"outlinewidth\":0,\"ticks\":\"\"},\"colorscale\":[[0.0,\"#0d0887\"],[0.1111111111111111,\"#46039f\"],[0.2222222222222222,\"#7201a8\"],[0.3333333333333333,\"#9c179e\"],[0.4444444444444444,\"#bd3786\"],[0.5555555555555556,\"#d8576b\"],[0.6666666666666666,\"#ed7953\"],[0.7777777777777778,\"#fb9f3a\"],[0.8888888888888888,\"#fdca26\"],[1.0,\"#f0f921\"]]}],\"heatmapgl\":[{\"type\":\"heatmapgl\",\"colorbar\":{\"outlinewidth\":0,\"ticks\":\"\"},\"colorscale\":[[0.0,\"#0d0887\"],[0.1111111111111111,\"#46039f\"],[0.2222222222222222,\"#7201a8\"],[0.3333333333333333,\"#9c179e\"],[0.4444444444444444,\"#bd3786\"],[0.5555555555555556,\"#d8576b\"],[0.6666666666666666,\"#ed7953\"],[0.7777777777777778,\"#fb9f3a\"],[0.8888888888888888,\"#fdca26\"],[1.0,\"#f0f921\"]]}],\"contourcarpet\":[{\"type\":\"contourcarpet\",\"colorbar\":{\"outlinewidth\":0,\"ticks\":\"\"}}],\"contour\":[{\"type\":\"contour\",\"colorbar\":{\"outlinewidth\":0,\"ticks\":\"\"},\"colorscale\":[[0.0,\"#0d0887\"],[0.1111111111111111,\"#46039f\"],[0.2222222222222222,\"#7201a8\"],[0.3333333333333333,\"#9c179e\"],[0.4444444444444444,\"#bd3786\"],[0.5555555555555556,\"#d8576b\"],[0.6666666666666666,\"#ed7953\"],[0.7777777777777778,\"#fb9f3a\"],[0.8888888888888888,\"#fdca26\"],[1.0,\"#f0f921\"]]}],\"surface\":[{\"type\":\"surface\",\"colorbar\":{\"outlinewidth\":0,\"ticks\":\"\"},\"colorscale\":[[0.0,\"#0d0887\"],[0.1111111111111111,\"#46039f\"],[0.2222222222222222,\"#7201a8\"],[0.3333333333333333,\"#9c179e\"],[0.4444444444444444,\"#bd3786\"],[0.5555555555555556,\"#d8576b\"],[0.6666666666666666,\"#ed7953\"],[0.7777777777777778,\"#fb9f3a\"],[0.8888888888888888,\"#fdca26\"],[1.0,\"#f0f921\"]]}],\"mesh3d\":[{\"type\":\"mesh3d\",\"colorbar\":{\"outlinewidth\":0,\"ticks\":\"\"}}],\"scatter\":[{\"fillpattern\":{\"fillmode\":\"overlay\",\"size\":10,\"solidity\":0.2},\"type\":\"scatter\"}],\"parcoords\":[{\"type\":\"parcoords\",\"line\":{\"colorbar\":{\"outlinewidth\":0,\"ticks\":\"\"}}}],\"scatterpolargl\":[{\"type\":\"scatterpolargl\",\"marker\":{\"colorbar\":{\"outlinewidth\":0,\"ticks\":\"\"}}}],\"bar\":[{\"error_x\":{\"color\":\"#2a3f5f\"},\"error_y\":{\"color\":\"#2a3f5f\"},\"marker\":{\"line\":{\"color\":\"#E5ECF6\",\"width\":0.5},\"pattern\":{\"fillmode\":\"overlay\",\"size\":10,\"solidity\":0.2}},\"type\":\"bar\"}],\"scattergeo\":[{\"type\":\"scattergeo\",\"marker\":{\"colorbar\":{\"outlinewidth\":0,\"ticks\":\"\"}}}],\"scatterpolar\":[{\"type\":\"scatterpolar\",\"marker\":{\"colorbar\":{\"outlinewidth\":0,\"ticks\":\"\"}}}],\"histogram\":[{\"marker\":{\"pattern\":{\"fillmode\":\"overlay\",\"size\":10,\"solidity\":0.2}},\"type\":\"histogram\"}],\"scattergl\":[{\"type\":\"scattergl\",\"marker\":{\"colorbar\":{\"outlinewidth\":0,\"ticks\":\"\"}}}],\"scatter3d\":[{\"type\":\"scatter3d\",\"line\":{\"colorbar\":{\"outlinewidth\":0,\"ticks\":\"\"}},\"marker\":{\"colorbar\":{\"outlinewidth\":0,\"ticks\":\"\"}}}],\"scattermapbox\":[{\"type\":\"scattermapbox\",\"marker\":{\"colorbar\":{\"outlinewidth\":0,\"ticks\":\"\"}}}],\"scatterternary\":[{\"type\":\"scatterternary\",\"marker\":{\"colorbar\":{\"outlinewidth\":0,\"ticks\":\"\"}}}],\"scattercarpet\":[{\"type\":\"scattercarpet\",\"marker\":{\"colorbar\":{\"outlinewidth\":0,\"ticks\":\"\"}}}],\"carpet\":[{\"aaxis\":{\"endlinecolor\":\"#2a3f5f\",\"gridcolor\":\"white\",\"linecolor\":\"white\",\"minorgridcolor\":\"white\",\"startlinecolor\":\"#2a3f5f\"},\"baxis\":{\"endlinecolor\":\"#2a3f5f\",\"gridcolor\":\"white\",\"linecolor\":\"white\",\"minorgridcolor\":\"white\",\"startlinecolor\":\"#2a3f5f\"},\"type\":\"carpet\"}],\"table\":[{\"cells\":{\"fill\":{\"color\":\"#EBF0F8\"},\"line\":{\"color\":\"white\"}},\"header\":{\"fill\":{\"color\":\"#C8D4E3\"},\"line\":{\"color\":\"white\"}},\"type\":\"table\"}],\"barpolar\":[{\"marker\":{\"line\":{\"color\":\"#E5ECF6\",\"width\":0.5},\"pattern\":{\"fillmode\":\"overlay\",\"size\":10,\"solidity\":0.2}},\"type\":\"barpolar\"}],\"pie\":[{\"automargin\":true,\"type\":\"pie\"}]},\"layout\":{\"autotypenumbers\":\"strict\",\"colorway\":[\"#636efa\",\"#EF553B\",\"#00cc96\",\"#ab63fa\",\"#FFA15A\",\"#19d3f3\",\"#FF6692\",\"#B6E880\",\"#FF97FF\",\"#FECB52\"],\"font\":{\"color\":\"#2a3f5f\"},\"hovermode\":\"closest\",\"hoverlabel\":{\"align\":\"left\"},\"paper_bgcolor\":\"white\",\"plot_bgcolor\":\"#E5ECF6\",\"polar\":{\"bgcolor\":\"#E5ECF6\",\"angularaxis\":{\"gridcolor\":\"white\",\"linecolor\":\"white\",\"ticks\":\"\"},\"radialaxis\":{\"gridcolor\":\"white\",\"linecolor\":\"white\",\"ticks\":\"\"}},\"ternary\":{\"bgcolor\":\"#E5ECF6\",\"aaxis\":{\"gridcolor\":\"white\",\"linecolor\":\"white\",\"ticks\":\"\"},\"baxis\":{\"gridcolor\":\"white\",\"linecolor\":\"white\",\"ticks\":\"\"},\"caxis\":{\"gridcolor\":\"white\",\"linecolor\":\"white\",\"ticks\":\"\"}},\"coloraxis\":{\"colorbar\":{\"outlinewidth\":0,\"ticks\":\"\"}},\"colorscale\":{\"sequential\":[[0.0,\"#0d0887\"],[0.1111111111111111,\"#46039f\"],[0.2222222222222222,\"#7201a8\"],[0.3333333333333333,\"#9c179e\"],[0.4444444444444444,\"#bd3786\"],[0.5555555555555556,\"#d8576b\"],[0.6666666666666666,\"#ed7953\"],[0.7777777777777778,\"#fb9f3a\"],[0.8888888888888888,\"#fdca26\"],[1.0,\"#f0f921\"]],\"sequentialminus\":[[0.0,\"#0d0887\"],[0.1111111111111111,\"#46039f\"],[0.2222222222222222,\"#7201a8\"],[0.3333333333333333,\"#9c179e\"],[0.4444444444444444,\"#bd3786\"],[0.5555555555555556,\"#d8576b\"],[0.6666666666666666,\"#ed7953\"],[0.7777777777777778,\"#fb9f3a\"],[0.8888888888888888,\"#fdca26\"],[1.0,\"#f0f921\"]],\"diverging\":[[0,\"#8e0152\"],[0.1,\"#c51b7d\"],[0.2,\"#de77ae\"],[0.3,\"#f1b6da\"],[0.4,\"#fde0ef\"],[0.5,\"#f7f7f7\"],[0.6,\"#e6f5d0\"],[0.7,\"#b8e186\"],[0.8,\"#7fbc41\"],[0.9,\"#4d9221\"],[1,\"#276419\"]]},\"xaxis\":{\"gridcolor\":\"white\",\"linecolor\":\"white\",\"ticks\":\"\",\"title\":{\"standoff\":15},\"zerolinecolor\":\"white\",\"automargin\":true,\"zerolinewidth\":2},\"yaxis\":{\"gridcolor\":\"white\",\"linecolor\":\"white\",\"ticks\":\"\",\"title\":{\"standoff\":15},\"zerolinecolor\":\"white\",\"automargin\":true,\"zerolinewidth\":2},\"scene\":{\"xaxis\":{\"backgroundcolor\":\"#E5ECF6\",\"gridcolor\":\"white\",\"linecolor\":\"white\",\"showbackground\":true,\"ticks\":\"\",\"zerolinecolor\":\"white\",\"gridwidth\":2},\"yaxis\":{\"backgroundcolor\":\"#E5ECF6\",\"gridcolor\":\"white\",\"linecolor\":\"white\",\"showbackground\":true,\"ticks\":\"\",\"zerolinecolor\":\"white\",\"gridwidth\":2},\"zaxis\":{\"backgroundcolor\":\"#E5ECF6\",\"gridcolor\":\"white\",\"linecolor\":\"white\",\"showbackground\":true,\"ticks\":\"\",\"zerolinecolor\":\"white\",\"gridwidth\":2}},\"shapedefaults\":{\"line\":{\"color\":\"#2a3f5f\"}},\"annotationdefaults\":{\"arrowcolor\":\"#2a3f5f\",\"arrowhead\":0,\"arrowwidth\":1},\"geo\":{\"bgcolor\":\"white\",\"landcolor\":\"#E5ECF6\",\"subunitcolor\":\"white\",\"showland\":true,\"showlakes\":true,\"lakecolor\":\"white\"},\"title\":{\"x\":0.05},\"mapbox\":{\"style\":\"light\"}}},\"xaxis\":{\"anchor\":\"y\",\"domain\":[0.0,1.0],\"title\":{\"text\":\"index\"}},\"yaxis\":{\"anchor\":\"x\",\"domain\":[0.0,1.0],\"title\":{\"text\":\"value\"}},\"legend\":{\"title\":{\"text\":\"job_title_sim\"},\"tracegroupgap\":0},\"title\":{\"text\":\"Skill vs Values and The Job Title sim\"}},                        {\"responsive\": true}                    ).then(function(){\n",
       "                            \n",
       "var gd = document.getElementById('01c3890e-9d2a-435b-97a1-17a7d039138b');\n",
       "var x = new MutationObserver(function (mutations, observer) {{\n",
       "        var display = window.getComputedStyle(gd).display;\n",
       "        if (!display || display === 'none') {{\n",
       "            console.log([gd, 'removed!']);\n",
       "            Plotly.purge(gd);\n",
       "            observer.disconnect();\n",
       "        }}\n",
       "}});\n",
       "\n",
       "// Listen for the removal of the full notebook cells\n",
       "var notebookContainer = gd.closest('#notebook-container');\n",
       "if (notebookContainer) {{\n",
       "    x.observe(notebookContainer, {childList: true});\n",
       "}}\n",
       "\n",
       "// Listen for the clearing of the current output cell\n",
       "var outputEl = gd.closest('.output');\n",
       "if (outputEl) {{\n",
       "    x.observe(outputEl, {childList: true});\n",
       "}}\n",
       "\n",
       "                        })                };                });            </script>        </div>"
      ]
     },
     "metadata": {},
     "output_type": "display_data"
    }
   ],
   "source": [
    "fig4 = px.scatter(df2, title='Skill vs Values and The Job Title sim')\n",
    "fig4.show()"
   ]
  },
  {
   "cell_type": "markdown",
   "id": "d38ea0e4",
   "metadata": {},
   "source": [
    "## Skills:"
   ]
  },
  {
   "cell_type": "code",
   "execution_count": 153,
   "id": "2343af42",
   "metadata": {},
   "outputs": [
    {
     "name": "stderr",
     "output_type": "stream",
     "text": [
      "C:\\Users\\ADHIBAN SIDDHARTH V\\AppData\\Local\\Temp\\ipykernel_10164\\2364504886.py:1: FutureWarning:\n",
      "\n",
      "Dropping of nuisance columns in DataFrame reductions (with 'numeric_only=None') is deprecated; in a future version this will raise TypeError.  Select only valid columns before calling the reduction.\n",
      "\n"
     ]
    },
    {
     "data": {
      "text/html": [
       "<div>\n",
       "<style scoped>\n",
       "    .dataframe tbody tr th:only-of-type {\n",
       "        vertical-align: middle;\n",
       "    }\n",
       "\n",
       "    .dataframe tbody tr th {\n",
       "        vertical-align: top;\n",
       "    }\n",
       "\n",
       "    .dataframe thead th {\n",
       "        text-align: right;\n",
       "    }\n",
       "</style>\n",
       "<table border=\"1\" class=\"dataframe\">\n",
       "  <thead>\n",
       "    <tr style=\"text-align: right;\">\n",
       "      <th></th>\n",
       "      <th>Value</th>\n",
       "    </tr>\n",
       "  </thead>\n",
       "  <tbody>\n",
       "    <tr>\n",
       "      <th>flink</th>\n",
       "      <td>0.021368</td>\n",
       "    </tr>\n",
       "    <tr>\n",
       "      <th>google_an</th>\n",
       "      <td>0.029915</td>\n",
       "    </tr>\n",
       "    <tr>\n",
       "      <th>keras</th>\n",
       "      <td>0.034188</td>\n",
       "    </tr>\n",
       "    <tr>\n",
       "      <th>mongo</th>\n",
       "      <td>0.055556</td>\n",
       "    </tr>\n",
       "    <tr>\n",
       "      <th>pytorch</th>\n",
       "      <td>0.059829</td>\n",
       "    </tr>\n",
       "    <tr>\n",
       "      <th>scikit</th>\n",
       "      <td>0.085470</td>\n",
       "    </tr>\n",
       "    <tr>\n",
       "      <th>bi</th>\n",
       "      <td>0.089744</td>\n",
       "    </tr>\n",
       "    <tr>\n",
       "      <th>sas</th>\n",
       "      <td>0.102564</td>\n",
       "    </tr>\n",
       "    <tr>\n",
       "      <th>tensor</th>\n",
       "      <td>0.102564</td>\n",
       "    </tr>\n",
       "    <tr>\n",
       "      <th>hadoop</th>\n",
       "      <td>0.200855</td>\n",
       "    </tr>\n",
       "    <tr>\n",
       "      <th>tableau</th>\n",
       "      <td>0.217949</td>\n",
       "    </tr>\n",
       "    <tr>\n",
       "      <th>aws</th>\n",
       "      <td>0.230769</td>\n",
       "    </tr>\n",
       "    <tr>\n",
       "      <th>spark</th>\n",
       "      <td>0.247863</td>\n",
       "    </tr>\n",
       "    <tr>\n",
       "      <th>excel</th>\n",
       "      <td>0.512821</td>\n",
       "    </tr>\n",
       "    <tr>\n",
       "      <th>Python</th>\n",
       "      <td>0.555556</td>\n",
       "    </tr>\n",
       "    <tr>\n",
       "      <th>sql</th>\n",
       "      <td>0.594017</td>\n",
       "    </tr>\n",
       "  </tbody>\n",
       "</table>\n",
       "</div>"
      ],
      "text/plain": [
       "              Value\n",
       "flink      0.021368\n",
       "google_an  0.029915\n",
       "keras      0.034188\n",
       "mongo      0.055556\n",
       "pytorch    0.059829\n",
       "scikit     0.085470\n",
       "bi         0.089744\n",
       "sas        0.102564\n",
       "tensor     0.102564\n",
       "hadoop     0.200855\n",
       "tableau    0.217949\n",
       "aws        0.230769\n",
       "spark      0.247863\n",
       "excel      0.512821\n",
       "Python     0.555556\n",
       "sql        0.594017"
      ]
     },
     "execution_count": 153,
     "metadata": {},
     "output_type": "execute_result"
    }
   ],
   "source": [
    "df3 = df.mean().to_frame()\n",
    "df3.columns = ['Value']\n",
    "df3 = df3['Python':'google_an']\n",
    "df3 = df3.sort_values('Value')\n",
    "df3"
   ]
  },
  {
   "cell_type": "code",
   "execution_count": 168,
   "id": "304e8599",
   "metadata": {},
   "outputs": [
    {
     "data": {
      "application/vnd.plotly.v1+json": {
       "config": {
        "plotlyServerURL": "https://plot.ly"
       },
       "data": [
        {
         "alignmentgroup": "True",
         "hovertemplate": "variable=Value<br>index=%{x}<br>value=%{y}<extra></extra>",
         "legendgroup": "Value",
         "marker": {
          "color": "#636efa",
          "pattern": {
           "shape": ""
          }
         },
         "name": "Value",
         "offsetgroup": "Value",
         "orientation": "v",
         "showlegend": true,
         "textposition": "auto",
         "type": "bar",
         "x": [
          "flink",
          "google_an",
          "keras",
          "mongo",
          "pytorch",
          "scikit",
          "bi",
          "sas",
          "tensor",
          "hadoop",
          "tableau",
          "aws",
          "spark",
          "excel",
          "Python",
          "sql"
         ],
         "xaxis": "x",
         "y": [
          0.021367521367521368,
          0.029914529914529916,
          0.03418803418803419,
          0.05555555555555555,
          0.05982905982905983,
          0.08547008547008547,
          0.08974358974358974,
          0.10256410256410256,
          0.10256410256410256,
          0.20085470085470086,
          0.21794871794871795,
          0.23076923076923078,
          0.24786324786324787,
          0.5128205128205128,
          0.5555555555555556,
          0.594017094017094
         ],
         "yaxis": "y"
        }
       ],
       "layout": {
        "barmode": "relative",
        "legend": {
         "title": {
          "text": "variable"
         },
         "tracegroupgap": 0
        },
        "template": {
         "data": {
          "bar": [
           {
            "error_x": {
             "color": "#2a3f5f"
            },
            "error_y": {
             "color": "#2a3f5f"
            },
            "marker": {
             "line": {
              "color": "#E5ECF6",
              "width": 0.5
             },
             "pattern": {
              "fillmode": "overlay",
              "size": 10,
              "solidity": 0.2
             }
            },
            "type": "bar"
           }
          ],
          "barpolar": [
           {
            "marker": {
             "line": {
              "color": "#E5ECF6",
              "width": 0.5
             },
             "pattern": {
              "fillmode": "overlay",
              "size": 10,
              "solidity": 0.2
             }
            },
            "type": "barpolar"
           }
          ],
          "carpet": [
           {
            "aaxis": {
             "endlinecolor": "#2a3f5f",
             "gridcolor": "white",
             "linecolor": "white",
             "minorgridcolor": "white",
             "startlinecolor": "#2a3f5f"
            },
            "baxis": {
             "endlinecolor": "#2a3f5f",
             "gridcolor": "white",
             "linecolor": "white",
             "minorgridcolor": "white",
             "startlinecolor": "#2a3f5f"
            },
            "type": "carpet"
           }
          ],
          "choropleth": [
           {
            "colorbar": {
             "outlinewidth": 0,
             "ticks": ""
            },
            "type": "choropleth"
           }
          ],
          "contour": [
           {
            "colorbar": {
             "outlinewidth": 0,
             "ticks": ""
            },
            "colorscale": [
             [
              0,
              "#0d0887"
             ],
             [
              0.1111111111111111,
              "#46039f"
             ],
             [
              0.2222222222222222,
              "#7201a8"
             ],
             [
              0.3333333333333333,
              "#9c179e"
             ],
             [
              0.4444444444444444,
              "#bd3786"
             ],
             [
              0.5555555555555556,
              "#d8576b"
             ],
             [
              0.6666666666666666,
              "#ed7953"
             ],
             [
              0.7777777777777778,
              "#fb9f3a"
             ],
             [
              0.8888888888888888,
              "#fdca26"
             ],
             [
              1,
              "#f0f921"
             ]
            ],
            "type": "contour"
           }
          ],
          "contourcarpet": [
           {
            "colorbar": {
             "outlinewidth": 0,
             "ticks": ""
            },
            "type": "contourcarpet"
           }
          ],
          "heatmap": [
           {
            "colorbar": {
             "outlinewidth": 0,
             "ticks": ""
            },
            "colorscale": [
             [
              0,
              "#0d0887"
             ],
             [
              0.1111111111111111,
              "#46039f"
             ],
             [
              0.2222222222222222,
              "#7201a8"
             ],
             [
              0.3333333333333333,
              "#9c179e"
             ],
             [
              0.4444444444444444,
              "#bd3786"
             ],
             [
              0.5555555555555556,
              "#d8576b"
             ],
             [
              0.6666666666666666,
              "#ed7953"
             ],
             [
              0.7777777777777778,
              "#fb9f3a"
             ],
             [
              0.8888888888888888,
              "#fdca26"
             ],
             [
              1,
              "#f0f921"
             ]
            ],
            "type": "heatmap"
           }
          ],
          "heatmapgl": [
           {
            "colorbar": {
             "outlinewidth": 0,
             "ticks": ""
            },
            "colorscale": [
             [
              0,
              "#0d0887"
             ],
             [
              0.1111111111111111,
              "#46039f"
             ],
             [
              0.2222222222222222,
              "#7201a8"
             ],
             [
              0.3333333333333333,
              "#9c179e"
             ],
             [
              0.4444444444444444,
              "#bd3786"
             ],
             [
              0.5555555555555556,
              "#d8576b"
             ],
             [
              0.6666666666666666,
              "#ed7953"
             ],
             [
              0.7777777777777778,
              "#fb9f3a"
             ],
             [
              0.8888888888888888,
              "#fdca26"
             ],
             [
              1,
              "#f0f921"
             ]
            ],
            "type": "heatmapgl"
           }
          ],
          "histogram": [
           {
            "marker": {
             "pattern": {
              "fillmode": "overlay",
              "size": 10,
              "solidity": 0.2
             }
            },
            "type": "histogram"
           }
          ],
          "histogram2d": [
           {
            "colorbar": {
             "outlinewidth": 0,
             "ticks": ""
            },
            "colorscale": [
             [
              0,
              "#0d0887"
             ],
             [
              0.1111111111111111,
              "#46039f"
             ],
             [
              0.2222222222222222,
              "#7201a8"
             ],
             [
              0.3333333333333333,
              "#9c179e"
             ],
             [
              0.4444444444444444,
              "#bd3786"
             ],
             [
              0.5555555555555556,
              "#d8576b"
             ],
             [
              0.6666666666666666,
              "#ed7953"
             ],
             [
              0.7777777777777778,
              "#fb9f3a"
             ],
             [
              0.8888888888888888,
              "#fdca26"
             ],
             [
              1,
              "#f0f921"
             ]
            ],
            "type": "histogram2d"
           }
          ],
          "histogram2dcontour": [
           {
            "colorbar": {
             "outlinewidth": 0,
             "ticks": ""
            },
            "colorscale": [
             [
              0,
              "#0d0887"
             ],
             [
              0.1111111111111111,
              "#46039f"
             ],
             [
              0.2222222222222222,
              "#7201a8"
             ],
             [
              0.3333333333333333,
              "#9c179e"
             ],
             [
              0.4444444444444444,
              "#bd3786"
             ],
             [
              0.5555555555555556,
              "#d8576b"
             ],
             [
              0.6666666666666666,
              "#ed7953"
             ],
             [
              0.7777777777777778,
              "#fb9f3a"
             ],
             [
              0.8888888888888888,
              "#fdca26"
             ],
             [
              1,
              "#f0f921"
             ]
            ],
            "type": "histogram2dcontour"
           }
          ],
          "mesh3d": [
           {
            "colorbar": {
             "outlinewidth": 0,
             "ticks": ""
            },
            "type": "mesh3d"
           }
          ],
          "parcoords": [
           {
            "line": {
             "colorbar": {
              "outlinewidth": 0,
              "ticks": ""
             }
            },
            "type": "parcoords"
           }
          ],
          "pie": [
           {
            "automargin": true,
            "type": "pie"
           }
          ],
          "scatter": [
           {
            "fillpattern": {
             "fillmode": "overlay",
             "size": 10,
             "solidity": 0.2
            },
            "type": "scatter"
           }
          ],
          "scatter3d": [
           {
            "line": {
             "colorbar": {
              "outlinewidth": 0,
              "ticks": ""
             }
            },
            "marker": {
             "colorbar": {
              "outlinewidth": 0,
              "ticks": ""
             }
            },
            "type": "scatter3d"
           }
          ],
          "scattercarpet": [
           {
            "marker": {
             "colorbar": {
              "outlinewidth": 0,
              "ticks": ""
             }
            },
            "type": "scattercarpet"
           }
          ],
          "scattergeo": [
           {
            "marker": {
             "colorbar": {
              "outlinewidth": 0,
              "ticks": ""
             }
            },
            "type": "scattergeo"
           }
          ],
          "scattergl": [
           {
            "marker": {
             "colorbar": {
              "outlinewidth": 0,
              "ticks": ""
             }
            },
            "type": "scattergl"
           }
          ],
          "scattermapbox": [
           {
            "marker": {
             "colorbar": {
              "outlinewidth": 0,
              "ticks": ""
             }
            },
            "type": "scattermapbox"
           }
          ],
          "scatterpolar": [
           {
            "marker": {
             "colorbar": {
              "outlinewidth": 0,
              "ticks": ""
             }
            },
            "type": "scatterpolar"
           }
          ],
          "scatterpolargl": [
           {
            "marker": {
             "colorbar": {
              "outlinewidth": 0,
              "ticks": ""
             }
            },
            "type": "scatterpolargl"
           }
          ],
          "scatterternary": [
           {
            "marker": {
             "colorbar": {
              "outlinewidth": 0,
              "ticks": ""
             }
            },
            "type": "scatterternary"
           }
          ],
          "surface": [
           {
            "colorbar": {
             "outlinewidth": 0,
             "ticks": ""
            },
            "colorscale": [
             [
              0,
              "#0d0887"
             ],
             [
              0.1111111111111111,
              "#46039f"
             ],
             [
              0.2222222222222222,
              "#7201a8"
             ],
             [
              0.3333333333333333,
              "#9c179e"
             ],
             [
              0.4444444444444444,
              "#bd3786"
             ],
             [
              0.5555555555555556,
              "#d8576b"
             ],
             [
              0.6666666666666666,
              "#ed7953"
             ],
             [
              0.7777777777777778,
              "#fb9f3a"
             ],
             [
              0.8888888888888888,
              "#fdca26"
             ],
             [
              1,
              "#f0f921"
             ]
            ],
            "type": "surface"
           }
          ],
          "table": [
           {
            "cells": {
             "fill": {
              "color": "#EBF0F8"
             },
             "line": {
              "color": "white"
             }
            },
            "header": {
             "fill": {
              "color": "#C8D4E3"
             },
             "line": {
              "color": "white"
             }
            },
            "type": "table"
           }
          ]
         },
         "layout": {
          "annotationdefaults": {
           "arrowcolor": "#2a3f5f",
           "arrowhead": 0,
           "arrowwidth": 1
          },
          "autotypenumbers": "strict",
          "coloraxis": {
           "colorbar": {
            "outlinewidth": 0,
            "ticks": ""
           }
          },
          "colorscale": {
           "diverging": [
            [
             0,
             "#8e0152"
            ],
            [
             0.1,
             "#c51b7d"
            ],
            [
             0.2,
             "#de77ae"
            ],
            [
             0.3,
             "#f1b6da"
            ],
            [
             0.4,
             "#fde0ef"
            ],
            [
             0.5,
             "#f7f7f7"
            ],
            [
             0.6,
             "#e6f5d0"
            ],
            [
             0.7,
             "#b8e186"
            ],
            [
             0.8,
             "#7fbc41"
            ],
            [
             0.9,
             "#4d9221"
            ],
            [
             1,
             "#276419"
            ]
           ],
           "sequential": [
            [
             0,
             "#0d0887"
            ],
            [
             0.1111111111111111,
             "#46039f"
            ],
            [
             0.2222222222222222,
             "#7201a8"
            ],
            [
             0.3333333333333333,
             "#9c179e"
            ],
            [
             0.4444444444444444,
             "#bd3786"
            ],
            [
             0.5555555555555556,
             "#d8576b"
            ],
            [
             0.6666666666666666,
             "#ed7953"
            ],
            [
             0.7777777777777778,
             "#fb9f3a"
            ],
            [
             0.8888888888888888,
             "#fdca26"
            ],
            [
             1,
             "#f0f921"
            ]
           ],
           "sequentialminus": [
            [
             0,
             "#0d0887"
            ],
            [
             0.1111111111111111,
             "#46039f"
            ],
            [
             0.2222222222222222,
             "#7201a8"
            ],
            [
             0.3333333333333333,
             "#9c179e"
            ],
            [
             0.4444444444444444,
             "#bd3786"
            ],
            [
             0.5555555555555556,
             "#d8576b"
            ],
            [
             0.6666666666666666,
             "#ed7953"
            ],
            [
             0.7777777777777778,
             "#fb9f3a"
            ],
            [
             0.8888888888888888,
             "#fdca26"
            ],
            [
             1,
             "#f0f921"
            ]
           ]
          },
          "colorway": [
           "#636efa",
           "#EF553B",
           "#00cc96",
           "#ab63fa",
           "#FFA15A",
           "#19d3f3",
           "#FF6692",
           "#B6E880",
           "#FF97FF",
           "#FECB52"
          ],
          "font": {
           "color": "#2a3f5f"
          },
          "geo": {
           "bgcolor": "white",
           "lakecolor": "white",
           "landcolor": "#E5ECF6",
           "showlakes": true,
           "showland": true,
           "subunitcolor": "white"
          },
          "hoverlabel": {
           "align": "left"
          },
          "hovermode": "closest",
          "mapbox": {
           "style": "light"
          },
          "paper_bgcolor": "white",
          "plot_bgcolor": "#E5ECF6",
          "polar": {
           "angularaxis": {
            "gridcolor": "white",
            "linecolor": "white",
            "ticks": ""
           },
           "bgcolor": "#E5ECF6",
           "radialaxis": {
            "gridcolor": "white",
            "linecolor": "white",
            "ticks": ""
           }
          },
          "scene": {
           "xaxis": {
            "backgroundcolor": "#E5ECF6",
            "gridcolor": "white",
            "gridwidth": 2,
            "linecolor": "white",
            "showbackground": true,
            "ticks": "",
            "zerolinecolor": "white"
           },
           "yaxis": {
            "backgroundcolor": "#E5ECF6",
            "gridcolor": "white",
            "gridwidth": 2,
            "linecolor": "white",
            "showbackground": true,
            "ticks": "",
            "zerolinecolor": "white"
           },
           "zaxis": {
            "backgroundcolor": "#E5ECF6",
            "gridcolor": "white",
            "gridwidth": 2,
            "linecolor": "white",
            "showbackground": true,
            "ticks": "",
            "zerolinecolor": "white"
           }
          },
          "shapedefaults": {
           "line": {
            "color": "#2a3f5f"
           }
          },
          "ternary": {
           "aaxis": {
            "gridcolor": "white",
            "linecolor": "white",
            "ticks": ""
           },
           "baxis": {
            "gridcolor": "white",
            "linecolor": "white",
            "ticks": ""
           },
           "bgcolor": "#E5ECF6",
           "caxis": {
            "gridcolor": "white",
            "linecolor": "white",
            "ticks": ""
           }
          },
          "title": {
           "x": 0.05
          },
          "xaxis": {
           "automargin": true,
           "gridcolor": "white",
           "linecolor": "white",
           "ticks": "",
           "title": {
            "standoff": 15
           },
           "zerolinecolor": "white",
           "zerolinewidth": 2
          },
          "yaxis": {
           "automargin": true,
           "gridcolor": "white",
           "linecolor": "white",
           "ticks": "",
           "title": {
            "standoff": 15
           },
           "zerolinecolor": "white",
           "zerolinewidth": 2
          }
         }
        },
        "title": {
         "text": "Skills vs Usage in Data Science"
        },
        "xaxis": {
         "anchor": "y",
         "domain": [
          0,
          1
         ],
         "title": {
          "text": "index"
         }
        },
        "yaxis": {
         "anchor": "x",
         "domain": [
          0,
          1
         ],
         "title": {
          "text": "value"
         }
        }
       }
      },
      "text/html": [
       "<div>                            <div id=\"6579ba41-c1f5-42e0-91e8-afc1ccd73ca8\" class=\"plotly-graph-div\" style=\"height:525px; width:100%;\"></div>            <script type=\"text/javascript\">                require([\"plotly\"], function(Plotly) {                    window.PLOTLYENV=window.PLOTLYENV || {};                                    if (document.getElementById(\"6579ba41-c1f5-42e0-91e8-afc1ccd73ca8\")) {                    Plotly.newPlot(                        \"6579ba41-c1f5-42e0-91e8-afc1ccd73ca8\",                        [{\"alignmentgroup\":\"True\",\"hovertemplate\":\"variable=Value<br>index=%{x}<br>value=%{y}<extra></extra>\",\"legendgroup\":\"Value\",\"marker\":{\"color\":\"#636efa\",\"pattern\":{\"shape\":\"\"}},\"name\":\"Value\",\"offsetgroup\":\"Value\",\"orientation\":\"v\",\"showlegend\":true,\"textposition\":\"auto\",\"x\":[\"flink\",\"google_an\",\"keras\",\"mongo\",\"pytorch\",\"scikit\",\"bi\",\"sas\",\"tensor\",\"hadoop\",\"tableau\",\"aws\",\"spark\",\"excel\",\"Python\",\"sql\"],\"xaxis\":\"x\",\"y\":[0.021367521367521368,0.029914529914529916,0.03418803418803419,0.05555555555555555,0.05982905982905983,0.08547008547008547,0.08974358974358974,0.10256410256410256,0.10256410256410256,0.20085470085470086,0.21794871794871795,0.23076923076923078,0.24786324786324787,0.5128205128205128,0.5555555555555556,0.594017094017094],\"yaxis\":\"y\",\"type\":\"bar\"}],                        {\"template\":{\"data\":{\"histogram2dcontour\":[{\"type\":\"histogram2dcontour\",\"colorbar\":{\"outlinewidth\":0,\"ticks\":\"\"},\"colorscale\":[[0.0,\"#0d0887\"],[0.1111111111111111,\"#46039f\"],[0.2222222222222222,\"#7201a8\"],[0.3333333333333333,\"#9c179e\"],[0.4444444444444444,\"#bd3786\"],[0.5555555555555556,\"#d8576b\"],[0.6666666666666666,\"#ed7953\"],[0.7777777777777778,\"#fb9f3a\"],[0.8888888888888888,\"#fdca26\"],[1.0,\"#f0f921\"]]}],\"choropleth\":[{\"type\":\"choropleth\",\"colorbar\":{\"outlinewidth\":0,\"ticks\":\"\"}}],\"histogram2d\":[{\"type\":\"histogram2d\",\"colorbar\":{\"outlinewidth\":0,\"ticks\":\"\"},\"colorscale\":[[0.0,\"#0d0887\"],[0.1111111111111111,\"#46039f\"],[0.2222222222222222,\"#7201a8\"],[0.3333333333333333,\"#9c179e\"],[0.4444444444444444,\"#bd3786\"],[0.5555555555555556,\"#d8576b\"],[0.6666666666666666,\"#ed7953\"],[0.7777777777777778,\"#fb9f3a\"],[0.8888888888888888,\"#fdca26\"],[1.0,\"#f0f921\"]]}],\"heatmap\":[{\"type\":\"heatmap\",\"colorbar\":{\"outlinewidth\":0,\"ticks\":\"\"},\"colorscale\":[[0.0,\"#0d0887\"],[0.1111111111111111,\"#46039f\"],[0.2222222222222222,\"#7201a8\"],[0.3333333333333333,\"#9c179e\"],[0.4444444444444444,\"#bd3786\"],[0.5555555555555556,\"#d8576b\"],[0.6666666666666666,\"#ed7953\"],[0.7777777777777778,\"#fb9f3a\"],[0.8888888888888888,\"#fdca26\"],[1.0,\"#f0f921\"]]}],\"heatmapgl\":[{\"type\":\"heatmapgl\",\"colorbar\":{\"outlinewidth\":0,\"ticks\":\"\"},\"colorscale\":[[0.0,\"#0d0887\"],[0.1111111111111111,\"#46039f\"],[0.2222222222222222,\"#7201a8\"],[0.3333333333333333,\"#9c179e\"],[0.4444444444444444,\"#bd3786\"],[0.5555555555555556,\"#d8576b\"],[0.6666666666666666,\"#ed7953\"],[0.7777777777777778,\"#fb9f3a\"],[0.8888888888888888,\"#fdca26\"],[1.0,\"#f0f921\"]]}],\"contourcarpet\":[{\"type\":\"contourcarpet\",\"colorbar\":{\"outlinewidth\":0,\"ticks\":\"\"}}],\"contour\":[{\"type\":\"contour\",\"colorbar\":{\"outlinewidth\":0,\"ticks\":\"\"},\"colorscale\":[[0.0,\"#0d0887\"],[0.1111111111111111,\"#46039f\"],[0.2222222222222222,\"#7201a8\"],[0.3333333333333333,\"#9c179e\"],[0.4444444444444444,\"#bd3786\"],[0.5555555555555556,\"#d8576b\"],[0.6666666666666666,\"#ed7953\"],[0.7777777777777778,\"#fb9f3a\"],[0.8888888888888888,\"#fdca26\"],[1.0,\"#f0f921\"]]}],\"surface\":[{\"type\":\"surface\",\"colorbar\":{\"outlinewidth\":0,\"ticks\":\"\"},\"colorscale\":[[0.0,\"#0d0887\"],[0.1111111111111111,\"#46039f\"],[0.2222222222222222,\"#7201a8\"],[0.3333333333333333,\"#9c179e\"],[0.4444444444444444,\"#bd3786\"],[0.5555555555555556,\"#d8576b\"],[0.6666666666666666,\"#ed7953\"],[0.7777777777777778,\"#fb9f3a\"],[0.8888888888888888,\"#fdca26\"],[1.0,\"#f0f921\"]]}],\"mesh3d\":[{\"type\":\"mesh3d\",\"colorbar\":{\"outlinewidth\":0,\"ticks\":\"\"}}],\"scatter\":[{\"fillpattern\":{\"fillmode\":\"overlay\",\"size\":10,\"solidity\":0.2},\"type\":\"scatter\"}],\"parcoords\":[{\"type\":\"parcoords\",\"line\":{\"colorbar\":{\"outlinewidth\":0,\"ticks\":\"\"}}}],\"scatterpolargl\":[{\"type\":\"scatterpolargl\",\"marker\":{\"colorbar\":{\"outlinewidth\":0,\"ticks\":\"\"}}}],\"bar\":[{\"error_x\":{\"color\":\"#2a3f5f\"},\"error_y\":{\"color\":\"#2a3f5f\"},\"marker\":{\"line\":{\"color\":\"#E5ECF6\",\"width\":0.5},\"pattern\":{\"fillmode\":\"overlay\",\"size\":10,\"solidity\":0.2}},\"type\":\"bar\"}],\"scattergeo\":[{\"type\":\"scattergeo\",\"marker\":{\"colorbar\":{\"outlinewidth\":0,\"ticks\":\"\"}}}],\"scatterpolar\":[{\"type\":\"scatterpolar\",\"marker\":{\"colorbar\":{\"outlinewidth\":0,\"ticks\":\"\"}}}],\"histogram\":[{\"marker\":{\"pattern\":{\"fillmode\":\"overlay\",\"size\":10,\"solidity\":0.2}},\"type\":\"histogram\"}],\"scattergl\":[{\"type\":\"scattergl\",\"marker\":{\"colorbar\":{\"outlinewidth\":0,\"ticks\":\"\"}}}],\"scatter3d\":[{\"type\":\"scatter3d\",\"line\":{\"colorbar\":{\"outlinewidth\":0,\"ticks\":\"\"}},\"marker\":{\"colorbar\":{\"outlinewidth\":0,\"ticks\":\"\"}}}],\"scattermapbox\":[{\"type\":\"scattermapbox\",\"marker\":{\"colorbar\":{\"outlinewidth\":0,\"ticks\":\"\"}}}],\"scatterternary\":[{\"type\":\"scatterternary\",\"marker\":{\"colorbar\":{\"outlinewidth\":0,\"ticks\":\"\"}}}],\"scattercarpet\":[{\"type\":\"scattercarpet\",\"marker\":{\"colorbar\":{\"outlinewidth\":0,\"ticks\":\"\"}}}],\"carpet\":[{\"aaxis\":{\"endlinecolor\":\"#2a3f5f\",\"gridcolor\":\"white\",\"linecolor\":\"white\",\"minorgridcolor\":\"white\",\"startlinecolor\":\"#2a3f5f\"},\"baxis\":{\"endlinecolor\":\"#2a3f5f\",\"gridcolor\":\"white\",\"linecolor\":\"white\",\"minorgridcolor\":\"white\",\"startlinecolor\":\"#2a3f5f\"},\"type\":\"carpet\"}],\"table\":[{\"cells\":{\"fill\":{\"color\":\"#EBF0F8\"},\"line\":{\"color\":\"white\"}},\"header\":{\"fill\":{\"color\":\"#C8D4E3\"},\"line\":{\"color\":\"white\"}},\"type\":\"table\"}],\"barpolar\":[{\"marker\":{\"line\":{\"color\":\"#E5ECF6\",\"width\":0.5},\"pattern\":{\"fillmode\":\"overlay\",\"size\":10,\"solidity\":0.2}},\"type\":\"barpolar\"}],\"pie\":[{\"automargin\":true,\"type\":\"pie\"}]},\"layout\":{\"autotypenumbers\":\"strict\",\"colorway\":[\"#636efa\",\"#EF553B\",\"#00cc96\",\"#ab63fa\",\"#FFA15A\",\"#19d3f3\",\"#FF6692\",\"#B6E880\",\"#FF97FF\",\"#FECB52\"],\"font\":{\"color\":\"#2a3f5f\"},\"hovermode\":\"closest\",\"hoverlabel\":{\"align\":\"left\"},\"paper_bgcolor\":\"white\",\"plot_bgcolor\":\"#E5ECF6\",\"polar\":{\"bgcolor\":\"#E5ECF6\",\"angularaxis\":{\"gridcolor\":\"white\",\"linecolor\":\"white\",\"ticks\":\"\"},\"radialaxis\":{\"gridcolor\":\"white\",\"linecolor\":\"white\",\"ticks\":\"\"}},\"ternary\":{\"bgcolor\":\"#E5ECF6\",\"aaxis\":{\"gridcolor\":\"white\",\"linecolor\":\"white\",\"ticks\":\"\"},\"baxis\":{\"gridcolor\":\"white\",\"linecolor\":\"white\",\"ticks\":\"\"},\"caxis\":{\"gridcolor\":\"white\",\"linecolor\":\"white\",\"ticks\":\"\"}},\"coloraxis\":{\"colorbar\":{\"outlinewidth\":0,\"ticks\":\"\"}},\"colorscale\":{\"sequential\":[[0.0,\"#0d0887\"],[0.1111111111111111,\"#46039f\"],[0.2222222222222222,\"#7201a8\"],[0.3333333333333333,\"#9c179e\"],[0.4444444444444444,\"#bd3786\"],[0.5555555555555556,\"#d8576b\"],[0.6666666666666666,\"#ed7953\"],[0.7777777777777778,\"#fb9f3a\"],[0.8888888888888888,\"#fdca26\"],[1.0,\"#f0f921\"]],\"sequentialminus\":[[0.0,\"#0d0887\"],[0.1111111111111111,\"#46039f\"],[0.2222222222222222,\"#7201a8\"],[0.3333333333333333,\"#9c179e\"],[0.4444444444444444,\"#bd3786\"],[0.5555555555555556,\"#d8576b\"],[0.6666666666666666,\"#ed7953\"],[0.7777777777777778,\"#fb9f3a\"],[0.8888888888888888,\"#fdca26\"],[1.0,\"#f0f921\"]],\"diverging\":[[0,\"#8e0152\"],[0.1,\"#c51b7d\"],[0.2,\"#de77ae\"],[0.3,\"#f1b6da\"],[0.4,\"#fde0ef\"],[0.5,\"#f7f7f7\"],[0.6,\"#e6f5d0\"],[0.7,\"#b8e186\"],[0.8,\"#7fbc41\"],[0.9,\"#4d9221\"],[1,\"#276419\"]]},\"xaxis\":{\"gridcolor\":\"white\",\"linecolor\":\"white\",\"ticks\":\"\",\"title\":{\"standoff\":15},\"zerolinecolor\":\"white\",\"automargin\":true,\"zerolinewidth\":2},\"yaxis\":{\"gridcolor\":\"white\",\"linecolor\":\"white\",\"ticks\":\"\",\"title\":{\"standoff\":15},\"zerolinecolor\":\"white\",\"automargin\":true,\"zerolinewidth\":2},\"scene\":{\"xaxis\":{\"backgroundcolor\":\"#E5ECF6\",\"gridcolor\":\"white\",\"linecolor\":\"white\",\"showbackground\":true,\"ticks\":\"\",\"zerolinecolor\":\"white\",\"gridwidth\":2},\"yaxis\":{\"backgroundcolor\":\"#E5ECF6\",\"gridcolor\":\"white\",\"linecolor\":\"white\",\"showbackground\":true,\"ticks\":\"\",\"zerolinecolor\":\"white\",\"gridwidth\":2},\"zaxis\":{\"backgroundcolor\":\"#E5ECF6\",\"gridcolor\":\"white\",\"linecolor\":\"white\",\"showbackground\":true,\"ticks\":\"\",\"zerolinecolor\":\"white\",\"gridwidth\":2}},\"shapedefaults\":{\"line\":{\"color\":\"#2a3f5f\"}},\"annotationdefaults\":{\"arrowcolor\":\"#2a3f5f\",\"arrowhead\":0,\"arrowwidth\":1},\"geo\":{\"bgcolor\":\"white\",\"landcolor\":\"#E5ECF6\",\"subunitcolor\":\"white\",\"showland\":true,\"showlakes\":true,\"lakecolor\":\"white\"},\"title\":{\"x\":0.05},\"mapbox\":{\"style\":\"light\"}}},\"xaxis\":{\"anchor\":\"y\",\"domain\":[0.0,1.0],\"title\":{\"text\":\"index\"}},\"yaxis\":{\"anchor\":\"x\",\"domain\":[0.0,1.0],\"title\":{\"text\":\"value\"}},\"legend\":{\"title\":{\"text\":\"variable\"},\"tracegroupgap\":0},\"title\":{\"text\":\"Skills vs Usage in Data Science\"},\"barmode\":\"relative\"},                        {\"responsive\": true}                    ).then(function(){\n",
       "                            \n",
       "var gd = document.getElementById('6579ba41-c1f5-42e0-91e8-afc1ccd73ca8');\n",
       "var x = new MutationObserver(function (mutations, observer) {{\n",
       "        var display = window.getComputedStyle(gd).display;\n",
       "        if (!display || display === 'none') {{\n",
       "            console.log([gd, 'removed!']);\n",
       "            Plotly.purge(gd);\n",
       "            observer.disconnect();\n",
       "        }}\n",
       "}});\n",
       "\n",
       "// Listen for the removal of the full notebook cells\n",
       "var notebookContainer = gd.closest('#notebook-container');\n",
       "if (notebookContainer) {{\n",
       "    x.observe(notebookContainer, {childList: true});\n",
       "}}\n",
       "\n",
       "// Listen for the clearing of the current output cell\n",
       "var outputEl = gd.closest('.output');\n",
       "if (outputEl) {{\n",
       "    x.observe(outputEl, {childList: true});\n",
       "}}\n",
       "\n",
       "                        })                };                });            </script>        </div>"
      ]
     },
     "metadata": {},
     "output_type": "display_data"
    }
   ],
   "source": [
    "fig5 = px.bar(df4, title='Skills vs Usage in Data Science')\n",
    "fig5.show()"
   ]
  },
  {
   "cell_type": "markdown",
   "id": "d428828d",
   "metadata": {},
   "source": [
    "The above bar chart shows the most required skills for data science"
   ]
  },
  {
   "cell_type": "markdown",
   "id": "9450cc59",
   "metadata": {},
   "source": [
    "## Combining all plots"
   ]
  },
  {
   "cell_type": "code",
   "execution_count": 169,
   "id": "3848696e",
   "metadata": {},
   "outputs": [],
   "source": [
    "with open('plots.html', 'w') as f:\n",
    "    f.write('<hr>')\n",
    "    f.write(fig1.to_html())\n",
    "    f.write('<hr>')\n",
    "    f.write(fig2.to_html())\n",
    "    f.write('<hr>')\n",
    "    f.write(fig3.to_html())\n",
    "    f.write('<hr>')\n",
    "    f.write(fig4.to_html())\n",
    "    f.write('<hr>')\n",
    "    f.write(fig5.to_html())"
   ]
  }
 ],
 "metadata": {
  "kernelspec": {
   "display_name": "Python 3 (ipykernel)",
   "language": "python",
   "name": "python3"
  },
  "language_info": {
   "codemirror_mode": {
    "name": "ipython",
    "version": 3
   },
   "file_extension": ".py",
   "mimetype": "text/x-python",
   "name": "python",
   "nbconvert_exporter": "python",
   "pygments_lexer": "ipython3",
   "version": "3.8.0"
  }
 },
 "nbformat": 4,
 "nbformat_minor": 5
}
