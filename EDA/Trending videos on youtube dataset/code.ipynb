{
 "cells": [
  {
   "cell_type": "code",
   "execution_count": 1,
   "metadata": {},
   "outputs": [],
   "source": [
    "import sqlite3\n",
    "import numpy as np\n",
    "import pandas as pd\n",
    "con = sqlite3.connect('dataset.sqlite3')"
   ]
  },
  {
   "cell_type": "code",
   "execution_count": 2,
   "metadata": {},
   "outputs": [
    {
     "data": {
      "text/plain": [
       "[('trending_videos_on_youtube_dataset',)]"
      ]
     },
     "execution_count": 2,
     "metadata": {},
     "output_type": "execute_result"
    }
   ],
   "source": [
    "list(con.execute('select name from sqlite_master'))"
   ]
  },
  {
   "cell_type": "code",
   "execution_count": 3,
   "metadata": {},
   "outputs": [
    {
     "data": {
      "text/html": [
       "<div>\n",
       "<style scoped>\n",
       "    .dataframe tbody tr th:only-of-type {\n",
       "        vertical-align: middle;\n",
       "    }\n",
       "\n",
       "    .dataframe tbody tr th {\n",
       "        vertical-align: top;\n",
       "    }\n",
       "\n",
       "    .dataframe thead th {\n",
       "        text-align: right;\n",
       "    }\n",
       "</style>\n",
       "<table border=\"1\" class=\"dataframe\">\n",
       "  <thead>\n",
       "    <tr style=\"text-align: right;\">\n",
       "      <th></th>\n",
       "      <th>channelId</th>\n",
       "      <th>channelTitle</th>\n",
       "      <th>videoId</th>\n",
       "      <th>publishedAt</th>\n",
       "      <th>videoTitle</th>\n",
       "      <th>videoDescription</th>\n",
       "      <th>videoCategoryId</th>\n",
       "      <th>videoCategoryLabel</th>\n",
       "      <th>duration</th>\n",
       "      <th>durationSec</th>\n",
       "      <th>definition</th>\n",
       "      <th>caption</th>\n",
       "      <th>viewCount</th>\n",
       "      <th>likeCount</th>\n",
       "      <th>dislikeCount</th>\n",
       "      <th>commentCount</th>\n",
       "    </tr>\n",
       "  </thead>\n",
       "  <tbody>\n",
       "    <tr>\n",
       "      <th>0</th>\n",
       "      <td>UCU1_l0ZJyTK_7HZZ3Ruw8Dg</td>\n",
       "      <td>MAPS</td>\n",
       "      <td>pTnk3ziVVRM</td>\n",
       "      <td>2014-01-10T01:24:57.000Z</td>\n",
       "      <td>Psychedelic Horizons Beyond Psychotherapy Work...</td>\n",
       "      <td>Watch the full workshop at http://psychedelics...</td>\n",
       "      <td>29</td>\n",
       "      <td>Nonprofits &amp; Activism</td>\n",
       "      <td>PT1H19M40S</td>\n",
       "      <td>4780</td>\n",
       "      <td>hd</td>\n",
       "      <td>0</td>\n",
       "      <td>1512</td>\n",
       "      <td>8.0</td>\n",
       "      <td>0.0</td>\n",
       "      <td>1.0</td>\n",
       "    </tr>\n",
       "    <tr>\n",
       "      <th>1</th>\n",
       "      <td>UCLuO2lUqHrPIIpx0hFenV2g</td>\n",
       "      <td>Tink Tink Club</td>\n",
       "      <td>cuJjSeHZIrg</td>\n",
       "      <td>2015-06-18T16:56:04.000Z</td>\n",
       "      <td>Episode 35 - Dr. James Fadiman</td>\n",
       "      <td>Dr. James Fadiman is the father of modern psyc...</td>\n",
       "      <td>22</td>\n",
       "      <td>People &amp; Blogs</td>\n",
       "      <td>PT1H12M34S</td>\n",
       "      <td>4354</td>\n",
       "      <td>sd</td>\n",
       "      <td>0</td>\n",
       "      <td>881</td>\n",
       "      <td>14.0</td>\n",
       "      <td>0.0</td>\n",
       "      <td>3.0</td>\n",
       "    </tr>\n",
       "    <tr>\n",
       "      <th>2</th>\n",
       "      <td>UCihqrkaOgVMfLNo2W1hSliA</td>\n",
       "      <td>Podcast Bunk</td>\n",
       "      <td>IuyuZfWtGgg</td>\n",
       "      <td>2016-05-01T05:33:13.000Z</td>\n",
       "      <td>#325 Microdosing from The Adam and Dr Drew Sho...</td>\n",
       "      <td>Adam and Dr. Drew are solo today and they open...</td>\n",
       "      <td>22</td>\n",
       "      <td>People &amp; Blogs</td>\n",
       "      <td>PT50M40S</td>\n",
       "      <td>3040</td>\n",
       "      <td>sd</td>\n",
       "      <td>0</td>\n",
       "      <td>67</td>\n",
       "      <td>0.0</td>\n",
       "      <td>1.0</td>\n",
       "      <td>3.0</td>\n",
       "    </tr>\n",
       "    <tr>\n",
       "      <th>3</th>\n",
       "      <td>UCgbWWPn3VYYzxjffZbfj9GQ</td>\n",
       "      <td>Alan Springwind</td>\n",
       "      <td>cng_ZhQf8iY</td>\n",
       "      <td>2016-01-25T04:48:22.000Z</td>\n",
       "      <td>Microdosing Away The Same Old Blues</td>\n",
       "      <td>Source: https://www.spreaker.com/user/springwi...</td>\n",
       "      <td>24</td>\n",
       "      <td>Entertainment</td>\n",
       "      <td>PT32M21S</td>\n",
       "      <td>1941</td>\n",
       "      <td>hd</td>\n",
       "      <td>0</td>\n",
       "      <td>4</td>\n",
       "      <td>0.0</td>\n",
       "      <td>0.0</td>\n",
       "      <td>0.0</td>\n",
       "    </tr>\n",
       "    <tr>\n",
       "      <th>4</th>\n",
       "      <td>UCFmLi6X1mojkFZOFngNR9tQ</td>\n",
       "      <td>Drug Education Agency</td>\n",
       "      <td>OpQIQEx7J5A</td>\n",
       "      <td>2014-08-15T10:53:58.000Z</td>\n",
       "      <td>Erschossener Kiffer / Drogen in Mikro-Dosierun...</td>\n",
       "      <td>Von erschossenen \"Dealern\", von demonstrierend...</td>\n",
       "      <td>24</td>\n",
       "      <td>Entertainment</td>\n",
       "      <td>PT26M32S</td>\n",
       "      <td>1592</td>\n",
       "      <td>hd</td>\n",
       "      <td>0</td>\n",
       "      <td>5465</td>\n",
       "      <td>121.0</td>\n",
       "      <td>6.0</td>\n",
       "      <td>25.0</td>\n",
       "    </tr>\n",
       "  </tbody>\n",
       "</table>\n",
       "</div>"
      ],
      "text/plain": [
       "                  channelId           channelTitle      videoId  \\\n",
       "0  UCU1_l0ZJyTK_7HZZ3Ruw8Dg                   MAPS  pTnk3ziVVRM   \n",
       "1  UCLuO2lUqHrPIIpx0hFenV2g         Tink Tink Club  cuJjSeHZIrg   \n",
       "2  UCihqrkaOgVMfLNo2W1hSliA           Podcast Bunk  IuyuZfWtGgg   \n",
       "3  UCgbWWPn3VYYzxjffZbfj9GQ        Alan Springwind  cng_ZhQf8iY   \n",
       "4  UCFmLi6X1mojkFZOFngNR9tQ  Drug Education Agency  OpQIQEx7J5A   \n",
       "\n",
       "                publishedAt  \\\n",
       "0  2014-01-10T01:24:57.000Z   \n",
       "1  2015-06-18T16:56:04.000Z   \n",
       "2  2016-05-01T05:33:13.000Z   \n",
       "3  2016-01-25T04:48:22.000Z   \n",
       "4  2014-08-15T10:53:58.000Z   \n",
       "\n",
       "                                          videoTitle  \\\n",
       "0  Psychedelic Horizons Beyond Psychotherapy Work...   \n",
       "1                     Episode 35 - Dr. James Fadiman   \n",
       "2  #325 Microdosing from The Adam and Dr Drew Sho...   \n",
       "3                Microdosing Away The Same Old Blues   \n",
       "4  Erschossener Kiffer / Drogen in Mikro-Dosierun...   \n",
       "\n",
       "                                    videoDescription  videoCategoryId  \\\n",
       "0  Watch the full workshop at http://psychedelics...               29   \n",
       "1  Dr. James Fadiman is the father of modern psyc...               22   \n",
       "2  Adam and Dr. Drew are solo today and they open...               22   \n",
       "3  Source: https://www.spreaker.com/user/springwi...               24   \n",
       "4  Von erschossenen \"Dealern\", von demonstrierend...               24   \n",
       "\n",
       "      videoCategoryLabel    duration  durationSec definition  caption  \\\n",
       "0  Nonprofits & Activism  PT1H19M40S         4780         hd        0   \n",
       "1         People & Blogs  PT1H12M34S         4354         sd        0   \n",
       "2         People & Blogs    PT50M40S         3040         sd        0   \n",
       "3          Entertainment    PT32M21S         1941         hd        0   \n",
       "4          Entertainment    PT26M32S         1592         hd        0   \n",
       "\n",
       "   viewCount  likeCount  dislikeCount  commentCount  \n",
       "0       1512        8.0           0.0           1.0  \n",
       "1        881       14.0           0.0           3.0  \n",
       "2         67        0.0           1.0           3.0  \n",
       "3          4        0.0           0.0           0.0  \n",
       "4       5465      121.0           6.0          25.0  "
      ]
     },
     "execution_count": 3,
     "metadata": {},
     "output_type": "execute_result"
    }
   ],
   "source": [
    "df = pd.read_sql(\n",
    "    '''\n",
    "    --sql\n",
    "    SELECT * FROM trending_videos_on_youtube_dataset\n",
    "    ''',\n",
    "    con\n",
    ")\n",
    "df.head()"
   ]
  },
  {
   "cell_type": "code",
   "execution_count": 4,
   "metadata": {},
   "outputs": [
    {
     "name": "stdout",
     "output_type": "stream",
     "text": [
      "channelId:\n",
      "['UCU1_l0ZJyTK_7HZZ3Ruw8Dg' 'UCLuO2lUqHrPIIpx0hFenV2g'\n",
      " 'UCihqrkaOgVMfLNo2W1hSliA' 'UCgbWWPn3VYYzxjffZbfj9GQ'\n",
      " 'UCFmLi6X1mojkFZOFngNR9tQ' 'UCxSbJSgLqIO8r7TONBN5dvw'\n",
      " 'UCSqJniChpE6ngCRzUvNNgug' 'UCmrLCXSDScliR7q8AxxjvXg'\n",
      " 'UC2nzGL6I-SRc_gkBLWLDVWg' 'UCn8V3KNSgDr1Dai77_y8JrQ'\n",
      " 'UCXSF1F_RFRUVNXX4QmB6vmw' 'UCP-AYTzarlgRNuvDMpoN9IA'\n",
      " 'UCpy50X_0LZU3Ju2GTRZ6l7w' 'UCWdEQ_cOzB1S3MEGHIBnxSA'\n",
      " 'UCWOAtXUd8F-MCx2-AfBE_8A' 'UCmSvUqDxMhu2CN5PqkTK1Eg'\n",
      " 'UCfvKwp-BExobsDcuDfCx1hA' 'UC7wOvqC3gyy45Eevq-ZSokw'\n",
      " 'UCLtigEiKqmjGC8VxktMl7TQ' 'UCewQJkBg5UT2Q2qXNmeUmHQ'\n",
      " 'UC6kFuQCLBFJnIzzhC5cysaA' 'UCldfgbzNILYZA4dmDt4Cd6A'\n",
      " 'UCJrVckuDr9mbysKNpgfhhFg' 'UCObG2rwB28k7hPipFqea_ng'\n",
      " 'UCeZ7WEtJh2aY75gd31A0_-Q' 'UC-MsM6mCPLnUrjOAfsCMTxw'\n",
      " 'UCBreA_KjlvTPX0P3u2Fxn3g' 'UCKa6yh0Vd3-NNs64Ea5dihg'\n",
      " 'UC4-_7YBc0X-qU5nQn_sTDlg' 'UCvb-DqrtgHRX-hPypnjfkdw'\n",
      " 'UCoM5UvXoqDHd2zCpqTrUm3w' 'UCISZQaV44OrgDBRbeDrCXYQ'\n",
      " 'UCuUJ0ByfT_9idrRzIFu9OyA' 'UCyPSHKvZDBwmGtQxaF9Hg7A'\n",
      " 'UCWhd7Voh_8ZjyM2NryqpMbg' 'UCm6dPJ_2VwvfB1c873IUMHg'\n",
      " 'UCo0r68iGvJJYBqogfAW7wjQ' 'UCOp0ZmhL17fYU6FzNLc3RwQ'\n",
      " 'UCnY0P7Z7FBMMIoHC2zUJVIQ' 'UCxw4-gbOtqRLdh9C3Ne-XAw'\n",
      " 'UCafWkijltITY62ecvVF7ykw' 'UCzYRSPPmlDnbojgdo4O13KQ'\n",
      " 'UCF4LEacx9sDvAbEJnlaJfKQ' 'UCI-jLIlZKXHCZApl3VvWfgQ'\n",
      " 'UCKl0MRTvyN2DLAj3AyGFKrw' 'UCsGuxu7vhRULX4uM5wwlWXw'\n",
      " 'UCowrFy3JghpFkwYCuV6Gsrw' 'UC9B2G9dYd4dIbQtyy9SczAQ'\n",
      " 'UCZKcHstffFwoxnTs5uKmryw' 'UClXUeX430K8mNt5kJyZthYA'\n",
      " 'UCfBmmf1OpYLL7JrD2ExMQLA' 'UCg2EubjIryo4KZnrhIK7LeA'\n",
      " 'UCFC0cHr4iU73zuQVMKtSHKw' 'UCru4dSY14CghSFzxNhz7eTg'\n",
      " 'UC5Prm8XLT2VgdEL3iOn-BOA' 'UCux5OArmpA14yb4lqQDD6ng'\n",
      " 'UC8Nx-9uQ8eIabSECQwz1KhQ' 'UCGcF4QHx-bUGNT7nIo-cxDQ'\n",
      " 'UCcNYpSbdTEnzvWpQrkCPFqA' 'UCOtBO5lxoSV0bUoL1VKVizA'\n",
      " 'UCH3AiD3qk2KajBxYrHfoVIw' 'UCEg0z7UFsEtPUuGcXzol-hg'\n",
      " 'UCmReYKJm8ohBE4CgiyBMvQA' 'UCsuTwa41Vo-D_tp1szb-X2A'\n",
      " 'UC8R47lb-vhSXsNt79GVJOEw' 'UCFlKVHW74SjZrmM4KcIu_kg'\n",
      " 'UC3M1LDs2tSg0Gy3iCqMLGRg' 'UCy30w-Anzo6QTpyqUWeSJdg'\n",
      " 'UCmNZB3-zCyMuHCOTraws0dg' 'UCUzOQ9BimbVc6zU6UDMsnnA'\n",
      " 'UCIC-KZObsWRQDaw_r_5o74w' 'UC9FsJnf2tJEZByE-m1Gs7BA'\n",
      " 'UCByZtO109BzcxAG9AaL_9pw' 'UCMGzgGupUGKc-xV6F4cwy0Q'\n",
      " 'UC6Qia_DIjUWJHIrk5zI9pmA' 'UCZA4UoKQSLUzJ3g4DLZS4EA'\n",
      " 'UCZwZeq6xPWyWzNcOspTn4qQ' 'UCjnXuO6mfE0-czvcbOYnpbQ'\n",
      " 'UC0dsjSDsLZ5hbmoNjvsHJsQ' 'UC281yIVp-U8Ijg4KUVRgDRA'\n",
      " 'UCH4ezCqRXHQhsETfl0dainA']\n",
      "-----------------------------\n",
      "\n",
      "channelTitle:\n",
      "['MAPS' 'Tink Tink Club' 'Podcast Bunk' 'Alan Springwind'\n",
      " 'Drug Education Agency' 'Oracle Frequency Podcast' 'Fabian-ji Chononita'\n",
      " 'Black Pigeon Speaks' 'ellie pipkins' 'PsychedSubstance' 'Your Mate Tom'\n",
      " 'Sensorinstruments' 'Vanrooy Machinery' 'Nate God' 'IITA CO' 'CABIvideo'\n",
      " 'ICRISAT Co' 'jayurbzz' 'LamentoAbsurdo' 'MicroLife'\n",
      " 'The Natural Way of Healing' 'Secular Talk' 'War on drugs' 'Disaltar'\n",
      " 'Psychoactive Society' 'Young Morpheus' 'Edgar Frias' 'CapsugelPTG'\n",
      " 'Damienbove' 'The Point with Ana Kasparian' 'Malan Darras' 'WordsReality'\n",
      " 'TheLipTV2' 'trippyshore' 'TheOriginsOfReligion' 'Luna Sky Diamond'\n",
      " 'MAC Valves' 'Intek Systems, Inc.' 'Nutristore' 'E-PAK Machinery, Inc.'\n",
      " 'SHAPE (PTY) LTD CLINIC' 'ESTEVECompany' 'CBS SF Bay Area'\n",
      " 'The Awakened Brave!' 'Ron Elimeleh'\n",
      " 'Improve Humanity | Behind the Eyelids' 'TNO' 'David Zobrist'\n",
      " 'kodie lallement' 'MrALEXANDRIDIS' 'VIZAKIS MODALITY' 'InsideTRU'\n",
      " 'Agrivideos' 'Everything Kratom' 'VFFSItaly' 'LawerSPA'\n",
      " 'P.F.M.G. -company LLC' 'Motion Brand' 'CamozziAutomation' 'finedosing'\n",
      " 'charles Wagstaff' 'helixqld' 'VideoOSVTech' 'ASM SA' 'Helix Steel Texas'\n",
      " 'Sabina Cruz' 'Nöron Mühendislik' 'Detech' 'Helix Steel Victoria'\n",
      " 'C.E.King Limited' 'Serigstad Czech Republic' 'timasid' 'DMA Europa'\n",
      " 'Bürkert Fluid Control Systems' 'Vakantie Vincent' 'wemakeideasflow'\n",
      " 'gaoyuansg' 'Ayahuasca Magic' 'fluidresearch' 'Osiron X'\n",
      " 'FabFormIndustries']\n",
      "-----------------------------\n",
      "\n",
      "videoId:\n",
      "['pTnk3ziVVRM' 'cuJjSeHZIrg' 'IuyuZfWtGgg' 'cng_ZhQf8iY' 'OpQIQEx7J5A'\n",
      " 'U6Ecm1Kb4AI' 'qyOW2otR1Vs' '4ekkXrfmPM8' 'akZrftACY1I' 'UGxSZqTZVaU'\n",
      " 'cnFTo2zFUgw' 'Yp0_M7X7NRQ' 'Pllo0aqVs8c' 'BpGNlaCR2uU' 'gpI2WqVxjqQ'\n",
      " 'FN_H_H1AWH4' 'xl7pRQGIMdg' 'wgjXgfzqvW0' 'CKVMDnFunKQ' '44cUVZ1nw1Y'\n",
      " '2D3F-Ui7knU' 'JvfBbCsZOmw' 'pvjYMuKnf3E' '8B8bO0WMVTw' 'q-UqzqO0LR8'\n",
      " 'w-xJeBRAFDA' 'mIViHhMcRH0' 'syccbpQvmmU' 'NpPk0RtCcSI' '54pkxpLiIJc'\n",
      " 'Zy_L2BiCd5Q' 'kbVwK9hqSKc' 'XuRmdIib9V0' 'iG6nxxfx42w' '8H6V34YsnVI'\n",
      " 'bPxSV0AU5qc' 'GpCpDsPuZO4' '2PUL2hNeKlg' 'kn5k_THCM8Y' 'eubTuY_RTkU'\n",
      " 'L7KzrNqgUcA' 'Q1fYTecYJbg' 'kQx2TtwPYtw' 'fozheOarVWM' 'waKpmL2rfaQ'\n",
      " 'i4OiWEhPP6g' '1DbymTVnaUo' 'BRsiCRUSd40' 'hF3mEHe3klk' 'c4-AB1jg3Sg'\n",
      " 'b0RDMUgn_3E' 'g_mr59_rpJc' '9KOMnttxK5o' 'eK-2xWFr0UA' 'PomaOJZaq8s'\n",
      " 'ZDzAWxB-bNU' 'V-dP7Scpa0c' 'S5KxsynQ5z0' 'ns1JFBJ0BA0' 'iTmjf4fPpeo'\n",
      " 'VjrWr7mpruI' 'P1Zb1ixhesA' 'QEbEKj__VyE' 'QaAU1A2dUdc' 'tvtzuL45dbc'\n",
      " 'xijwKjyY3JI' 'sFxk3qJU6xc' 'Crhd-tLy3Jg' '6mm4fXJMdeI' 'oMeECK_PH4E'\n",
      " 'NuAaIjS-L88' 'i7K4p4MzmDA' 'dgWKr3Mymcw' 'nKnJMdFL7-0' 'DwDowxM5HLI'\n",
      " 'b5l_TSpBDa8' 'U5sGKnN3YEs' 'nOX80zQnoGI' '7l-Trpfd6Qk' 'u2tG09c5Wfw'\n",
      " 'bpuL6pQTboM' '9pNpkG37tp4' 'm-isi4QvZ0c' 'S5VjepWZeHU' 'feTYskS7xrI'\n",
      " 'qGor28LonjY' 'lICg7lwrYtA' 'tuBnNdDgABM' '4e8N5ZS1YTU' 'xZea2BJLEkY'\n",
      " 'Ycj5-oNkIxc' 'HxudMyH5OR0' 'o1-fvHEufC8' 'xgoCPoEjWCE' 'nUpXT0KygZc'\n",
      " 'D40d9dYxqDM' '_s03zFqdM2o' 'qomNziismeI' 'xaBXBLRnCyI' 'wHLta75vo7U'\n",
      " 'KW_Uka6Rdqk' 'U5qqLjYcbyc' 'mr_MKypHHhg' 'q5TX-aTB4hY' 'c-4QepH5zis'\n",
      " 'XqLro_GPPIc' 'NOHsqsws96Y' 'ZjfAkUildfU' 'Wma08Q85mJU' 'PXTpG_FV248'\n",
      " 'j9HFlDff2XY' 'lOGAkCtT4wk' 'sTNaGjt6564' 'fMlQoGINGHo' 'ODX4tzCWhhU']\n",
      "-----------------------------\n",
      "\n",
      "publishedAt:\n",
      "['2014-01-10T01:24:57.000Z' '2015-06-18T16:56:04.000Z'\n",
      " '2016-05-01T05:33:13.000Z' '2016-01-25T04:48:22.000Z'\n",
      " '2014-08-15T10:53:58.000Z' '2015-10-11T06:52:13.000Z'\n",
      " '2016-05-11T20:24:46.000Z' '2016-04-23T09:27:30.000Z'\n",
      " '2016-06-04T12:39:29.000Z' '2015-09-12T13:44:39.000Z'\n",
      " '2015-12-05T16:26:46.000Z' '2014-02-09T23:18:09.000Z'\n",
      " '2010-12-23T00:51:30.000Z' '2015-12-22T13:53:05.000Z'\n",
      " '2010-07-13T06:05:56.000Z' '2012-08-09T22:56:28.000Z'\n",
      " '2013-04-29T05:35:47.000Z' '2013-05-17T12:33:05.000Z'\n",
      " '2015-05-18T04:13:50.000Z' '2016-03-02T20:52:39.000Z'\n",
      " '2016-03-03T12:10:24.000Z' '2016-04-22T21:02:08.000Z'\n",
      " '2016-03-05T15:21:34.000Z' '2015-06-18T02:48:42.000Z'\n",
      " '2015-06-18T07:50:40.000Z' '2015-12-14T04:14:13.000Z'\n",
      " '2016-02-10T12:11:29.000Z' '2015-02-14T16:46:15.000Z'\n",
      " '2015-09-16T15:09:57.000Z' '2016-01-30T15:00:00.000Z'\n",
      " '2015-10-10T12:59:32.000Z' '2015-11-13T14:35:06.000Z'\n",
      " '2011-05-27T09:10:20.000Z' '2015-11-10T09:20:00.000Z'\n",
      " '2010-02-08T19:13:48.000Z' '2011-05-27T09:23:31.000Z'\n",
      " '2016-03-02T21:05:30.000Z' '2015-06-26T22:15:50.000Z'\n",
      " '2016-05-07T14:13:22.000Z' '2015-05-06T14:41:54.000Z'\n",
      " '2016-04-11T03:52:01.000Z' '2015-12-01T02:02:15.000Z'\n",
      " '2015-07-08T07:55:52.000Z' '2016-04-20T07:34:33.000Z'\n",
      " '2015-10-12T23:19:55.000Z' '2016-04-17T00:44:15.000Z'\n",
      " '2014-03-28T04:08:38.000Z' '2014-04-08T18:59:20.000Z'\n",
      " '2014-10-25T02:52:13.000Z' '2008-12-03T07:36:27.000Z'\n",
      " '2016-06-03T20:28:37.000Z' '2016-03-01T09:05:47.000Z'\n",
      " '2012-04-24T09:11:03.000Z' '2016-05-05T23:16:25.000Z'\n",
      " '2016-03-02T16:59:15.000Z' '2014-01-05T08:58:05.000Z'\n",
      " '2016-02-02T17:30:43.000Z' '2010-12-22T00:50:45.000Z'\n",
      " '2013-07-09T11:14:14.000Z' '2016-02-17T09:52:11.000Z'\n",
      " '2015-07-08T06:38:13.000Z' '2014-01-18T12:10:49.000Z'\n",
      " '2009-11-11T14:57:45.000Z' '2015-07-14T09:37:07.000Z'\n",
      " '2016-04-11T05:16:48.000Z' '2015-05-27T19:37:09.000Z'\n",
      " '2015-06-17T09:17:13.000Z' '2007-03-30T07:09:21.000Z'\n",
      " '2015-12-22T22:16:23.000Z' '2016-03-01T09:55:00.000Z'\n",
      " '2015-11-12T20:09:41.000Z' '2012-06-25T09:09:01.000Z'\n",
      " '2015-07-08T06:38:15.000Z' '2014-09-19T07:48:22.000Z'\n",
      " '2016-05-20T10:16:37.000Z' '2016-03-03T18:02:05.000Z'\n",
      " '2015-05-18T11:38:07.000Z' '2016-03-06T16:54:09.000Z'\n",
      " '2013-03-30T15:16:23.000Z' '2016-03-12T17:41:30.000Z'\n",
      " '2016-04-18T00:30:52.000Z' '2014-02-02T23:36:59.000Z'\n",
      " '2012-06-14T11:36:35.000Z' '2012-03-06T20:43:48.000Z'\n",
      " '2015-07-08T06:38:12.000Z' '2016-03-10T18:48:11.000Z'\n",
      " '2013-12-19T14:38:44.000Z' '2015-07-08T06:38:16.000Z'\n",
      " '2015-12-03T07:10:22.000Z' '2016-01-26T14:08:28.000Z'\n",
      " '2015-07-30T16:30:44.000Z' '2013-07-21T14:06:32.000Z'\n",
      " '2013-12-06T16:21:09.000Z' '2012-01-21T12:58:38.000Z'\n",
      " '2015-07-21T13:49:38.000Z' '2016-01-21T17:53:45.000Z'\n",
      " '2016-01-21T16:33:41.000Z' '2016-01-26T22:16:07.000Z'\n",
      " '2009-09-01T21:03:13.000Z' '2014-01-22T15:17:48.000Z'\n",
      " '2013-09-26T11:35:41.000Z' '2015-12-10T14:38:46.000Z'\n",
      " '2016-02-29T23:27:49.000Z' '2015-03-31T09:06:18.000Z'\n",
      " '2013-04-11T17:04:03.000Z' '2015-07-08T06:38:10.000Z'\n",
      " '2015-04-27T08:23:23.000Z' '2012-12-10T08:23:49.000Z'\n",
      " '2016-03-07T16:34:30.000Z' '2016-03-25T04:58:34.000Z'\n",
      " '2010-08-20T14:46:56.000Z' '2014-05-19T12:14:36.000Z'\n",
      " '2016-04-15T19:31:48.000Z' '2015-08-19T18:25:20.000Z']\n",
      "-----------------------------\n",
      "\n",
      "videoTitle:\n",
      "['Psychedelic Horizons Beyond Psychotherapy Workshop - Part 3/4'\n",
      " 'Episode 35 - Dr. James Fadiman'\n",
      " '#325 Microdosing from The Adam and Dr Drew Show on podbay'\n",
      " 'Microdosing Away The Same Old Blues'\n",
      " 'Erschossener Kiffer / Drogen in Mikro-Dosierung / Hanfparade DEA (53)'\n",
      " 'Microdosing Psilocybin Mushrooms & LSD - The Oracle Frequency Podcast #25'\n",
      " 'Spagyric Microdosing: An Alchemical Approach to Sacred Plant Healing'\n",
      " 'LSD: Microdosing & the SUPERNATURAL'\n",
      " 'Microdosing LSD or any Psychedelic'\n",
      " 'Microdosing PSILOCYBIN Mushrooms Experiment || REVIEW'\n",
      " 'Microdosing monitoring'\n",
      " 'Agriflex flour silos, ingredient storage and dosing systems levain machines-Dec10 Vanrooy'\n",
      " 'Microdosing LSD at school'\n",
      " 'Flour silos, raw materials storage & dosing, natural yeast machines. Agriflex - Vanrooy'\n",
      " 'Micro-dosing' 'Fighting striga-Micro-dosing' 'Microdosing'\n",
      " 'Microdosing LSD (1/5): Setting, Research, Intention'\n",
      " 'Exit from \"depression\" by microdosing magic mushrooms.'\n",
      " 'What Is Microdosing?' 'MICRODOSING CANNABIS! Benefits of Cannabis!'\n",
      " \"'Microdosing' Psychedelic Drugs Has Positive Effects\"\n",
      " 'Microdosing psychedelic drugs has positive effects'\n",
      " '5ht2 activation and the heart; microdosing LSD and psilocybin'\n",
      " \"MicroDosing Psilocybin! Improving Overall We'll Being.\"\n",
      " 'DMT Breakthrough / Micro dosing Method' 'Micro Dosing'\n",
      " 'Mescaline Microdose'\n",
      " 'MICRODOSING MUSHROOMS : The Benefits of Microdosing Psilocybin!'\n",
      " 'Microdosing PSILOCYBIN Experiment | Day 2'\n",
      " 'Xcelodose 120S Precision Powder Micro-dosing System'\n",
      " 'Microdosing PSILOCYBIN Mushrooms Experiment | DAY 1'\n",
      " 'Review Part B- FDA, M3(R2) Nonclinical Safety Studies, microdosing'\n",
      " 'Xcelodose 600S Precision Powder Micro-dosing System'\n",
      " 'Microdosing LSD (2/5): Staying Present in Reality Waves'\n",
      " 'What You Need To Know About \"Microdosing\"'\n",
      " 'MICRODOSING 101! Step By Step To Microdosing Psilocybin Mushrooms'\n",
      " 'Charles Bukowski and Microdosing: My New Morning Routine'\n",
      " 'Micro dosing Mushrooms and WARNING before taking Psychedelics'\n",
      " 'LSD, Microdosing: Is It Good For Business?' 'About Microdosing'\n",
      " 'Microdosing Psilocybe Testimony - The Natural Way of Healing'\n",
      " 'Become your Own Guru by micro-dosing on LSD!'\n",
      " 'MAC LIQUID TECHNOLOGY - MICRODOSING'\n",
      " 'Micro-dosing With MAC Bullet Valves'\n",
      " 'CON-CRET CREATINE MICRO-DOSING 48 Servicios PROMERA SPORTS'\n",
      " 'Miracles with fertilizer microdosing'\n",
      " 'Fully Automatic Micro Dosing Piston Filler for eJuice'\n",
      " 'Micro-dosing of Anabolics / Testosterones'\n",
      " 'Storing and dosing station of ingredients ESTEVE - industrial'\n",
      " 'Micro-Dosing LSD Brings Silicon Valley Tech Innovators, Artists Inspiration'\n",
      " 'Shroom Experiment. Micro dosing, Day 2.'\n",
      " 'Micro-Dose (Liron Moskovich) Gamma Goblins KarHana@Fractal 3.1.14 Haravot'\n",
      " 'Marijuana & Alcohol Combination - Uses - (\"Microdosing\" Alcohol?!?)'\n",
      " 'Agriflex flour silos, automatic ingredient storage & dosing-low res-presentation-Vanrooy-Dec10'\n",
      " 'Microdosing Magic Mushroom 0.1g Experience' 'Microdosing: Future'\n",
      " 'con cret micro dosing creatine review' 'PRAXIS MICRO DOSING'\n",
      " 'Uniclick syringe to reduce dosing errors and cost to healthcare globally'\n",
      " 'Psychedelic Micro dosing and Weight Training'\n",
      " '3MT - Erika Bachmann: Fertilizer microdosing for improved agricultural production'\n",
      " 'Microdosing - a little goes a long way' 'Microdosing mushrooms vlog 1'\n",
      " 'TECHNO D - Packaging machine for micro dosing'\n",
      " 'Microdosing short version'\n",
      " 'Lawer - UNICA Gelato ingredients automatic dosing'\n",
      " 'Microdosing: Up-scaling' 'Micro dosing of powdered products'\n",
      " 'Jesma Microdosing' 'Shroom Experiment, Micro dosing, Day 3.'\n",
      " 'K8MDC Micro-dosing control valve'\n",
      " 'Shroom Experiment, Micro dosing. Day 6.' 'MCPI Fine dosing'\n",
      " 'Shroom Experiment, Micro dosing. Day 12.'\n",
      " 'Amanda Feilding on Microdosing'\n",
      " 'Helix Micro Rebar Dosing - Millennium Mine'\n",
      " 'OSV Mini ER - Mixing and Microdosing of Epoxy Resins'\n",
      " 'MICRO DOSING SCALE per 10x SILOS' 'Microdosing: On-Station work'\n",
      " 'Shroom Experiment, Micro dosing, Day 10. Psilocybin and Kratom.'\n",
      " 'Dosing trucks with Helix micro rebar at Ingram Ready Mix'\n",
      " 'Microdosing: Warrantage' 'Minimum Quantity Lubrication (MQL)'\n",
      " 'Micro Dosing System 03 (tea) (Hassas Dozajlama Sistemi03 çay)'\n",
      " 'microdosing test run 2015 07 27 No 2'\n",
      " 'Dosing Helix Micro-Rebar using a blower --- © Copyright'\n",
      " 'Dosing Helix micro rebar into a ready mix truck'\n",
      " 'microdosing test run 2015 07 27'\n",
      " 'www.pacwiki.org - Tecnotrend Automazione - FV252T Microdosing Machine for vials'\n",
      " 'Mikroaplikace biologických konzervantů. LDS Low Dosing System'\n",
      " 'Micro Dosing System 02 (Hassas Dozajlama Sistemi02)'\n",
      " 'Micro Dosing System 01 (Hassas Dozajlama Sistemi01)'\n",
      " 'Micro Dosing System 05 (farina) (Hassas Dozajlama Sistemi05 irmik)'\n",
      " 'Graco Dynamic Paint Proportioning (Dynamic Micro Dosing)'\n",
      " 'Microfluidics - new 5μl micro dosing pump delivers precision & reliability DMA Europa'\n",
      " 'Micro dosing unit for liquids from Bürkert'\n",
      " \"De Mooie Mannen Club: Vakantie Vincent: Microdosing Is De Sjit! De 'Hulde Aan Meneer Hofmann' Edit\"\n",
      " 'Micro Dosing System 04 (PLC Kontrollü) (Hassas Dozajlama Sistemi04 PLC Control System)'\n",
      " 'Micro: Pneumatic dosing unit' '7615 Micro Dosing Pump-1'\n",
      " 'Microdosing: On-Farm work'\n",
      " 'www.noronmuhendislik.com Mikro Dozaj Sistemi Micro Dosing System Noron Mühendislik'\n",
      " 'SG-Fiber dosing system of micro surfacing paver'\n",
      " 'Shroom Experiment, Micro dosing, Day 7.'\n",
      " 'Time differentials: mystery wisdom and microdosing'\n",
      " 'Fluid filling with exact precision dosing by Fluid Research Corp'\n",
      " 'Accurate dosing of Helix Twisted Steel Micro Rebar concrete reinforcement --- Copyright ©'\n",
      " 'Psilocybin Mushroom Micro-Dosing' 'Dosing Helix Micro Rebar']\n",
      "-----------------------------\n",
      "\n",
      "videoDescription:\n",
      "['Watch the full workshop at http://psychedelicscience.org In addition to their psychotherapeutic uses, experimental evidence shows that psychedelics deepen daily life and enrich most academic fields. As popular use still is 99% of all experiences, it is important to be aware of the effects of rising religious use, microdosing, problem--solving, self-help groups, effects on education and popular culture. Entheogenic uses promote spiritual growth including heightened senses of significance, meaningfulness, and sacredness. Personality growth promotes altruism and open mindedness. Future leads propose advances through microdosing, developing a Multistate Theory —even exploring previously unknown mindbody states that may contain unusual, rare and even undiscovered human abilities. James Fadiman, PhD completed his dissertation at Stanford on the effectiveness of LSD-assisted therapy just as all research was shut down. During the subsequent 40 year lull, he has held a variety of teaching, consulting, training, counseling, and editorial positions. He has taught in psychology departments, design engineering, and for the past three decades at the Institute of Transpersonal Psychology that he co-founded. He has published textbooks, professional books, a self-help book, a novel, and a series of videos (\"Drugs:The Children are Choosing\") for National Public Television. His books have been published in eight languages. He was featured in a National Geographic documentary and had three solo shows of his nature photography. He sits on two non-profit boards and has been the president of several small natural resource companies. He has been involved in researching psychedelics for spiritual, therapeutic, and creative uses when it was legal and subsequently and recently published The Psychedelic Explorer\\'s Guide: Safe, Therapeutic, and Sacred Journeys and released a series of videos (with Kokyo Henkel), Buddhism and Psychedelics. He is doing surveys of psychedelic use and has pioneered researching micro-dosing of a number of substances for a host of conditions. More at http://jamesfadiman.com Dr. Roberts\\'s major publication in the humanities and social sciences is The Psychedelic Future of the Mind: Enhancing Cognition, Boosting Intelligence, and Raising Values (2013), in religion Spiritual Growth with Entheogens: Psychoactive Sacramentals and Human Transformation (2012), in medicine Psychedelic Medicine: New Evidence for Hallucinogenic Substances as Treatments (2007), and in mind development and education Psychedelic Horizons: Snow White, Immune System, Multistate Mind, Enlarging Education (2006). He is a founding member of MAPS, co-founder of the Council on Spiritual Practices, creator of Rising Researcher sessions, and originated the celebration of Bicycle Day. He has taught Psychedelic Studies at Northern Illinois University since 1981. More info at: niu.academia.edu/ThomasRoberts'\n",
      " 'Dr. James Fadiman is the father of modern psychedelic therapy and the author of the Psychedelic Explorers Guide. He is currently doing research on the effects of microdosing.'\n",
      " \"Adam and Dr. Drew are solo today and they open the show talking to a caller about the new phenomenon of 'microdosing' LSD and Drew gives his thoughts on how it will unfold. As the show continues, they talk to other callers including one who has been addicted to pain killers for a long time trying to ween himself off, as well as someone who wants to figure out how to help children who didn't grow up with the best family support structure. AdamAndDrDrewShow.com\"\n",
      " 'Source: https://www.spreaker.com/user/springwind_sonic_soul_collage/microdosing-away-the-same-old-blues A medicinal little ripple to dance one out of the blues.'\n",
      " 'Von erschossenen \"Dealern\", von demonstrierenden Hanf-Fans und von Psychonauten, die fast keine Drogen nehmen - herzlich willkommen, liebe Gemeinde, zu Folge 53 eurer Drug Eduaction Agency. Diesmal präsentiert Gastgeber und Chefredakteur Markus Berger euch ein Trend-Thema, das ursprünglich in der Schnittmenge aus Psychonautik und Extremsport beheimatet ist: das Micro Dosing. Korrespondent Simon erzählt euch Erhellendes zu anarchistischen Cops, die auf ihre eigene Art und Weise mit dem \"Drogenproblem\" umgehen - sie erschießen einfach deren Protagonisten. Das ist Deutschland, das ist Bayern. Darüber hinaus haben wir einen Rückblick auf die 18. Hanfparade, die am 9. August stattfand, und die hervorragende und einzigartige Hanfparaden-Rede vom drogenpolitischen Aktivisten Max Plenert (unbedingt ganz anschauen! Bitte entschuldigt die mindere Tonqualität des Beitrags), die auf den Punkt bringt, was bei uns eigentlich los ist. Wir wünschen euch viel Spaß mit der DEA 53. QUICK SEARCH: 00:00 Vorspann 00:23 Vorschau 00:38 Begrüßung und worum es geht 01:17 Micro Dosing - ein Psychonautentrend 09:18 30 Jahre Nachtschatten Verlag - das Symposium 10:42 Hanfparade 2014 - eine Rückschau 12:55 Über Cowboy Cops und erschossene Cannabis-User 16:03 CannaTrade 2014 - Trailer 16:46 Max Plenert über die deutsche Drogenpolitik 25:31 Abspann http://www.dea-tv.org http://www.drugeducationagency.tv http://MarkusBerger.info http://www.nachtschattenverlag.ch/symposium Echte DEA-Homies hüllen ihre Leiber in DEA-Merchandise - zu haben bei http://www.blackleaf.de'\n",
      " 'In recent years, more and more psychedelic explorers have been taking small amounts of LSD & magic mushrooms to help maintain a positive mood, gain creativity, and even perform better in athletic events. These \"microdoses\" are so small that no hallucinations occur, yet the user still gets the lasting positive mental gains often seen with traditional psychedelic use. Microdosing is quickly becoming a popular way to help reduce the effects of depression, anxiety, and PTSD. In episode 25, Brian explains the process a bit further. Listen to the Podcast: Stitcher - http://www.stitcher.com/podcast/oracle-frequency-podcast/the-oracle-frequency-podcast iTunes - https://itunes.apple.com/us/podcast/oracle-frequency-podcast/id1045648772 SoundCloud - https://soundcloud.com/oraclefrequency TuneIn - http://tunein.com/radio/The-Oracle-Frequency-Podcast-p798445/ Oracle Frequency Social Media: Facebook - https://www.facebook.com/OracleFrequency/ Twitter - https://twitter.com/oraclefrequency Pinterest - https://www.pinterest.com/oraclefrequency/ Google+ - https://plus.google.com/+OracleFrequency/posts Website – http://www.oraclefrequency.com'\n",
      " 'Spagyric Microdosing: An Alchemical Approach to Sacred Plant Healing. An Evolver.net / Reality Sandwich talk at The Alchemist Kitchen in New York City Please join the Facebook group on https://www.facebook.com/groups/microdosing/ or join one of my talks https://www.facebook.com/events/1716322355313707/ or watch a recording: https://www.youtube.com/user/fabianji1/videos Fabian Michael Piorkowsky or Fabian-ji is an Alchemist and conference speaker in the field of traditional and alternative medicine and conducts private as well as group healing workshops and retreats in South America and South Africa together with his apprentices. The information provided on this site / video is for educational, historical, and cultural interest only and should not be construed as advocacy for the use or ingestion of Ayahuasca or any other sacred plant or substance. To our knowledge all reports here are based on experiences in countries where the plants, substances and practices involved are fully legal and officially practised. We do not entice or condone any behaviour that is in breach with local laws and point out that each individual is responsible for themselves to find out the legal status of these practices in the country they intend to investigate them. Neither the author nor the publisher assumes any responsibility for physical, psychological, or social consequences resulting from the ingestion of these substances or their derivatives. http://www.plantsbyfabian.com/'\n",
      " \"a http://vidmax.com/ original. If you would like to support this channel, donations are GREATLY appreciated. Via PayPal to: navyhato@gmail.com (NAVYHATO@GMAIL.COM) Or support me at Patreon. https://www.patreon.com/blackpigeon?ty=h --------------------------------------- Facebook: https://www.facebook.com/blackpigeonspeaks/ Twitter: https://twitter.com/navyhato ---------------------------------------- Links to: Selected References can be found here: https://plus.google.com/+BlackPigeonSpeaks/posts/XnUdSRoM3uN Millennial Woes https://www.youtube.com/user/MillennialWoes -------------------------------- Made with Adobe: Photoshop After Effects Premiere -------------------------------- Music I'm Everywhere by TeknoAXE is licensed under a Creative Commons Attribution 4.0 International License http://teknoaxe.com/Link_Code_2.php?q\"\n",
      " 'a original. If you would like to support this channel, donations are GREATLY appreciated. Via PayPal to: navyhato@gmail.com . How to microdose psychedelics! Everything you need to know about microdosing acid, psilocybin, mescaline and more. Get a Test Kit: . If you are feeling generous and would like to support this channel, donations are greatly appreciated. via PayPal to: navyhato@gmail.com (NAVYHATO@GMAIL. For educational purposes only: things to consider before ingesting a foreign substance that will change your perception. I by no means endorse anyone .'\n",
      " 'How to microdose psychedelics! Everything you need to know about microdosing acid, psilocybin, mescaline and more. Get a Test Kit: http://tinyurl.com/LSDtestkit Facebook: https://www.facebook.com/PsychedSubstance Support us on Patreon: https://www.patreon.com/psychedsubstance Dosage Info: https://psychonautwiki.org/wiki/Main_Page Thank you so much to everyone supporting us on Patreon! A special thanks to: Aijaz Shaikh, Travis Woods, Bubba, Markus Henriksen, Geoff Hirt, Damian, Muhammed Abdullah Ozmen, Simon Ruane (Substance videos in German: http://tinyurl.com/pw3khks), Anotherrandom, Aaron Porter, GuruKhanTV (he does psych vids: http://tinyurl.com/ophmca3), Skyler Tanche, Justin, Chris Gintz, Daniel Anagnostis, Stephen Jack, Andrey, Moritz Vega, Robert Spanton, Kurtis Lee, Ryan Andrews, Karina Kusumadewi, Rob, Samuel Jih, Trent Quirk, Christian Nielsen, and Kaspars Murelis'\n",
      " 'I DO NOT CONDONE THE USE OF ANY DRUGS -------------------------------------------------------------------------------------------- Microdosing PSILOCYBIN Mushrooms Experiment Review Mushrooms species : Psilocybe Subaeruginosa Check out my blog: www.yourmatetom.com Support this channel by shopping at Onnit: https://www.onnit.com/?a_aid=5534b68c... Microdosing PSILOCYBIN Mushrooms Experiment | Day 1: https://www.youtube.com/watch?v=iG6nxxfx42w Microdosing PSILOCYBIN Experiment | Day 2: https://www.youtube.com/watch?v=kbVwK9hqSKc Music by danijel zambo: https://soundcloud.com/danijel-zambo ----------------------------------------------------------------------------------------------------------- Follow me Instagram @tomz698 Facebook Tom Zembrzuski'\n",
      " 'Monitoring of a microdosing system: The parameters to be monitored are the pulses at which the material to be dosed is emitted and the quantity of the material.'\n",
      " 'Agriflex, Italy; designs & manufactures for Vanrooy Machinery in Australia & New Zealand. Automated industrial plants for the inventory, conveying and the dosage of raw materials in powdered, solid and liquid forms. i.e. All of the products and ingredients which are necessary for the production of food, pharmaceutical and chemical products. Flour silos, raw material silos, grain silos, powder silos, indoor fabric silos, outdoor fibreglass or stainless steel silos, ingredient storage and micro dosing. Also design, manufacture and supply; natural yeast, liquid yeast, levain, sour dough, starter culture, mother dough machines and equipment. Agriflex and Vanrooy are experts in automated bakery, confectionary, and patisserie production plant solutions with automatic machinery with programmable, integrated computer panel touch screen controllers for the most efficient industrial bread and other bakery production line. For more information on this and other bakery machines, pizza equipment and pastry equipment please visit www.vanrooy.com.au Australia & www.vanrooy.co.nz New Zealand. Agriflex website: www.agriflex.it'\n",
      " \"Don't do drugs Snapchat: Nathen360 Instagram: THCdoctors\"\n",
      " 'To resolve the problems of poor soil fertility and to fight against the striga weed with limited means, some farmers in Niger apply micro-doses to their sorghum and millet crops. Compared to broadcasting, the localised application of micro-doses requires less manure, compost or mineral fertilizer. http://www.accessagriculture.org'\n",
      " 'Farmer to farmer training video on fighting striga'\n",
      " 'Farmer to farmer training video'\n",
      " 'Farmer to farmer training video on microdosing'\n",
      " \"For educational purposes only: things to consider before ingesting a foreign substance that will change your perception. I by no means endorse anyone (especially minors!) consuming any illegal substance, but if they're going to do it anyway they should at least have a general idea of how to do it safely. I'm gonna get a little less all about the psychedelics up in here on this channel (so I can go MAINSTREAM lol), so let's just get this out of the way. I will probably make this microdose series HIDDEN after a week or two because I'm doing a reddit AMA and don't want people to give me shit. So that's that. Peace and love, my friends. Add me on Snapchat! jayurbzz music by Nifty Earth (http://www.soundcloud.com/niftyearth) http://www.facebook.com/jayurbzz http://www.instagram.com/jayurbzz\"\n",
      " \"I did not have any drama in my live what could have explained my depression so I guessed that it is a chemical imbalance in my brain. Therefore I tried different natural supplements to counter that imbalance and I was finally successfull. Watch what I did. James Fadiman: The Psychedelic Explorer's Guide: Safe, Therapeutic and Sacred Journeys. 0.2g dried magic mushrooms\"\n",
      " 'What microdosing is and how to do it. PsychedSubstance Channel: https://www.youtube.com/channel/UCn8V3KNSgDr1Dai77_y8JrQ I do not support or encourage the use of illegal substances. Please test and consult with a professional before ingesting any substance. SUPPORT THIS CHANNEL: https://www.patreon.com/MicroLife'\n",
      " \"Website! http://thenaturalwayofhealing.com Blog! http://thenaturalwayofhealing.com/blog/ Facebook! https://facebook.com/thenaturalwayofh... Shop Herbs! http://thenaturalwayofhealing.com/her... Marijuana, Cannabis, Maui Wowie, Pot, Herb, Ganja, Weed, Skunk, Reefer, Buds, Buddha, Greens, Chronic, Grass... ...whatever you want to call it! It's one of the most powerful, therapeutic and effective all around healing plants on the planet! In this video I talk about the benefits of cannabis. This plant has so many uses and all of them are positive! I also go into talking about microdosing cannabis and the benefits I have noticed since I began to microdose cannabis.\"\n",
      " 'At the fifth annual Horizons: Perspectives on Psychedelics conference in New York City in October 2011, pioneering psychedelic researcher Dr. James Fadiman solidified his reemergence as a leading researcher of and advocate for psychedelic substances. Fadiman had done groundbreaking research with LSD up until the very day it was federally banned in 1966, but after that, he retreated into a life of quiet conventionality—at least on the surface... Read More At: http://www.alternet.org/drugs/microdosing-new-low-key-way-use-psychedelics Clip from the Wednesday, June 17th 2015 edition of The Kyle Kulinski Show, which airs live on Blog Talk Radio and Secular Talk Radio monday - friday 4-6pm Eastern. Check out our website - and become a member - at: http://www.SecularTalkRadio.com Listen to the Live Show or On Demand archive at: http://www.blogtalkradio.com/kylekulinski Follow on Twitter: http://www.twitter.com/kylekulinski Like on Facebook: http://www.facebook.com/SecularTalk Friends Of SecularTalk: http://www.facebook.com/beastofreason AMAZON LINK: (Bookmark this link to support the show for free!!!) http://www.amazon.com/?tag=seculacom-20'\n",
      " 'Secular Talk http://www.alternet.org/drugs/microdosing-new-low-key-way-use-psychedelics'\n",
      " 'In this one I discuss my one main concern with micro dosing psychedelics...tell me what you think. IM NOT CONDONING THE USE OF ANY ILLEGAL SUBSTANCES'\n",
      " \"This video I'm going to go into the topics of microdosing psilocybin and the effects of microdosing psilocybin. Increased awareness, increased productivity ,increased memory, increased spirituality, increased creativity. If you enjoyed the video please subscribe comment rate and share the video. Thank you all very much!\"\n",
      " 'In this video: 1. What a full breakthrough is like. (IMO) 2. Micro dosing, which requires 2 points of DMT, inhaling for 30 seconds and holding your breath for 25 seconds. Micro dosing will allow you to get accustomed to the strangeness and get over the usual feeling of anxiety. Overall it will allow you to accept and let go without being overwhelmed or pressured into attaining a full breakthrough. 3. Demonstration the difference between a hit and a pull. Hopefully this helps! Thanks for watching! Namaste YM,'\n",
      " 'Three friends set out on a journey that will change their lives forever. Starring: Edgar Fabian Frias Thaddeus Clemens Ward Pedisich Sergio Julio Torres-Barrera Featuring the song Aire Santo by Galaxias Eternas (galaxiaseternas.bandcamp.com)'\n",
      " \"What's it like to microdose mescaline? Watch this video to find out live! We also do a comparison of microdosing Mescaline VS LSD. Get a Test Kit: http://tinyurl.com/GetTestKit Support us on Patreon: https://www.patreon.com/psychedsubstance Like us on Facebook: http://tinyurl.com/pg9lrat Thank you so much to everyone supporting us on Patreon! Special thanks to: Travis Woods, Bubba, Markus Henriksen, Geoff Hirt, Damian, Crystian Terrazas, Gavin Nunis, Muhammed Abdullah Ozmen, Simon Ruane (Videos in German: http://tinyurl.com/pw3khks), Anotherrandom, Aaron Porter, GuruKhan, Skyler Tanche, Justin, Chris Gintz, Daniel Anagnostis, Stephen Jack, Andrey, Moritz Vega, Robert Spanton, Kurtis Lee, Ryan Andrews, Karina Kusumadewi, Rob, Samuel Jih, Trent Quirk, Christian Nielsen, Jarrett, ElCapitan Alex, Igor Sos, Paris Monson, Fred, Daniel Ellingsen, Boerescu Razvan, Tommy Porlick, Adan Gutierrez, Syed Jafri, Josh Leavitt, Blair, Bryan Absher, Zocrate, Sylvaine Joube, Crystian Terrazas, Roj Lem, Ali Kaspars Murelis, Michael Mahoney, Tim, Nick Thomson, Mathew Drumm, Patrik Hagnell, Matt Toth, Muhammad Ali Khan, David Manion, Jakub Vantroba, Rojor, Evan Hauge, Magnus Joelsson, Aviate, Bradley Allen, William Ogilvy, Chad Kampsky, Andree Dang, Patrick Milton, Ben Ulibarri, ProCro, Kia GreenLeafTea, Alexzander Samuelson,Kevin Charles, Jackson Calder, Luke Griffin, Joshua Sinclair, Pete O’Leary, Amine Sebai, Pomperipossa, Insommia, Patrick Richter, Xibixi, , LiberiDominatus, Victor Stasek, Owen Gibson, Matthew Zuccherelli, Michael Catron, Daniel Kozlowski, Narayan Monge Oconitrillo, Luke Harris, Remigus Varg, Nikklas Köpen, Alfred Wallace, Alessandro Manciocchi, Duncan J Duncan, Inna, Fábián Tamás László, ALex Gorbatchev, Daividh Draucker, Mehdi, Robin, Paul Austin, Bryan Raynor, Tyler, aRkker, Evan Smothers, Jacob C McWilliams, Nathan Sparks, James Cameron, Taylor Winning, Liviu, Rasmus Backman, Kyson Sheehan, Alfred Wallace, Ramiro Ferrero, Dorin Procopciuc.\"\n",
      " 'Microdosing Psilocybin Mushrooms can be a very useful way to further personal development and to eliminate depression and anxiety. Psilocybin is the alkaloid and active component found in psychedelic mushrooms. Psilocybin Mushrooms have been used for centuries by people and ancient cultures around the world for their therapeutic and healing properties. The psilocybin experience can be very challenging and intense when taken in larger quantities (2g - 5g and upward), therefore microdising mushrooms is the perfect way to reap the benefits from psilocybin without losing the ability to function in your day to day tasks. In fact, microdosing mushrooms can actually improve your concentration, expand your awareness and allow you to operate physically, mentally and emotionally on a higher level. Psilocybin Mushrooms (aka. Magic Mushrooms) and other psychedelics are Illegal in most countries. Many people in societies around the world, especially the western world, have been so conditioned by the propaganda machine mainstream media that they truly see these healing plants as \"toxic\" and \"dangerous drugs\". All this while fast food chains, chemical additives, fluoride, aspartame, pharmaceutical drugs, alcohol and cigarettes are legal and being pushed by corporations for us to consume. This goes to show that we live in an extremely corrupt system that wants to keep humanity stupid, apathetic, docile and obedient. Psilocybin mushrooms have the power to change the way we view the world and gifts people with the realization that the majority of humanity is experiencing an artificially induced state of consciousness that resembles sleep and that we are living in a so called \"matrix\". Taking Psilocybin Mushrooms in dosages of 3g - 5g is like taking \"The Red Pill\". The pill of truth and realization. ______________________________________ WEBSITE! - http://thenaturalwayofhealing.com BLOG! - http://thenaturalwayofhealing.com/blog/ FACEBOOK! - https://facebook.com/thenaturalwayofhealing HEALING HERBS! - http://thenaturalwayofhealing.com/herbs-for-detox/'\n",
      " 'Microdosing PSILOCYBIN | Day 1 https://www.youtube.com/watch?v=iG6nxxfx42w Check out my blog: www.yourmatetom.com Trip Report: Psilocybin Mushrooms (3.5g) | Very Insightful!: https://www.youtube.com/watch?v=5dhaQaBmnL4 Support this channel by shopping at Onnit: https://www.onnit.com/?a_aid=5534b68c... Music by danijel zambo: https://soundcloud.com/danijel-zambo'\n",
      " 'Semi-automatic filling of pharmaceutical powders into capsules, vials, and other small receptacles.'\n",
      " 'Support me on Patreon: https://www.patreon.com/user?u=3120234&ty=h Check out my blog: www.yourmatetom.com Trip Report: Psilocybin Mushrooms (3.5g) | Very Insightful!: https://www.youtube.com/watch?v=5dhaQaBmnL4 Support this channel by shopping at Onnit: https://www.onnit.com/?a_aid=5534b68c... Music by danijel zambo: https://soundcloud.com/danijel-zambo'\n",
      " 'A review of FDA,s guidance, M3(R2) Nonclinical safety studies for the conduct of human clinial trials and marketing authorization for Pharmaceuticals by http://www.damienbove.com Part 2 of 2'\n",
      " 'Fully automated filling of pharmaceutical powders for early stage clinical trials.'\n",
      " \"For educational purposes: what to (kind of) expect on the way up with a substance such as LSD. Expect a little anxiety and feeling a little frantic, like wtf omg I should be doing this oh wait other things. Know your variables: what's normal behavior for you and your body, and what is new based on the substance? Honestly, after years of yoga & meditation, drugs aren't as cool as normal life. The psychedelic perception stuff may be cool if you have nothing else to do, but otherwise they just make me weak. And I'd rather not feel weak. Add me on Snapchat! JAYURBZZ music by KNOW MATTER http://www.facebook.com/jayurbzz http://www.instagram.com/jayurbzz http://www.twitter.com/jayurbzz\"\n",
      " 'A new way of taking drugs is being explored among professionals, athletes and even senior citizens while going about their day. It’s called “microdosing,” or taking small amounts of psychedelics. The doses are so small the effects usually associated with such drugs are not evident or are “sub-perceptual.” How do you boost your mood or energy naturally? Comment in the section below! Click to subscribe: https://www.youtube.com/channel/UCvb-DqrtgHRX-hPypnjfkdw?sub_confirmation=1 Host: Ana Kasparian https://twitter.com/AnaKasparian Guests: Andy Riesmeyer https://twitter.com/AndyRiesmeyer Erica Williams Simon https://twitter.com/createdbyerica The Point with Ana Kasparian is a smart and fast-paced panel show giving you a weekly round up of the hottest stories of the week. Each week Ana sits down with some of your favorite hosts from The Young Turks and other interesting personalities that each bring their unique perspectives on everything from news to pop culture. Support The Point for FREE by doing your Amazon shopping through this link (bookmark it!) http://www.amazon.com/?tag=townsquaretyt-20'\n",
      " 'Microdosing Psilocybin Mushrooms can be a very useful way to further personal development and to eliminate depression and anxiety. Psilocybin is the alkaloid and active component found in psychedelic mushrooms. Psilocybin Mushrooms have been used for centuries by people and ancient cultures around the world for their therapeutic and healing properties. The psilocybin experience can be very challenging and intense when taken in larger quantities (2g - 5g and upward), therefore microdising mushrooms is the perfect way to reap the benefits from psilocybin without losing the ability to function in your day to day tasks. In fact, microdosing mushrooms can actually improve your concentration, expand your awareness and allow you to operate physically, mentally and emotionally on a higher level. Psilocybin Mushrooms (aka. Magic Mushrooms) and other psychedelics are Illegal in most countries. Many people in societies around the world, especially the western world, have been so conditioned by the propaganda machine mainstream media that they truly see these healing plants as \"toxic\" and \"dangerous drugs\". All this while fast food chains, chemical additives, fluoride, aspartame, pharmaceutical drugs, alcohol and cigarettes are legal and being pushed by corporations for us to consume. This goes to show that we live in an extremely corrupt system that wants to keep humanity stupid, apathetic, docile and obedient. Psilocybin mushrooms have the power to change the way we view the world and gifts people with the realization that the majority of humanity is experiencing an artificially induced state of consciousness that resembles sleep and that we are living in a so called \"matrix\". Taking Psilocybin Mushrooms in dosages of 3g - 5g (and upward) is like taking \"The Red Pill\". The pill of truth and realization. _______________________________ WEBSITE : http://thenaturalwayofhealing.com COACHING : http://thenaturalwayofhealing.com/personal-health-coaching/ HEALING HERBS : http://thenaturalwayofhealing.com/herbs-for-detox/ BLOG : http://thenaturalwayofhealing.com/blog/ FACEBOOK : https://facebook.com/thenaturalwayofhealing INSTAGRAM : https://www.instagram.com/thenaturalwayofhealing/'\n",
      " '// GET FREE VIP INFO: http://www.malandarras.com/go/newsletter/ - Visit my site at: http://www.malandarras.com - Facebook: http://facebook.com/malandarrasdotcom - Twitter: http://twitter.com/malandarras'\n",
      " 'Talk about micro dosing psilocybin mushrooms, and give an honest little warning for people thinking about doing psychedelics.'\n",
      " 'Several tech industry workers have admitted that microdosing or using about 10 micrograms of LSD has been an effective way to increase work flow throughout Silicon Valley industries. While the long-term effects of consuming small doses of LSD are unknown, research has shown small doses do allow individuals to feel an energy lift without hallucination. Psychedelic substances have been known to aid in problem solving, focus enhancement, motivation and heightened empathetic emotions. Jose Marcelino and Nik Zecevic examine how this performance enhancing technique has taken hold of Silicon Valley on The Lip News. http://theantimedia.org/silicon-valley-workers-are-using-lsd-as-a-performance-enhancer/ http://thelip.tv/ http://www.youtube.com/theliptv2'\n",
      " 'About Microdosing Dr Ramadjita Tabo, Regional Director West and Central Africa, ICRISAT'\n",
      " 'Be responsible with hallucinogens. Please sub our series RSStB at http://www.youtube.com/rickyshoresings. Purchase a DVD of old trippyshore vids that have been deleted from YouTube at http://rsstb.storevy.com. http://rickyshoresingstheblues.tumblr.com http://www.twitter.com/rickyshore http://www.instagram.com/rsstb_alex'\n",
      " 'Microdosing Psilocybe Testimony - The Natural Way of Healing Memorabilia http://ow.ly/JFg79 Printed Edition : https://www.createspace.com/5521164 Full Video on YouTube : https://www.youtube.com/watch?v=Tnn3reLLjNs&list=PLutOb75SA_QZYzDe9NkJYhdESlcZqaJCA'\n",
      " 'Micro-dosing on LSD, A THERAPEUTICAL APPROACH for anxiety, depression, coping with life and negativity in general. My personal experience. Back to UNITY, TRUST AND APPRECIATION.'\n",
      " \"MAC's design advantages mean highly accurate and repeatable dosing.\"\n",
      " 'This video shows how high accuracy micro-dosing of liquids can be achieved using Bullet valves from MAC Valves.'\n",
      " 'CON-CRET CREATINE MICRO-DOSING 48 Servicios PROMERA SPORTS http://www.nutristore.cl/product_info.php/con-cret-creatine-micro-dosing-servicios-promera-sports-p-288 Creatina en microdosis. Con-Crét de ProMera Sports ha recibido diferentes galardones a la mejor creatina en Europa y Estados Unidos. Con-Crét utiliza creatina HCL, no requiere fases de carga, descansos, ni grandes cantidades de creatina. Con tan solo 750 mg de creatina Con-Crét se puede observar sus resultados. Con-Crét. Características principales: Creatina HCL Micro dosis de creatina (750 mg) Gran solubilidad Sin aditivos ni estimulantes Sin gluten Apto para vegetarianos Libre de sustancias dopantes Con-Crét. Efectos principales: Aumenta la fuerza muscular y mejora el rendimiento. Favorece las ganancias de masa muscular. Favorece la hidratación intracelular. Mejora la recuperación entre esfuerzos breves de alta intensidad y corta duración.'\n",
      " 'Applying small amounts of fertilizer with the seed at planting time to improve yield.'\n",
      " '8 Head Fully Automatic Micro Dosing Piston Filler * 304 stainless steel frame construction * Dispensing Pumps, qty (4) Model 2BC-17 and qty (4) Model 2BC-8 constructed to dispense low viscosity material, and equipped as follows: * Maximum displacement 14ml per shot * Check valve style pump head * 316L stainless steel pump plunger * Chrome-plated stainless steel sleeve * 316L stainless steel midsection * Pump head constructed for quick disassembly and easy cleaning * Viton O-ring seals * UHMW plunger lip seal'\n",
      " 'Daily Micro-dosing of Testosterones is becoming widely used due to the benefits of the reduced side effect profiles as compared to large depo-intramuscular dosages. Micro-dosing - Limits disruptions in hormonal negative feed back loops - Decreases aromatization into oestrogen - Decreases testosterone to DHT conversion - Assists in regulating negative metabolic effects and binding sites of excess cortisol Ref: 1.http://www.ncbi.nlm.nih.gov/pubmed/17143361 2.https://clinicaltrials.gov/ct2/show/NCT02229617 3.http://transguys.com/ref/research/subcutaneous-injections'\n",
      " 'Innovative Solutions - Flexible - Worldwide Esteve designs solutions and components for automatic feed of powders and liquids. - Storing - Discharge - Sieving - Conveying - Dosing - Weighing Whatever your products are, Whatever the quantity processed. We automate your raw materials at the requested time and exact dose. High Speed Dosing System. Dedusting for sacks tipping and big-bags. Security sieving. Automatic dosage of 24 products (no limitation) 80 batch per hour to feed conveyed receivers. Identification and automatic conveying of receivers. Dust-free discharge and storing system for raw materials in sacks and big-bags. Intake of ingredients with security sieve. Automatic handling system. Dosage of products at several weighing posts - Minors/Micro Micro dosing Addition of liquids Smart tag identification Dosing results to PC'\n",
      " 'Some Silicon Valley tech innovators, entrepreneurs and artists are finding inspiration from micro-dosing LSD. Cate Cauguiran reports. (5/2/16)'\n",
      " 'Here I update my progress on my continuous shroom ingestion.' None\n",
      " 'Alcohol is no psychedelic, but if you choose to use it as a tool... IT CAN BE! The mix is a strange amplification of.... Please SHARE this video if you like it! ● Help give others the opportunity of exposure Support me on Patreon! :-) https://www.patreon.com/improvehumanity Have a question? Ask in the comments OR: ● Want to stay anonymous? ● Private Message me on the Facebook Page OR ● Email me at: improvehumanity@hotmail.com Find me here: ● Facebook: https://www.facebook.com/improvehumanity ● Twitter: @ImproveEarth (Not very active) For business inquiries only: michaelgreenhd24@gmail.com Spirituality at heart! I love you all!'\n",
      " 'The development of a new drug is a lengthy and expensive process. The earlier information concerning efficacy and safety of a candidate drug in humans is available, the better. TNO is the only organisation in Europe with a biomedical Accelerator Mass Spectrometer (AMS). This makes it possible to undertake microdosing research; research using very low doses in humans. This research reduces costs, shortens the duration of the development process and ensures a reduction of lab animals for (preclinical) research. See also: www.tno.nl/microdosing'\n",
      " \"This video reflects my personal experience with psilocybin through magic truffles and dried magic mushrooms. Let's talk about microdosing benefits and disadvantages. I do not advertise the use of any illegal or legal substance. This video is for harm reduction purpose. Music Credit: Audioscribe - Free Fall [NCS Release] https://www.youtube.com/watch?v=8ciZGNmlWgo\"\n",
      " 'Future of microdosing Dr Ramadjita Tabo, Regional Director West and Central Africa, ICRISAT'\n",
      " 'my opinion and review and concret micro dosing creatine , its my first supplement video so kik me : kodie1997 with more questions and instagram me : kodielallement1997'\n",
      " 'TEST MODE OF FULL AUTOMATIC MICRO DOSING SYSTEM FOR ADDITIVES'\n",
      " 'Uniclick syringe is a syringe that can be made cost effectively to regular syringes and offer improved functionality such as micro dose regulation as effective as pen devices. In this regard i dedicate this syringe to fight poverty and pledge profit from its mass production and sale to fight poverty and disease, preventable deaths globally.'\n",
      " 'Join me as I explore the world of micro dosing with LSD and weight training. What is it all about, for education and awareness purposes only.'\n",
      " 'Erika Bachmann, Agricultural Economics, University of Saskatchewan: “Making a little go a long way: Fertilizer microdosing for improved agricultural production in Northwest Benin.”'\n",
      " '(Published on 12 April \\u200e \\u200e2007) ICRISAT along with its partners developed a technique called fertilizer Microdosing. Small doses of fertilizer applied at the right place at the right time, combined with an inventory credit system (warrantage), lead to large benefits in yields and incomes in several countries of sub-Saharan Africa. More information: http://www.icrisat.org/jewels/Posters/Poster%20Fertilizer%20Microdosing.pdf'\n",
      " 'Microdosing'\n",
      " 'First Vlog of the Mushroom Trials!!! Unedited beauty :) For more info on what exactly the \"mushroom\" trials are visit my page talking about my experiment, and the procedure, http://kratomstrainreviews.com/microdosing-mushrooms-journal/'\n",
      " 'Automatic packaging plant for micro dosing (40gr) composed by: - VFFS mod. Kompakt - Weigher M series for granular and flowing powder - Feeding system with rigid screw conveyor'\n",
      " \"UNICA di LAWER E' PESATRICE AUTOMATICA PER IL MICRODOSAGGIO DI INGREDIENTI IN POLVERE E LIQUIDI. AUTOMATIZZA E RENDE EFFICIENTE LA PREPARAZIONE DELLE RICETTE NEL SETTORE DEL GELATO ARTIGIANALE, PASTICCERIA ED ALIMENTARE. UNICA di LAWER GARANTISCE : RIPETIBILITA', PRECISIONE, CONTROLLO COSTI, TEMPI e CONSUMI, RISERVATEZZA e PROTEZIONE KNOW-HOW. UNICA, IL PARTNER DEL TUO SUCCESSO. UNICA LAWER IS AN AUTOMATIC WEIGHING/DOSING SYSTEM FOR THE MICRO-DOSAGE OF POWDER AND LIQUID INGREDIENTS. UNICA IS AN AUTOMATIC EFFICIENCY RECOVERY FOR THE RECIPE PREPARATION IN THE ARTESANAL GELATO FIELD, BACKERY AND FOOD INDUSTRY. UNICA LAWER GRANT : REPEATIBILITY, ACCURACY, COSTS-CONSUMPTION CONTROL, CONFIDENTIALITY AND KNOW-HOW PROTECTION. UNICA, PARTNER FOR YOUR SUCCESS.\"\n",
      " 'Microdosing: Up-scaling Dr Ramadjita Tabo, Regional Director West and Central Africa, ICRISAT'\n",
      " 'Все чаще применяется ввод в муку витаминно-минеральных премиксов, http://www.pfmg.ru/precision_feeders восстанавливающих или даже повышающих пищевую ценность муки. Для внесения таких премиксов, как и для ввода ферментов, часто используют микродозаторы.Основным назначением данных устройст является внесение микродобавок в муку, а также и в другие виды продуктов, непрерывно, по количеству, равномерно и с постоянной заданной оператором интенсивностью. Для использования на мелькомбинатах, комбикормовых заводах, также имеет широкое применение и в др. отраслях промышленности.'\n",
      " 'Updating my daily experience whilst micro dosing on one gram of shrooms per day.'\n",
      " \"An update with how I'm feeling on a continuous dose of shrooms.\"\n",
      " \"MCPI est un constructeur français de tables d'indexages et de systèmes de micro dosage et de saupoudrage de produits secs. Nos produits sont dédiés à 2 marchés: L'automation et la robotique: Depuis 1994 avec les tables d'indexage à came, les indexeurs pneumatiques, les anneaux tournants à commande numérique et les manipulateursqui sont largement utilisés dans l'industrie automobile, mais aussi dans l'emballage, la cosmétique... Les industries agro alimentaires, pharmaceutiques et de process: avec les systèmes de micro dosage et de saupoudrage de poudres et granulés. Les produits Fine dosing sont basés sur un principe exclusif beveté. Notre expertise est reconnue au delà de nos frontières, où de nombreux systèmes fonctionnent avec succès... http://www.mcpi.fr/index.php\"\n",
      " 'Continuing my micro dosing experience and observing myself and the world.'\n",
      " \"Helix Micro Rebar was used at Millennium Mine (Moranbah, Queensland, Australia) to reinforce the concrete for a warehouse, workshop and wash down facility for 180t dump trucks. The use of Helix replaced rebar and mesh and considerably reduced the construction time of the project. The total result was cost saving and a time saving which left the project on time and on budget. This video shows the ease of dosing the Helix into the concrete at the batching plant. Every batch plant and project has it's unique requirements and this site was ideal for the vibrating table. When the truck turned up to site it was ready to pour. The dosage ranged from 8kg/m3 - 18kg/m3. All parties were very happy with the end result. Use Helix for your next project to save time and money and improve strength and durability.\"\n",
      " 'http://www.osv.com.ua/en.html OSV Mini ER is a compact mixing and dosing machine, designed especially for pouring of epoxy resins in small doses. The machine OSV Mini ER may be used effectively in production of various instruments,tools and engineer and technical details.'\n",
      " 'MNGT. of MICRO INGREDIENT with AUTO SCALING and BATCHING. Done by ASM TEAM ..'\n",
      " 'Microdosing: On-Station work Dr Ramadjita Tabo, Regional Director West and Central Africa, ICRISAT'\n",
      " 'Furthering my Micro dosing experience coupled with Kratom :-)'\n",
      " 'Helix micro rebar is dosed into an empty ready mix truck before concrete batching. A wire mesh panel is placed over the charging hopper and boxes are dumped onto the panel to help break up any clumps. This ensures good Helix distribution in the ready mix. Three boxes or 135 lbs are added to a 10 yard truck. This dosage will replace a #4 rebar mat on 22\" centers in 6\" of concrete. Helix reduces cost and time over conventional rebar.'\n",
      " 'Microdosing: Warrantage Dr Ramadjita Tabo, Regional Director West and Central Africa, ICRISAT'\n",
      " 'Minimum Quantity Lubrication (MQL) is an alternative to the use of traditional metal working fluids (MWFs) in machining. You may have heard MQL referred to as “Near-Dry Machining” (NDM), “Micro-Lubrification” or “Micro-lubrication”, “Micro-dosing”, or even, somewhat incorrectly, referred to as “mist coolant.”'\n",
      " 'Micro Dosing System 03 (tea) (Hassas Dozajlama Sistemi03 çay)'\n",
      " 'Description'\n",
      " '© Copyright --- Dosing with the Helix blower is effortless and ensures for even distribution of the Micro-Rebar throughout the concrete mix.'\n",
      " 'Dosing a freshly batched ready mix truck with Helix micro rebar. Shake Helix directly in the charge hopper at medium charge speed. Avoid allowing clumped-up material to enter a slowly mixing truck. Try to keep a constant feed of material dropping into the drum. You can increase the charge speed after dosing and then allow for a few minutes of mixing if on-site. Trucks leaving the plant will get plenty of mixing upon travel to the job. Observe Helix distribution in the ready mix upon initial placement. Helix should be evenly distributed and if not contact Helix and ask for help. Helix Steel dot com.'\n",
      " 'Tecnotrend Automazione - FV252T Microdosing Machine for vials - All images and video content posted/uploaded by www.pacwiki.org to You Tube are the ©Copyright of their respective authors/owners (All Rights Reserved). You MAY NOT redistribute or embed any of these images or videos without the express permission from the authors/owners.'\n",
      " 'Mikroaplikace pro biologické konzervanty se používá pro řezačky, sběrací vozy, ale i balíkovací lisy. Dávkovaní je od 0.08-02 l/min. LDS Micro Dosing system for biologic conservation. Sutable for Forage Harvesters, Self Loading Wagons and Roundballers. Capacity 0.08-0.2 l/min.'\n",
      " 'www.noronmuhendislik.com mısır, corn micro mikro dozajlama dosing sistemi Vibration dosing Hassas Dozajlama, Titreşimli Dozajlama, Çimento, boya, medikal, ilaç, reçete http://www.noronmuhendislik.com/tr/urunlerimiz/dozajlama-sistemleri-kalsit-pvc-alci-kirec-bentonit/tarti-bantli-besleyici http://www.noronmuhendislik.com/tr/urunlerimiz/dozajlama-sistemleri-kalsit-pvc-alci-kirec-bentonit/eksiltme-ile-tartim-vidali-besleyici'\n",
      " 'www.noronmuhendislik.com micro mikro dozajlama dosing sistemi Vibration dosing Hassas Dozajlama, Titreşimli Dozajlama, Çimento, boya, medikal, ilaç, reçete http://www.noronmuhendislik.com/tr/urunlerimiz/dozajlama-sistemleri-kalsit-pvc-alci-kirec-bentonit/tarti-bantli-besleyici http://www.noronmuhendislik.com/tr/urunlerimiz/dozajlama-sistemleri-kalsit-pvc-alci-kirec-bentonit/eksiltme-ile-tartim-vidali-besleyici'\n",
      " 'Micro Dosing System 03 (farina) (Hassas Dozajlama Sistemi03 irmik) www.noronmuhendislik.com'\n",
      " \"Microfluidics - new 5μl micro dosing pump delivers precision & reliability Recent developments to the Bürkert product range has seen the new type 7615 micro dosing pump launched as well as developments to the complimentary valve range. The new, self-priming, diaphragm pump has been designed for precise dosing in the microlitre range and combines high dosing accuracy and precision with chemical inertness. With the valve body made from PEEK (Poly ether ether ketone) and seals available in FFKM and EPDM, the pump is suitable for a wide range of neutral as well as aggressive liquids. The new pump is designed with 3 valves which can be operated to allow pumping in two directions as well as being simultaneously opened to allow flushing of the pump. The dosing quantity ranges from a minimum of 5μl per stroke up to a maximum of 8ml per min in both directions. With an accuracy of less than ±2%, the new pump is ideal for precise dosing of the smallest quantities of liquids. The 7615 is an addition to the existing type 7604 micro pump, which is a unique, self-priming, adjustable, diaphragm pump measuring only 11mm in width and designed for continuous pumping applications in the 1-5ml per min range. Requiring either 12 or 24 VDC supply and with a low power consumption of just 1.5W, this pump is well suited to mobile devices using a battery for the power source. With similar valve body and seal materials, the type 7604 is also ideally suited for use with aggressive media. Technology in today's world is getting smaller and more reliable. For businesses involved in Life Sciences, analytical chemistry, in-vitro diagnostics and medical devices, the ability to automate processes and miniaturise the devices involved is becoming a driving force for manufacturers in this field. The ability to deliver a modular product range which can be integrated into existing arrangements, backed-up by technical expertise is crucial to a successful customer experience. With over 15 years experience in micro-fluid control systems, Bürkert has become one of the World's leading suppliers, with extensive knowledge in this specialist field and the ability to design, develop, simulate, build and test standard and bespoke solutions. With such a wide range of applications from clinical diagnostics, DNA synthesising and medical instruments to high throughput laboratory automation, dentistry and industrial inkjet production, microfluidics now covers a wide range of industries. About BÜRKERT Bürkert Fluid Control Systems is one of the leading manufacturers of control and measuring systems for fluids and gases. The products have a wide variety of applications and are used by breweries and laboratories as well as in medical engineering and space technology. The company employs over 2,200 people and has a comprehensive network of branches in 35 countries world-wide. Editor Contact DMA Europa Ltd. : Roland Renshaw Tel: +44 (0)1562 751436 Fax: +44 (0)1562 748315 Web: www.dmaeuropa.com Email: infoallenquiries@dmaeuropa.com Company Contact Bürkert Fluid Control Systems : Helen Christopher Tel: +44 (0)1285 648720 Fax: +44 (0)1285 648721 Web: http://www.burkert.co.uk Email: helen.christopher@burkert.com To see press release please follow this link; http://www.dmaeuropa.com/Clients/Burkert/News/tabid/1197/itemid/2780/Default.aspx\"\n",
      " \"Bürkert's new micro dosing unit Type 7615 -- a high-precision diaphragm pump for exact dosing of liquids in the µl range -- is the fluid technology specialist's latest addition to its product portfolio for analytical, bio-medical and medical applications. http://www.buerkert.de/DEE/search.php?type=7615&SearchText=7615\"\n",
      " 'via YouTube Capture'\n",
      " 'http://www.noronmuhendislik.com/tr/urunlerimiz/dozajlama-sistemleri-kalsit-pvc-alci-kirec-bentonit Mikro, Dozajlama, Sistemi, Dozlama, Sistemi, Reçeteli, Otomatik, Otomasyonlu, Hassas, Dozajlama, PVC, Kalsit, çimento, ilaç, medikal, un, yem, buğday, arpa,'\n",
      " 'The arrival of spring often comes with a stuffy nose and watery eyes. Almost one in three people globally suffer from allergies. Immunotherapy helps them ease their discomfort. Our pneumatic dosing system – perfect for precise, safe and repeatable dosing of medicines.'\n",
      " ' '\n",
      " 'Microdosing: On-Farm work Dr Ramadjita Tabo, Regional Director West and Central Africa, ICRISAT'\n",
      " 'http://noronmuhendislik.com/tr/urunlerimiz/dozajlama-sistemleri-kalsit-pvc-alci-kirec-bentonit Mikro Dozaj Micro Dosing System www.noronmuhendislik.com Noron Mühendislik Wam,Bigbag,Çuval,Boşaltma,Dolum,Sistemi,Silobas,Kamyon,Gemi,Yükleme,Körüğü,Teleskopik,Helezon,Vidalı,Konveyor,Çimento,Silo,Üstü,Jet,Filtresi,Mikro,Micro,Likit,Sıvı,Dozaj,Kelebek,Klepe,Vana,Pnömatik,Havalı,Taşıma,Sistemi,Hava,Kilidi,Yıldız,Besleyici,Hücre,Tekeri,'\n",
      " 'We are a leading manufacturer of road maintenance machine. Contact:chnsgmichelle@gmail.com You can view our products at：http://www.sgroadmachine.com'\n",
      " 'Having a little fun :-) here.'\n",
      " 'The lectures I talk about are free (some of them) downloads here - http://dennisklocek.com/lectures P ------------------------------------------------------------- Please support me on www.patreon.com/ayahuascamagic. Or if you prefer on Paypal turnerscott@gmail.com. Im trying to leverage this channel into a portal where I can really help people break through and create classes and lots more videos. Any classes I make will be free to people who support me. I have one in planning stages now. ------------------------------------------------------------- Join the facebook group Ayahuasca Magic for chat and more info! Right here https://www.facebook.com/groups/2516394418383427/'\n",
      " 'See how the industry leaders in Precision microdosing show how exact dosing methods are done with their fluid dispensing equipment. To see more dispensing applications and equipment visit: http://www.fluidresearch.com/dispense_solutions.php'\n",
      " '© Copyright --- Look at the steady rain of Helix Twisted Steel Micro Rebar concrete reinforcement going into the back of the agitator truck.'\n",
      " \"When too much time lapses between trips, the ego begins to create a god of itself & worships it's own fears as absolute!\"\n",
      " 'Coquitlam concrete goes into detail how they dose Helix into their concrete.']\n",
      "-----------------------------\n",
      "\n",
      "videoCategoryId:\n",
      "[29 22 24 25 28 27 10 19  1 17 20 23 26]\n",
      "-----------------------------\n",
      "\n",
      "videoCategoryLabel:\n",
      "['Nonprofits & Activism' 'People & Blogs' 'Entertainment'\n",
      " 'News & Politics' 'Science & Technology' 'Education' 'Music'\n",
      " 'Travel & Events' 'Film & Animation' 'Sports' 'Gaming' 'Comedy'\n",
      " 'Howto & Style']\n",
      "-----------------------------\n",
      "\n",
      "duration:\n",
      "['PT1H19M40S' 'PT1H12M34S' 'PT50M40S' 'PT32M21S' 'PT26M32S' 'PT25M7S'\n",
      " 'PT16M15S' 'PT13M40S' 'PT13M32S' 'PT13M25S' 'PT12M32S' 'PT10M41S'\n",
      " 'PT10M17S' 'PT10M14S' 'PT9M56S' 'PT9M41S' 'PT9M29S' 'PT9M7S' 'PT8M53S'\n",
      " 'PT8M31S' 'PT8M24S' 'PT8M13S' 'PT8M11S' 'PT8M2S' 'PT7M45S' 'PT7M38S'\n",
      " 'PT7M32S' 'PT7M26S' 'PT7M24S' 'PT7M20S' 'PT7M14S' 'PT6M17S' 'PT6M9S'\n",
      " 'PT5M45S' 'PT5M35S' 'PT5M13S' 'PT5M5S' 'PT4M58S' 'PT4M56S' 'PT4M55S'\n",
      " 'PT4M43S' 'PT4M40S' 'PT4M34S' 'PT4M33S' 'PT4M17S' 'PT3M51S' 'PT3M50S'\n",
      " 'PT3M49S' 'PT3M45S' 'PT3M44S' 'PT3M40S' 'PT3M21S' 'PT3M15S' 'PT3M14S'\n",
      " 'PT3M10S' 'PT3M2S' 'PT2M54S' 'PT2M53S' 'PT2M52S' 'PT2M47S' 'PT2M43S'\n",
      " 'PT2M39S' 'PT2M32S' 'PT2M27S' 'PT2M26S' 'PT2M25S' 'PT2M21S' 'PT2M18S'\n",
      " 'PT2M16S' 'PT2M14S' 'PT2M13S' 'PT1M56S' 'PT1M55S' 'PT1M50S' 'PT1M44S'\n",
      " 'PT1M43S' 'PT1M36S' 'PT1M34S' 'PT1M24S' 'PT1M16S' 'PT1M15S' 'PT1M14S'\n",
      " 'PT1M13S' 'PT1M12S' 'PT1M11S' 'PT1M8S' 'PT1M6S' 'PT1M3S' 'PT1M1S' 'PT55S'\n",
      " 'PT54S' 'PT48S' 'PT46S' 'PT43S' 'PT42S' 'PT40S' 'PT36S' 'PT27S' 'PT26M'\n",
      " 'PT18S' 'PT11S' 'PT11M' 'PT1M']\n",
      "-----------------------------\n",
      "\n",
      "durationSec:\n",
      "[4780 4354 3040 1941 1592 1507  975  820  812  805  752  641  617  614\n",
      "  596  581  569  547  533  511  504  493  491  482  465  458  452  446\n",
      "  444  440  434  377  369  345  335  313  305  298  296  295  283  280\n",
      "  274  273  257  231  230  229  225  224  220  201  195  194  190  182\n",
      "  174  173  172  167  163  159  152  147  146  145  141  138  136  134\n",
      "  133  116  115  110  104  103   96   94   84   76   75   74   73   72\n",
      "   71   68   66   63   61   55   54   48   46   43   42   40   36   27\n",
      "   26   18   11    1]\n",
      "-----------------------------\n",
      "\n",
      "definition:\n",
      "['hd' 'sd']\n",
      "-----------------------------\n",
      "\n",
      "caption:\n",
      "[0 1]\n",
      "-----------------------------\n",
      "\n",
      "viewCount:\n",
      "[  1512    881     67      4   5465  12092    793 108974      2 526243\n",
      "   8869     87   4710   3930   2250    193     14     30     49    923\n",
      "    609     90   2322  28167     86    247    447  18908    160 148681\n",
      "  59255   5838   3299  35928    181   3133    843  27571   1770   4040\n",
      "    132   1420    905    611    130   1577    368   1805   2493     11\n",
      "    109   1717    200    370    256    494   2209   1851     23    515\n",
      "    259     31    263     38     89    467    258    120    565    458\n",
      "     15      3   1196   1030    759    806    243     39    691    547\n",
      "     24    569    267      9     78    197     16   1111    430     10\n",
      "    242     12    335    356    209    195    343    509    127    298\n",
      "    218    913    469    650    304    294    463    341    345]\n",
      "-----------------------------\n",
      "\n",
      "likeCount:\n",
      "[8.000e+00 1.400e+01 0.000e+00 1.210e+02 1.360e+02 2.800e+01 4.329e+03\n",
      " 7.046e+03 2.980e+02 1.000e+00 2.000e+00 6.300e+01 3.000e+00 1.600e+01\n",
      " 1.100e+01 6.000e+00 1.420e+02 8.680e+02 2.000e+02 3.698e+03 8.700e+02\n",
      " 1.130e+02 3.230e+02 3.580e+02 1.000e+02 2.400e+01 4.400e+01 7.000e+00\n",
      " 5.000e+00       nan 1.700e+01 1.200e+01 3.100e+01 4.000e+00 2.700e+01\n",
      " 2.000e+01]\n",
      "-----------------------------\n",
      "\n",
      "dislikeCount:\n",
      "[  0.   1.   6.   2. 990. 255.   8.  26.   7.  49.  35.  12. 134.  21.\n",
      "  nan]\n",
      "-----------------------------\n",
      "\n",
      "commentCount:\n",
      "[1.000e+00 3.000e+00 0.000e+00 2.500e+01 4.100e+01 3.672e+03 1.706e+03\n",
      " 8.000e+01 5.900e+01 1.100e+01 1.800e+01 6.100e+01 3.380e+02 4.000e+00\n",
      " 1.212e+03 5.230e+02 2.600e+01 1.780e+02 1.200e+01 3.490e+02 4.900e+01\n",
      " 2.800e+01 2.000e+00 7.000e+00 1.400e+01       nan 2.700e+01 9.000e+00\n",
      " 2.000e+01 2.200e+01 1.000e+01]\n",
      "-----------------------------\n",
      "\n"
     ]
    }
   ],
   "source": [
    "for i in df.columns:\n",
    "    print(f'{i}:\\n{df[i].unique()}\\n-----------------------------\\n')"
   ]
  },
  {
   "cell_type": "code",
   "execution_count": 13,
   "metadata": {},
   "outputs": [],
   "source": [
    "df = df.convert_dtypes()\n",
    "df = df.astype({'publishedAt':np.datetime64})"
   ]
  },
  {
   "cell_type": "code",
   "execution_count": 16,
   "metadata": {},
   "outputs": [
    {
     "data": {
      "text/plain": [
       "Index(['channelId', 'channelTitle', 'videoId', 'publishedAt', 'videoTitle',\n",
       "       'videoDescription', 'videoCategoryId', 'videoCategoryLabel', 'duration',\n",
       "       'durationSec', 'definition', 'caption', 'viewCount', 'likeCount',\n",
       "       'dislikeCount', 'commentCount'],\n",
       "      dtype='object')"
      ]
     },
     "execution_count": 16,
     "metadata": {},
     "output_type": "execute_result"
    }
   ],
   "source": [
    "df.columns"
   ]
  },
  {
   "cell_type": "code",
   "execution_count": 53,
   "metadata": {},
   "outputs": [
    {
     "data": {
      "text/plain": [
       "115"
      ]
     },
     "execution_count": 53,
     "metadata": {},
     "output_type": "execute_result"
    }
   ],
   "source": [
    "df.to_sql('cleaned_data', con, index=False)"
   ]
  },
  {
   "cell_type": "code",
   "execution_count": 41,
   "metadata": {},
   "outputs": [
    {
     "data": {
      "text/html": [
       "<div>\n",
       "<style scoped>\n",
       "    .dataframe tbody tr th:only-of-type {\n",
       "        vertical-align: middle;\n",
       "    }\n",
       "\n",
       "    .dataframe tbody tr th {\n",
       "        vertical-align: top;\n",
       "    }\n",
       "\n",
       "    .dataframe thead th {\n",
       "        text-align: right;\n",
       "    }\n",
       "</style>\n",
       "<table border=\"1\" class=\"dataframe\">\n",
       "  <thead>\n",
       "    <tr style=\"text-align: right;\">\n",
       "      <th></th>\n",
       "      <th>durationSec</th>\n",
       "      <th>viewCount</th>\n",
       "      <th>likeCount</th>\n",
       "      <th>dislikeCount</th>\n",
       "      <th>commentCount</th>\n",
       "    </tr>\n",
       "    <tr>\n",
       "      <th>videoCategoryLabel</th>\n",
       "      <th></th>\n",
       "      <th></th>\n",
       "      <th></th>\n",
       "      <th></th>\n",
       "      <th></th>\n",
       "    </tr>\n",
       "  </thead>\n",
       "  <tbody>\n",
       "    <tr>\n",
       "      <th>Music</th>\n",
       "      <td>507.5</td>\n",
       "      <td>125.0</td>\n",
       "      <td>4.5</td>\n",
       "      <td>0.0</td>\n",
       "      <td>0.5</td>\n",
       "    </tr>\n",
       "    <tr>\n",
       "      <th>Nonprofits &amp; Activism</th>\n",
       "      <td>695.7</td>\n",
       "      <td>274.6</td>\n",
       "      <td>2.4</td>\n",
       "      <td>0.1</td>\n",
       "      <td>1.2</td>\n",
       "    </tr>\n",
       "    <tr>\n",
       "      <th>Howto &amp; Style</th>\n",
       "      <td>18.0</td>\n",
       "      <td>294.0</td>\n",
       "      <td>0.0</td>\n",
       "      <td>0.0</td>\n",
       "      <td>0.0</td>\n",
       "    </tr>\n",
       "    <tr>\n",
       "      <th>Comedy</th>\n",
       "      <td>190.0</td>\n",
       "      <td>515.0</td>\n",
       "      <td>2.0</td>\n",
       "      <td>0.0</td>\n",
       "      <td>0.0</td>\n",
       "    </tr>\n",
       "    <tr>\n",
       "      <th>Travel &amp; Events</th>\n",
       "      <td>377.0</td>\n",
       "      <td>843.0</td>\n",
       "      <td>8.0</td>\n",
       "      <td>0.0</td>\n",
       "      <td>12.0</td>\n",
       "    </tr>\n",
       "    <tr>\n",
       "      <th>People &amp; Blogs</th>\n",
       "      <td>417.790698</td>\n",
       "      <td>962.72093</td>\n",
       "      <td>13.581395</td>\n",
       "      <td>0.395349</td>\n",
       "      <td>7.72093</td>\n",
       "    </tr>\n",
       "    <tr>\n",
       "      <th>Sports</th>\n",
       "      <td>274.0</td>\n",
       "      <td>1805.0</td>\n",
       "      <td>8.0</td>\n",
       "      <td>1.0</td>\n",
       "      <td>0.0</td>\n",
       "    </tr>\n",
       "    <tr>\n",
       "      <th>Gaming</th>\n",
       "      <td>195.0</td>\n",
       "      <td>1851.0</td>\n",
       "      <td>17.0</td>\n",
       "      <td>1.0</td>\n",
       "      <td>3.0</td>\n",
       "    </tr>\n",
       "    <tr>\n",
       "      <th>Film &amp; Animation</th>\n",
       "      <td>335.0</td>\n",
       "      <td>4040.0</td>\n",
       "      <td>24.0</td>\n",
       "      <td>21.0</td>\n",
       "      <td>28.0</td>\n",
       "    </tr>\n",
       "    <tr>\n",
       "      <th>Education</th>\n",
       "      <td>291.5</td>\n",
       "      <td>6513.75</td>\n",
       "      <td>94.625</td>\n",
       "      <td>1.625</td>\n",
       "      <td>35.875</td>\n",
       "    </tr>\n",
       "    <tr>\n",
       "      <th>Science &amp; Technology</th>\n",
       "      <td>234.5</td>\n",
       "      <td>18291.466667</td>\n",
       "      <td>272.384615</td>\n",
       "      <td>10.076923</td>\n",
       "      <td>61.357143</td>\n",
       "    </tr>\n",
       "    <tr>\n",
       "      <th>Entertainment</th>\n",
       "      <td>720.1</td>\n",
       "      <td>23247.2</td>\n",
       "      <td>504.7</td>\n",
       "      <td>10.3</td>\n",
       "      <td>195.3</td>\n",
       "    </tr>\n",
       "    <tr>\n",
       "      <th>News &amp; Politics</th>\n",
       "      <td>399.0</td>\n",
       "      <td>27799.833333</td>\n",
       "      <td>929.333333</td>\n",
       "      <td>193.0</td>\n",
       "      <td>727.666667</td>\n",
       "    </tr>\n",
       "  </tbody>\n",
       "</table>\n",
       "</div>"
      ],
      "text/plain": [
       "                       durationSec     viewCount   likeCount  dislikeCount  \\\n",
       "videoCategoryLabel                                                           \n",
       "Music                        507.5         125.0         4.5           0.0   \n",
       "Nonprofits & Activism        695.7         274.6         2.4           0.1   \n",
       "Howto & Style                 18.0         294.0         0.0           0.0   \n",
       "Comedy                       190.0         515.0         2.0           0.0   \n",
       "Travel & Events              377.0         843.0         8.0           0.0   \n",
       "People & Blogs          417.790698     962.72093   13.581395      0.395349   \n",
       "Sports                       274.0        1805.0         8.0           1.0   \n",
       "Gaming                       195.0        1851.0        17.0           1.0   \n",
       "Film & Animation             335.0        4040.0        24.0          21.0   \n",
       "Education                    291.5       6513.75      94.625         1.625   \n",
       "Science & Technology         234.5  18291.466667  272.384615     10.076923   \n",
       "Entertainment                720.1       23247.2       504.7          10.3   \n",
       "News & Politics              399.0  27799.833333  929.333333         193.0   \n",
       "\n",
       "                       commentCount  \n",
       "videoCategoryLabel                   \n",
       "Music                           0.5  \n",
       "Nonprofits & Activism           1.2  \n",
       "Howto & Style                   0.0  \n",
       "Comedy                          0.0  \n",
       "Travel & Events                12.0  \n",
       "People & Blogs              7.72093  \n",
       "Sports                          0.0  \n",
       "Gaming                          3.0  \n",
       "Film & Animation               28.0  \n",
       "Education                    35.875  \n",
       "Science & Technology      61.357143  \n",
       "Entertainment                 195.3  \n",
       "News & Politics          727.666667  "
      ]
     },
     "execution_count": 41,
     "metadata": {},
     "output_type": "execute_result"
    }
   ],
   "source": [
    "df1 = (df[[\n",
    "'videoCategoryLabel',\n",
    "'durationSec', \n",
    "'viewCount', \n",
    "'likeCount',\n",
    "'dislikeCount', \n",
    "'commentCount']]\n",
    ".groupby('videoCategoryLabel')\n",
    ".mean()\n",
    ".sort_values('viewCount'))\n",
    "\n",
    "df1"
   ]
  },
  {
   "cell_type": "code",
   "execution_count": 40,
   "metadata": {},
   "outputs": [],
   "source": [
    "import plotly.express as px"
   ]
  },
  {
   "cell_type": "code",
   "execution_count": 52,
   "metadata": {},
   "outputs": [
    {
     "data": {
      "application/vnd.plotly.v1+json": {
       "config": {
        "plotlyServerURL": "https://plot.ly"
       },
       "data": [
        {
         "hovertemplate": "variable=durationSec<br>videoCategoryLabel=%{x}<br>value=%{y}<extra></extra>",
         "legendgroup": "durationSec",
         "line": {
          "color": "#636efa",
          "dash": "solid"
         },
         "marker": {
          "symbol": "circle"
         },
         "mode": "markers+lines",
         "name": "durationSec",
         "orientation": "v",
         "showlegend": true,
         "type": "scatter",
         "x": [
          "Music",
          "Nonprofits & Activism",
          "Howto & Style",
          "Comedy",
          "Travel & Events",
          "People & Blogs",
          "Sports",
          "Gaming",
          "Film & Animation",
          "Education",
          "Science & Technology",
          "Entertainment",
          "News & Politics"
         ],
         "xaxis": "x",
         "y": [
          507.5,
          695.7,
          18,
          190,
          377,
          417.7906976744186,
          274,
          195,
          335,
          291.5,
          234.5,
          720.1,
          399
         ],
         "yaxis": "y"
        },
        {
         "hovertemplate": "variable=viewCount<br>videoCategoryLabel=%{x}<br>value=%{y}<extra></extra>",
         "legendgroup": "viewCount",
         "line": {
          "color": "#EF553B",
          "dash": "solid"
         },
         "marker": {
          "symbol": "circle"
         },
         "mode": "markers+lines",
         "name": "viewCount",
         "orientation": "v",
         "showlegend": true,
         "type": "scatter",
         "x": [
          "Music",
          "Nonprofits & Activism",
          "Howto & Style",
          "Comedy",
          "Travel & Events",
          "People & Blogs",
          "Sports",
          "Gaming",
          "Film & Animation",
          "Education",
          "Science & Technology",
          "Entertainment",
          "News & Politics"
         ],
         "xaxis": "x",
         "y": [
          125,
          274.6,
          294,
          515,
          843,
          962.7209302325581,
          1805,
          1851,
          4040,
          6513.75,
          18291.466666666667,
          23247.2,
          27799.833333333332
         ],
         "yaxis": "y"
        },
        {
         "hovertemplate": "variable=likeCount<br>videoCategoryLabel=%{x}<br>value=%{y}<extra></extra>",
         "legendgroup": "likeCount",
         "line": {
          "color": "#00cc96",
          "dash": "solid"
         },
         "marker": {
          "symbol": "circle"
         },
         "mode": "markers+lines",
         "name": "likeCount",
         "orientation": "v",
         "showlegend": true,
         "type": "scatter",
         "x": [
          "Music",
          "Nonprofits & Activism",
          "Howto & Style",
          "Comedy",
          "Travel & Events",
          "People & Blogs",
          "Sports",
          "Gaming",
          "Film & Animation",
          "Education",
          "Science & Technology",
          "Entertainment",
          "News & Politics"
         ],
         "xaxis": "x",
         "y": [
          4.5,
          2.4,
          0,
          2,
          8,
          13.581395348837209,
          8,
          17,
          24,
          94.625,
          272.38461538461536,
          504.7,
          929.3333333333334
         ],
         "yaxis": "y"
        },
        {
         "hovertemplate": "variable=dislikeCount<br>videoCategoryLabel=%{x}<br>value=%{y}<extra></extra>",
         "legendgroup": "dislikeCount",
         "line": {
          "color": "#ab63fa",
          "dash": "solid"
         },
         "marker": {
          "symbol": "circle"
         },
         "mode": "markers+lines",
         "name": "dislikeCount",
         "orientation": "v",
         "showlegend": true,
         "type": "scatter",
         "x": [
          "Music",
          "Nonprofits & Activism",
          "Howto & Style",
          "Comedy",
          "Travel & Events",
          "People & Blogs",
          "Sports",
          "Gaming",
          "Film & Animation",
          "Education",
          "Science & Technology",
          "Entertainment",
          "News & Politics"
         ],
         "xaxis": "x",
         "y": [
          0,
          0.1,
          0,
          0,
          0,
          0.3953488372093023,
          1,
          1,
          21,
          1.625,
          10.076923076923077,
          10.3,
          193
         ],
         "yaxis": "y"
        },
        {
         "hovertemplate": "variable=commentCount<br>videoCategoryLabel=%{x}<br>value=%{y}<extra></extra>",
         "legendgroup": "commentCount",
         "line": {
          "color": "#FFA15A",
          "dash": "solid"
         },
         "marker": {
          "symbol": "circle"
         },
         "mode": "markers+lines",
         "name": "commentCount",
         "orientation": "v",
         "showlegend": true,
         "type": "scatter",
         "x": [
          "Music",
          "Nonprofits & Activism",
          "Howto & Style",
          "Comedy",
          "Travel & Events",
          "People & Blogs",
          "Sports",
          "Gaming",
          "Film & Animation",
          "Education",
          "Science & Technology",
          "Entertainment",
          "News & Politics"
         ],
         "xaxis": "x",
         "y": [
          0.5,
          1.2,
          0,
          0,
          12,
          7.72093023255814,
          0,
          3,
          28,
          35.875,
          61.357142857142854,
          195.3,
          727.6666666666666
         ],
         "yaxis": "y"
        }
       ],
       "layout": {
        "legend": {
         "title": {
          "text": "variable"
         },
         "tracegroupgap": 0
        },
        "margin": {
         "t": 60
        },
        "template": {
         "data": {
          "bar": [
           {
            "error_x": {
             "color": "#f2f5fa"
            },
            "error_y": {
             "color": "#f2f5fa"
            },
            "marker": {
             "line": {
              "color": "rgb(17,17,17)",
              "width": 0.5
             },
             "pattern": {
              "fillmode": "overlay",
              "size": 10,
              "solidity": 0.2
             }
            },
            "type": "bar"
           }
          ],
          "barpolar": [
           {
            "marker": {
             "line": {
              "color": "rgb(17,17,17)",
              "width": 0.5
             },
             "pattern": {
              "fillmode": "overlay",
              "size": 10,
              "solidity": 0.2
             }
            },
            "type": "barpolar"
           }
          ],
          "carpet": [
           {
            "aaxis": {
             "endlinecolor": "#A2B1C6",
             "gridcolor": "#506784",
             "linecolor": "#506784",
             "minorgridcolor": "#506784",
             "startlinecolor": "#A2B1C6"
            },
            "baxis": {
             "endlinecolor": "#A2B1C6",
             "gridcolor": "#506784",
             "linecolor": "#506784",
             "minorgridcolor": "#506784",
             "startlinecolor": "#A2B1C6"
            },
            "type": "carpet"
           }
          ],
          "choropleth": [
           {
            "colorbar": {
             "outlinewidth": 0,
             "ticks": ""
            },
            "type": "choropleth"
           }
          ],
          "contour": [
           {
            "colorbar": {
             "outlinewidth": 0,
             "ticks": ""
            },
            "colorscale": [
             [
              0,
              "#0d0887"
             ],
             [
              0.1111111111111111,
              "#46039f"
             ],
             [
              0.2222222222222222,
              "#7201a8"
             ],
             [
              0.3333333333333333,
              "#9c179e"
             ],
             [
              0.4444444444444444,
              "#bd3786"
             ],
             [
              0.5555555555555556,
              "#d8576b"
             ],
             [
              0.6666666666666666,
              "#ed7953"
             ],
             [
              0.7777777777777778,
              "#fb9f3a"
             ],
             [
              0.8888888888888888,
              "#fdca26"
             ],
             [
              1,
              "#f0f921"
             ]
            ],
            "type": "contour"
           }
          ],
          "contourcarpet": [
           {
            "colorbar": {
             "outlinewidth": 0,
             "ticks": ""
            },
            "type": "contourcarpet"
           }
          ],
          "heatmap": [
           {
            "colorbar": {
             "outlinewidth": 0,
             "ticks": ""
            },
            "colorscale": [
             [
              0,
              "#0d0887"
             ],
             [
              0.1111111111111111,
              "#46039f"
             ],
             [
              0.2222222222222222,
              "#7201a8"
             ],
             [
              0.3333333333333333,
              "#9c179e"
             ],
             [
              0.4444444444444444,
              "#bd3786"
             ],
             [
              0.5555555555555556,
              "#d8576b"
             ],
             [
              0.6666666666666666,
              "#ed7953"
             ],
             [
              0.7777777777777778,
              "#fb9f3a"
             ],
             [
              0.8888888888888888,
              "#fdca26"
             ],
             [
              1,
              "#f0f921"
             ]
            ],
            "type": "heatmap"
           }
          ],
          "heatmapgl": [
           {
            "colorbar": {
             "outlinewidth": 0,
             "ticks": ""
            },
            "colorscale": [
             [
              0,
              "#0d0887"
             ],
             [
              0.1111111111111111,
              "#46039f"
             ],
             [
              0.2222222222222222,
              "#7201a8"
             ],
             [
              0.3333333333333333,
              "#9c179e"
             ],
             [
              0.4444444444444444,
              "#bd3786"
             ],
             [
              0.5555555555555556,
              "#d8576b"
             ],
             [
              0.6666666666666666,
              "#ed7953"
             ],
             [
              0.7777777777777778,
              "#fb9f3a"
             ],
             [
              0.8888888888888888,
              "#fdca26"
             ],
             [
              1,
              "#f0f921"
             ]
            ],
            "type": "heatmapgl"
           }
          ],
          "histogram": [
           {
            "marker": {
             "pattern": {
              "fillmode": "overlay",
              "size": 10,
              "solidity": 0.2
             }
            },
            "type": "histogram"
           }
          ],
          "histogram2d": [
           {
            "colorbar": {
             "outlinewidth": 0,
             "ticks": ""
            },
            "colorscale": [
             [
              0,
              "#0d0887"
             ],
             [
              0.1111111111111111,
              "#46039f"
             ],
             [
              0.2222222222222222,
              "#7201a8"
             ],
             [
              0.3333333333333333,
              "#9c179e"
             ],
             [
              0.4444444444444444,
              "#bd3786"
             ],
             [
              0.5555555555555556,
              "#d8576b"
             ],
             [
              0.6666666666666666,
              "#ed7953"
             ],
             [
              0.7777777777777778,
              "#fb9f3a"
             ],
             [
              0.8888888888888888,
              "#fdca26"
             ],
             [
              1,
              "#f0f921"
             ]
            ],
            "type": "histogram2d"
           }
          ],
          "histogram2dcontour": [
           {
            "colorbar": {
             "outlinewidth": 0,
             "ticks": ""
            },
            "colorscale": [
             [
              0,
              "#0d0887"
             ],
             [
              0.1111111111111111,
              "#46039f"
             ],
             [
              0.2222222222222222,
              "#7201a8"
             ],
             [
              0.3333333333333333,
              "#9c179e"
             ],
             [
              0.4444444444444444,
              "#bd3786"
             ],
             [
              0.5555555555555556,
              "#d8576b"
             ],
             [
              0.6666666666666666,
              "#ed7953"
             ],
             [
              0.7777777777777778,
              "#fb9f3a"
             ],
             [
              0.8888888888888888,
              "#fdca26"
             ],
             [
              1,
              "#f0f921"
             ]
            ],
            "type": "histogram2dcontour"
           }
          ],
          "mesh3d": [
           {
            "colorbar": {
             "outlinewidth": 0,
             "ticks": ""
            },
            "type": "mesh3d"
           }
          ],
          "parcoords": [
           {
            "line": {
             "colorbar": {
              "outlinewidth": 0,
              "ticks": ""
             }
            },
            "type": "parcoords"
           }
          ],
          "pie": [
           {
            "automargin": true,
            "type": "pie"
           }
          ],
          "scatter": [
           {
            "marker": {
             "line": {
              "color": "#283442"
             }
            },
            "type": "scatter"
           }
          ],
          "scatter3d": [
           {
            "line": {
             "colorbar": {
              "outlinewidth": 0,
              "ticks": ""
             }
            },
            "marker": {
             "colorbar": {
              "outlinewidth": 0,
              "ticks": ""
             }
            },
            "type": "scatter3d"
           }
          ],
          "scattercarpet": [
           {
            "marker": {
             "colorbar": {
              "outlinewidth": 0,
              "ticks": ""
             }
            },
            "type": "scattercarpet"
           }
          ],
          "scattergeo": [
           {
            "marker": {
             "colorbar": {
              "outlinewidth": 0,
              "ticks": ""
             }
            },
            "type": "scattergeo"
           }
          ],
          "scattergl": [
           {
            "marker": {
             "line": {
              "color": "#283442"
             }
            },
            "type": "scattergl"
           }
          ],
          "scattermapbox": [
           {
            "marker": {
             "colorbar": {
              "outlinewidth": 0,
              "ticks": ""
             }
            },
            "type": "scattermapbox"
           }
          ],
          "scatterpolar": [
           {
            "marker": {
             "colorbar": {
              "outlinewidth": 0,
              "ticks": ""
             }
            },
            "type": "scatterpolar"
           }
          ],
          "scatterpolargl": [
           {
            "marker": {
             "colorbar": {
              "outlinewidth": 0,
              "ticks": ""
             }
            },
            "type": "scatterpolargl"
           }
          ],
          "scatterternary": [
           {
            "marker": {
             "colorbar": {
              "outlinewidth": 0,
              "ticks": ""
             }
            },
            "type": "scatterternary"
           }
          ],
          "surface": [
           {
            "colorbar": {
             "outlinewidth": 0,
             "ticks": ""
            },
            "colorscale": [
             [
              0,
              "#0d0887"
             ],
             [
              0.1111111111111111,
              "#46039f"
             ],
             [
              0.2222222222222222,
              "#7201a8"
             ],
             [
              0.3333333333333333,
              "#9c179e"
             ],
             [
              0.4444444444444444,
              "#bd3786"
             ],
             [
              0.5555555555555556,
              "#d8576b"
             ],
             [
              0.6666666666666666,
              "#ed7953"
             ],
             [
              0.7777777777777778,
              "#fb9f3a"
             ],
             [
              0.8888888888888888,
              "#fdca26"
             ],
             [
              1,
              "#f0f921"
             ]
            ],
            "type": "surface"
           }
          ],
          "table": [
           {
            "cells": {
             "fill": {
              "color": "#506784"
             },
             "line": {
              "color": "rgb(17,17,17)"
             }
            },
            "header": {
             "fill": {
              "color": "#2a3f5f"
             },
             "line": {
              "color": "rgb(17,17,17)"
             }
            },
            "type": "table"
           }
          ]
         },
         "layout": {
          "annotationdefaults": {
           "arrowcolor": "#f2f5fa",
           "arrowhead": 0,
           "arrowwidth": 1
          },
          "autotypenumbers": "strict",
          "coloraxis": {
           "colorbar": {
            "outlinewidth": 0,
            "ticks": ""
           }
          },
          "colorscale": {
           "diverging": [
            [
             0,
             "#8e0152"
            ],
            [
             0.1,
             "#c51b7d"
            ],
            [
             0.2,
             "#de77ae"
            ],
            [
             0.3,
             "#f1b6da"
            ],
            [
             0.4,
             "#fde0ef"
            ],
            [
             0.5,
             "#f7f7f7"
            ],
            [
             0.6,
             "#e6f5d0"
            ],
            [
             0.7,
             "#b8e186"
            ],
            [
             0.8,
             "#7fbc41"
            ],
            [
             0.9,
             "#4d9221"
            ],
            [
             1,
             "#276419"
            ]
           ],
           "sequential": [
            [
             0,
             "#0d0887"
            ],
            [
             0.1111111111111111,
             "#46039f"
            ],
            [
             0.2222222222222222,
             "#7201a8"
            ],
            [
             0.3333333333333333,
             "#9c179e"
            ],
            [
             0.4444444444444444,
             "#bd3786"
            ],
            [
             0.5555555555555556,
             "#d8576b"
            ],
            [
             0.6666666666666666,
             "#ed7953"
            ],
            [
             0.7777777777777778,
             "#fb9f3a"
            ],
            [
             0.8888888888888888,
             "#fdca26"
            ],
            [
             1,
             "#f0f921"
            ]
           ],
           "sequentialminus": [
            [
             0,
             "#0d0887"
            ],
            [
             0.1111111111111111,
             "#46039f"
            ],
            [
             0.2222222222222222,
             "#7201a8"
            ],
            [
             0.3333333333333333,
             "#9c179e"
            ],
            [
             0.4444444444444444,
             "#bd3786"
            ],
            [
             0.5555555555555556,
             "#d8576b"
            ],
            [
             0.6666666666666666,
             "#ed7953"
            ],
            [
             0.7777777777777778,
             "#fb9f3a"
            ],
            [
             0.8888888888888888,
             "#fdca26"
            ],
            [
             1,
             "#f0f921"
            ]
           ]
          },
          "colorway": [
           "#636efa",
           "#EF553B",
           "#00cc96",
           "#ab63fa",
           "#FFA15A",
           "#19d3f3",
           "#FF6692",
           "#B6E880",
           "#FF97FF",
           "#FECB52"
          ],
          "font": {
           "color": "#f2f5fa"
          },
          "geo": {
           "bgcolor": "rgb(17,17,17)",
           "lakecolor": "rgb(17,17,17)",
           "landcolor": "rgb(17,17,17)",
           "showlakes": true,
           "showland": true,
           "subunitcolor": "#506784"
          },
          "hoverlabel": {
           "align": "left"
          },
          "hovermode": "closest",
          "mapbox": {
           "style": "dark"
          },
          "paper_bgcolor": "rgb(17,17,17)",
          "plot_bgcolor": "rgb(17,17,17)",
          "polar": {
           "angularaxis": {
            "gridcolor": "#506784",
            "linecolor": "#506784",
            "ticks": ""
           },
           "bgcolor": "rgb(17,17,17)",
           "radialaxis": {
            "gridcolor": "#506784",
            "linecolor": "#506784",
            "ticks": ""
           }
          },
          "scene": {
           "xaxis": {
            "backgroundcolor": "rgb(17,17,17)",
            "gridcolor": "#506784",
            "gridwidth": 2,
            "linecolor": "#506784",
            "showbackground": true,
            "ticks": "",
            "zerolinecolor": "#C8D4E3"
           },
           "yaxis": {
            "backgroundcolor": "rgb(17,17,17)",
            "gridcolor": "#506784",
            "gridwidth": 2,
            "linecolor": "#506784",
            "showbackground": true,
            "ticks": "",
            "zerolinecolor": "#C8D4E3"
           },
           "zaxis": {
            "backgroundcolor": "rgb(17,17,17)",
            "gridcolor": "#506784",
            "gridwidth": 2,
            "linecolor": "#506784",
            "showbackground": true,
            "ticks": "",
            "zerolinecolor": "#C8D4E3"
           }
          },
          "shapedefaults": {
           "line": {
            "color": "#f2f5fa"
           }
          },
          "sliderdefaults": {
           "bgcolor": "#C8D4E3",
           "bordercolor": "rgb(17,17,17)",
           "borderwidth": 1,
           "tickwidth": 0
          },
          "ternary": {
           "aaxis": {
            "gridcolor": "#506784",
            "linecolor": "#506784",
            "ticks": ""
           },
           "baxis": {
            "gridcolor": "#506784",
            "linecolor": "#506784",
            "ticks": ""
           },
           "bgcolor": "rgb(17,17,17)",
           "caxis": {
            "gridcolor": "#506784",
            "linecolor": "#506784",
            "ticks": ""
           }
          },
          "title": {
           "x": 0.05
          },
          "updatemenudefaults": {
           "bgcolor": "#506784",
           "borderwidth": 0
          },
          "xaxis": {
           "automargin": true,
           "gridcolor": "#283442",
           "linecolor": "#506784",
           "ticks": "",
           "title": {
            "standoff": 15
           },
           "zerolinecolor": "#283442",
           "zerolinewidth": 2
          },
          "yaxis": {
           "automargin": true,
           "gridcolor": "#283442",
           "linecolor": "#506784",
           "ticks": "",
           "title": {
            "standoff": 15
           },
           "zerolinecolor": "#283442",
           "zerolinewidth": 2
          }
         }
        },
        "xaxis": {
         "anchor": "y",
         "domain": [
          0,
          1
         ],
         "title": {
          "text": "videoCategoryLabel"
         }
        },
        "yaxis": {
         "anchor": "x",
         "domain": [
          0,
          1
         ],
         "title": {
          "text": "value"
         }
        }
       }
      }
     },
     "metadata": {},
     "output_type": "display_data"
    }
   ],
   "source": [
    "fig = px.line(df1, y=df1.columns, markers=True, template='plotly_dark')\n",
    "fig.show()"
   ]
  },
  {
   "cell_type": "code",
   "execution_count": null,
   "metadata": {},
   "outputs": [],
   "source": []
  }
 ],
 "metadata": {
  "kernelspec": {
   "display_name": "Python 3.8.0 64-bit",
   "language": "python",
   "name": "python3"
  },
  "language_info": {
   "codemirror_mode": {
    "name": "ipython",
    "version": 3
   },
   "file_extension": ".py",
   "mimetype": "text/x-python",
   "name": "python",
   "nbconvert_exporter": "python",
   "pygments_lexer": "ipython3",
   "version": "3.8.0"
  },
  "orig_nbformat": 4,
  "vscode": {
   "interpreter": {
    "hash": "dd64fa47c1d5079257f080924009caa6defb8a7561db6b8108c694ffeb1b1bc7"
   }
  }
 },
 "nbformat": 4,
 "nbformat_minor": 2
}
