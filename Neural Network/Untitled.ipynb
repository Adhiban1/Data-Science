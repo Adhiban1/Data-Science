{
 "cells": [
  {
   "cell_type": "code",
   "execution_count": 19,
   "id": "171023f8",
   "metadata": {},
   "outputs": [
    {
     "name": "stdout",
     "output_type": "stream",
     "text": [
      "(1000, 1)\n"
     ]
    }
   ],
   "source": [
    "import numpy as np\n",
    "\n",
    "\n",
    "def weights(neurons):\n",
    "    W = []\n",
    "    for i in range(len(neurons) - 1):\n",
    "        W.append(np.random.randn(neurons[i], neurons[i + 1]))\n",
    "    return W\n",
    "\n",
    "\n",
    "def bias(neurons):\n",
    "    B = []\n",
    "    for i in range(1, len(neurons)):\n",
    "        B.append(np.random.randn(neurons[i]))\n",
    "    return B\n",
    "\n",
    "\n",
    "def sigmoid(x):\n",
    "    return 1 / (1 + np.exp(-x))\n",
    "\n",
    "\n",
    "def relu(x):\n",
    "    return (x + abs(x)) / 2\n",
    "\n",
    "\n",
    "def forward(X, W, B):\n",
    "    for i in range(len(W)):\n",
    "        if i == len(W) - 1:\n",
    "            X = sigmoid(X @ W[i] + B[i])\n",
    "        else:\n",
    "            X = relu(X @ W[i] + B[i])\n",
    "    return X\n",
    "\n",
    "\n",
    "X = np.random.randn(1000, 3)\n",
    "n = [X.shape[1], 4, 4, 1]\n",
    "# Neural Network -> 3, 4, 4, 1\n",
    "\n",
    "W = weights(n)\n",
    "B = bias(n)\n",
    "\n",
    "Y = forward(X, W, B)\n",
    "\n",
    "print(Y.shape)"
   ]
  }
 ],
 "metadata": {
  "kernelspec": {
   "display_name": "Python 3 (ipykernel)",
   "language": "python",
   "name": "python3"
  },
  "language_info": {
   "codemirror_mode": {
    "name": "ipython",
    "version": 3
   },
   "file_extension": ".py",
   "mimetype": "text/x-python",
   "name": "python",
   "nbconvert_exporter": "python",
   "pygments_lexer": "ipython3",
   "version": "3.11.4"
  }
 },
 "nbformat": 4,
 "nbformat_minor": 5
}
